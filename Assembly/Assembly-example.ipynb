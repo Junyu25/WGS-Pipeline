{
 "cells": [
  {
   "cell_type": "markdown",
   "metadata": {},
   "source": [
    "## Env"
   ]
  },
  {
   "cell_type": "code",
   "execution_count": null,
   "metadata": {},
   "outputs": [],
   "source": [
    "mamba create -n wgs megahit"
   ]
  },
  {
   "cell_type": "code",
   "execution_count": null,
   "metadata": {},
   "outputs": [],
   "source": [
    "conda create -n wgs megahit"
   ]
  },
  {
   "cell_type": "code",
   "execution_count": 18,
   "metadata": {},
   "outputs": [
    {
     "name": "stdout",
     "output_type": "stream",
     "text": [
      "(wgs) "
     ]
    },
    {
     "ename": "",
     "evalue": "1",
     "output_type": "error",
     "traceback": []
    }
   ],
   "source": [
    "conda activate wgs"
   ]
  },
  {
   "cell_type": "code",
   "execution_count": null,
   "metadata": {},
   "outputs": [],
   "source": []
  },
  {
   "cell_type": "code",
   "execution_count": 19,
   "metadata": {},
   "outputs": [
    {
     "name": "stdout",
     "output_type": "stream",
     "text": [
      "(wgs) "
     ]
    },
    {
     "ename": "",
     "evalue": "1",
     "output_type": "error",
     "traceback": []
    }
   ],
   "source": [
    "export data=/mnt/d/Lab/WGS/example/trimming"
   ]
  },
  {
   "cell_type": "code",
   "execution_count": 21,
   "metadata": {},
   "outputs": [
    {
     "name": "stdout",
     "output_type": "stream",
     "text": [
      "(wgs) "
     ]
    },
    {
     "ename": "",
     "evalue": "1",
     "output_type": "error",
     "traceback": []
    }
   ],
   "source": [
    "export result=/mnt/d/Lab/WGS/example/result"
   ]
  },
  {
   "cell_type": "code",
   "execution_count": 20,
   "metadata": {},
   "outputs": [
    {
     "name": "stdout",
     "output_type": "stream",
     "text": [
      "/mnt/d/Lab/WGS/example/trimming\n",
      "(wgs) "
     ]
    },
    {
     "ename": "",
     "evalue": "1",
     "output_type": "error",
     "traceback": []
    }
   ],
   "source": [
    "echo $data"
   ]
  },
  {
   "cell_type": "code",
   "execution_count": 22,
   "metadata": {},
   "outputs": [
    {
     "name": "stdout",
     "output_type": "stream",
     "text": [
      "/mnt/d/Lab/WGS/example/result\n",
      "(wgs) "
     ]
    },
    {
     "ename": "",
     "evalue": "1",
     "output_type": "error",
     "traceback": []
    }
   ],
   "source": [
    "echo $result"
   ]
  },
  {
   "cell_type": "code",
   "execution_count": 23,
   "metadata": {},
   "outputs": [
    {
     "name": "stdout",
     "output_type": "stream",
     "text": [
      "total 505M\n",
      "drwxrwxrwx 1 junyu junyu 4.0K Oct 27 09:18 \u001b[0m\u001b[34;42m.\u001b[0m\n",
      "drwxrwxrwx 1 junyu junyu 4.0K Oct 27 09:13 \u001b[34;42m..\u001b[0m\n",
      "-rwxrwxrwx 1 junyu junyu 197M Oct 23 09:24 \u001b[01;32mERR044595_trm-cmb.R1.fastq\u001b[0m\n",
      "-rwxrwxrwx 1 junyu junyu  56M Oct 27 09:12 \u001b[01;32mERR044595_trm-cmb.R1.fastq.gz\u001b[0m\n",
      "-rwxrwxrwx 1 junyu junyu 197M Oct 23 09:24 \u001b[01;32mERR044595_trm-cmb.R2.fastq\u001b[0m\n",
      "-rwxrwxrwx 1 junyu junyu  58M Oct 27 09:12 \u001b[01;32mERR044595_trm-cmb.R2.fastq.gz\u001b[0m\n",
      "(wgs) "
     ]
    },
    {
     "ename": "",
     "evalue": "1",
     "output_type": "error",
     "traceback": []
    }
   ],
   "source": [
    "ls /mnt/d/Lab/WGS/example/trimming -alh"
   ]
  },
  {
   "cell_type": "code",
   "execution_count": null,
   "metadata": {},
   "outputs": [],
   "source": []
  },
  {
   "cell_type": "code",
   "execution_count": null,
   "metadata": {},
   "outputs": [],
   "source": [
    "megahit -1 $data/ERR044595_trm-cmb.R1.fastq -2 $data/ERR044595_trm-cmb.R2.fastq -o $result/megahit"
   ]
  },
  {
   "cell_type": "code",
   "execution_count": 24,
   "metadata": {},
   "outputs": [
    {
     "name": "stdout",
     "output_type": "stream",
     "text": [
      "total 2.8M\n",
      "drwxrwxrwx 1 junyu junyu 4.0K Oct 27 09:56 \u001b[0m\u001b[34;42m.\u001b[0m\n",
      "drwxrwxrwx 1 junyu junyu 4.0K Oct 27 09:54 \u001b[34;42m..\u001b[0m\n",
      "-rwxrwxrwx 1 junyu junyu  166 Oct 27 09:56 \u001b[01;32mcheckpoints.txt\u001b[0m\n",
      "-rwxrwxrwx 1 junyu junyu    0 Oct 27 09:56 \u001b[01;32mdone\u001b[0m\n",
      "-rwxrwxrwx 1 junyu junyu 2.7M Oct 27 09:56 \u001b[01;32mfinal.contigs.fa\u001b[0m\n",
      "drwxrwxrwx 1 junyu junyu 4.0K Oct 27 09:56 \u001b[34;42mintermediate_contigs\u001b[0m\n",
      "-rwxrwxrwx 1 junyu junyu  85K Oct 27 09:56 \u001b[01;32mlog\u001b[0m\n",
      "-rwxrwxrwx 1 junyu junyu  930 Oct 27 09:54 \u001b[01;32moptions.json\u001b[0m\n",
      "(wgs) "
     ]
    },
    {
     "ename": "",
     "evalue": "1",
     "output_type": "error",
     "traceback": []
    }
   ],
   "source": [
    "ls $result/megahit -alh"
   ]
  },
  {
   "cell_type": "code",
   "execution_count": 25,
   "metadata": {},
   "outputs": [
    {
     "name": "stdout",
     "output_type": "stream",
     "text": [
      "\u001b[01;31m\u001b[K>\u001b[m\u001b[Kk79_90 flag=0 multi=1.9562 len=216\n",
      "\u001b[01;31m\u001b[K>\u001b[m\u001b[Kk79_127 flag=0 multi=13.8643 len=477\n",
      "\u001b[01;31m\u001b[K>\u001b[m\u001b[Kk79_108 flag=0 multi=32.9922 len=10270\n",
      "\u001b[01;31m\u001b[K>\u001b[m\u001b[Kk79_128 flag=0 multi=32.8214 len=7245\n",
      "\u001b[01;31m\u001b[K>\u001b[m\u001b[Kk79_39 flag=1 multi=38.6331 len=12404\n",
      "\u001b[01;31m\u001b[K>\u001b[m\u001b[Kk79_0 flag=0 multi=36.5533 len=36087\n",
      "\u001b[01;31m\u001b[K>\u001b[m\u001b[Kk79_54 flag=0 multi=37.7441 len=38095\n",
      "\u001b[01;31m\u001b[K>\u001b[m\u001b[Kk79_129 flag=0 multi=39.7852 len=484\n",
      "\u001b[01;31m\u001b[K>\u001b[m\u001b[Kk79_109 flag=1 multi=37.9274 len=19944\n",
      "\u001b[01;31m\u001b[K>\u001b[m\u001b[Kk79_18 flag=0 multi=34.8317 len=34896\n",
      "\u001b[01;31m\u001b[K>\u001b[m\u001b[Kk79_92 flag=0 multi=37.9019 len=39912\n",
      "\u001b[01;31m\u001b[K>\u001b[m\u001b[Kk79_95 flag=0 multi=12.0959 len=298\n",
      "\u001b[01;31m\u001b[K>\u001b[m\u001b[Kk79_97 flag=1 multi=10.3233 len=345\n",
      "\u001b[01;31m\u001b[K>\u001b[m\u001b[Kk79_19 flag=0 multi=17.6470 len=841\n",
      "\u001b[01;31m\u001b[K>\u001b[m\u001b[Kk79_132 flag=0 multi=45.6733 len=483\n",
      "\u001b[01;31m\u001b[K>\u001b[m\u001b[Kk79_40 flag=0 multi=35.5328 len=27140\n",
      "\u001b[01;31m\u001b[K>\u001b[m\u001b[Kk79_98 flag=0 multi=34.6836 len=7816\n",
      "\u001b[01;31m\u001b[K>\u001b[m\u001b[Kk79_2 flag=0 multi=38.7563 len=24557\n",
      "\u001b[01;31m\u001b[K>\u001b[m\u001b[Kk79_72 flag=0 multi=36.5132 len=77611\n",
      "\u001b[01;31m\u001b[K>\u001b[m\u001b[Kk79_110 flag=0 multi=35.9717 len=34091\n",
      "\u001b[01;31m\u001b[K>\u001b[m\u001b[Kk79_3 flag=0 multi=97.2569 len=297\n",
      "\u001b[01;31m\u001b[K>\u001b[m\u001b[Kk79_73 flag=1 multi=30.3482 len=1920\n",
      "\u001b[01;31m\u001b[K>\u001b[m\u001b[Kk79_41 flag=0 multi=35.8173 len=34251\n",
      "\u001b[01;31m\u001b[K>\u001b[m\u001b[Kk79_74 flag=0 multi=38.8195 len=8498\n",
      "\u001b[01;31m\u001b[K>\u001b[m\u001b[Kk79_133 flag=0 multi=36.2578 len=56107\n",
      "\u001b[01;31m\u001b[K>\u001b[m\u001b[Kk79_20 flag=0 multi=35.6609 len=91516\n",
      "\u001b[01;31m\u001b[K>\u001b[m\u001b[Kk79_56 flag=0 multi=37.9856 len=77033\n",
      "\u001b[01;31m\u001b[K>\u001b[m\u001b[Kk79_43 flag=0 multi=37.9415 len=43700\n",
      "\u001b[01;31m\u001b[K>\u001b[m\u001b[Kk79_134 flag=0 multi=34.0271 len=36237\n",
      "\u001b[01;31m\u001b[K>\u001b[m\u001b[Kk79_75 flag=0 multi=38.9665 len=45429\n",
      "\u001b[01;31m\u001b[K>\u001b[m\u001b[Kk79_21 flag=0 multi=32.9573 len=15080\n",
      "\u001b[01;31m\u001b[K>\u001b[m\u001b[Kk79_99 flag=0 multi=34.9916 len=108282\n",
      "\u001b[01;31m\u001b[K>\u001b[m\u001b[Kk79_45 flag=1 multi=2.0000 len=241\n",
      "\u001b[01;31m\u001b[K>\u001b[m\u001b[Kk79_22 flag=0 multi=38.8780 len=9193\n",
      "\u001b[01;31m\u001b[K>\u001b[m\u001b[Kk79_58 flag=0 multi=34.8901 len=25800\n",
      "\u001b[01;31m\u001b[K>\u001b[m\u001b[Kk79_100 flag=0 multi=38.0813 len=16176\n",
      "\u001b[01;31m\u001b[K>\u001b[m\u001b[Kk79_48 flag=0 multi=34.7767 len=14698\n",
      "\u001b[01;31m\u001b[K>\u001b[m\u001b[Kk79_4 flag=0 multi=41.9947 len=155667\n",
      "\u001b[01;31m\u001b[K>\u001b[m\u001b[Kk79_6 flag=0 multi=89.0000 len=404\n",
      "\u001b[01;31m\u001b[K>\u001b[m\u001b[Kk79_8 flag=1 multi=1.0000 len=208\n",
      "\u001b[01;31m\u001b[K>\u001b[m\u001b[Kk79_10 flag=0 multi=38.9189 len=9453\n",
      "\u001b[01;31m\u001b[K>\u001b[m\u001b[Kk79_11 flag=0 multi=75.0000 len=1463\n",
      "\u001b[01;31m\u001b[K>\u001b[m\u001b[Kk79_50 flag=0 multi=34.6557 len=32750\n",
      "\u001b[01;31m\u001b[K>\u001b[m\u001b[Kk79_12 flag=0 multi=173.0000 len=2134\n",
      "\u001b[01;31m\u001b[K>\u001b[m\u001b[Kk79_59 flag=0 multi=39.9629 len=43122\n",
      "\u001b[01;31m\u001b[K>\u001b[m\u001b[Kk79_135 flag=0 multi=34.5421 len=88048\n",
      "\u001b[01;31m\u001b[K>\u001b[m\u001b[Kk79_13 flag=0 multi=67.0000 len=580\n",
      "\u001b[01;31m\u001b[K>\u001b[m\u001b[Kk79_76 flag=0 multi=34.8235 len=88985\n",
      "\u001b[01;31m\u001b[K>\u001b[m\u001b[Kk79_77 flag=1 multi=19.5628 len=820\n",
      "\u001b[01;31m\u001b[K>\u001b[m\u001b[Kk79_136 flag=0 multi=38.2035 len=9668\n",
      "\u001b[01;31m\u001b[K>\u001b[m\u001b[Kk79_78 flag=0 multi=35.5964 len=12988\n",
      "\u001b[01;31m\u001b[K>\u001b[m\u001b[Kk79_53 flag=0 multi=33.9551 len=29490\n",
      "\u001b[01;31m\u001b[K>\u001b[m\u001b[Kk79_25 flag=0 multi=39.4712 len=86742\n",
      "\u001b[01;31m\u001b[K>\u001b[m\u001b[Kk79_138 flag=1 multi=1.0000 len=272\n",
      "\u001b[01;31m\u001b[K>\u001b[m\u001b[Kk79_79 flag=0 multi=30.4592 len=2298\n",
      "\u001b[01;31m\u001b[K>\u001b[m\u001b[Kk79_14 flag=0 multi=38.9271 len=20921\n",
      "\u001b[01;31m\u001b[K>\u001b[m\u001b[Kk79_80 flag=0 multi=32.1140 len=5553\n",
      "\u001b[01;31m\u001b[K>\u001b[m\u001b[Kk79_82 flag=0 multi=30.8976 len=5937\n",
      "\u001b[01;31m\u001b[K>\u001b[m\u001b[Kk79_102 flag=0 multi=35.5475 len=110506\n",
      "\u001b[01;31m\u001b[K>\u001b[m\u001b[Kk79_104 flag=0 multi=6.7200 len=354\n",
      "\u001b[01;31m\u001b[K>\u001b[m\u001b[Kk79_15 flag=0 multi=33.9269 len=18129\n",
      "\u001b[01;31m\u001b[K>\u001b[m\u001b[Kk79_111 flag=0 multi=37.5053 len=243168\n",
      "\u001b[01;31m\u001b[K>\u001b[m\u001b[Kk79_60 flag=0 multi=38.1636 len=75987\n",
      "\u001b[01;31m\u001b[K>\u001b[m\u001b[Kk79_26 flag=1 multi=38.8847 len=36344\n",
      "\u001b[01;31m\u001b[K>\u001b[m\u001b[Kk79_27 flag=0 multi=25.8128 len=955\n",
      "\u001b[01;31m\u001b[K>\u001b[m\u001b[Kk79_107 flag=0 multi=37.9255 len=13698\n",
      "\u001b[01;31m\u001b[K>\u001b[m\u001b[Kk79_112 flag=1 multi=2.7186 len=278\n",
      "\u001b[01;31m\u001b[K>\u001b[m\u001b[Kk79_113 flag=1 multi=1.5077 len=404\n",
      "\u001b[01;31m\u001b[K>\u001b[m\u001b[Kk79_61 flag=0 multi=42.6917 len=10295\n",
      "\u001b[01;31m\u001b[K>\u001b[m\u001b[Kk79_28 flag=0 multi=14.8305 len=315\n",
      "\u001b[01;31m\u001b[K>\u001b[m\u001b[Kk79_16 flag=0 multi=33.7940 len=11232\n",
      "\u001b[01;31m\u001b[K>\u001b[m\u001b[Kk79_29 flag=0 multi=73.0000 len=438\n",
      "\u001b[01;31m\u001b[K>\u001b[m\u001b[Kk79_17 flag=0 multi=7.7298 len=686\n",
      "\u001b[01;31m\u001b[K>\u001b[m\u001b[Kk79_32 flag=0 multi=11.6087 len=240\n",
      "\u001b[01;31m\u001b[K>\u001b[m\u001b[Kk79_33 flag=1 multi=1.0000 len=255\n",
      "\u001b[01;31m\u001b[K>\u001b[m\u001b[Kk79_34 flag=0 multi=18.0142 len=713\n",
      "\u001b[01;31m\u001b[K>\u001b[m\u001b[Kk79_114 flag=0 multi=44.2796 len=28273\n",
      "\u001b[01;31m\u001b[K>\u001b[m\u001b[Kk79_115 flag=0 multi=14.4431 len=765\n",
      "\u001b[01;31m\u001b[K>\u001b[m\u001b[Kk79_116 flag=1 multi=3.1930 len=307\n",
      "\u001b[01;31m\u001b[K>\u001b[m\u001b[Kk79_117 flag=1 multi=1.0000 len=255\n",
      "\u001b[01;31m\u001b[K>\u001b[m\u001b[Kk79_35 flag=0 multi=33.9529 len=28103\n",
      "\u001b[01;31m\u001b[K>\u001b[m\u001b[Kk79_118 flag=0 multi=124.0371 len=5147\n",
      "\u001b[01;31m\u001b[K>\u001b[m\u001b[Kk79_119 flag=0 multi=25.9576 len=786\n",
      "\u001b[01;31m\u001b[K>\u001b[m\u001b[Kk79_62 flag=0 multi=35.9552 len=31572\n",
      "\u001b[01;31m\u001b[K>\u001b[m\u001b[Kk79_83 flag=0 multi=37.3970 len=73163\n",
      "\u001b[01;31m\u001b[K>\u001b[m\u001b[Kk79_63 flag=0 multi=32.5952 len=3241\n",
      "\u001b[01;31m\u001b[K>\u001b[m\u001b[Kk79_84 flag=0 multi=28.2473 len=358\n",
      "\u001b[01;31m\u001b[K>\u001b[m\u001b[Kk79_85 flag=0 multi=42.0000 len=541\n",
      "\u001b[01;31m\u001b[K>\u001b[m\u001b[Kk79_86 flag=0 multi=13.6424 len=244\n",
      "\u001b[01;31m\u001b[K>\u001b[m\u001b[Kk79_87 flag=0 multi=42.9862 len=732\n",
      "\u001b[01;31m\u001b[K>\u001b[m\u001b[Kk79_120 flag=0 multi=35.9426 len=25710\n",
      "\u001b[01;31m\u001b[K>\u001b[m\u001b[Kk79_125 flag=0 multi=38.5657 len=3579\n",
      "\u001b[01;31m\u001b[K>\u001b[m\u001b[Kk79_88 flag=0 multi=37.8610 len=30416\n",
      "\u001b[01;31m\u001b[K>\u001b[m\u001b[Kk79_139 flag=0 multi=36.2642 len=146526\n",
      "\u001b[01;31m\u001b[K>\u001b[m\u001b[Kk79_140 flag=0 multi=1.0000 len=329\n",
      "\u001b[01;31m\u001b[K>\u001b[m\u001b[Kk79_89 flag=0 multi=37.9393 len=14466\n",
      "\u001b[01;31m\u001b[K>\u001b[m\u001b[Kk79_64 flag=1 multi=35.4260 len=125375\n",
      "\u001b[01;31m\u001b[K>\u001b[m\u001b[Kk79_65 flag=0 multi=31.9776 len=1776\n",
      "\u001b[01;31m\u001b[K>\u001b[m\u001b[Kk79_66 flag=0 multi=33.7485 len=421\n",
      "\u001b[01;31m\u001b[K>\u001b[m\u001b[Kk79_142 flag=0 multi=38.0532 len=101010\n",
      "\u001b[01;31m\u001b[K>\u001b[m\u001b[Kk79_67 flag=1 multi=34.9562 len=37327\n",
      "\u001b[01;31m\u001b[K>\u001b[m\u001b[Kk79_68 flag=0 multi=25.0572 len=446\n",
      "\u001b[01;31m\u001b[K>\u001b[m\u001b[Kk79_69 flag=0 multi=38.9810 len=40100\n",
      "\u001b[01;31m\u001b[K>\u001b[m\u001b[Kk79_70 flag=0 multi=37.5360 len=12850\n",
      "(wgs) "
     ]
    },
    {
     "ename": "",
     "evalue": "1",
     "output_type": "error",
     "traceback": []
    }
   ],
   "source": [
    "grep \">\" $result/megahit/final.contigs.fa"
   ]
  },
  {
   "cell_type": "code",
   "execution_count": null,
   "metadata": {},
   "outputs": [],
   "source": []
  }
 ],
 "metadata": {
  "kernelspec": {
   "display_name": "Bash",
   "language": "bash",
   "name": "bash"
  },
  "language_info": {
   "codemirror_mode": "shell",
   "file_extension": ".sh",
   "mimetype": "text/x-sh",
   "name": "bash"
  }
 },
 "nbformat": 4,
 "nbformat_minor": 4
}
