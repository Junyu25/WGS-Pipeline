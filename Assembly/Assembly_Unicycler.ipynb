{
 "cells": [
  {
   "cell_type": "code",
   "execution_count": 1,
   "metadata": {},
   "outputs": [
    {
     "name": "stdout",
     "output_type": "stream",
     "text": [
      "(bio) "
     ]
    },
    {
     "ename": "",
     "evalue": "1",
     "output_type": "error",
     "traceback": []
    }
   ],
   "source": [
    "conda activate bio"
   ]
  },
  {
   "cell_type": "code",
   "execution_count": null,
   "metadata": {},
   "outputs": [],
   "source": [
    "conda install -c bioconda unicycler"
   ]
  },
  {
   "cell_type": "code",
   "execution_count": 2,
   "metadata": {},
   "outputs": [
    {
     "name": "stdout",
     "output_type": "stream",
     "text": [
      "usage: unicycler [-h] [--help_all] [--version] [-1 SHORT1] [-2 SHORT2]\n",
      "                 [-s UNPAIRED] [-l LONG] -o OUT [--verbosity VERBOSITY]\n",
      "                 [--min_fasta_length MIN_FASTA_LENGTH] [--keep KEEP]\n",
      "                 [-t THREADS] [--mode {conservative,normal,bold}]\n",
      "                 [--linear_seqs LINEAR_SEQS] [--vcf]\n",
      "\n",
      "\u001b[31m\u001b[1m       __\n",
      "\u001b[0m\u001b[31m\u001b[1m       \\ \\___\n",
      "\u001b[0m\u001b[31m\u001b[1m        \\ ___\\\n",
      "\u001b[0m\u001b[31m\u001b[1m        //\n",
      "\u001b[0m\u001b[31m\u001b[1m   ____//      \u001b[0m\u001b[93m\u001b[1m_    _         _                     _\n",
      "\u001b[0m\u001b[31m\u001b[1m //_  //\\\\    \u001b[0m\u001b[93m\u001b[1m| |  | |       |_|                   | |\n",
      "\u001b[0m\u001b[31m\u001b[1m//  \\//  \\\\   \u001b[0m\u001b[93m\u001b[1m| |  | | _ __   _   ___  _   _   ___ | |  ___  _ __\n",
      "\u001b[0m\u001b[31m\u001b[1m||  (O)  ||   \u001b[0m\u001b[93m\u001b[1m| |  | || '_ \\ | | / __|| | | | / __|| | / _ \\| '__|\n",
      "\u001b[0m\u001b[31m\u001b[1m\\\\    \\_ //   \u001b[0m\u001b[93m\u001b[1m| |__| || | | || || (__ | |_| || (__ | ||  __/| |\n",
      "\u001b[0m\u001b[31m\u001b[1m \\\\_____//     \u001b[0m\u001b[93m\u001b[1m\\____/ |_| |_||_| \\___| \\__, | \\___||_| \\___||_|\n",
      "\u001b[0m\u001b[93m\u001b[1m                                        __/ |\n",
      "\u001b[0m\u001b[93m\u001b[1m                                       |___/\u001b[0m\n",
      "\n",
      "\u001b[1mUnicycler: an assembly pipeline for bacterial genomes\u001b[0m\n",
      "\n",
      "\u001b[1mHelp\u001b[0m:\n",
      "  -h, --help              \u001b[2mShow this help message and exit\u001b[0m\n",
      "  --help_all              \u001b[2mShow a help message with all program options\u001b[0m\n",
      "  --version               \u001b[2mShow Unicycler's version number\u001b[0m\n",
      "\n",
      "\u001b[1mInput\u001b[0m:\n",
      "  -1 SHORT1, --short1 SHORT1\n",
      "                          \u001b[2mFASTQ file of first short reads in each pair\u001b[0m\n",
      "                          \u001b[2m(required)\u001b[0m\n",
      "  -2 SHORT2, --short2 SHORT2\n",
      "                          \u001b[2mFASTQ file of second short reads in each pair\u001b[0m\n",
      "                          \u001b[2m(required)\u001b[0m\n",
      "  -s UNPAIRED, --unpaired UNPAIRED\n",
      "                          \u001b[2mFASTQ file of unpaired short reads (optional)\u001b[0m\n",
      "  -l LONG, --long LONG    \u001b[2mFASTQ or FASTA file of long reads (optional)\u001b[0m\n",
      "\n",
      "\u001b[1mOutput\u001b[0m:\n",
      "  -o OUT, --out OUT       \u001b[2mOutput directory (required)\u001b[0m\n",
      "  --verbosity VERBOSITY   \u001b[2mLevel of stdout and log file information (default: 1)\u001b[0m\n",
      "                          \u001b[2m  0 = no stdout, 1 = basic progress indicators,\u001b[0m\n",
      "                          \u001b[2m  2 = extra info, 3 = debugging info\u001b[0m\n",
      "  --min_fasta_length MIN_FASTA_LENGTH\n",
      "                          \u001b[2mExclude contigs from the FASTA file which are\u001b[0m\n",
      "                          \u001b[2mshorter than this length (default: 100)\u001b[0m\n",
      "  --keep KEEP             \u001b[2mLevel of file retention (default: 1)\u001b[0m\n",
      "                          \u001b[2m  0 = only keep final files: assembly (FASTA,\u001b[0m\n",
      "                          \u001b[2m  GFA and log),\u001b[0m\n",
      "                          \u001b[2m  1 = also save graphs at main checkpoints,\u001b[0m\n",
      "                          \u001b[2m  2 = also keep SAM (enables fast rerun in different mode),\u001b[0m\n",
      "                          \u001b[2m  3 = keep all temp files and save all graphs (for debugging)\u001b[0m\n",
      "  --vcf                   \u001b[2mProduce a VCF by mapping the short reads to the\u001b[0m\n",
      "                          \u001b[2mfinal assembly (experimental, default: do not\u001b[0m\n",
      "                          \u001b[2mproduce a vcf file)\u001b[0m\n",
      "\n",
      "\u001b[1mOther\u001b[0m:\n",
      "  -t THREADS, --threads THREADS\n",
      "                          \u001b[2mNumber of threads used (default: 8)\u001b[0m\n",
      "  --mode {conservative,normal,bold}\n",
      "                          \u001b[2mBridging mode (default: normal)\u001b[0m\n",
      "                          \u001b[2m  conservative = smaller contigs, lowest misassembly\u001b[0m\n",
      "                          \u001b[2m                 rate\u001b[0m\n",
      "                          \u001b[2m  normal = moderate contig size and misassembly rate\u001b[0m\n",
      "                          \u001b[2m  bold = longest contigs, higher misassembly rate\u001b[0m\n",
      "  --linear_seqs LINEAR_SEQS\n",
      "                          \u001b[2mThe expected number of linear (i.e. non-circular)\u001b[0m\n",
      "                          \u001b[2msequences in the underlying sequence (default: 0)\u001b[0m\n",
      "(bio) "
     ]
    },
    {
     "ename": "",
     "evalue": "1",
     "output_type": "error",
     "traceback": []
    }
   ],
   "source": [
    "unicycler -h"
   ]
  },
  {
   "cell_type": "markdown",
   "metadata": {},
   "source": [
    "```shell\n",
    "unicycler -1 test_1.clean.fq.gz -2 test_2.clean.fq.gz -o /home/ldlab/Data/WGS/186L\n",
    "```"
   ]
  },
  {
   "cell_type": "code",
   "execution_count": null,
   "metadata": {},
   "outputs": [],
   "source": []
  },
  {
   "cell_type": "markdown",
   "metadata": {},
   "source": [
    "### Test"
   ]
  },
  {
   "cell_type": "code",
   "execution_count": null,
   "metadata": {},
   "outputs": [],
   "source": [
    "/mnt/d/Lab/WGS/X101SC20081298-Z01-F001/2.cleandata/186L_BKDL202594340-1a-AK1579-N504/186L_BKDL202594340-1a-AK1579-N504_1.clean.fq.gz"
   ]
  },
  {
   "cell_type": "code",
   "execution_count": null,
   "metadata": {},
   "outputs": [],
   "source": [
    "/mnt/d/Lab/WGS/X101SC20081298-Z01-F001/2.cleandata/186L_BKDL202594340-1a-AK1579-N504/186L_BKDL202594340-1a-AK1579-N504_2.clean.fq.gz"
   ]
  },
  {
   "cell_type": "markdown",
   "metadata": {},
   "source": [
    "unicycler -1 /mnt/d/Lab/WGS/X101SC20081298-Z01-F001/2.cleandata/186L_BKDL202594340-1a-AK1579-N504/186L_BKDL202594340-1a-AK1579-N504_1.clean.fq.gz -2 /mnt/d/Lab/WGS/X101SC20081298-Z01-F001/2.cleandata/186L_BKDL202594340-1a-AK1579-N504/186L_BKDL202594340-1a-AK1579-N504_2.clean.fq.gz -o /mnt/d/Lab/WGS/result/assembly/unicycler/186L"
   ]
  },
  {
   "cell_type": "markdown",
   "metadata": {},
   "source": [
    "/home/ldlab/Data/WGS/186L_BKDL202594340-1a-AK1579-N504_1.clean.fq.gz"
   ]
  },
  {
   "cell_type": "code",
   "execution_count": null,
   "metadata": {},
   "outputs": [],
   "source": [
    "/home/ldlab/Data/WGS/186L_BKDL202594340-1a-AK1579-N504_2.clean.fq.gz"
   ]
  },
  {
   "cell_type": "markdown",
   "metadata": {},
   "source": [
    "```shell\n",
    "unicycler -1 /home/ldlab/Data/WGS/186L_BKDL202594340-1a-AK1579-N504_1.clean.fq.gz -2 /home/ldlab/Data/WGS/186L_BKDL202594340-1a-AK1579-N504_2.clean.fq.gz -o /home/ldlab/Data/WGS/186L\n",
    "```"
   ]
  },
  {
   "cell_type": "code",
   "execution_count": null,
   "metadata": {},
   "outputs": [],
   "source": []
  }
 ],
 "metadata": {
  "kernelspec": {
   "display_name": "Python 3",
   "language": "python",
   "name": "python3"
  },
  "language_info": {
   "codemirror_mode": {
    "name": "ipython",
    "version": 3
   },
   "file_extension": ".py",
   "mimetype": "text/x-python",
   "name": "python",
   "nbconvert_exporter": "python",
   "pygments_lexer": "ipython3",
   "version": "3.8.3"
  }
 },
 "nbformat": 4,
 "nbformat_minor": 4
}
