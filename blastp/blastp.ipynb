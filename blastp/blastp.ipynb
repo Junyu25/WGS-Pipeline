{
 "cells": [
  {
   "cell_type": "code",
   "execution_count": null,
   "metadata": {},
   "outputs": [],
   "source": []
  },
  {
   "cell_type": "code",
   "execution_count": 1,
   "metadata": {
    "execution": {
     "iopub.execute_input": "2020-10-29T03:50:18.104198Z",
     "iopub.status.busy": "2020-10-29T03:50:18.103927Z",
     "iopub.status.idle": "2020-10-29T03:50:18.116956Z",
     "shell.execute_reply": "2020-10-29T03:50:18.115923Z",
     "shell.execute_reply.started": "2020-10-29T03:50:18.104127Z"
    }
   },
   "outputs": [],
   "source": [
    "from Bio.Blast.Applications import NcbiblastpCommandline"
   ]
  },
  {
   "cell_type": "code",
   "execution_count": 4,
   "metadata": {
    "collapsed": true,
    "execution": {
     "iopub.execute_input": "2020-10-29T03:31:22.094871Z",
     "iopub.status.busy": "2020-10-29T03:31:22.094537Z",
     "iopub.status.idle": "2020-10-29T03:31:22.103139Z",
     "shell.execute_reply": "2020-10-29T03:31:22.102063Z",
     "shell.execute_reply.started": "2020-10-29T03:31:22.094820Z"
    },
    "jupyter": {
     "outputs_hidden": true
    }
   },
   "outputs": [
    {
     "name": "stdout",
     "output_type": "stream",
     "text": [
      "Help on class NcbiblastpCommandline in module Bio.Blast.Applications:\n",
      "\n",
      "class NcbiblastpCommandline(_NcbiblastMain2SeqCommandline)\n",
      " |  NcbiblastpCommandline(cmd='blastp', **kwargs)\n",
      " |  \n",
      " |  Create a commandline for the NCBI BLAST+ program blastp (for proteins).\n",
      " |  \n",
      " |  With the release of BLAST+ (BLAST rewritten in C++ instead of C), the NCBI\n",
      " |  replaced the old blastall tool with separate tools for each of the searches.\n",
      " |  This wrapper therefore replaces BlastallCommandline with option -p blastp.\n",
      " |  \n",
      " |  >>> from Bio.Blast.Applications import NcbiblastpCommandline\n",
      " |  >>> cline = NcbiblastpCommandline(query=\"rosemary.pro\", db=\"nr\",\n",
      " |  ...                               evalue=0.001, remote=True, ungapped=True)\n",
      " |  >>> cline\n",
      " |  NcbiblastpCommandline(cmd='blastp', query='rosemary.pro', db='nr', evalue=0.001, remote=True, ungapped=True)\n",
      " |  >>> print(cline)\n",
      " |  blastp -query rosemary.pro -db nr -evalue 0.001 -remote -ungapped\n",
      " |  \n",
      " |  You would typically run the command line with cline() or via the Python\n",
      " |  subprocess module, as described in the Biopython tutorial.\n",
      " |  \n",
      " |  Method resolution order:\n",
      " |      NcbiblastpCommandline\n",
      " |      _NcbiblastMain2SeqCommandline\n",
      " |      _Ncbiblast2SeqCommandline\n",
      " |      _NcbiblastCommandline\n",
      " |      _NcbibaseblastCommandline\n",
      " |      Bio.Application.AbstractCommandline\n",
      " |      builtins.object\n",
      " |  \n",
      " |  Methods defined here:\n",
      " |  \n",
      " |  __init__(self, cmd='blastp', **kwargs)\n",
      " |      Initialize the class.\n",
      " |  \n",
      " |  ----------------------------------------------------------------------\n",
      " |  Methods inherited from Bio.Application.AbstractCommandline:\n",
      " |  \n",
      " |  __call__(self, stdin=None, stdout=True, stderr=True, cwd=None, env=None)\n",
      " |      Execute command, wait for it to finish, return (stdout, stderr).\n",
      " |      \n",
      " |      Runs the command line tool and waits for it to finish. If it returns\n",
      " |      a non-zero error level, an exception is raised. Otherwise two strings\n",
      " |      are returned containing stdout and stderr.\n",
      " |      \n",
      " |      The optional stdin argument should be a string of data which will be\n",
      " |      passed to the tool as standard input.\n",
      " |      \n",
      " |      The optional stdout and stderr argument may be filenames (string),\n",
      " |      but otherwise are treated as a booleans, and control if the output\n",
      " |      should be captured as strings (True, default), or ignored by sending\n",
      " |      it to /dev/null to avoid wasting memory (False). If sent to a file\n",
      " |      or ignored, then empty string(s) are returned.\n",
      " |      \n",
      " |      The optional cwd argument is a string giving the working directory\n",
      " |      to run the command from. See Python's subprocess module documentation\n",
      " |      for more details.\n",
      " |      \n",
      " |      The optional env argument is a dictionary setting the environment\n",
      " |      variables to be used in the new process. By default the current\n",
      " |      process' environment variables are used. See Python's subprocess\n",
      " |      module documentation for more details.\n",
      " |      \n",
      " |      Default example usage::\n",
      " |      \n",
      " |          from Bio.Emboss.Applications import WaterCommandline\n",
      " |          water_cmd = WaterCommandline(gapopen=10, gapextend=0.5,\n",
      " |                                       stdout=True, auto=True,\n",
      " |                                       asequence=\"a.fasta\", bsequence=\"b.fasta\")\n",
      " |          print(\"About to run: %s\" % water_cmd)\n",
      " |          std_output, err_output = water_cmd()\n",
      " |      \n",
      " |      This functionality is similar to subprocess.check_output(). In general\n",
      " |      if you require more control over running the command, use subprocess\n",
      " |      directly.\n",
      " |      \n",
      " |      When the program called returns a non-zero error level, a custom\n",
      " |      ApplicationError exception is raised. This includes any stdout and\n",
      " |      stderr strings captured as attributes of the exception object, since\n",
      " |      they may be useful for diagnosing what went wrong.\n",
      " |  \n",
      " |  __repr__(self)\n",
      " |      Return a representation of the command line object for debugging.\n",
      " |      \n",
      " |      e.g.\n",
      " |      \n",
      " |      >>> from Bio.Emboss.Applications import WaterCommandline\n",
      " |      >>> cline = WaterCommandline(gapopen=10, gapextend=0.5)\n",
      " |      >>> cline.asequence = \"asis:ACCCGGGCGCGGT\"\n",
      " |      >>> cline.bsequence = \"asis:ACCCGAGCGCGGT\"\n",
      " |      >>> cline.outfile = \"temp_water.txt\"\n",
      " |      >>> print(cline)\n",
      " |      water -outfile=temp_water.txt -asequence=asis:ACCCGGGCGCGGT -bsequence=asis:ACCCGAGCGCGGT -gapopen=10 -gapextend=0.5\n",
      " |      >>> cline\n",
      " |      WaterCommandline(cmd='water', outfile='temp_water.txt', asequence='asis:ACCCGGGCGCGGT', bsequence='asis:ACCCGAGCGCGGT', gapopen=10, gapextend=0.5)\n",
      " |  \n",
      " |  __setattr__(self, name, value)\n",
      " |      Set attribute name to value (PRIVATE).\n",
      " |      \n",
      " |      This code implements a workaround for a user interface issue.\n",
      " |      Without this __setattr__ attribute-based assignment of parameters\n",
      " |      will silently accept invalid parameters, leading to known instances\n",
      " |      of the user assuming that parameters for the application are set,\n",
      " |      when they are not.\n",
      " |      \n",
      " |      >>> from Bio.Emboss.Applications import WaterCommandline\n",
      " |      >>> cline = WaterCommandline(gapopen=10, gapextend=0.5, stdout=True)\n",
      " |      >>> cline.asequence = \"a.fasta\"\n",
      " |      >>> cline.bsequence = \"b.fasta\"\n",
      " |      >>> cline.csequence = \"c.fasta\"\n",
      " |      Traceback (most recent call last):\n",
      " |      ...\n",
      " |      ValueError: Option name csequence was not found.\n",
      " |      >>> print(cline)\n",
      " |      water -stdout -asequence=a.fasta -bsequence=b.fasta -gapopen=10 -gapextend=0.5\n",
      " |      \n",
      " |      This workaround uses a whitelist of object attributes, and sets the\n",
      " |      object attribute list as normal, for these.  Other attributes are\n",
      " |      assumed to be parameters, and passed to the self.set_parameter method\n",
      " |      for validation and assignment.\n",
      " |  \n",
      " |  __str__(self)\n",
      " |      Make the commandline string with the currently set options.\n",
      " |      \n",
      " |      e.g.\n",
      " |      \n",
      " |      >>> from Bio.Emboss.Applications import WaterCommandline\n",
      " |      >>> cline = WaterCommandline(gapopen=10, gapextend=0.5)\n",
      " |      >>> cline.asequence = \"asis:ACCCGGGCGCGGT\"\n",
      " |      >>> cline.bsequence = \"asis:ACCCGAGCGCGGT\"\n",
      " |      >>> cline.outfile = \"temp_water.txt\"\n",
      " |      >>> print(cline)\n",
      " |      water -outfile=temp_water.txt -asequence=asis:ACCCGGGCGCGGT -bsequence=asis:ACCCGAGCGCGGT -gapopen=10 -gapextend=0.5\n",
      " |      >>> str(cline)\n",
      " |      'water -outfile=temp_water.txt -asequence=asis:ACCCGGGCGCGGT -bsequence=asis:ACCCGAGCGCGGT -gapopen=10 -gapextend=0.5'\n",
      " |  \n",
      " |  set_parameter(self, name, value=None)\n",
      " |      Set a commandline option for a program (OBSOLETE).\n",
      " |      \n",
      " |      Every parameter is available via a property and as a named\n",
      " |      keyword when creating the instance. Using either of these is\n",
      " |      preferred to this legacy set_parameter method which is now\n",
      " |      OBSOLETE, and likely to be DEPRECATED and later REMOVED in\n",
      " |      future releases.\n",
      " |  \n",
      " |  ----------------------------------------------------------------------\n",
      " |  Data descriptors inherited from Bio.Application.AbstractCommandline:\n",
      " |  \n",
      " |  __dict__\n",
      " |      dictionary for instance variables (if defined)\n",
      " |  \n",
      " |  __weakref__\n",
      " |      list of weak references to the object (if defined)\n",
      " |  \n",
      " |  ----------------------------------------------------------------------\n",
      " |  Data and other attributes inherited from Bio.Application.AbstractCommandline:\n",
      " |  \n",
      " |  parameters = None\n",
      "\n"
     ]
    }
   ],
   "source": [
    "help(NcbiblastpCommandline)"
   ]
  },
  {
   "cell_type": "code",
   "execution_count": 2,
   "metadata": {
    "execution": {
     "iopub.execute_input": "2020-10-29T03:50:20.082012Z",
     "iopub.status.busy": "2020-10-29T03:50:20.081643Z",
     "iopub.status.idle": "2020-10-29T03:50:20.087986Z",
     "shell.execute_reply": "2020-10-29T03:50:20.086267Z",
     "shell.execute_reply.started": "2020-10-29T03:50:20.081974Z"
    }
   },
   "outputs": [],
   "source": [
    "qdata = \"/mnt/d/Lab/Bile-Acid/result/prodigal/GCF_000154445.1_ASM15444v1_genomic.faa\""
   ]
  },
  {
   "cell_type": "code",
   "execution_count": 3,
   "metadata": {
    "execution": {
     "iopub.execute_input": "2020-10-29T03:50:20.275194Z",
     "iopub.status.busy": "2020-10-29T03:50:20.274666Z",
     "iopub.status.idle": "2020-10-29T03:50:20.281669Z",
     "shell.execute_reply": "2020-10-29T03:50:20.280061Z",
     "shell.execute_reply.started": "2020-10-29T03:50:20.275138Z"
    }
   },
   "outputs": [],
   "source": [
    "blastpDB = \"/mnt/d/Lab/Bile-Acid/db/BSH_anno.fasta\""
   ]
  },
  {
   "cell_type": "code",
   "execution_count": 4,
   "metadata": {
    "execution": {
     "iopub.execute_input": "2020-10-29T03:50:20.429627Z",
     "iopub.status.busy": "2020-10-29T03:50:20.429360Z",
     "iopub.status.idle": "2020-10-29T03:50:20.434417Z",
     "shell.execute_reply": "2020-10-29T03:50:20.433023Z",
     "shell.execute_reply.started": "2020-10-29T03:50:20.429601Z"
    }
   },
   "outputs": [],
   "source": [
    "blastpOut = \"/mnt/d/Lab/Bile-Acid/result/blastp/test.xml\""
   ]
  },
  {
   "cell_type": "code",
   "execution_count": 5,
   "metadata": {
    "execution": {
     "iopub.execute_input": "2020-10-29T03:50:20.594959Z",
     "iopub.status.busy": "2020-10-29T03:50:20.594598Z",
     "iopub.status.idle": "2020-10-29T03:50:20.601724Z",
     "shell.execute_reply": "2020-10-29T03:50:20.600335Z",
     "shell.execute_reply.started": "2020-10-29T03:50:20.594921Z"
    }
   },
   "outputs": [],
   "source": [
    "blastp_cline = NcbiblastpCommandline(query=qdata, db=blastpDB, evalue=0.001,outfmt=5, out=blastpOut)"
   ]
  },
  {
   "cell_type": "code",
   "execution_count": 6,
   "metadata": {
    "execution": {
     "iopub.execute_input": "2020-10-29T03:50:21.054742Z",
     "iopub.status.busy": "2020-10-29T03:50:21.054351Z",
     "iopub.status.idle": "2020-10-29T03:50:21.073065Z",
     "shell.execute_reply": "2020-10-29T03:50:21.071575Z",
     "shell.execute_reply.started": "2020-10-29T03:50:21.054705Z"
    }
   },
   "outputs": [
    {
     "data": {
      "text/plain": [
       "NcbiblastpCommandline(cmd='blastp', out='/mnt/d/Lab/Bile-Acid/result/blastp/test.xml', outfmt=5, query='/mnt/d/Lab/Bile-Acid/result/prodigal/GCF_000154445.1_ASM15444v1_genomic.faa', db='/mnt/d/Lab/Bile-Acid/db/BSH_anno.fasta', evalue=0.001)"
      ]
     },
     "execution_count": 6,
     "metadata": {},
     "output_type": "execute_result"
    }
   ],
   "source": [
    "blastp_cline"
   ]
  },
  {
   "cell_type": "code",
   "execution_count": 7,
   "metadata": {
    "execution": {
     "iopub.execute_input": "2020-10-29T03:50:21.480175Z",
     "iopub.status.busy": "2020-10-29T03:50:21.479862Z",
     "iopub.status.idle": "2020-10-29T03:50:21.485710Z",
     "shell.execute_reply": "2020-10-29T03:50:21.484589Z",
     "shell.execute_reply.started": "2020-10-29T03:50:21.480134Z"
    }
   },
   "outputs": [
    {
     "name": "stdout",
     "output_type": "stream",
     "text": [
      "blastp -out /mnt/d/Lab/Bile-Acid/result/blastp/test.xml -outfmt 5 -query /mnt/d/Lab/Bile-Acid/result/prodigal/GCF_000154445.1_ASM15444v1_genomic.faa -db /mnt/d/Lab/Bile-Acid/db/BSH_anno.fasta -evalue 0.001\n"
     ]
    }
   ],
   "source": [
    "print(blastp_cline)"
   ]
  },
  {
   "cell_type": "code",
   "execution_count": 8,
   "metadata": {
    "execution": {
     "iopub.execute_input": "2020-10-29T03:50:22.208884Z",
     "iopub.status.busy": "2020-10-29T03:50:22.208522Z",
     "iopub.status.idle": "2020-10-29T03:50:22.326878Z",
     "shell.execute_reply": "2020-10-29T03:50:22.325747Z",
     "shell.execute_reply.started": "2020-10-29T03:50:22.208846Z"
    }
   },
   "outputs": [
    {
     "ename": "ApplicationError",
     "evalue": "Non-zero return code 127 from 'blastp -out /mnt/d/Lab/Bile-Acid/result/blastp/test.xml -outfmt 5 -query /mnt/d/Lab/Bile-Acid/result/prodigal/GCF_000154445.1_ASM15444v1_genomic.faa -db /mnt/d/Lab/Bile-Acid/db/BSH_anno.fasta -evalue 0.001', message '/bin/sh: 1: blastp: not found'",
     "output_type": "error",
     "traceback": [
      "\u001b[0;31m---------------------------------------------------------------------------\u001b[0m",
      "\u001b[0;31mApplicationError\u001b[0m                          Traceback (most recent call last)",
      "\u001b[0;32m<ipython-input-8-63722a2de2b7>\u001b[0m in \u001b[0;36m<module>\u001b[0;34m\u001b[0m\n\u001b[0;32m----> 1\u001b[0;31m \u001b[0mstdout\u001b[0m\u001b[0;34m,\u001b[0m \u001b[0mstderr\u001b[0m \u001b[0;34m=\u001b[0m \u001b[0mblastp_cline\u001b[0m\u001b[0;34m(\u001b[0m\u001b[0;34m)\u001b[0m\u001b[0;34m\u001b[0m\u001b[0;34m\u001b[0m\u001b[0m\n\u001b[0m",
      "\u001b[0;32m~/miniconda3/envs/Bio/lib/python3.8/site-packages/Bio/Application/__init__.py\u001b[0m in \u001b[0;36m__call__\u001b[0;34m(self, stdin, stdout, stderr, cwd, env)\u001b[0m\n\u001b[1;32m    567\u001b[0m \u001b[0;34m\u001b[0m\u001b[0m\n\u001b[1;32m    568\u001b[0m         \u001b[0;32mif\u001b[0m \u001b[0mreturn_code\u001b[0m\u001b[0;34m:\u001b[0m\u001b[0;34m\u001b[0m\u001b[0;34m\u001b[0m\u001b[0m\n\u001b[0;32m--> 569\u001b[0;31m             \u001b[0;32mraise\u001b[0m \u001b[0mApplicationError\u001b[0m\u001b[0;34m(\u001b[0m\u001b[0mreturn_code\u001b[0m\u001b[0;34m,\u001b[0m \u001b[0mstr\u001b[0m\u001b[0;34m(\u001b[0m\u001b[0mself\u001b[0m\u001b[0;34m)\u001b[0m\u001b[0;34m,\u001b[0m \u001b[0mstdout_str\u001b[0m\u001b[0;34m,\u001b[0m \u001b[0mstderr_str\u001b[0m\u001b[0;34m)\u001b[0m\u001b[0;34m\u001b[0m\u001b[0;34m\u001b[0m\u001b[0m\n\u001b[0m\u001b[1;32m    570\u001b[0m         \u001b[0;32mreturn\u001b[0m \u001b[0mstdout_str\u001b[0m\u001b[0;34m,\u001b[0m \u001b[0mstderr_str\u001b[0m\u001b[0;34m\u001b[0m\u001b[0;34m\u001b[0m\u001b[0m\n\u001b[1;32m    571\u001b[0m \u001b[0;34m\u001b[0m\u001b[0m\n",
      "\u001b[0;31mApplicationError\u001b[0m: Non-zero return code 127 from 'blastp -out /mnt/d/Lab/Bile-Acid/result/blastp/test.xml -outfmt 5 -query /mnt/d/Lab/Bile-Acid/result/prodigal/GCF_000154445.1_ASM15444v1_genomic.faa -db /mnt/d/Lab/Bile-Acid/db/BSH_anno.fasta -evalue 0.001', message '/bin/sh: 1: blastp: not found'"
     ]
    }
   ],
   "source": [
    "stdout, stderr = blastp_cline()"
   ]
  },
  {
   "cell_type": "code",
   "execution_count": 7,
   "metadata": {
    "execution": {
     "iopub.execute_input": "2020-10-29T03:25:05.295263Z",
     "iopub.status.busy": "2020-10-29T03:25:05.294673Z",
     "iopub.status.idle": "2020-10-29T03:25:05.417557Z",
     "shell.execute_reply": "2020-10-29T03:25:05.415339Z",
     "shell.execute_reply.started": "2020-10-29T03:25:05.295215Z"
    }
   },
   "outputs": [],
   "source": [
    "!export SHELL=/bin/bash"
   ]
  },
  {
   "cell_type": "code",
   "execution_count": 8,
   "metadata": {
    "execution": {
     "iopub.execute_input": "2020-10-29T03:25:09.643363Z",
     "iopub.status.busy": "2020-10-29T03:25:09.643112Z",
     "iopub.status.idle": "2020-10-29T03:25:09.938032Z",
     "shell.execute_reply": "2020-10-29T03:25:09.936612Z",
     "shell.execute_reply.started": "2020-10-29T03:25:09.643330Z"
    }
   },
   "outputs": [
    {
     "name": "stdout",
     "output_type": "stream",
     "text": [
      "\n",
      "CommandNotFoundError: Your shell has not been properly configured to use 'conda activate'.\n",
      "To initialize your shell, run\n",
      "\n",
      "    $ conda init <SHELL_NAME>\n",
      "\n",
      "Currently supported shells are:\n",
      "  - bash\n",
      "  - fish\n",
      "  - tcsh\n",
      "  - xonsh\n",
      "  - zsh\n",
      "  - powershell\n",
      "\n",
      "See 'conda init --help' for more information and options.\n",
      "\n",
      "IMPORTANT: You may need to close and restart your shell after running 'conda init'.\n",
      "\n",
      "\n"
     ]
    }
   ],
   "source": [
    "!conda activate Bio"
   ]
  },
  {
   "cell_type": "code",
   "execution_count": 9,
   "metadata": {
    "execution": {
     "iopub.execute_input": "2020-10-29T03:25:15.672720Z",
     "iopub.status.busy": "2020-10-29T03:25:15.672459Z",
     "iopub.status.idle": "2020-10-29T03:25:15.845807Z",
     "shell.execute_reply": "2020-10-29T03:25:15.842707Z",
     "shell.execute_reply.started": "2020-10-29T03:25:15.672694Z"
    }
   },
   "outputs": [],
   "source": [
    "!which blastp"
   ]
  },
  {
   "cell_type": "code",
   "execution_count": 10,
   "metadata": {
    "execution": {
     "iopub.execute_input": "2020-10-29T03:25:16.064167Z",
     "iopub.status.busy": "2020-10-29T03:25:16.063746Z",
     "iopub.status.idle": "2020-10-29T03:25:16.182149Z",
     "shell.execute_reply": "2020-10-29T03:25:16.180804Z",
     "shell.execute_reply.started": "2020-10-29T03:25:16.064087Z"
    }
   },
   "outputs": [],
   "source": [
    "!export PATH=$PATH:/home/junyu/miniconda3/envs/Bio/bin/blastp"
   ]
  },
  {
   "cell_type": "code",
   "execution_count": 1,
   "metadata": {
    "execution": {
     "iopub.execute_input": "2020-10-29T03:31:13.927712Z",
     "iopub.status.busy": "2020-10-29T03:31:13.927426Z",
     "iopub.status.idle": "2020-10-29T03:31:14.093718Z",
     "shell.execute_reply": "2020-10-29T03:31:14.092038Z",
     "shell.execute_reply.started": "2020-10-29T03:31:13.927631Z"
    }
   },
   "outputs": [],
   "source": [
    "!which blastp"
   ]
  },
  {
   "cell_type": "code",
   "execution_count": 2,
   "metadata": {
    "execution": {
     "iopub.execute_input": "2020-10-29T03:31:15.319414Z",
     "iopub.status.busy": "2020-10-29T03:31:15.319000Z",
     "iopub.status.idle": "2020-10-29T03:31:15.437778Z",
     "shell.execute_reply": "2020-10-29T03:31:15.435850Z",
     "shell.execute_reply.started": "2020-10-29T03:31:15.319379Z"
    }
   },
   "outputs": [
    {
     "name": "stdout",
     "output_type": "stream",
     "text": [
      "/bin/bash\n"
     ]
    }
   ],
   "source": [
    "!which $SHELL"
   ]
  },
  {
   "cell_type": "code",
   "execution_count": null,
   "metadata": {},
   "outputs": [],
   "source": []
  }
 ],
 "metadata": {
  "kernelspec": {
   "display_name": "Bio",
   "language": "python",
   "name": "bio"
  },
  "language_info": {
   "codemirror_mode": {
    "name": "ipython",
    "version": 3
   },
   "file_extension": ".py",
   "mimetype": "text/x-python",
   "name": "python",
   "nbconvert_exporter": "python",
   "pygments_lexer": "ipython3",
   "version": "3.8.6"
  }
 },
 "nbformat": 4,
 "nbformat_minor": 4
}
