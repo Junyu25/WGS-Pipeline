{
 "cells": [
  {
   "cell_type": "markdown",
   "metadata": {},
   "source": [
    "### Env setup"
   ]
  },
  {
   "cell_type": "code",
   "execution_count": null,
   "metadata": {},
   "outputs": [],
   "source": [
    "conda create -n Bio"
   ]
  },
  {
   "cell_type": "code",
   "execution_count": null,
   "metadata": {},
   "outputs": [],
   "source": [
    "conda install prodigal diamond samtools hmmer"
   ]
  },
  {
   "cell_type": "code",
   "execution_count": null,
   "metadata": {},
   "outputs": [],
   "source": []
  },
  {
   "cell_type": "markdown",
   "metadata": {},
   "source": [
    "HMM output table"
   ]
  },
  {
   "cell_type": "markdown",
   "metadata": {},
   "source": [
    "Diamond "
   ]
  },
  {
   "cell_type": "markdown",
   "metadata": {},
   "source": [
    "### prodigal + HMMer"
   ]
  },
  {
   "cell_type": "markdown",
   "metadata": {},
   "source": [
    "#### prodigal"
   ]
  },
  {
   "cell_type": "code",
   "execution_count": null,
   "metadata": {},
   "outputs": [],
   "source": [
    "prodigal -i my.genome.fna -o gene.coords.gbk -a protein.translations.faa"
   ]
  },
  {
   "cell_type": "markdown",
   "metadata": {},
   "source": [
    "```shell\n",
    "Input/Output Parameters\n",
    "\n",
    "  -i, --input_file:     Specify input file (default stdin).\n",
    "  -o, --output_file:    Specify output file (default stdout).\n",
    "  -a, --protein_file:   Specify protein translations file.\n",
    "  -d, --mrna_file:      Specify nucleotide sequences file.\n",
    "  -s, --start_file:     Specify complete starts file.\n",
    "  -w, --summ_file:      Specify summary statistics file.\n",
    "  -f, --output_format:  Specify output format.\n",
    "                          gbk:  Genbank-like format (Default)\n",
    "                          gff:  GFF format\n",
    "                          sqn:  Sequin feature table format\n",
    "                          sco:  Simple coordinate output\n",
    "  -q, --quiet:          Run quietly (suppress logging output).\n",
    "```"
   ]
  },
  {
   "cell_type": "markdown",
   "metadata": {},
   "source": [
    "```shell\n",
    "prodigal -i /mnt/d/Lab/Bile-Acid/rawdata/GCF_000154445.1_ASM15444v1_genomic.fna -o /mnt/d/Lab/Bile-Acid/result/prodigal/GCF_000154445.1_ASM15444v1_genomic.gff -a /mnt/d/Lab/Bile-Acid/result/prodigal/GCF_000154445.1_ASM15444v1_genomic.faa -f gff\n",
    "```"
   ]
  },
  {
   "cell_type": "markdown",
   "metadata": {},
   "source": [
    "#### HMMer"
   ]
  },
  {
   "cell_type": "code",
   "execution_count": null,
   "metadata": {},
   "outputs": [],
   "source": [
    "/mnt/d/Lab/Bile-Acid/result/hmmer"
   ]
  },
  {
   "cell_type": "code",
   "execution_count": null,
   "metadata": {},
   "outputs": [],
   "source": [
    "/mnt/d/Lab/Bile-Acid/phmm/CBAH.hmm"
   ]
  },
  {
   "cell_type": "markdown",
   "metadata": {},
   "source": [
    "```shell\n",
    "hmmsearch --cpu 4 --tblout /mnt/d/Lab/Bile-Acid/result/hmmer/GCF_000154445.1_ASM15444v1_genomic.tbl /mnt/d/Lab/Bile-Acid/phmm/CBAH.hmm /mnt/d/Lab/Bile-Acid/result/prodigal/GCF_000154445.1_ASM15444v1_genomic.faa > /dev/null\n",
    "```"
   ]
  },
  {
   "cell_type": "markdown",
   "metadata": {},
   "source": [
    "use biopython to handle the `.tbl` output filem"
   ]
  },
  {
   "cell_type": "code",
   "execution_count": null,
   "metadata": {},
   "outputs": [],
   "source": []
  },
  {
   "cell_type": "markdown",
   "metadata": {},
   "source": [
    "### Test data"
   ]
  },
  {
   "cell_type": "markdown",
   "metadata": {},
   "source": [
    "Clostridium hiranonis DSM 13275 (500633.7)"
   ]
  },
  {
   "cell_type": "markdown",
   "metadata": {},
   "source": [
    "Clostridium bartlettii DSM 16795 (445973.7)"
   ]
  },
  {
   "cell_type": "markdown",
   "metadata": {},
   "source": [
    "Ruminococcus gnavus ATCC 29149 (411470.6)"
   ]
  },
  {
   "cell_type": "markdown",
   "metadata": {},
   "source": [
    "Methanosphaera stadtmanae DSM 3091 (339860.6)"
   ]
  },
  {
   "cell_type": "markdown",
   "metadata": {},
   "source": [
    "Erysipelotrichaceae bacterium 3_1_53 (658659.3)"
   ]
  }
 ],
 "metadata": {
  "kernelspec": {
   "display_name": "Bash",
   "language": "bash",
   "name": "bash"
  },
  "language_info": {
   "codemirror_mode": "shell",
   "file_extension": ".sh",
   "mimetype": "text/x-sh",
   "name": "bash"
  }
 },
 "nbformat": 4,
 "nbformat_minor": 4
}
