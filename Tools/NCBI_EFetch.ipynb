{
 "cells": [
  {
   "cell_type": "code",
   "execution_count": 1,
   "metadata": {
    "execution": {
     "iopub.execute_input": "2020-10-29T11:39:55.794215Z",
     "iopub.status.busy": "2020-10-29T11:39:55.793624Z",
     "iopub.status.idle": "2020-10-29T11:39:55.809338Z",
     "shell.execute_reply": "2020-10-29T11:39:55.808268Z",
     "shell.execute_reply.started": "2020-10-29T11:39:55.794116Z"
    }
   },
   "outputs": [],
   "source": [
    "from Bio import Entrez"
   ]
  },
  {
   "cell_type": "code",
   "execution_count": 3,
   "metadata": {
    "collapsed": true,
    "execution": {
     "iopub.execute_input": "2020-10-29T11:41:16.926355Z",
     "iopub.status.busy": "2020-10-29T11:41:16.925817Z",
     "iopub.status.idle": "2020-10-29T11:41:18.337532Z",
     "shell.execute_reply": "2020-10-29T11:41:18.335151Z",
     "shell.execute_reply.started": "2020-10-29T11:41:16.926298Z"
    },
    "jupyter": {
     "outputs_hidden": true
    }
   },
   "outputs": [
    {
     "name": "stdout",
     "output_type": "stream",
     "text": [
      "LOCUS       CAA91110                 925 aa            linear   BCT 14-JUL-2016\n",
      "DEFINITION  hypothetical protein [Lactobacillus sakei].\n",
      "ACCESSION   CAA91110\n",
      "VERSION     CAA91110.1\n",
      "DBSOURCE    embl accession Z54312.2\n",
      "KEYWORDS    .\n",
      "SOURCE      Lactobacillus sakei\n",
      "  ORGANISM  Lactobacillus sakei\n",
      "            Bacteria; Firmicutes; Bacilli; Lactobacillales; Lactobacillaceae;\n",
      "            Latilactobacillus.\n",
      "REFERENCE   1\n",
      "  AUTHORS   Skaugen,M. and Nes,I.F.\n",
      "  TITLE     Transposition in Lactobacillus sake and its abolition of lactocin S\n",
      "            production by insertion of IS1163, a new member of the IS3 family\n",
      "  JOURNAL   Appl Environ Microbiol 60 (8), 2818-2825 (1994)\n",
      "   PUBMED   7521995\n",
      "REFERENCE   2\n",
      "  AUTHORS   Skaugen,M., Nissen-Meyer,J., Jung,G., Stevanovic,S., Sletten,K.,\n",
      "            Inger,C., Abildgaard,M. and Nes,I.F.\n",
      "  TITLE     In vivo conversion of L-serine to D-alanine in a ribosomally\n",
      "            synthesized polypeptide\n",
      "  JOURNAL   J Biol Chem 269 (44), 27183-27185 (1994)\n",
      "   PUBMED   7961627\n",
      "REFERENCE   3\n",
      "  AUTHORS   Skaugen,M., Abildgaard,C.I. and Nes,I.F.\n",
      "  TITLE     Organization and expression of a gene cluster involved in the\n",
      "            biosynthesis of the lantibiotic lactocin S\n",
      "  JOURNAL   Mol Gen Genet 253 (6), 674-686 (1997)\n",
      "   PUBMED   9079878\n",
      "REFERENCE   4\n",
      "  AUTHORS   Skaugen,M.\n",
      "  TITLE     Transposition in Lactobacillus sakei: inactivation of a second\n",
      "            lactocin S operon by the insertion of IS1520, a new member of the\n",
      "            IS3 family of insertion sequences\n",
      "  JOURNAL   Microbiology (Reading, Engl.) 146, 1151-1156 (2000)\n",
      "   PUBMED   10832642\n",
      "REFERENCE   5\n",
      "  AUTHORS   Skaugen,M., Andersen,E.L., Christie,V.H. and Nes,I.F.\n",
      "  TITLE     Identification, characterization, and expression of a second,\n",
      "            bicistronic, operon involved in the production of lactocin S in\n",
      "            Lactobacillus sakei L45\n",
      "  JOURNAL   Appl Environ Microbiol 68 (2), 720-727 (2002)\n",
      "   PUBMED   11823212\n",
      "REFERENCE   6\n",
      "  AUTHORS   Skaugen,M.\n",
      "  TITLE     Direct Submission\n",
      "  JOURNAL   Submitted (02-OCT-1995) Morten Skaugen, IBF/LMG, Agricultural\n",
      "            University of Norway, Aas, N-1432, Norway\n",
      "  REMARK    Revised by [7]\n",
      "REFERENCE   7  (residues 1 to 925)\n",
      "  AUTHORS   Skaugen,M.\n",
      "  TITLE     Direct Submission\n",
      "  JOURNAL   Submitted (21-FEB-2001) Morten Skaugen, Agricultural University of\n",
      "            Norway, Chemistry and Biotechnology, P.O.Box 5051, N-1432 As,\n",
      "            Norway\n",
      "FEATURES             Location/Qualifiers\n",
      "     source          1..925\n",
      "                     /organism=\"Lactobacillus sakei\"\n",
      "                     /strain=\"L45\"\n",
      "                     /db_xref=\"taxon:1599\"\n",
      "                     /country=\"Norway\"\n",
      "     Protein         1..925\n",
      "                     /product=\"hypothetical protein\"\n",
      "     Region          76..865\n",
      "                     /region_name=\"LanC_like\"\n",
      "                     /note=\"Cyclases involved in the biosynthesis of\n",
      "                     lantibiotics, and similar proteins; cl04955\"\n",
      "                     /db_xref=\"CDD:322884\"\n",
      "     Site            order(749,795,845..846)\n",
      "                     /site_type=\"active\"\n",
      "                     /db_xref=\"CDD:271198\"\n",
      "     Site            order(795,845..846)\n",
      "                     /site_type=\"other\"\n",
      "                     /note=\"zinc binding site [ion binding]\"\n",
      "                     /db_xref=\"CDD:271198\"\n",
      "     CDS             1..925\n",
      "                     /gene=\"lasM\"\n",
      "                     /coded_by=\"Z54312.2:6885..9662\"\n",
      "                     /note=\"essential for lactocin S production; probably\n",
      "                     involved in post-translational peptide modification\"\n",
      "                     /citation=[1]\n",
      "                     /citation=[3]\n",
      "                     /transl_table=11\n",
      "                     /db_xref=\"InterPro:IPR007822\"\n",
      "                     /db_xref=\"InterPro:IPR017146\"\n",
      "                     /db_xref=\"UniProtKB/TrEMBL:Q48849\"\n",
      "ORIGIN      \n",
      "        1 mnefekkine lcfhytlnli fkdnlinlkk elnkfnnkne ikmnlyfsis qsiiypftdi\n",
      "       61 lldlyhtelk tnsmlgnnss erlksfvsef eqdhwekinl typvffstse livndtteyv\n",
      "      121 skilsnlind naellskfki dyqklldirl gkgdthsgks vaklmfrspd ekkfdellyk\n",
      "      181 prsnktditl krctdfiseg lninfkfpks lcnrnyswye niehvttddq vsinhyyyrs\n",
      "      241 gcllglfwil gttdihseni itnagypivi dietlskgls dsedkdvnfr litssvlssc\n",
      "      301 llpvgktfkg dsnfdfnglf pkaqigetaf eyrivtdqdl dwayemypas iknqkskvtt\n",
      "      361 nyiypeeafr plksgffdtl sfiqknstyf lkiiknnyvs rqllrdtqvy adfvhalqlp\n",
      "      421 dnlksvqnqq hilnilkdef kpskfglsrl knevqsiskw dipsfyttnt sknllnfngn\n",
      "      481 tviknfwals peeaitkrvn sinlksikyq lriidlslat fyksddlfnv snnnnnpvdi\n",
      "      541 piftqqikee yfnqldaifn psfgtskied lytlefgndv tittlqpgly nsvgfllslw\n",
      "      601 rytqtknvte eerisiqrhv ifmysqlvsp lkrykdlnid dinvsvfsgl ggllycscyl\n",
      "      661 ylstnefeyv kdikllvqii csrvlnteie elnfeylngi sgllllfqnl yknvklsniv\n",
      "      721 ggpfkkiiah lsnipfnqii neddvgighg isgkligmsv lklhgvnisn dvekkclskv\n",
      "      781 lnsisrslef nsswcrgtlg ildmllinnk lnnslytssm tnkflkkysy ginrslecqk\n",
      "      841 nismchglgg iinfitsvne tkhneivpen kffsklpnlr dtrvirssdf hpvsymlstt\n",
      "      901 glvdsilryk nnmpnmvhld ipnnv\n",
      "//\n",
      "\n",
      "\n"
     ]
    }
   ],
   "source": [
    "Entrez.email = \"jy.chen1@siat.ac.cn\"  # Always tell NCBI who you are\n",
    "handle = Entrez.efetch(db=\"protein\", id=\"CAA91110.1\", rettype=\"gb\", retmode=\"text\")\n",
    "print(handle.read())"
   ]
  },
  {
   "cell_type": "code",
   "execution_count": null,
   "metadata": {},
   "outputs": [],
   "source": []
  },
  {
   "cell_type": "code",
   "execution_count": 4,
   "metadata": {
    "collapsed": true,
    "execution": {
     "iopub.execute_input": "2020-10-29T11:46:44.590966Z",
     "iopub.status.busy": "2020-10-29T11:46:44.590568Z",
     "iopub.status.idle": "2020-10-29T11:46:44.614665Z",
     "shell.execute_reply": "2020-10-29T11:46:44.613023Z",
     "shell.execute_reply.started": "2020-10-29T11:46:44.590939Z"
    },
    "jupyter": {
     "outputs_hidden": true
    }
   },
   "outputs": [
    {
     "name": "stdout",
     "output_type": "stream",
     "text": [
      "RAI94651.1\n",
      "EDT72708.1\n",
      "PFK33802.1\n",
      "EEL36811.1\n",
      "PGF00758.1\n",
      "PGF00758.1\n",
      "VEG56514.1\n",
      "CWW17950.1\n",
      "VUW83527.1\n",
      "RUP72031.1\n",
      "BAV87096.1\n",
      "EID50684.1\n",
      "TKH80808.1\n",
      "OUB85348.1\n",
      "TID10920.1\n",
      "TID10920.1\n",
      "KZN18073.1\n",
      "RKV69772.1\n",
      "PNP90364.1\n",
      "ANC16999.1\n",
      "CAB60261.1\n",
      "SQB61380.1\n",
      "PGO30035.1\n",
      "AVQ49008.1\n",
      "TKH58930.1\n",
      "KXY70731.1\n",
      "WP_000174913.1\n",
      "WP_000174913.1\n",
      "AAK67266.1\n",
      "RJE13282.1\n",
      "AAK67266.1\n",
      "WP_000217629.1\n",
      "EEL84404.1\n",
      "EEL84404.1\n",
      "ANC16999.1\n",
      "ANC16999.1\n",
      "AKR13158.1\n",
      "AKR13158.1\n",
      "RJE13282.1\n",
      "WP_050845637.1\n",
      "RAI94651.1\n",
      "PGO30035.1\n",
      "PJZ19980.1\n",
      "ANC16999.1\n",
      "KXO02937.1\n",
      "RHG15233.1\n",
      "RHE10213.1\n",
      "PMC60262.1\n",
      "ABI63640.1\n",
      "ABK59358.1\n",
      "ADP40526.1\n",
      "REK93628.1\n",
      "WP_011129629.1\n",
      "EGQ76013.1\n",
      "PKZ95190.1\n",
      "ABI54435.1\n",
      "EGF56603.1\n",
      "BAV87096.1\n",
      "SOB73242.1\n",
      "OWT48532.1\n",
      "CUM82729.1\n",
      "AXH01252.1\n",
      "WP_000065584.1\n",
      "ANC99843.1\n",
      "VUW82091.1\n",
      "EEL64076.1\n",
      "PFV22299.1\n",
      "AXH01252.1\n",
      "PFZ09488.1\n",
      "AAC72258.1\n",
      "KXU03736.1\n",
      "AKQ51580.1\n",
      "ADA80185.1\n",
      "AAG32537.1\n",
      "RIL41019.1\n",
      "ADP40537.1\n",
      "WP_011129629.1\n",
      "ABK59358.1\n",
      "WP_002293694.1\n",
      "EOP76492.1\n",
      "VFA51021.1\n",
      "RHL16893.1\n",
      "VFA51021.1\n",
      "AAC38145.1\n",
      "ADP40526.1\n",
      "RHC94143.1\n",
      "AAB92602.1\n",
      "CAD60521.1\n",
      "ETS90568.1\n",
      "ALA86198.1\n",
      "EOP76492.1\n",
      "PJZ19980.1\n",
      "PJZ19980.1\n",
      "WP_030029254.1\n",
      "WP_030029254.1\n",
      "VUW82091.1\n",
      "OUB85348.1\n",
      "VBA37129.1\n",
      "PVF85263.1\n",
      "EJR72591.1\n",
      "EJR72591.1\n",
      "PVF85263.1\n",
      "EJR72591.1\n",
      "EJR72591.1\n",
      "OTY85316.1\n",
      "SEM35340.1\n",
      "CAA91110.1\n",
      "ADP40526.1\n",
      "ETS90568.1\n",
      "WP_050845637.1\n",
      "WP_050845637.1\n",
      "WP_050845637.1\n",
      "PGU69812.1\n",
      "ACR33053.1\n",
      "AVQ49008.1\n",
      "SQB61380.1\n",
      "RHC94143.1\n",
      "PFZ09488.1\n",
      "RWQ71005.1\n",
      "PFZ09488.1\n",
      "PGU69812.1\n",
      "PGU69805.1\n",
      "ANC22991.1\n"
     ]
    }
   ],
   "source": [
    "my_file = open(\"/mnt/d/Lab/BGCs/BGCs.txt\", \"r\")\n",
    "content = my_file.read()\n",
    "print(content)"
   ]
  },
  {
   "cell_type": "code",
   "execution_count": 5,
   "metadata": {
    "execution": {
     "iopub.execute_input": "2020-10-29T11:46:54.989528Z",
     "iopub.status.busy": "2020-10-29T11:46:54.988982Z",
     "iopub.status.idle": "2020-10-29T11:46:54.997513Z",
     "shell.execute_reply": "2020-10-29T11:46:54.995985Z",
     "shell.execute_reply.started": "2020-10-29T11:46:54.989481Z"
    }
   },
   "outputs": [
    {
     "name": "stdout",
     "output_type": "stream",
     "text": [
      "['RAI94651.1', 'EDT72708.1', 'PFK33802.1', 'EEL36811.1', 'PGF00758.1', 'PGF00758.1', 'VEG56514.1', 'CWW17950.1', 'VUW83527.1', 'RUP72031.1', 'BAV87096.1', 'EID50684.1', 'TKH80808.1', 'OUB85348.1', 'TID10920.1', 'TID10920.1', 'KZN18073.1', 'RKV69772.1', 'PNP90364.1', 'ANC16999.1', 'CAB60261.1', 'SQB61380.1', 'PGO30035.1', 'AVQ49008.1', 'TKH58930.1', 'KXY70731.1', 'WP_000174913.1', 'WP_000174913.1', 'AAK67266.1', 'RJE13282.1', 'AAK67266.1', 'WP_000217629.1', 'EEL84404.1', 'EEL84404.1', 'ANC16999.1', 'ANC16999.1', 'AKR13158.1', 'AKR13158.1', 'RJE13282.1', 'WP_050845637.1', 'RAI94651.1', 'PGO30035.1', 'PJZ19980.1', 'ANC16999.1', 'KXO02937.1', 'RHG15233.1', 'RHE10213.1', 'PMC60262.1', 'ABI63640.1', 'ABK59358.1', 'ADP40526.1', 'REK93628.1', 'WP_011129629.1', 'EGQ76013.1', 'PKZ95190.1', 'ABI54435.1', 'EGF56603.1', 'BAV87096.1', 'SOB73242.1', 'OWT48532.1', 'CUM82729.1', 'AXH01252.1', 'WP_000065584.1', 'ANC99843.1', 'VUW82091.1', 'EEL64076.1', 'PFV22299.1', 'AXH01252.1', 'PFZ09488.1', 'AAC72258.1', 'KXU03736.1', 'AKQ51580.1', 'ADA80185.1', 'AAG32537.1', 'RIL41019.1', 'ADP40537.1', 'WP_011129629.1', 'ABK59358.1', 'WP_002293694.1', 'EOP76492.1', 'VFA51021.1', 'RHL16893.1', 'VFA51021.1', 'AAC38145.1', 'ADP40526.1', 'RHC94143.1', 'AAB92602.1', 'CAD60521.1', 'ETS90568.1', 'ALA86198.1', 'EOP76492.1', 'PJZ19980.1', 'PJZ19980.1', 'WP_030029254.1', 'WP_030029254.1', 'VUW82091.1', 'OUB85348.1', 'VBA37129.1', 'PVF85263.1', 'EJR72591.1', 'EJR72591.1', 'PVF85263.1', 'EJR72591.1', 'EJR72591.1', 'OTY85316.1', 'SEM35340.1', 'CAA91110.1', 'ADP40526.1', 'ETS90568.1', 'WP_050845637.1', 'WP_050845637.1', 'WP_050845637.1', 'PGU69812.1', 'ACR33053.1', 'AVQ49008.1', 'SQB61380.1', 'RHC94143.1', 'PFZ09488.1', 'RWQ71005.1', 'PFZ09488.1', 'PGU69812.1', 'PGU69805.1', 'ANC22991.1']\n"
     ]
    }
   ],
   "source": [
    "content_list = content.split(\"\\n\")\n",
    "my_file.close()\n",
    "print(content_list)"
   ]
  },
  {
   "cell_type": "code",
   "execution_count": 6,
   "metadata": {
    "execution": {
     "iopub.execute_input": "2020-10-29T11:47:07.126269Z",
     "iopub.status.busy": "2020-10-29T11:47:07.125907Z",
     "iopub.status.idle": "2020-10-29T11:47:07.139528Z",
     "shell.execute_reply": "2020-10-29T11:47:07.137398Z",
     "shell.execute_reply.started": "2020-10-29T11:47:07.126231Z"
    }
   },
   "outputs": [
    {
     "data": {
      "text/plain": [
       "123"
      ]
     },
     "execution_count": 6,
     "metadata": {},
     "output_type": "execute_result"
    }
   ],
   "source": [
    "len(content_list)"
   ]
  },
  {
   "cell_type": "code",
   "execution_count": 7,
   "metadata": {
    "execution": {
     "iopub.execute_input": "2020-10-29T11:49:08.940980Z",
     "iopub.status.busy": "2020-10-29T11:49:08.940624Z",
     "iopub.status.idle": "2020-10-29T11:49:09.311173Z",
     "shell.execute_reply": "2020-10-29T11:49:09.309823Z",
     "shell.execute_reply.started": "2020-10-29T11:49:08.940949Z"
    }
   },
   "outputs": [],
   "source": [
    "import os\n",
    "from Bio import SeqIO\n",
    "from Bio import Entrez\n",
    "Entrez.email = \"A.N.Other@example.com\"  # Always tell NCBI who you are"
   ]
  },
  {
   "cell_type": "code",
   "execution_count": 8,
   "metadata": {
    "execution": {
     "iopub.execute_input": "2020-10-29T11:49:12.698252Z",
     "iopub.status.busy": "2020-10-29T11:49:12.697584Z",
     "iopub.status.idle": "2020-10-29T11:49:12.841378Z",
     "shell.execute_reply": "2020-10-29T11:49:12.838969Z",
     "shell.execute_reply.started": "2020-10-29T11:49:12.698187Z"
    }
   },
   "outputs": [
    {
     "name": "stdout",
     "output_type": "stream",
     "text": [
      "/mnt/d/Lab/WGS-Pipeline\n"
     ]
    }
   ],
   "source": [
    "!pwd"
   ]
  },
  {
   "cell_type": "code",
   "execution_count": 10,
   "metadata": {
    "execution": {
     "iopub.execute_input": "2020-10-29T11:49:55.994051Z",
     "iopub.status.busy": "2020-10-29T11:49:55.993578Z",
     "iopub.status.idle": "2020-10-29T11:49:56.115291Z",
     "shell.execute_reply": "2020-10-29T11:49:56.113912Z",
     "shell.execute_reply.started": "2020-10-29T11:49:55.994016Z"
    }
   },
   "outputs": [],
   "source": [
    "!cd /mnt/d/Lab/BGCs/data"
   ]
  },
  {
   "cell_type": "code",
   "execution_count": 11,
   "metadata": {
    "execution": {
     "iopub.execute_input": "2020-10-29T11:50:00.421458Z",
     "iopub.status.busy": "2020-10-29T11:50:00.421145Z",
     "iopub.status.idle": "2020-10-29T11:50:00.549215Z",
     "shell.execute_reply": "2020-10-29T11:50:00.547955Z",
     "shell.execute_reply.started": "2020-10-29T11:50:00.421429Z"
    }
   },
   "outputs": [
    {
     "name": "stdout",
     "output_type": "stream",
     "text": [
      "/mnt/d/Lab/BGCs/data\n"
     ]
    }
   ],
   "source": [
    "!pwd"
   ]
  },
  {
   "cell_type": "code",
   "execution_count": 12,
   "metadata": {
    "execution": {
     "iopub.execute_input": "2020-10-29T11:50:02.625197Z",
     "iopub.status.busy": "2020-10-29T11:50:02.624863Z",
     "iopub.status.idle": "2020-10-29T11:58:20.409490Z",
     "shell.execute_reply": "2020-10-29T11:58:20.408515Z",
     "shell.execute_reply.started": "2020-10-29T11:50:02.625169Z"
    }
   },
   "outputs": [
    {
     "name": "stdout",
     "output_type": "stream",
     "text": [
      "Saved\n",
      "Saved\n",
      "Saved\n",
      "Saved\n",
      "Saved\n",
      "Saved\n",
      "Saved\n",
      "Saved\n",
      "Saved\n",
      "Saved\n",
      "Saved\n",
      "Saved\n",
      "Saved\n",
      "Saved\n",
      "Saved\n",
      "Saved\n",
      "Saved\n",
      "Saved\n",
      "Saved\n",
      "Saved\n",
      "Saved\n",
      "Saved\n",
      "Saved\n",
      "Saved\n",
      "Saved\n",
      "Saved\n",
      "Saved\n",
      "Saved\n",
      "Saved\n",
      "Saved\n",
      "Saved\n",
      "Saved\n",
      "Saved\n",
      "Saved\n",
      "Saved\n",
      "Saved\n",
      "Saved\n",
      "Saved\n",
      "Saved\n",
      "Saved\n",
      "Saved\n",
      "Saved\n",
      "Saved\n",
      "Saved\n",
      "Saved\n",
      "Saved\n",
      "Saved\n",
      "Saved\n",
      "Saved\n",
      "Saved\n",
      "Saved\n",
      "Saved\n",
      "Saved\n",
      "Saved\n",
      "Saved\n",
      "Saved\n",
      "Saved\n",
      "Saved\n",
      "Saved\n",
      "Saved\n",
      "Saved\n",
      "Saved\n",
      "Saved\n",
      "Saved\n",
      "Saved\n",
      "Saved\n",
      "Saved\n",
      "Saved\n",
      "Saved\n",
      "Saved\n",
      "Saved\n",
      "Saved\n",
      "Saved\n",
      "Saved\n",
      "Saved\n",
      "Saved\n",
      "Saved\n",
      "Saved\n",
      "Saved\n",
      "Saved\n",
      "Saved\n",
      "Saved\n",
      "Saved\n",
      "Saved\n"
     ]
    }
   ],
   "source": [
    "for i in range(len(content_list)):\n",
    "    filename = content_list[i]+\".gbk\"\n",
    "    if not os.path.isfile(filename):\n",
    "        # Downloading...\n",
    "        net_handle = Entrez.efetch(\n",
    "            db=\"protein\", id=content_list[i], rettype=\"gb\", retmode=\"text\"\n",
    "        )\n",
    "        out_handle = open(filename, \"w\")\n",
    "        out_handle.write(net_handle.read())\n",
    "        out_handle.close()\n",
    "        net_handle.close()\n",
    "        print(\"Saved\")"
   ]
  },
  {
   "cell_type": "code",
   "execution_count": null,
   "metadata": {},
   "outputs": [],
   "source": [
    "import os\n",
    "from Bio import SeqIO\n",
    "from Bio import Entrez\n",
    "\n",
    "Entrez.email = \"A.N.Other@example.com\"  # Always tell NCBI who you are\n",
    "filename = \"EU490707.gbk\"\n",
    "if not os.path.isfile(filename):\n",
    "    # Downloading...\n",
    "    net_handle = Entrez.efetch(\n",
    "        db=\"nucleotide\", id=\"EU490707\", rettype=\"gb\", retmode=\"text\"\n",
    "    )\n",
    "    out_handle = open(filename, \"w\")\n",
    "    out_handle.write(net_handle.read())\n",
    "    out_handle.close()\n",
    "    net_handle.close()\n",
    "    print(\"Saved\")"
   ]
  }
 ],
 "metadata": {
  "kernelspec": {
   "display_name": "Bio",
   "language": "python",
   "name": "bio"
  },
  "language_info": {
   "codemirror_mode": {
    "name": "ipython",
    "version": 3
   },
   "file_extension": ".py",
   "mimetype": "text/x-python",
   "name": "python",
   "nbconvert_exporter": "python",
   "pygments_lexer": "ipython3",
   "version": "3.8.6"
  }
 },
 "nbformat": 4,
 "nbformat_minor": 4
}
