{
 "cells": [
  {
   "cell_type": "markdown",
   "metadata": {},
   "source": [
    "# PGAP"
   ]
  },
  {
   "cell_type": "markdown",
   "metadata": {},
   "source": [
    "## Prokaryotic Genome Annotation Pipeline"
   ]
  },
  {
   "cell_type": "code",
   "execution_count": 1,
   "metadata": {},
   "outputs": [
    {
     "name": "stdout",
     "output_type": "stream",
     "text": [
      "--2020-07-13 10:11:05--  https://github.com/ncbi/pgap/raw/prod/scripts/pgap.py\n",
      "Resolving github.com (github.com)... 13.229.188.59\n",
      "Connecting to github.com (github.com)|13.229.188.59|:443... connected.\n",
      "HTTP request sent, awaiting response... 302 Found\n",
      "Location: https://raw.githubusercontent.com/ncbi/pgap/prod/scripts/pgap.py [following]\n",
      "--2020-07-13 10:11:06--  https://raw.githubusercontent.com/ncbi/pgap/prod/scripts/pgap.py\n",
      "Resolving raw.githubusercontent.com (raw.githubusercontent.com)... 0.0.0.0, ::\n",
      "Connecting to raw.githubusercontent.com (raw.githubusercontent.com)|0.0.0.0|:443... failed: Connection refused.\n",
      "Connecting to raw.githubusercontent.com (raw.githubusercontent.com)|::|:443... failed: Connection refused.\n"
     ]
    },
    {
     "ename": "",
     "evalue": "4",
     "output_type": "error",
     "traceback": []
    }
   ],
   "source": [
    "wget https://github.com/ncbi/pgap/raw/prod/scripts/pgap.py"
   ]
  },
  {
   "cell_type": "markdown",
   "metadata": {},
   "source": [
    "```shell\n",
    "$ chmod +x pgap.py\n",
    "$ ./pgap.py --update # required files are downloaded and extracted\n",
    "$ ./pgap.py -r -o mg37_results test_genomes/MG37/input.yaml # watch the progress reports and wait for some time.]\n",
    "```"
   ]
  },
  {
   "cell_type": "code",
   "execution_count": null,
   "metadata": {},
   "outputs": [],
   "source": [
    "./pgap.py -r -o mg37_results test_genomes/MG37/input.yaml"
   ]
  },
  {
   "cell_type": "code",
   "execution_count": null,
   "metadata": {},
   "outputs": [],
   "source": []
  },
  {
   "cell_type": "code",
   "execution_count": null,
   "metadata": {},
   "outputs": [],
   "source": [
    "docker pull ncbi/pgap-utils:2020-06-10.build4646"
   ]
  },
  {
   "cell_type": "code",
   "execution_count": null,
   "metadata": {},
   "outputs": [],
   "source": [
    "https://s3.amazonaws.com/pgap/input-2020-06-10.build4646.tgz"
   ]
  },
  {
   "cell_type": "code",
   "execution_count": null,
   "metadata": {},
   "outputs": [],
   "source": []
  },
  {
   "cell_type": "code",
   "execution_count": null,
   "metadata": {},
   "outputs": [],
   "source": []
  },
  {
   "cell_type": "code",
   "execution_count": null,
   "metadata": {},
   "outputs": [],
   "source": []
  },
  {
   "cell_type": "markdown",
   "metadata": {},
   "source": [
    "### Retrieve Sequence Databases from NCBI"
   ]
  },
  {
   "cell_type": "code",
   "execution_count": null,
   "metadata": {},
   "outputs": [],
   "source": [
    "# retrieve a list of available sequence databases at NCBI\n",
    "biomartr::listNCBIDatabases(db = \"all\")"
   ]
  },
  {
   "cell_type": "code",
   "execution_count": null,
   "metadata": {},
   "outputs": [],
   "source": [
    "# show all NCBI nr files\n",
    "biomartr::listNCBIDatabases(db = \"nr\")"
   ]
  },
  {
   "cell_type": "code",
   "execution_count": null,
   "metadata": {},
   "outputs": [],
   "source": [
    "biomartr::download.database.all(db = \"nr\", path = \"/home/junyuchen/Databases/nr\")"
   ]
  }
 ],
 "metadata": {
  "kernelspec": {
   "display_name": "Bash",
   "language": "bash",
   "name": "bash"
  },
  "language_info": {
   "codemirror_mode": "shell",
   "file_extension": ".sh",
   "mimetype": "text/x-sh",
   "name": "bash"
  }
 },
 "nbformat": 4,
 "nbformat_minor": 4
}
