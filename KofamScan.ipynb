{
 "cells": [
  {
   "cell_type": "markdown",
   "id": "interracial-party",
   "metadata": {},
   "source": [
    "# KofamScan"
   ]
  },
  {
   "cell_type": "markdown",
   "id": "confirmed-classics",
   "metadata": {},
   "source": [
    "https://github.com/takaram/kofam_scan"
   ]
  },
  {
   "cell_type": "markdown",
   "id": "opening-samuel",
   "metadata": {},
   "source": [
    "https://academic.oup.com/bioinformatics/article/36/7/2251/5631907"
   ]
  },
  {
   "cell_type": "code",
   "execution_count": 1,
   "id": "diagnostic-martin",
   "metadata": {},
   "outputs": [],
   "source": [
    "import os\n",
    "import pandas as pd"
   ]
  },
  {
   "cell_type": "code",
   "execution_count": 2,
   "id": "copyrighted-angle",
   "metadata": {},
   "outputs": [],
   "source": [
    "import sys\n",
    "sys.path.append('./Scripts')"
   ]
  },
  {
   "cell_type": "code",
   "execution_count": 3,
   "id": "excellent-contractor",
   "metadata": {},
   "outputs": [],
   "source": [
    "from functions import *"
   ]
  },
  {
   "cell_type": "markdown",
   "id": "dried-elephant",
   "metadata": {},
   "source": [
    "### Requirment"
   ]
  },
  {
   "cell_type": "code",
   "execution_count": null,
   "id": "nonprofit-operations",
   "metadata": {},
   "outputs": [],
   "source": [
    "conda install kofamscan hmmer parallel ruby"
   ]
  },
  {
   "cell_type": "code",
   "execution_count": 8,
   "id": "local-distributor",
   "metadata": {},
   "outputs": [
    {
     "name": "stdout",
     "output_type": "stream",
     "text": [
      "# packages in environment at /home/junyuchen/Biosoft/anaconda3/envs/wgs:\n",
      "#\n",
      "# Name                    Version                   Build  Channel\n",
      "kofamscan                 1.3.0                         1    bioconda\n",
      "\n",
      "Note: you may need to restart the kernel to use updated packages.\n"
     ]
    }
   ],
   "source": [
    "conda list kofamscan"
   ]
  },
  {
   "cell_type": "code",
   "execution_count": 9,
   "id": "incorporated-sellers",
   "metadata": {},
   "outputs": [
    {
     "name": "stdout",
     "output_type": "stream",
     "text": [
      "# packages in environment at /home/junyuchen/Biosoft/anaconda3/envs/wgs:\n",
      "#\n",
      "# Name                    Version                   Build  Channel\n",
      "kofamscan                 1.3.0                         1    bioconda\n",
      "\n",
      "Note: you may need to restart the kernel to use updated packages.\n"
     ]
    }
   ],
   "source": [
    "conda list kofamscan"
   ]
  },
  {
   "cell_type": "code",
   "execution_count": 2,
   "id": "relative-clause",
   "metadata": {},
   "outputs": [
    {
     "name": "stdout",
     "output_type": "stream",
     "text": [
      "# packages in environment at /home/junyuchen/Biosoft/anaconda3/envs/wgs:\n",
      "#\n",
      "# Name                    Version                   Build  Channel\n",
      "parallel                  20201122             ha770c72_0    conda-forge\n",
      "\n",
      "Note: you may need to restart the kernel to use updated packages.\n"
     ]
    }
   ],
   "source": [
    "conda list parallel"
   ]
  },
  {
   "cell_type": "code",
   "execution_count": 3,
   "id": "working-morrison",
   "metadata": {},
   "outputs": [
    {
     "name": "stdout",
     "output_type": "stream",
     "text": [
      "# packages in environment at /home/junyuchen/Biosoft/anaconda3/envs/wgs:\n",
      "#\n",
      "# Name                    Version                   Build  Channel\n",
      "ruby                      2.7.2                he592edb_3    conda-forge\n",
      "\n",
      "Note: you may need to restart the kernel to use updated packages.\n"
     ]
    }
   ],
   "source": [
    "conda list ruby"
   ]
  },
  {
   "cell_type": "markdown",
   "id": "multiple-listening",
   "metadata": {},
   "source": [
    "### Database"
   ]
  },
  {
   "cell_type": "markdown",
   "id": "governing-midnight",
   "metadata": {},
   "source": [
    "- KOfam - HMM profiles for KEGG/KO with predefined score thresholds ([download](ftp://ftp.genome.jp/pub/db/kofam/))\n",
    "- KofamScan - Software to search KOfam ([download](ftp://ftp.genome.jp/pub/tools/kofam_scan/))"
   ]
  },
  {
   "cell_type": "markdown",
   "id": "exterior-bandwidth",
   "metadata": {},
   "source": [
    "```shell\n",
    "wget ftp://ftp.genome.jp/pub/db/kofam/ko_list.gz \n",
    "wget ftp://ftp.genome.jp/pub/db/kofam/profiles.tar.gz\n",
    "```"
   ]
  },
  {
   "cell_type": "markdown",
   "id": "assumed-wiring",
   "metadata": {},
   "source": [
    "```\n",
    "gunzip ko_list.gz\n",
    "tar -xzvf profiles.tar.gz\n",
    "```"
   ]
  },
  {
   "cell_type": "code",
   "execution_count": 5,
   "id": "exceptional-sleeping",
   "metadata": {},
   "outputs": [
    {
     "name": "stdout",
     "output_type": "stream",
     "text": [
      "total 1.2G\n",
      "drwxr-xr-x 3 junyuchen users 4.0K Feb  2 11:24 .\n",
      "drwxr-xr-x 7 junyuchen users 4.0K Feb  3 08:39 ..\n",
      "-rw-r--r-- 1 junyuchen users 2.4M Feb  2 10:47 ko_list\n",
      "-rw-r--r-- 1 junyuchen users 744K Feb  2 10:47 ko_list.gz\n",
      "drwxr-xr-x 2 junyuchen users 640K Jan 21 10:44 profiles\n",
      "-rw-r--r-- 1 junyuchen users 1.2G Feb  2 11:06 profiles.tar.gz\n"
     ]
    }
   ],
   "source": [
    "!ls /home/junyuchen/3-Resources/Databases/kofam_scan -alh"
   ]
  },
  {
   "cell_type": "markdown",
   "id": "fifty-charlotte",
   "metadata": {},
   "source": [
    "### test"
   ]
  },
  {
   "cell_type": "code",
   "execution_count": 4,
   "id": "developed-blade",
   "metadata": {},
   "outputs": [],
   "source": [
    "prefixList = [\"ER064912\", \"ERR044595\"]"
   ]
  },
  {
   "cell_type": "code",
   "execution_count": 5,
   "id": "moved-perception",
   "metadata": {},
   "outputs": [],
   "source": [
    "OutDir = \"/home/junyuchen/1-Projects/WGS-Pipeline/result/testout\""
   ]
  },
  {
   "cell_type": "code",
   "execution_count": 6,
   "id": "adolescent-columbia",
   "metadata": {},
   "outputs": [],
   "source": [
    "ProkkaDir = os.path.join(OutDir, \"prokka\")"
   ]
  },
  {
   "cell_type": "code",
   "execution_count": 7,
   "id": "painful-passion",
   "metadata": {},
   "outputs": [],
   "source": [
    "fnaList, faaList, ffnList = parseProkka(prefixList, ProkkaDir)"
   ]
  },
  {
   "cell_type": "code",
   "execution_count": 8,
   "id": "quarterly-freeze",
   "metadata": {},
   "outputs": [],
   "source": [
    "KofamScanDir = os.path.join(OutDir, \"kofam_scan\")\n",
    "if os.path.exists(KofamScanDir) == 0:\n",
    "    os.makedirs(KofamScanDir, 0o777, True)"
   ]
  },
  {
   "cell_type": "code",
   "execution_count": 9,
   "id": "proof-behalf",
   "metadata": {},
   "outputs": [
    {
     "data": {
      "text/plain": [
       "['/home/junyuchen/1-Projects/WGS-Pipeline/result/testout/prokka/ER064912/ER064912.faa',\n",
       " '/home/junyuchen/1-Projects/WGS-Pipeline/result/testout/prokka/ERR044595/ERR044595.faa']"
      ]
     },
     "execution_count": 9,
     "metadata": {},
     "output_type": "execute_result"
    }
   ],
   "source": [
    "faaList"
   ]
  },
  {
   "cell_type": "code",
   "execution_count": 10,
   "id": "binding-theater",
   "metadata": {},
   "outputs": [],
   "source": [
    "profile = \"/home/junyuchen/3-Resources/Databases/kofam_scan/profiles\"\n",
    "koList = \"/home/junyuchen/3-Resources/Databases/kofam_scan/ko_list\""
   ]
  },
  {
   "cell_type": "markdown",
   "id": "renewable-thesaurus",
   "metadata": {},
   "source": [
    "`RunKofamScanParallel(faaList, prefixList, OutDir, profile, koList, threads, jobs)`"
   ]
  },
  {
   "cell_type": "code",
   "execution_count": 11,
   "id": "narrow-stress",
   "metadata": {},
   "outputs": [
    {
     "name": "stdout",
     "output_type": "stream",
     "text": [
      "exec_annotation /home/junyuchen/1-Projects/WGS-Pipeline/result/testout/prokka/ER064912/ER064912.faa -o /home/junyuchen/1-Projects/WGS-Pipeline/result/testout/kofam_scan/ER064912_kofam_scan.tsv --profile /home/junyuchen/3-Resources/Databases/kofam_scan/profiles --ko-list /home/junyuchen/3-Resources/Databases/kofam_scan/ko_list --cpu 16 -f detail-tsv --e-value=0.01 --tmp-dir /home/junyuchen/1-Projects/WGS-Pipeline/result/testout/kofam_scan/ER064912_tmp\n",
      "exec_annotation /home/junyuchen/1-Projects/WGS-Pipeline/result/testout/prokka/ERR044595/ERR044595.faa -o /home/junyuchen/1-Projects/WGS-Pipeline/result/testout/kofam_scan/ERR044595_kofam_scan.tsv --profile /home/junyuchen/3-Resources/Databases/kofam_scan/profiles --ko-list /home/junyuchen/3-Resources/Databases/kofam_scan/ko_list --cpu 16 -f detail-tsv --e-value=0.01 --tmp-dir /home/junyuchen/1-Projects/WGS-Pipeline/result/testout/kofam_scan/ERR044595_tmp\n",
      "\n",
      "\n"
     ]
    }
   ],
   "source": [
    "RunKofamScanParallel(faaList, prefixList, KofamScanDir, profile, koList, 16, 2)"
   ]
  },
  {
   "cell_type": "code",
   "execution_count": 12,
   "id": "congressional-veteran",
   "metadata": {},
   "outputs": [
    {
     "data": {
      "text/plain": [
       "'/home/junyuchen/1-Projects/WGS-Pipeline/result/testout/kofam_scan'"
      ]
     },
     "execution_count": 12,
     "metadata": {},
     "output_type": "execute_result"
    }
   ],
   "source": [
    "KofamScanDir"
   ]
  },
  {
   "cell_type": "code",
   "execution_count": 14,
   "id": "compressed-minute",
   "metadata": {},
   "outputs": [
    {
     "name": "stdout",
     "output_type": "stream",
     "text": [
      "total 14M\n",
      "-rw-r--r-- 1 junyuchen users 6.9M Feb 10 20:37 ER064912_kofam_scan.tsv\n",
      "drwxr-xr-x 3 junyuchen users 4.0K Feb 10 20:32 ER064912_tmp\n",
      "-rw-r--r-- 1 junyuchen users 6.7M Feb 10 20:37 ERR044595_kofam_scan.tsv\n",
      "drwxr-xr-x 3 junyuchen users 4.0K Feb 10 20:32 ERR044595_tmp\n"
     ]
    }
   ],
   "source": [
    "!ls /home/junyuchen/1-Projects/WGS-Pipeline/result/testout/kofam_scan -lh"
   ]
  },
  {
   "cell_type": "markdown",
   "id": "egyptian-inside",
   "metadata": {},
   "source": [
    "> KofamScan reports database hits above the predefined score thresholds with ‘*’ marks.   \n",
    "- The predefined score threshold can be lowered (“relaxed search”) or raised (“more stringent search”) by specifying a scaling factor for the score threshold with the use of KofamScan command as follows: “exec_annotation -T 0.9 query.fasta (to lower the threshold) or exec_annotation -T 1.1 query.fasta (to be more stringent)”. \n",
    "- Users can also introduce E-value cutoff, for example, by “exec_annotation -E 0.01 query.fasta”. When both -T and -E options are used, those hits that meet both criteria are reported with ‘*’. \n",
    "- For KO families for which we cannot compute the adaptive score thresholds (due to the number of sequences smaller than three), we still provide pHMMs along the KOfam database. These pHMMs are also searchable by KofamScan/KofamKOALA, although no score thresholds are available for these pHMMs."
   ]
  },
  {
   "cell_type": "markdown",
   "id": "constitutional-vegetable",
   "metadata": {},
   "source": [
    "### result"
   ]
  },
  {
   "cell_type": "code",
   "execution_count": 12,
   "id": "immediate-score",
   "metadata": {},
   "outputs": [],
   "source": [
    "testout = \"/home/junyuchen/1-Projects/WGS-Pipeline/result/testout/kofam_scan/ER064912_kofam_scan.tsv\""
   ]
  },
  {
   "cell_type": "code",
   "execution_count": 17,
   "id": "dried-durham",
   "metadata": {},
   "outputs": [],
   "source": [
    "df = pd.read_table(testout)"
   ]
  },
  {
   "cell_type": "code",
   "execution_count": 18,
   "id": "rocky-nutrition",
   "metadata": {},
   "outputs": [
    {
     "data": {
      "text/html": [
       "<div>\n",
       "<style scoped>\n",
       "    .dataframe tbody tr th:only-of-type {\n",
       "        vertical-align: middle;\n",
       "    }\n",
       "\n",
       "    .dataframe tbody tr th {\n",
       "        vertical-align: top;\n",
       "    }\n",
       "\n",
       "    .dataframe thead th {\n",
       "        text-align: right;\n",
       "    }\n",
       "</style>\n",
       "<table border=\"1\" class=\"dataframe\">\n",
       "  <thead>\n",
       "    <tr style=\"text-align: right;\">\n",
       "      <th></th>\n",
       "      <th>#</th>\n",
       "      <th>gene name</th>\n",
       "      <th>KO</th>\n",
       "      <th>thrshld</th>\n",
       "      <th>score</th>\n",
       "      <th>E-value</th>\n",
       "      <th>KO definition</th>\n",
       "    </tr>\n",
       "  </thead>\n",
       "  <tbody>\n",
       "    <tr>\n",
       "      <th>0</th>\n",
       "      <td>#</td>\n",
       "      <td>---------</td>\n",
       "      <td>------</td>\n",
       "      <td>-------</td>\n",
       "      <td>------</td>\n",
       "      <td>---------</td>\n",
       "      <td>-------------</td>\n",
       "    </tr>\n",
       "    <tr>\n",
       "      <th>1</th>\n",
       "      <td>*</td>\n",
       "      <td>GJHCLFJP_00001</td>\n",
       "      <td>K01139</td>\n",
       "      <td>800.67</td>\n",
       "      <td>972.5</td>\n",
       "      <td>2.5e-293</td>\n",
       "      <td>GTP diphosphokinase / guanosine-3',5'-bis(diph...</td>\n",
       "    </tr>\n",
       "    <tr>\n",
       "      <th>2</th>\n",
       "      <td>NaN</td>\n",
       "      <td>GJHCLFJP_00001</td>\n",
       "      <td>K00951</td>\n",
       "      <td>683.27</td>\n",
       "      <td>653.7</td>\n",
       "      <td>7.2e-197</td>\n",
       "      <td>GTP pyrophosphokinase [EC:2.7.6.5]</td>\n",
       "    </tr>\n",
       "    <tr>\n",
       "      <th>3</th>\n",
       "      <td>NaN</td>\n",
       "      <td>GJHCLFJP_00001</td>\n",
       "      <td>K21138</td>\n",
       "      <td>251.93</td>\n",
       "      <td>140.6</td>\n",
       "      <td>1.2e-41</td>\n",
       "      <td>guanosine-3',5'-bis(diphosphate) 3'-pyrophosph...</td>\n",
       "    </tr>\n",
       "    <tr>\n",
       "      <th>4</th>\n",
       "      <td>NaN</td>\n",
       "      <td>GJHCLFJP_00001</td>\n",
       "      <td>K07816</td>\n",
       "      <td>101.27</td>\n",
       "      <td>66.1</td>\n",
       "      <td>5.7e-19</td>\n",
       "      <td>putative GTP pyrophosphokinase [EC:2.7.6.5]</td>\n",
       "    </tr>\n",
       "    <tr>\n",
       "      <th>...</th>\n",
       "      <td>...</td>\n",
       "      <td>...</td>\n",
       "      <td>...</td>\n",
       "      <td>...</td>\n",
       "      <td>...</td>\n",
       "      <td>...</td>\n",
       "      <td>...</td>\n",
       "    </tr>\n",
       "    <tr>\n",
       "      <th>75186</th>\n",
       "      <td>NaN</td>\n",
       "      <td>GJHCLFJP_02717</td>\n",
       "      <td>K09815</td>\n",
       "      <td>262.00</td>\n",
       "      <td>14.1</td>\n",
       "      <td>0.0033</td>\n",
       "      <td>zinc transport system substrate-binding protein</td>\n",
       "    </tr>\n",
       "    <tr>\n",
       "      <th>75187</th>\n",
       "      <td>NaN</td>\n",
       "      <td>GJHCLFJP_02717</td>\n",
       "      <td>K09142</td>\n",
       "      <td>79.37</td>\n",
       "      <td>12.5</td>\n",
       "      <td>0.007</td>\n",
       "      <td>methyltransferase [EC:2.1.1.-]</td>\n",
       "    </tr>\n",
       "    <tr>\n",
       "      <th>75188</th>\n",
       "      <td>NaN</td>\n",
       "      <td>GJHCLFJP_02717</td>\n",
       "      <td>K23248</td>\n",
       "      <td>185.83</td>\n",
       "      <td>12.3</td>\n",
       "      <td>0.0099</td>\n",
       "      <td>3-oxoisoapionate decarboxylase [EC:4.1.1.120]</td>\n",
       "    </tr>\n",
       "    <tr>\n",
       "      <th>75189</th>\n",
       "      <td>NaN</td>\n",
       "      <td>GJHCLFJP_02717</td>\n",
       "      <td>K01814</td>\n",
       "      <td>248.90</td>\n",
       "      <td>12.2</td>\n",
       "      <td>0.011</td>\n",
       "      <td>phosphoribosylformimino-5-aminoimidazole carbo...</td>\n",
       "    </tr>\n",
       "    <tr>\n",
       "      <th>75190</th>\n",
       "      <td>NaN</td>\n",
       "      <td>GJHCLFJP_02717</td>\n",
       "      <td>K00254</td>\n",
       "      <td>186.10</td>\n",
       "      <td>7.5</td>\n",
       "      <td>0.19</td>\n",
       "      <td>dihydroorotate dehydrogenase [EC:1.3.5.2]</td>\n",
       "    </tr>\n",
       "  </tbody>\n",
       "</table>\n",
       "<p>75191 rows × 7 columns</p>\n",
       "</div>"
      ],
      "text/plain": [
       "         #       gene name      KO  thrshld   score    E-value  \\\n",
       "0        #       ---------  ------  -------  ------  ---------   \n",
       "1        *  GJHCLFJP_00001  K01139   800.67   972.5   2.5e-293   \n",
       "2      NaN  GJHCLFJP_00001  K00951   683.27   653.7   7.2e-197   \n",
       "3      NaN  GJHCLFJP_00001  K21138   251.93   140.6    1.2e-41   \n",
       "4      NaN  GJHCLFJP_00001  K07816   101.27    66.1    5.7e-19   \n",
       "...    ...             ...     ...      ...     ...        ...   \n",
       "75186  NaN  GJHCLFJP_02717  K09815   262.00    14.1     0.0033   \n",
       "75187  NaN  GJHCLFJP_02717  K09142    79.37    12.5      0.007   \n",
       "75188  NaN  GJHCLFJP_02717  K23248   185.83    12.3     0.0099   \n",
       "75189  NaN  GJHCLFJP_02717  K01814   248.90    12.2      0.011   \n",
       "75190  NaN  GJHCLFJP_02717  K00254   186.10     7.5       0.19   \n",
       "\n",
       "                                           KO definition  \n",
       "0                                          -------------  \n",
       "1      GTP diphosphokinase / guanosine-3',5'-bis(diph...  \n",
       "2                     GTP pyrophosphokinase [EC:2.7.6.5]  \n",
       "3      guanosine-3',5'-bis(diphosphate) 3'-pyrophosph...  \n",
       "4            putative GTP pyrophosphokinase [EC:2.7.6.5]  \n",
       "...                                                  ...  \n",
       "75186    zinc transport system substrate-binding protein  \n",
       "75187                     methyltransferase [EC:2.1.1.-]  \n",
       "75188      3-oxoisoapionate decarboxylase [EC:4.1.1.120]  \n",
       "75189  phosphoribosylformimino-5-aminoimidazole carbo...  \n",
       "75190          dihydroorotate dehydrogenase [EC:1.3.5.2]  \n",
       "\n",
       "[75191 rows x 7 columns]"
      ]
     },
     "execution_count": 18,
     "metadata": {},
     "output_type": "execute_result"
    }
   ],
   "source": [
    "df"
   ]
  },
  {
   "cell_type": "code",
   "execution_count": 20,
   "id": "optional-proportion",
   "metadata": {},
   "outputs": [],
   "source": [
    "df1 = df.loc[df[\"#\"] == \"*\"]"
   ]
  },
  {
   "cell_type": "code",
   "execution_count": 28,
   "id": "minimal-korean",
   "metadata": {},
   "outputs": [],
   "source": [
    "df1 = df1.reset_index()"
   ]
  },
  {
   "cell_type": "code",
   "execution_count": 29,
   "id": "transsexual-costume",
   "metadata": {},
   "outputs": [
    {
     "data": {
      "text/html": [
       "<div>\n",
       "<style scoped>\n",
       "    .dataframe tbody tr th:only-of-type {\n",
       "        vertical-align: middle;\n",
       "    }\n",
       "\n",
       "    .dataframe tbody tr th {\n",
       "        vertical-align: top;\n",
       "    }\n",
       "\n",
       "    .dataframe thead th {\n",
       "        text-align: right;\n",
       "    }\n",
       "</style>\n",
       "<table border=\"1\" class=\"dataframe\">\n",
       "  <thead>\n",
       "    <tr style=\"text-align: right;\">\n",
       "      <th></th>\n",
       "      <th>index</th>\n",
       "      <th>#</th>\n",
       "      <th>gene name</th>\n",
       "      <th>KO</th>\n",
       "      <th>thrshld</th>\n",
       "      <th>score</th>\n",
       "      <th>E-value</th>\n",
       "      <th>KO definition</th>\n",
       "    </tr>\n",
       "  </thead>\n",
       "  <tbody>\n",
       "    <tr>\n",
       "      <th>0</th>\n",
       "      <td>1</td>\n",
       "      <td>*</td>\n",
       "      <td>GJHCLFJP_00001</td>\n",
       "      <td>K01139</td>\n",
       "      <td>800.67</td>\n",
       "      <td>972.5</td>\n",
       "      <td>2.5e-293</td>\n",
       "      <td>GTP diphosphokinase / guanosine-3',5'-bis(diph...</td>\n",
       "    </tr>\n",
       "    <tr>\n",
       "      <th>1</th>\n",
       "      <td>9</td>\n",
       "      <td>*</td>\n",
       "      <td>GJHCLFJP_00002</td>\n",
       "      <td>K07560</td>\n",
       "      <td>42.83</td>\n",
       "      <td>203.2</td>\n",
       "      <td>8.3e-61</td>\n",
       "      <td>D-aminoacyl-tRNA deacylase [EC:3.1.1.96]</td>\n",
       "    </tr>\n",
       "    <tr>\n",
       "      <th>2</th>\n",
       "      <td>10</td>\n",
       "      <td>*</td>\n",
       "      <td>GJHCLFJP_00003</td>\n",
       "      <td>K01448</td>\n",
       "      <td>35.80</td>\n",
       "      <td>197.6</td>\n",
       "      <td>5.4e-59</td>\n",
       "      <td>N-acetylmuramoyl-L-alanine amidase [EC:3.5.1.28]</td>\n",
       "    </tr>\n",
       "    <tr>\n",
       "      <th>3</th>\n",
       "      <td>13</td>\n",
       "      <td>*</td>\n",
       "      <td>GJHCLFJP_00004</td>\n",
       "      <td>K01892</td>\n",
       "      <td>274.40</td>\n",
       "      <td>368.4</td>\n",
       "      <td>1e-110</td>\n",
       "      <td>histidyl-tRNA synthetase [EC:6.1.1.21]</td>\n",
       "    </tr>\n",
       "    <tr>\n",
       "      <th>4</th>\n",
       "      <td>20</td>\n",
       "      <td>*</td>\n",
       "      <td>GJHCLFJP_00005</td>\n",
       "      <td>K01876</td>\n",
       "      <td>317.53</td>\n",
       "      <td>900.7</td>\n",
       "      <td>1.5e-271</td>\n",
       "      <td>aspartyl-tRNA synthetase [EC:6.1.1.12]</td>\n",
       "    </tr>\n",
       "    <tr>\n",
       "      <th>...</th>\n",
       "      <td>...</td>\n",
       "      <td>...</td>\n",
       "      <td>...</td>\n",
       "      <td>...</td>\n",
       "      <td>...</td>\n",
       "      <td>...</td>\n",
       "      <td>...</td>\n",
       "      <td>...</td>\n",
       "    </tr>\n",
       "    <tr>\n",
       "      <th>1628</th>\n",
       "      <td>75154</td>\n",
       "      <td>*</td>\n",
       "      <td>GJHCLFJP_02705</td>\n",
       "      <td>K03427</td>\n",
       "      <td>112.67</td>\n",
       "      <td>474.6</td>\n",
       "      <td>8.9e-143</td>\n",
       "      <td>type I restriction enzyme M protein [EC:2.1.1.72]</td>\n",
       "    </tr>\n",
       "    <tr>\n",
       "      <th>1629</th>\n",
       "      <td>75176</td>\n",
       "      <td>*</td>\n",
       "      <td>GJHCLFJP_02711</td>\n",
       "      <td>K07485</td>\n",
       "      <td>102.97</td>\n",
       "      <td>266.2</td>\n",
       "      <td>9.4e-80</td>\n",
       "      <td>transposase</td>\n",
       "    </tr>\n",
       "    <tr>\n",
       "      <th>1630</th>\n",
       "      <td>75177</td>\n",
       "      <td>*</td>\n",
       "      <td>GJHCLFJP_02712</td>\n",
       "      <td>K07493</td>\n",
       "      <td>55.47</td>\n",
       "      <td>338.6</td>\n",
       "      <td>1.2e-101</td>\n",
       "      <td>putative transposase</td>\n",
       "    </tr>\n",
       "    <tr>\n",
       "      <th>1631</th>\n",
       "      <td>75181</td>\n",
       "      <td>*</td>\n",
       "      <td>GJHCLFJP_02716</td>\n",
       "      <td>K07491</td>\n",
       "      <td>14.90</td>\n",
       "      <td>90.3</td>\n",
       "      <td>2.7e-26</td>\n",
       "      <td>putative transposase</td>\n",
       "    </tr>\n",
       "    <tr>\n",
       "      <th>1632</th>\n",
       "      <td>75182</td>\n",
       "      <td>*</td>\n",
       "      <td>GJHCLFJP_02717</td>\n",
       "      <td>K01619</td>\n",
       "      <td>47.57</td>\n",
       "      <td>321.7</td>\n",
       "      <td>1.1e-96</td>\n",
       "      <td>deoxyribose-phosphate aldolase [EC:4.1.2.4]</td>\n",
       "    </tr>\n",
       "  </tbody>\n",
       "</table>\n",
       "<p>1633 rows × 8 columns</p>\n",
       "</div>"
      ],
      "text/plain": [
       "      index  #       gene name      KO thrshld  score   E-value  \\\n",
       "0         1  *  GJHCLFJP_00001  K01139  800.67  972.5  2.5e-293   \n",
       "1         9  *  GJHCLFJP_00002  K07560   42.83  203.2   8.3e-61   \n",
       "2        10  *  GJHCLFJP_00003  K01448   35.80  197.6   5.4e-59   \n",
       "3        13  *  GJHCLFJP_00004  K01892  274.40  368.4    1e-110   \n",
       "4        20  *  GJHCLFJP_00005  K01876  317.53  900.7  1.5e-271   \n",
       "...     ... ..             ...     ...     ...    ...       ...   \n",
       "1628  75154  *  GJHCLFJP_02705  K03427  112.67  474.6  8.9e-143   \n",
       "1629  75176  *  GJHCLFJP_02711  K07485  102.97  266.2   9.4e-80   \n",
       "1630  75177  *  GJHCLFJP_02712  K07493   55.47  338.6  1.2e-101   \n",
       "1631  75181  *  GJHCLFJP_02716  K07491   14.90   90.3   2.7e-26   \n",
       "1632  75182  *  GJHCLFJP_02717  K01619   47.57  321.7   1.1e-96   \n",
       "\n",
       "                                          KO definition  \n",
       "0     GTP diphosphokinase / guanosine-3',5'-bis(diph...  \n",
       "1              D-aminoacyl-tRNA deacylase [EC:3.1.1.96]  \n",
       "2      N-acetylmuramoyl-L-alanine amidase [EC:3.5.1.28]  \n",
       "3                histidyl-tRNA synthetase [EC:6.1.1.21]  \n",
       "4                aspartyl-tRNA synthetase [EC:6.1.1.12]  \n",
       "...                                                 ...  \n",
       "1628  type I restriction enzyme M protein [EC:2.1.1.72]  \n",
       "1629                                        transposase  \n",
       "1630                               putative transposase  \n",
       "1631                               putative transposase  \n",
       "1632        deoxyribose-phosphate aldolase [EC:4.1.2.4]  \n",
       "\n",
       "[1633 rows x 8 columns]"
      ]
     },
     "execution_count": 29,
     "metadata": {},
     "output_type": "execute_result"
    }
   ],
   "source": [
    "df1"
   ]
  },
  {
   "cell_type": "code",
   "execution_count": 26,
   "id": "pacific-ratio",
   "metadata": {},
   "outputs": [],
   "source": [
    "df2 = df.dropna(subset=[\"#\"])"
   ]
  },
  {
   "cell_type": "code",
   "execution_count": 27,
   "id": "floppy-lebanon",
   "metadata": {},
   "outputs": [
    {
     "data": {
      "text/html": [
       "<div>\n",
       "<style scoped>\n",
       "    .dataframe tbody tr th:only-of-type {\n",
       "        vertical-align: middle;\n",
       "    }\n",
       "\n",
       "    .dataframe tbody tr th {\n",
       "        vertical-align: top;\n",
       "    }\n",
       "\n",
       "    .dataframe thead th {\n",
       "        text-align: right;\n",
       "    }\n",
       "</style>\n",
       "<table border=\"1\" class=\"dataframe\">\n",
       "  <thead>\n",
       "    <tr style=\"text-align: right;\">\n",
       "      <th></th>\n",
       "      <th>#</th>\n",
       "      <th>gene name</th>\n",
       "      <th>KO</th>\n",
       "      <th>thrshld</th>\n",
       "      <th>score</th>\n",
       "      <th>E-value</th>\n",
       "      <th>KO definition</th>\n",
       "    </tr>\n",
       "  </thead>\n",
       "  <tbody>\n",
       "    <tr>\n",
       "      <th>0</th>\n",
       "      <td>#</td>\n",
       "      <td>---------</td>\n",
       "      <td>------</td>\n",
       "      <td>-------</td>\n",
       "      <td>------</td>\n",
       "      <td>---------</td>\n",
       "      <td>-------------</td>\n",
       "    </tr>\n",
       "    <tr>\n",
       "      <th>1</th>\n",
       "      <td>*</td>\n",
       "      <td>GJHCLFJP_00001</td>\n",
       "      <td>K01139</td>\n",
       "      <td>800.67</td>\n",
       "      <td>972.5</td>\n",
       "      <td>2.5e-293</td>\n",
       "      <td>GTP diphosphokinase / guanosine-3',5'-bis(diph...</td>\n",
       "    </tr>\n",
       "    <tr>\n",
       "      <th>9</th>\n",
       "      <td>*</td>\n",
       "      <td>GJHCLFJP_00002</td>\n",
       "      <td>K07560</td>\n",
       "      <td>42.83</td>\n",
       "      <td>203.2</td>\n",
       "      <td>8.3e-61</td>\n",
       "      <td>D-aminoacyl-tRNA deacylase [EC:3.1.1.96]</td>\n",
       "    </tr>\n",
       "    <tr>\n",
       "      <th>10</th>\n",
       "      <td>*</td>\n",
       "      <td>GJHCLFJP_00003</td>\n",
       "      <td>K01448</td>\n",
       "      <td>35.80</td>\n",
       "      <td>197.6</td>\n",
       "      <td>5.4e-59</td>\n",
       "      <td>N-acetylmuramoyl-L-alanine amidase [EC:3.5.1.28]</td>\n",
       "    </tr>\n",
       "    <tr>\n",
       "      <th>13</th>\n",
       "      <td>*</td>\n",
       "      <td>GJHCLFJP_00004</td>\n",
       "      <td>K01892</td>\n",
       "      <td>274.40</td>\n",
       "      <td>368.4</td>\n",
       "      <td>1e-110</td>\n",
       "      <td>histidyl-tRNA synthetase [EC:6.1.1.21]</td>\n",
       "    </tr>\n",
       "    <tr>\n",
       "      <th>...</th>\n",
       "      <td>...</td>\n",
       "      <td>...</td>\n",
       "      <td>...</td>\n",
       "      <td>...</td>\n",
       "      <td>...</td>\n",
       "      <td>...</td>\n",
       "      <td>...</td>\n",
       "    </tr>\n",
       "    <tr>\n",
       "      <th>75154</th>\n",
       "      <td>*</td>\n",
       "      <td>GJHCLFJP_02705</td>\n",
       "      <td>K03427</td>\n",
       "      <td>112.67</td>\n",
       "      <td>474.6</td>\n",
       "      <td>8.9e-143</td>\n",
       "      <td>type I restriction enzyme M protein [EC:2.1.1.72]</td>\n",
       "    </tr>\n",
       "    <tr>\n",
       "      <th>75176</th>\n",
       "      <td>*</td>\n",
       "      <td>GJHCLFJP_02711</td>\n",
       "      <td>K07485</td>\n",
       "      <td>102.97</td>\n",
       "      <td>266.2</td>\n",
       "      <td>9.4e-80</td>\n",
       "      <td>transposase</td>\n",
       "    </tr>\n",
       "    <tr>\n",
       "      <th>75177</th>\n",
       "      <td>*</td>\n",
       "      <td>GJHCLFJP_02712</td>\n",
       "      <td>K07493</td>\n",
       "      <td>55.47</td>\n",
       "      <td>338.6</td>\n",
       "      <td>1.2e-101</td>\n",
       "      <td>putative transposase</td>\n",
       "    </tr>\n",
       "    <tr>\n",
       "      <th>75181</th>\n",
       "      <td>*</td>\n",
       "      <td>GJHCLFJP_02716</td>\n",
       "      <td>K07491</td>\n",
       "      <td>14.90</td>\n",
       "      <td>90.3</td>\n",
       "      <td>2.7e-26</td>\n",
       "      <td>putative transposase</td>\n",
       "    </tr>\n",
       "    <tr>\n",
       "      <th>75182</th>\n",
       "      <td>*</td>\n",
       "      <td>GJHCLFJP_02717</td>\n",
       "      <td>K01619</td>\n",
       "      <td>47.57</td>\n",
       "      <td>321.7</td>\n",
       "      <td>1.1e-96</td>\n",
       "      <td>deoxyribose-phosphate aldolase [EC:4.1.2.4]</td>\n",
       "    </tr>\n",
       "  </tbody>\n",
       "</table>\n",
       "<p>1634 rows × 7 columns</p>\n",
       "</div>"
      ],
      "text/plain": [
       "       #       gene name      KO  thrshld   score    E-value  \\\n",
       "0      #       ---------  ------  -------  ------  ---------   \n",
       "1      *  GJHCLFJP_00001  K01139   800.67   972.5   2.5e-293   \n",
       "9      *  GJHCLFJP_00002  K07560    42.83   203.2    8.3e-61   \n",
       "10     *  GJHCLFJP_00003  K01448    35.80   197.6    5.4e-59   \n",
       "13     *  GJHCLFJP_00004  K01892   274.40   368.4     1e-110   \n",
       "...   ..             ...     ...      ...     ...        ...   \n",
       "75154  *  GJHCLFJP_02705  K03427   112.67   474.6   8.9e-143   \n",
       "75176  *  GJHCLFJP_02711  K07485   102.97   266.2    9.4e-80   \n",
       "75177  *  GJHCLFJP_02712  K07493    55.47   338.6   1.2e-101   \n",
       "75181  *  GJHCLFJP_02716  K07491    14.90    90.3    2.7e-26   \n",
       "75182  *  GJHCLFJP_02717  K01619    47.57   321.7    1.1e-96   \n",
       "\n",
       "                                           KO definition  \n",
       "0                                          -------------  \n",
       "1      GTP diphosphokinase / guanosine-3',5'-bis(diph...  \n",
       "9               D-aminoacyl-tRNA deacylase [EC:3.1.1.96]  \n",
       "10      N-acetylmuramoyl-L-alanine amidase [EC:3.5.1.28]  \n",
       "13                histidyl-tRNA synthetase [EC:6.1.1.21]  \n",
       "...                                                  ...  \n",
       "75154  type I restriction enzyme M protein [EC:2.1.1.72]  \n",
       "75176                                        transposase  \n",
       "75177                               putative transposase  \n",
       "75181                               putative transposase  \n",
       "75182        deoxyribose-phosphate aldolase [EC:4.1.2.4]  \n",
       "\n",
       "[1634 rows x 7 columns]"
      ]
     },
     "execution_count": 27,
     "metadata": {},
     "output_type": "execute_result"
    }
   ],
   "source": [
    "df2"
   ]
  },
  {
   "cell_type": "code",
   "execution_count": null,
   "id": "acknowledged-dictionary",
   "metadata": {},
   "outputs": [],
   "source": []
  }
 ],
 "metadata": {
  "kernelspec": {
   "display_name": "wgs",
   "language": "python",
   "name": "wgs"
  },
  "language_info": {
   "codemirror_mode": {
    "name": "ipython",
    "version": 3
   },
   "file_extension": ".py",
   "mimetype": "text/x-python",
   "name": "python",
   "nbconvert_exporter": "python",
   "pygments_lexer": "ipython3",
   "version": "3.7.9"
  }
 },
 "nbformat": 4,
 "nbformat_minor": 5
}
