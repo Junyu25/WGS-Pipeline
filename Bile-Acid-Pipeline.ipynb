{
 "cells": [
  {
   "cell_type": "code",
   "execution_count": null,
   "metadata": {},
   "outputs": [],
   "source": [
    "import os\n",
    "import argparse\n",
    "import subprocess\n",
    "import pandas as pd\n",
    "from itertools import repeat\n",
    "from multiprocessing import Pool, freeze_support"
   ]
  },
  {
   "cell_type": "markdown",
   "metadata": {},
   "source": [
    "```shell\n",
    "prodigal -i /mnt/d/Lab/Bile-Acid/rawdata/GCF_000154445.1_ASM15444v1_genomic.fna -o /mnt/d/Lab/Bile-Acid/result/prodigal/GCF_000154445.1_ASM15444v1_genomic.gff -a /mnt/d/Lab/Bile-Acid/result/prodigal/GCF_000154445.1_ASM15444v1_genomic.faa -f gff\n",
    "```"
   ]
  },
  {
   "cell_type": "code",
   "execution_count": null,
   "metadata": {},
   "outputs": [],
   "source": [
    "def RunProdigal(genomeFile, gffOut, faaOut):\n",
    "    cmd = \"prodigal -i \" + genomeFile + \" -o \" + os.path.join(outputDir, gffOut) + \" -a \" + os.path.join(outputDir, faaOut) + \" -f gff\"\n",
    "    subprocess.call(cmd, shell=True)"
   ]
  },
  {
   "cell_type": "code",
   "execution_count": null,
   "metadata": {},
   "outputs": [],
   "source": [
    "def RunProdigalParallel(genomeFileList, gffOutList, faaOutList, njobs):\n",
    "    pool = Pool(processes=njobs)\n",
    "    pool.starmap(RunProdigal, zip(genomeFileList, gffOutList,  faaOutList))\n",
    "    pool.close()\n",
    "    pool.join()\n",
    "    pool.terminate()"
   ]
  },
  {
   "cell_type": "markdown",
   "metadata": {},
   "source": [
    "```shell\n",
    "hmmsearch --cpu 4 --tblout /mnt/d/Lab/Bile-Acid/result/hmmer/GCF_000154445.1_ASM15444v1_genomic.tbl /mnt/d/Lab/Bile-Acid/phmm/CBAH.hmm /mnt/d/Lab/Bile-Acid/result/prodigal/GCF_000154445.1_ASM15444v1_genomic.faa > /dev/null\n",
    "```"
   ]
  },
  {
   "cell_type": "code",
   "execution_count": null,
   "metadata": {},
   "outputs": [],
   "source": [
    "def RunHMMer(fastaFile, hmmFile, hmmOut, ncpus=4):\n",
    "    cmd = \"hmmsearch --tblout \" + hmmOut + \" \" + os.path.join(outputDir, fastaFile) + \" \" + os.path.join(outputDir, hmmFile) + \" --cpu \" + str(ncpus)\n",
    "    subprocess.call(cmd, shell=True)"
   ]
  },
  {
   "cell_type": "code",
   "execution_count": null,
   "metadata": {},
   "outputs": [],
   "source": [
    "def RunHMMerParallel(fastaFileList, hmmFile, hmmOutList, ncpus, njobs):\n",
    "    pool = Pool(processes=njobs)\n",
    "    pool.starmap(RunHMMer, zip(fastaFileList, repeat(hmmFile), hmmOutList, repeat(ncpus)))\n",
    "    pool.close()\n",
    "    pool.join()\n",
    "    pool.terminate()"
   ]
  },
  {
   "cell_type": "code",
   "execution_count": null,
   "metadata": {},
   "outputs": [],
   "source": [
    "#Run Spades on a directory\n",
    "def RunSpadesDirectory(inputDir, outputDir):\n",
    "    genomeFileList = []\n",
    "    gffOutList = []\n",
    "    faaOutList = []\n",
    "    hmmOutList = []\n",
    "    for subdir, dirs, files in os.walk(inputDir):\n",
    "        genomeFile = \"\"\n",
    "        gffOut = \"\"\n",
    "        faaOut = \"\"\n",
    "        hmmOut = \"\"\n",
    "        for file in files:\n",
    "            if file.endswith(\".fna\"):\n",
    "                genomeFile = os.path.join(subdir, file)\n",
    "                genomeFileList.append(genomeFile)\n",
    "                #outFile\n",
    "                gffOut = os.path.join(outputDir, file, \".gff\")\n",
    "                faaOut = os.path.join(outputDir, file, \".faa\")\n",
    "                hmmOut = os.path.join(outputDir, file, \".tbl\")\n",
    "                #outFileList\n",
    "                gffOutList.append(gffOut)\n",
    "                faaOutList.append(faaOut)\n",
    "                hmmOutList.append(hmmOut)\n",
    "    RunProdigalParallel(genomeFileList, gffOutList, faaOutList, njobs)\n",
    "    RunHMMerParallel(faaOutList, hmmFile, hmmOutList, ncpus, njobs)"
   ]
  },
  {
   "cell_type": "code",
   "execution_count": null,
   "metadata": {},
   "outputs": [],
   "source": []
  },
  {
   "cell_type": "code",
   "execution_count": null,
   "metadata": {},
   "outputs": [],
   "source": [
    "python /mnt/d/Lab/WGS-Pipeline/BileAcid.py -i mnt/d/Lab/Bile-Acid/rawdata -o /mnt/d/Lab/Bile-Acid/result/test-2020-10-20"
   ]
  },
  {
   "cell_type": "code",
   "execution_count": null,
   "metadata": {},
   "outputs": [],
   "source": []
  },
  {
   "cell_type": "code",
   "execution_count": null,
   "metadata": {},
   "outputs": [],
   "source": []
  },
  {
   "cell_type": "code",
   "execution_count": null,
   "metadata": {},
   "outputs": [],
   "source": []
  },
  {
   "cell_type": "code",
   "execution_count": null,
   "metadata": {},
   "outputs": [],
   "source": [
    "def RunDiamondParallel(fastaList, db, jobs, threads, outFileList):\n",
    "    pool = Pool(processes=jobs)\n",
    "    pool.starmap(RunDiamond, zip(fastaList, repeat(db), repeat(threads), outFileList))\n",
    "    pool.close()\n",
    "    pool.join()\n",
    "    pool.terminate()\n",
    "\n",
    "def RunDiamond(fasta, db, threads, OutFile):\n",
    "    cmd = \"diamond blastx -q \" + fasta  + \" -o \" + OutFile + \" --evalue 1.0 --max-target-seqs 1 --outfmt 6 --db \" + db + \" -p \" + str(threads) \n",
    "    subprocess.call(cmd, shell=True)"
   ]
  },
  {
   "cell_type": "markdown",
   "metadata": {},
   "source": [
    "### Bio.SearchIO.HmmerIO package"
   ]
  },
  {
   "cell_type": "markdown",
   "metadata": {},
   "source": [
    "https://biopython.org/docs/1.75/api/Bio.SearchIO.HmmerIO.html"
   ]
  },
  {
   "cell_type": "code",
   "execution_count": null,
   "metadata": {},
   "outputs": [],
   "source": []
  }
 ],
 "metadata": {
  "kernelspec": {
   "display_name": "Python 3",
   "language": "python",
   "name": "python3"
  },
  "language_info": {
   "codemirror_mode": {
    "name": "ipython",
    "version": 3
   },
   "file_extension": ".py",
   "mimetype": "text/x-python",
   "name": "python",
   "nbconvert_exporter": "python",
   "pygments_lexer": "ipython3",
   "version": "3.8.3"
  }
 },
 "nbformat": 4,
 "nbformat_minor": 4
}
