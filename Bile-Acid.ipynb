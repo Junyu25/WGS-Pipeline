{
 "cells": [
  {
   "cell_type": "markdown",
   "id": "intended-leonard",
   "metadata": {},
   "source": [
    "# Bile-Acid"
   ]
  },
  {
   "cell_type": "markdown",
   "id": "convinced-bruce",
   "metadata": {},
   "source": [
    "Secondary bile acid biosynthesis - [Reference pathway](https://www.genome.jp/kegg-bin/show_pathway?map00121)"
   ]
  },
  {
   "cell_type": "markdown",
   "id": "joint-player",
   "metadata": {},
   "source": [
    "|KO                          |Full_name                                                        |Short_name|\n",
    "|----------------------------|-----------------------------------------------------------------|----------|\n",
    "|K22604                      |3alpha-hydroxycholanate dehydrogenase (NAD+) [EC:1.1.1.52]       |3aHSDH    |\n",
    "|K22606                      |3beta-hydroxycholanate 3-dehydrogenase (NAD+) [EC:1.1.1.391]     |3bHSDH    |\n",
    "|K22607                      |3beta-hydroxycholanate 3-dehydrogenase (NADP+) [EC:1.1.1.393]    |3bHSDH    |\n",
    "|K00076                      |7-alpha-hydroxysteroid dehydrogenase [EC:1.1.1.159]              |7aHSDH    |\n",
    "|K23231                      |7beta-hydroxysteroid dehydrogenase (NADP+) [EC:1.1.1.201]        |7bHSDH    |\n",
    "|K15869                      |3alpha-hydroxy bile acid-CoA-ester 3-dehydrogenase [EC:1.1.1.395]|baiA      |\n",
    "|K22605                      |3alpha-hydroxycholanate dehydrogenase (NADP+) [EC:1.1.1.392]     |baiA      |\n",
    "|K15868                      |bile acid-coenzyme A ligase [EC:6.2.1.7]                         |baiB      |\n",
    "|K15870                      |3-oxocholoyl-CoA 4-desaturase [EC:1.3.1.115]                     |baiCD     |\n",
    "|K15872                      |bile-acid 7alpha-dehydratase [EC:4.2.1.106]                      |baiE      |\n",
    "|K15871                      |bile acid CoA-transferase [EC:2.8.3.25]                          |baiF      |\n",
    "|K15873                      |7beta-hydroxy-3-oxochol-24-oyl-CoA 4-desaturase [EC:1.3.1.116]   |baiH      |\n",
    "|K15874                      |bile acid 7beta-dehydratase                                      |baiI      |\n",
    "|K07007                      |3-dehydro-bile acid Delta4,6-reductase [EC:1.3.1.114]            |baiN      |\n",
    "|K01442                      |choloylglycine hydrolase [EC:3.5.1.24]                           |BSH       |\n"
   ]
  },
  {
   "cell_type": "code",
   "execution_count": 2,
   "id": "northern-montana",
   "metadata": {},
   "outputs": [
    {
     "name": "stdout",
     "output_type": "stream",
     "text": [
      "K00076.hmm  K15868.hmm\tK15871.hmm  K15874.hmm\tK22606.hmm\n",
      "K01442.hmm  K15869.hmm\tK15872.hmm  K22604.hmm\tK22607.hmm\n",
      "K07007.hmm  K15870.hmm\tK15873.hmm  K22605.hmm\tK23231.hmm\n"
     ]
    }
   ],
   "source": [
    "!ls /home/junyuchen/1-Projects/WGS-Pipeline/database/bile_acid"
   ]
  },
  {
   "cell_type": "markdown",
   "id": "hungarian-gossip",
   "metadata": {},
   "source": [
    "### test"
   ]
  },
  {
   "cell_type": "code",
   "execution_count": 1,
   "id": "egyptian-bidder",
   "metadata": {},
   "outputs": [],
   "source": [
    "import os\n",
    "import pandas as pd"
   ]
  },
  {
   "cell_type": "code",
   "execution_count": 2,
   "id": "incorporate-litigation",
   "metadata": {},
   "outputs": [],
   "source": [
    "import sys\n",
    "sys.path.append('./Scripts')"
   ]
  },
  {
   "cell_type": "code",
   "execution_count": 3,
   "id": "prepared-science",
   "metadata": {},
   "outputs": [],
   "source": [
    "from functions import *"
   ]
  },
  {
   "cell_type": "code",
   "execution_count": 4,
   "id": "literary-interest",
   "metadata": {},
   "outputs": [],
   "source": [
    "prefixList = [\"ER064912\", \"ERR044595\"]"
   ]
  },
  {
   "cell_type": "code",
   "execution_count": 5,
   "id": "organized-gravity",
   "metadata": {},
   "outputs": [],
   "source": [
    "OutDir = \"/home/junyuchen/1-Projects/WGS-Pipeline/result/testout\""
   ]
  },
  {
   "cell_type": "code",
   "execution_count": 6,
   "id": "alternate-lancaster",
   "metadata": {},
   "outputs": [],
   "source": [
    "ProkkaDir = os.path.join(OutDir, \"prokka\")"
   ]
  },
  {
   "cell_type": "code",
   "execution_count": 7,
   "id": "unauthorized-laptop",
   "metadata": {},
   "outputs": [],
   "source": [
    "fnaList, faaList, ffnList = parseProkka(prefixList, ProkkaDir)"
   ]
  },
  {
   "cell_type": "code",
   "execution_count": 8,
   "id": "functioning-status",
   "metadata": {},
   "outputs": [],
   "source": [
    "BileAcidDir = os.path.join(OutDir, \"bile_acid\")\n",
    "if os.path.exists(BileAcidDir) == 0:\n",
    "    os.makedirs(BileAcidDir, 0o777, True)"
   ]
  },
  {
   "cell_type": "code",
   "execution_count": 9,
   "id": "informational-spectacular",
   "metadata": {},
   "outputs": [
    {
     "data": {
      "text/plain": [
       "['/home/junyuchen/1-Projects/WGS-Pipeline/result/testout/prokka/ER064912/ER064912.faa',\n",
       " '/home/junyuchen/1-Projects/WGS-Pipeline/result/testout/prokka/ERR044595/ERR044595.faa']"
      ]
     },
     "execution_count": 9,
     "metadata": {},
     "output_type": "execute_result"
    }
   ],
   "source": [
    "faaList"
   ]
  },
  {
   "cell_type": "code",
   "execution_count": 10,
   "id": "written-startup",
   "metadata": {},
   "outputs": [],
   "source": [
    "profile = \"/home/junyuchen/1-Projects/WGS-Pipeline/database/bile_acid\"\n",
    "koList = \"/home/junyuchen/1-Projects/WGS-Pipeline/database/bile_acid_ko_list\""
   ]
  },
  {
   "cell_type": "code",
   "execution_count": 11,
   "id": "religious-proportion",
   "metadata": {},
   "outputs": [
    {
     "name": "stdout",
     "output_type": "stream",
     "text": [
      "exec_annotation /home/junyuchen/1-Projects/WGS-Pipeline/result/testout/prokka/ERR044595/ERR044595.faa -o /home/junyuchen/1-Projects/WGS-Pipeline/result/testout/bile_acid/ERR044595_kofam_scan.tsv --profile /home/junyuchen/1-Projects/WGS-Pipeline/database/bile_acid --ko-list /home/junyuchen/1-Projects/WGS-Pipeline/database/bile_acid_ko_list --cpu 16 -f detail-tsv --e-value=0.01 --tmp-dir /home/junyuchen/1-Projects/WGS-Pipeline/result/testout/bile_acid/ERR044595_tmp\n",
      "exec_annotation /home/junyuchen/1-Projects/WGS-Pipeline/result/testout/prokka/ER064912/ER064912.faa -o /home/junyuchen/1-Projects/WGS-Pipeline/result/testout/bile_acid/ER064912_kofam_scan.tsv --profile /home/junyuchen/1-Projects/WGS-Pipeline/database/bile_acid --ko-list /home/junyuchen/1-Projects/WGS-Pipeline/database/bile_acid_ko_list --cpu 16 -f detail-tsv --e-value=0.01 --tmp-dir /home/junyuchen/1-Projects/WGS-Pipeline/result/testout/bile_acid/ER064912_tmp\n",
      "\n",
      "\n"
     ]
    }
   ],
   "source": [
    "RunKofamScanParallel(faaList, prefixList, BileAcidDir, profile, koList, 16, 2)"
   ]
  },
  {
   "cell_type": "code",
   "execution_count": 12,
   "id": "average-inside",
   "metadata": {},
   "outputs": [
    {
     "data": {
      "text/plain": [
       "'/home/junyuchen/1-Projects/WGS-Pipeline/result/testout/bile_acid'"
      ]
     },
     "execution_count": 12,
     "metadata": {},
     "output_type": "execute_result"
    }
   ],
   "source": [
    "BileAcidDir"
   ]
  },
  {
   "cell_type": "code",
   "execution_count": 14,
   "id": "narrative-vintage",
   "metadata": {},
   "outputs": [
    {
     "name": "stdout",
     "output_type": "stream",
     "text": [
      "total 32K\n",
      "-rw-r--r-- 1 junyuchen users  11K Feb 10 20:31 ER064912_kofam_scan.tsv\n",
      "drwxr-xr-x 3 junyuchen users 4.0K Feb 10 20:31 ER064912_tmp\n",
      "-rw-r--r-- 1 junyuchen users 9.9K Feb 10 20:31 ERR044595_kofam_scan.tsv\n",
      "drwxr-xr-x 3 junyuchen users 4.0K Feb 10 20:31 ERR044595_tmp\n"
     ]
    }
   ],
   "source": [
    "!ls /home/junyuchen/1-Projects/WGS-Pipeline/result/testout/bile_acid -lh"
   ]
  },
  {
   "cell_type": "code",
   "execution_count": null,
   "id": "empirical-family",
   "metadata": {},
   "outputs": [],
   "source": []
  }
 ],
 "metadata": {
  "kernelspec": {
   "display_name": "wgs",
   "language": "python",
   "name": "wgs"
  },
  "language_info": {
   "codemirror_mode": {
    "name": "ipython",
    "version": 3
   },
   "file_extension": ".py",
   "mimetype": "text/x-python",
   "name": "python",
   "nbconvert_exporter": "python",
   "pygments_lexer": "ipython3",
   "version": "3.7.9"
  }
 },
 "nbformat": 4,
 "nbformat_minor": 5
}
