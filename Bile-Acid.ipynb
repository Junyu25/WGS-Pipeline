{
 "cells": [
  {
   "cell_type": "markdown",
   "metadata": {},
   "source": [
    "### Env setup"
   ]
  },
  {
   "cell_type": "code",
   "execution_count": null,
   "metadata": {},
   "outputs": [],
   "source": [
    "conda create -n Bio"
   ]
  },
  {
   "cell_type": "code",
   "execution_count": null,
   "metadata": {},
   "outputs": [],
   "source": [
    "mamba install blast"
   ]
  },
  {
   "cell_type": "code",
   "execution_count": null,
   "metadata": {},
   "outputs": [],
   "source": [
    "conda install prodigal diamond samtools hmmer"
   ]
  },
  {
   "cell_type": "code",
   "execution_count": null,
   "metadata": {},
   "outputs": [],
   "source": [
    "mamba install prodigal prokka diamond biopython"
   ]
  },
  {
   "cell_type": "code",
   "execution_count": null,
   "metadata": {},
   "outputs": [],
   "source": [
    "export result=/mnt/d/Lab/Bile-Acid/result"
   ]
  },
  {
   "cell_type": "code",
   "execution_count": 1,
   "metadata": {},
   "outputs": [],
   "source": [
    "export data=/mnt/d/Lab/Bile-Acid"
   ]
  },
  {
   "cell_type": "markdown",
   "metadata": {},
   "source": [
    "### Data"
   ]
  },
  {
   "cell_type": "markdown",
   "metadata": {},
   "source": [
    "https://pubseed.theseed.org//SubsysEditor.cgi?page=ShowSpreadsheet&subsystem=Bile_acids_transformations_HGM"
   ]
  },
  {
   "cell_type": "markdown",
   "metadata": {},
   "source": [
    "### transeq + Diamond "
   ]
  },
  {
   "cell_type": "code",
   "execution_count": null,
   "metadata": {},
   "outputs": [],
   "source": []
  },
  {
   "cell_type": "code",
   "execution_count": null,
   "metadata": {},
   "outputs": [],
   "source": []
  },
  {
   "cell_type": "markdown",
   "metadata": {},
   "source": [
    "### prodigal + HMMer/Diamond "
   ]
  },
  {
   "cell_type": "markdown",
   "metadata": {},
   "source": [
    "#### prodigal"
   ]
  },
  {
   "cell_type": "code",
   "execution_count": null,
   "metadata": {},
   "outputs": [],
   "source": [
    "prodigal -i my.genome.fna -o gene.coords.gbk -a protein.translations.faa"
   ]
  },
  {
   "cell_type": "markdown",
   "metadata": {},
   "source": [
    "```shell\n",
    "Input/Output Parameters\n",
    "\n",
    "  -i, --input_file:     Specify input file (default stdin).\n",
    "  -o, --output_file:    Specify output file (default stdout).\n",
    "  -a, --protein_file:   Specify protein translations file.\n",
    "  -d, --mrna_file:      Specify nucleotide sequences file.\n",
    "  -s, --start_file:     Specify complete starts file.\n",
    "  -w, --summ_file:      Specify summary statistics file.\n",
    "  -f, --output_format:  Specify output format.\n",
    "                          gbk:  Genbank-like format (Default)\n",
    "                          gff:  GFF format\n",
    "                          sqn:  Sequin feature table format\n",
    "                          sco:  Simple coordinate output\n",
    "  -q, --quiet:          Run quietly (suppress logging output).\n",
    "```"
   ]
  },
  {
   "cell_type": "markdown",
   "metadata": {},
   "source": [
    "```shell\n",
    "prodigal -i /mnt/d/Lab/Bile-Acid/rawdata/GCF_000154445.1_ASM15444v1_genomic.fna -o /mnt/d/Lab/Bile-Acid/result/prodigal/GCF_000154445.1_ASM15444v1_genomic.gff -a /mnt/d/Lab/Bile-Acid/result/prodigal/GCF_000154445.1_ASM15444v1_genomic.faa -f gff\n",
    "```"
   ]
  },
  {
   "cell_type": "markdown",
   "metadata": {},
   "source": [
    "#### HMMer"
   ]
  },
  {
   "cell_type": "code",
   "execution_count": null,
   "metadata": {},
   "outputs": [],
   "source": [
    "/mnt/d/Lab/Bile-Acid/result/hmmer"
   ]
  },
  {
   "cell_type": "code",
   "execution_count": null,
   "metadata": {},
   "outputs": [],
   "source": [
    "/mnt/d/Lab/Bile-Acid/phmm/CBAH.hmm"
   ]
  },
  {
   "cell_type": "markdown",
   "metadata": {},
   "source": [
    "```shell\n",
    "hmmsearch --cpu 4 --tblout /mnt/d/Lab/Bile-Acid/result/hmmer/GCF_000154445.1_ASM15444v1_genomic.tbl /mnt/d/Lab/Bile-Acid/phmm/CBAH.hmm /mnt/d/Lab/Bile-Acid/result/prodigal/GCF_000154445.1_ASM15444v1_genomic.faa > /dev/null\n",
    "```"
   ]
  },
  {
   "cell_type": "markdown",
   "metadata": {},
   "source": [
    "HMM output table"
   ]
  },
  {
   "cell_type": "markdown",
   "metadata": {},
   "source": [
    "use biopython to handle the `.tbl` output filem"
   ]
  },
  {
   "cell_type": "code",
   "execution_count": null,
   "metadata": {},
   "outputs": [],
   "source": []
  },
  {
   "cell_type": "markdown",
   "metadata": {},
   "source": [
    "#### Diamond"
   ]
  },
  {
   "cell_type": "markdown",
   "metadata": {},
   "source": [
    "```shell\n",
    "diamond blastp -q $result/prodigal/GCF_000154445.1_ASM15444v1_genomic.faa -o $result/diamond/test_out --evalue 1.0 --max-target-seqs 1 --outfmt 6 --db $data/db/BSH_anno.fasta -p 8\n",
    "```"
   ]
  },
  {
   "cell_type": "markdown",
   "metadata": {},
   "source": [
    "Parse Blast like tab output"
   ]
  },
  {
   "cell_type": "markdown",
   "metadata": {},
   "source": [
    "https://biopython.org/docs/1.75/api/Bio.SearchIO.BlastIO.html"
   ]
  },
  {
   "cell_type": "code",
   "execution_count": 2,
   "metadata": {},
   "outputs": [],
   "source": [
    "diamond_result = SearchIO.read(\"/mnt/d/Lab/Bile-Acid/result/hmmer/GCF_000154445.1_ASM15444v1_genomic.tbl\", \"blast-tab\")"
   ]
  },
  {
   "cell_type": "markdown",
   "metadata": {},
   "source": [
    "### Blastp"
   ]
  },
  {
   "cell_type": "code",
   "execution_count": 2,
   "metadata": {
    "execution": {
     "iopub.execute_input": "2020-10-30T04:09:08.774590Z",
     "iopub.status.busy": "2020-10-30T04:09:08.774204Z",
     "iopub.status.idle": "2020-10-30T04:09:08.974511Z",
     "shell.execute_reply": "2020-10-30T04:09:08.972455Z",
     "shell.execute_reply.started": "2020-10-30T04:09:08.774559Z"
    }
   },
   "outputs": [
    {
     "name": "stdout",
     "output_type": "stream",
     "text": [
      "(Bio) "
     ]
    },
    {
     "ename": "",
     "evalue": "1",
     "output_type": "error",
     "traceback": []
    }
   ],
   "source": [
    "conda activate Bio"
   ]
  },
  {
   "cell_type": "code",
   "execution_count": 3,
   "metadata": {
    "collapsed": true,
    "execution": {
     "iopub.execute_input": "2020-10-30T04:09:09.585926Z",
     "iopub.status.busy": "2020-10-30T04:09:09.585682Z",
     "iopub.status.idle": "2020-10-30T04:09:09.824503Z",
     "shell.execute_reply": "2020-10-30T04:09:09.823496Z",
     "shell.execute_reply.started": "2020-10-30T04:09:09.585906Z"
    },
    "jupyter": {
     "outputs_hidden": true
    }
   },
   "outputs": [
    {
     "name": "stdout",
     "output_type": "stream",
     "text": [
      "USAGE\n",
      "  blastp [-h] [-help] [-import_search_strategy filename]\n",
      "    [-export_search_strategy filename] [-task task_name] [-db database_name]\n",
      "    [-dbsize num_letters] [-gilist filename] [-seqidlist filename]\n",
      "    [-negative_gilist filename] [-negative_seqidlist filename]\n",
      "    [-taxids taxids] [-negative_taxids taxids] [-taxidlist filename]\n",
      "    [-negative_taxidlist filename] [-ipglist filename]\n",
      "    [-negative_ipglist filename] [-entrez_query entrez_query]\n",
      "    [-db_soft_mask filtering_algorithm] [-db_hard_mask filtering_algorithm]\n",
      "    [-subject subject_input_file] [-subject_loc range] [-query input_file]\n",
      "    [-out output_file] [-evalue evalue] [-word_size int_value]\n",
      "    [-gapopen open_penalty] [-gapextend extend_penalty]\n",
      "    [-qcov_hsp_perc float_value] [-max_hsps int_value]\n",
      "    [-xdrop_ungap float_value] [-xdrop_gap float_value]\n",
      "    [-xdrop_gap_final float_value] [-searchsp int_value] [-seg SEG_options]\n",
      "    [-soft_masking soft_masking] [-matrix matrix_name]\n",
      "    [-threshold float_value] [-culling_limit int_value]\n",
      "    [-best_hit_overhang float_value] [-best_hit_score_edge float_value]\n",
      "    [-subject_besthit] [-window_size int_value] [-lcase_masking]\n",
      "    [-query_loc range] [-parse_deflines] [-outfmt format] [-show_gis]\n",
      "    [-num_descriptions int_value] [-num_alignments int_value]\n",
      "    [-line_length line_length] [-html] [-sorthits sort_hits]\n",
      "    [-sorthsps sort_hsps] [-max_target_seqs num_sequences]\n",
      "    [-num_threads int_value] [-ungapped] [-remote] [-comp_based_stats compo]\n",
      "    [-use_sw_tback] [-version]\n",
      "\n",
      "DESCRIPTION\n",
      "   Protein-Protein BLAST 2.10.1+\n",
      "\n",
      "OPTIONAL ARGUMENTS\n",
      " -h\n",
      "   Print USAGE and DESCRIPTION;  ignore all other parameters\n",
      " -help\n",
      "   Print USAGE, DESCRIPTION and ARGUMENTS; ignore all other parameters\n",
      " -version\n",
      "   Print version number;  ignore other arguments\n",
      "\n",
      " *** Input query options\n",
      " -query <File_In>\n",
      "   Input file name\n",
      "   Default = `-'\n",
      " -query_loc <String>\n",
      "   Location on the query sequence in 1-based offsets (Format: start-stop)\n",
      "\n",
      " *** General search options\n",
      " -task <String, Permissible values: 'blastp' 'blastp-fast' 'blastp-short' >\n",
      "   Task to execute\n",
      "   Default = `blastp'\n",
      " -db <String>\n",
      "   BLAST database name\n",
      "    * Incompatible with:  subject, subject_loc\n",
      " -out <File_Out>\n",
      "   Output file name\n",
      "   Default = `-'\n",
      " -evalue <Real>\n",
      "   Expectation value (E) threshold for saving hits \n",
      "   Default = `10'\n",
      " -word_size <Integer, >=2>\n",
      "   Word size for wordfinder algorithm\n",
      " -gapopen <Integer>\n",
      "   Cost to open a gap\n",
      " -gapextend <Integer>\n",
      "   Cost to extend a gap\n",
      " -matrix <String>\n",
      "   Scoring matrix name (normally BLOSUM62)\n",
      " -threshold <Real, >=0>\n",
      "   Minimum word score such that the word is added to the BLAST lookup table\n",
      " -comp_based_stats <String>\n",
      "   Use composition-based statistics:\n",
      "       D or d: default (equivalent to 2 )\n",
      "       0 or F or f: No composition-based statistics\n",
      "       1: Composition-based statistics as in NAR 29:2994-3005, 2001\n",
      "       2 or T or t : Composition-based score adjustment as in Bioinformatics\n",
      "   21:902-911,\n",
      "       2005, conditioned on sequence properties\n",
      "       3: Composition-based score adjustment as in Bioinformatics 21:902-911,\n",
      "       2005, unconditionally\n",
      "   Default = `2'\n",
      "\n",
      " *** BLAST-2-Sequences options\n",
      " -subject <File_In>\n",
      "   Subject sequence(s) to search\n",
      "    * Incompatible with:  db, gilist, seqidlist, negative_gilist,\n",
      "   negative_seqidlist, taxids, taxidlist, negative_taxids, negative_taxidlist,\n",
      "   ipglist, negative_ipglist, db_soft_mask, db_hard_mask\n",
      " -subject_loc <String>\n",
      "   Location on the subject sequence in 1-based offsets (Format: start-stop)\n",
      "    * Incompatible with:  db, gilist, seqidlist, negative_gilist,\n",
      "   negative_seqidlist, taxids, taxidlist, negative_taxids, negative_taxidlist,\n",
      "   ipglist, negative_ipglist, db_soft_mask, db_hard_mask, remote\n",
      "\n",
      " *** Formatting options\n",
      " -outfmt <String>\n",
      "   alignment view options:\n",
      "     0 = Pairwise,\n",
      "     1 = Query-anchored showing identities,\n",
      "     2 = Query-anchored no identities,\n",
      "     3 = Flat query-anchored showing identities,\n",
      "     4 = Flat query-anchored no identities,\n",
      "     5 = BLAST XML,\n",
      "     6 = Tabular,\n",
      "     7 = Tabular with comment lines,\n",
      "     8 = Seqalign (Text ASN.1),\n",
      "     9 = Seqalign (Binary ASN.1),\n",
      "    10 = Comma-separated values,\n",
      "    11 = BLAST archive (ASN.1),\n",
      "    12 = Seqalign (JSON),\n",
      "    13 = Multiple-file BLAST JSON,\n",
      "    14 = Multiple-file BLAST XML2,\n",
      "    15 = Single-file BLAST JSON,\n",
      "    16 = Single-file BLAST XML2,\n",
      "    18 = Organism Report\n",
      "   \n",
      "   Options 6, 7 and 10 can be additionally configured to produce\n",
      "   a custom format specified by space delimited format specifiers,\n",
      "   or by a token specified by the delim keyword.\n",
      "    E.g.: \"10 delim=@ qacc sacc score\".\n",
      "   The delim keyword must appear after the numeric output format\n",
      "   specification.\n",
      "   The supported format specifiers are:\n",
      "   \t    qseqid means Query Seq-id\n",
      "   \t       qgi means Query GI\n",
      "   \t      qacc means Query accesion\n",
      "   \t   qaccver means Query accesion.version\n",
      "   \t      qlen means Query sequence length\n",
      "   \t    sseqid means Subject Seq-id\n",
      "   \t sallseqid means All subject Seq-id(s), separated by a ';'\n",
      "   \t       sgi means Subject GI\n",
      "   \t    sallgi means All subject GIs\n",
      "   \t      sacc means Subject accession\n",
      "   \t   saccver means Subject accession.version\n",
      "   \t   sallacc means All subject accessions\n",
      "   \t      slen means Subject sequence length\n",
      "   \t    qstart means Start of alignment in query\n",
      "   \t      qend means End of alignment in query\n",
      "   \t    sstart means Start of alignment in subject\n",
      "   \t      send means End of alignment in subject\n",
      "   \t      qseq means Aligned part of query sequence\n",
      "   \t      sseq means Aligned part of subject sequence\n",
      "   \t    evalue means Expect value\n",
      "   \t  bitscore means Bit score\n",
      "   \t     score means Raw score\n",
      "   \t    length means Alignment length\n",
      "   \t    pident means Percentage of identical matches\n",
      "   \t    nident means Number of identical matches\n",
      "   \t  mismatch means Number of mismatches\n",
      "   \t  positive means Number of positive-scoring matches\n",
      "   \t   gapopen means Number of gap openings\n",
      "   \t      gaps means Total number of gaps\n",
      "   \t      ppos means Percentage of positive-scoring matches\n",
      "   \t    frames means Query and subject frames separated by a '/'\n",
      "   \t    qframe means Query frame\n",
      "   \t    sframe means Subject frame\n",
      "   \t      btop means Blast traceback operations (BTOP)\n",
      "   \t    staxid means Subject Taxonomy ID\n",
      "   \t  ssciname means Subject Scientific Name\n",
      "   \t  scomname means Subject Common Name\n",
      "   \tsblastname means Subject Blast Name\n",
      "   \t sskingdom means Subject Super Kingdom\n",
      "   \t   staxids means unique Subject Taxonomy ID(s), separated by a ';'\n",
      "   \t\t\t (in numerical order)\n",
      "   \t sscinames means unique Subject Scientific Name(s), separated by a ';'\n",
      "   \t scomnames means unique Subject Common Name(s), separated by a ';'\n",
      "   \tsblastnames means unique Subject Blast Name(s), separated by a ';'\n",
      "   \t\t\t (in alphabetical order)\n",
      "   \tsskingdoms means unique Subject Super Kingdom(s), separated by a ';'\n",
      "   \t\t\t (in alphabetical order) \n",
      "   \t    stitle means Subject Title\n",
      "   \tsalltitles means All Subject Title(s), separated by a '<>'\n",
      "   \t   sstrand means Subject Strand\n",
      "   \t     qcovs means Query Coverage Per Subject\n",
      "   \t   qcovhsp means Query Coverage Per HSP\n",
      "   \t    qcovus means Query Coverage Per Unique Subject (blastn only)\n",
      "   When not provided, the default value is:\n",
      "   'qaccver saccver pident length mismatch gapopen qstart qend sstart send\n",
      "   evalue bitscore', which is equivalent to the keyword 'std'\n",
      "   Default = `0'\n",
      " -show_gis\n",
      "   Show NCBI GIs in deflines?\n",
      " -num_descriptions <Integer, >=0>\n",
      "   Number of database sequences to show one-line descriptions for\n",
      "   Not applicable for outfmt > 4\n",
      "   Default = `500'\n",
      "    * Incompatible with:  max_target_seqs\n",
      " -num_alignments <Integer, >=0>\n",
      "   Number of database sequences to show alignments for\n",
      "   Default = `250'\n",
      "    * Incompatible with:  max_target_seqs\n",
      " -line_length <Integer, >=1>\n",
      "   Line length for formatting alignments\n",
      "   Not applicable for outfmt > 4\n",
      "   Default = `60'\n",
      " -html\n",
      "   Produce HTML output?\n",
      " -sorthits <Integer, (>=0 and =<4)>\n",
      "   Sorting option for hits:\n",
      "   alignment view options:\n",
      "     0 = Sort by evalue,\n",
      "     1 = Sort by bit score,\n",
      "     2 = Sort by total score,\n",
      "     3 = Sort by percent identity,\n",
      "     4 = Sort by query coverage\n",
      "   Not applicable for outfmt > 4\n",
      " -sorthsps <Integer, (>=0 and =<4)>\n",
      "   Sorting option for hps:\n",
      "     0 = Sort by hsp evalue,\n",
      "     1 = Sort by hsp score,\n",
      "     2 = Sort by hsp query start,\n",
      "     3 = Sort by hsp percent identity,\n",
      "     4 = Sort by hsp subject start\n",
      "   Not applicable for outfmt != 0\n",
      "\n",
      " *** Query filtering options\n",
      " -seg <String>\n",
      "   Filter query sequence with SEG (Format: 'yes', 'window locut hicut', or\n",
      "   'no' to disable)\n",
      "   Default = `no'\n",
      " -soft_masking <Boolean>\n",
      "   Apply filtering locations as soft masks\n",
      "   Default = `false'\n",
      " -lcase_masking\n",
      "   Use lower case filtering in query and subject sequence(s)?\n",
      "\n",
      " *** Restrict search or results\n",
      " -gilist <String>\n",
      "   Restrict search of database to list of GIs\n",
      "    * Incompatible with:  seqidlist, taxids, taxidlist, negative_gilist,\n",
      "   negative_seqidlist, negative_taxids, negative_taxidlist, remote, subject,\n",
      "   subject_loc\n",
      " -seqidlist <String>\n",
      "   Restrict search of database to list of SeqIDs\n",
      "    * Incompatible with:  gilist, taxids, taxidlist, negative_gilist,\n",
      "   negative_seqidlist, negative_taxids, negative_taxidlist, remote, subject,\n",
      "   subject_loc\n",
      " -negative_gilist <String>\n",
      "   Restrict search of database to everything except the specified GIs\n",
      "    * Incompatible with:  gilist, seqidlist, taxids, taxidlist,\n",
      "   negative_seqidlist, negative_taxids, negative_taxidlist, remote, subject,\n",
      "   subject_loc\n",
      " -negative_seqidlist <String>\n",
      "   Restrict search of database to everything except the specified SeqIDs\n",
      "    * Incompatible with:  gilist, seqidlist, taxids, taxidlist,\n",
      "   negative_gilist, negative_taxids, negative_taxidlist, remote, subject,\n",
      "   subject_loc\n",
      " -taxids <String>\n",
      "   Restrict search of database to include only the specified taxonomy IDs\n",
      "   (multiple IDs delimited by ',')\n",
      "    * Incompatible with:  gilist, seqidlist, taxidlist, negative_gilist,\n",
      "   negative_seqidlist, negative_taxids, negative_taxidlist, remote, subject,\n",
      "   subject_loc\n",
      " -negative_taxids <String>\n",
      "   Restrict search of database to everything except the specified taxonomy IDs\n",
      "   (multiple IDs delimited by ',')\n",
      "    * Incompatible with:  gilist, seqidlist, taxids, taxidlist,\n",
      "   negative_gilist, negative_seqidlist, negative_taxidlist, remote, subject,\n",
      "   subject_loc\n",
      " -taxidlist <String>\n",
      "   Restrict search of database to include only the specified taxonomy IDs\n",
      "    * Incompatible with:  gilist, seqidlist, taxids, negative_gilist,\n",
      "   negative_seqidlist, negative_taxids, negative_taxidlist, remote, subject,\n",
      "   subject_loc\n",
      " -negative_taxidlist <String>\n",
      "   Restrict search of database to everything except the specified taxonomy IDs\n",
      "    * Incompatible with:  gilist, seqidlist, taxids, taxidlist,\n",
      "   negative_gilist, negative_seqidlist, negative_taxids, remote, subject,\n",
      "   subject_loc\n",
      " -ipglist <String>\n",
      "   Restrict search of database to list of IPGs\n",
      "    * Incompatible with:  subject, subject_loc\n",
      " -negative_ipglist <String>\n",
      "   Restrict search of database to everything except the specified IPGs\n",
      "    * Incompatible with:  subject, subject_loc\n",
      " -entrez_query <String>\n",
      "   Restrict search with the given Entrez query\n",
      "    * Requires:  remote\n",
      " -db_soft_mask <String>\n",
      "   Filtering algorithm ID to apply to the BLAST database as soft masking\n",
      "    * Incompatible with:  db_hard_mask, subject, subject_loc\n",
      " -db_hard_mask <String>\n",
      "   Filtering algorithm ID to apply to the BLAST database as hard masking\n",
      "    * Incompatible with:  db_soft_mask, subject, subject_loc\n",
      " -qcov_hsp_perc <Real, 0..100>\n",
      "   Percent query coverage per hsp\n",
      " -max_hsps <Integer, >=1>\n",
      "   Set maximum number of HSPs per subject sequence to save for each query\n",
      " -culling_limit <Integer, >=0>\n",
      "   If the query range of a hit is enveloped by that of at least this many\n",
      "   higher-scoring hits, delete the hit\n",
      "    * Incompatible with:  best_hit_overhang, best_hit_score_edge\n",
      " -best_hit_overhang <Real, (>0 and <0.5)>\n",
      "   Best Hit algorithm overhang value (recommended value: 0.1)\n",
      "    * Incompatible with:  culling_limit\n",
      " -best_hit_score_edge <Real, (>0 and <0.5)>\n",
      "   Best Hit algorithm score edge value (recommended value: 0.1)\n",
      "    * Incompatible with:  culling_limit\n",
      " -subject_besthit\n",
      "   Turn on best hit per subject sequence\n",
      " -max_target_seqs <Integer, >=1>\n",
      "   Maximum number of aligned sequences to keep \n",
      "   (value of 5 or more is recommended)\n",
      "   Default = `500'\n",
      "    * Incompatible with:  num_descriptions, num_alignments\n",
      "\n",
      " *** Statistical options\n",
      " -dbsize <Int8>\n",
      "   Effective length of the database \n",
      " -searchsp <Int8, >=0>\n",
      "   Effective length of the search space\n",
      "\n",
      " *** Search strategy options\n",
      " -import_search_strategy <File_In>\n",
      "   Search strategy to use\n",
      "    * Incompatible with:  export_search_strategy\n",
      " -export_search_strategy <File_Out>\n",
      "   File name to record the search strategy used\n",
      "    * Incompatible with:  import_search_strategy\n",
      "\n",
      " *** Extension options\n",
      " -xdrop_ungap <Real>\n",
      "   X-dropoff value (in bits) for ungapped extensions\n",
      " -xdrop_gap <Real>\n",
      "   X-dropoff value (in bits) for preliminary gapped extensions\n",
      " -xdrop_gap_final <Real>\n",
      "   X-dropoff value (in bits) for final gapped alignment\n",
      " -window_size <Integer, >=0>\n",
      "   Multiple hits window size, use 0 to specify 1-hit algorithm\n",
      " -ungapped\n",
      "   Perform ungapped alignment only?\n",
      "\n",
      " *** Miscellaneous options\n",
      " -parse_deflines\n",
      "   Should the query and subject defline(s) be parsed?\n",
      " -num_threads <Integer, >=1>\n",
      "   Number of threads (CPUs) to use in the BLAST search\n",
      "   Default = `1'\n",
      "    * Incompatible with:  remote\n",
      " -remote\n",
      "   Execute search remotely?\n",
      "    * Incompatible with:  gilist, seqidlist, taxids, taxidlist,\n",
      "   negative_gilist, negative_seqidlist, negative_taxids, negative_taxidlist,\n",
      "   subject_loc, num_threads\n",
      " -use_sw_tback\n",
      "   Compute locally optimal Smith-Waterman alignments?\n",
      "\n",
      "(Bio) "
     ]
    },
    {
     "ename": "",
     "evalue": "1",
     "output_type": "error",
     "traceback": []
    }
   ],
   "source": [
    "blastp -help"
   ]
  },
  {
   "cell_type": "markdown",
   "metadata": {},
   "source": [
    "```shell\n",
    "blastp -out /mnt/d/Lab/Bile-Acid/result/blastp/test.tsv -outfmt 6 -query /mnt/d/Lab/Bile-Acid/result/prodigal/GCF_000154445.1_ASM15444v1_genomic.faa -db /mnt/d/Lab/Bile-Acid/db/BSH_anno.fasta -evalue 0.001 -max_target_seqs 1\n",
    "```"
   ]
  },
  {
   "cell_type": "markdown",
   "metadata": {},
   "source": [
    "```shell\n",
    "blastp -out /mnt/d/Lab/Bile-Acid/result/blastp/test.xml -outfmt 5 -query /mnt/d/Lab/Bile-Acid/result/prodigal/GCF_000154445.1_ASM15444v1_genomic.faa -db /mnt/d/Lab/Bile-Acid/db/BSH_anno.fasta -evalue 0.001\n",
    "```"
   ]
  },
  {
   "cell_type": "code",
   "execution_count": null,
   "metadata": {},
   "outputs": [],
   "source": [
    "blastp -db /mnt/d/Lab/Bile-Acid/db/BSH_anno.fasta –query $result/prodigal/GCF_000154445.1_ASM15444v1_genomic.faa –out $result/blastp"
   ]
  },
  {
   "cell_type": "markdown",
   "metadata": {},
   "source": [
    "### Custom DataBase"
   ]
  },
  {
   "cell_type": "markdown",
   "metadata": {},
   "source": [
    "`diamond makedb --in aa.fasta -d aa.fasta`"
   ]
  },
  {
   "cell_type": "markdown",
   "metadata": {},
   "source": [
    "`makeblastdb -in nr.fasta  -dbtype nucl`"
   ]
  },
  {
   "cell_type": "code",
   "execution_count": null,
   "metadata": {},
   "outputs": [],
   "source": [
    "diamond makedb --in BSH_anno.fasta -d BSH_anno.fasta"
   ]
  },
  {
   "cell_type": "code",
   "execution_count": null,
   "metadata": {},
   "outputs": [],
   "source": [
    "diamond makedb --in HSDH.fasta -d HSDH"
   ]
  },
  {
   "cell_type": "code",
   "execution_count": null,
   "metadata": {},
   "outputs": [],
   "source": [
    "makeblastdb -in BSH_anno.fasta -dbtype prot"
   ]
  },
  {
   "cell_type": "code",
   "execution_count": 2,
   "metadata": {},
   "outputs": [
    {
     "name": "stdout",
     "output_type": "stream",
     "text": [
      "(Bio) "
     ]
    },
    {
     "ename": "",
     "evalue": "1",
     "output_type": "error",
     "traceback": []
    }
   ],
   "source": [
    "conda activate Bio"
   ]
  },
  {
   "cell_type": "code",
   "execution_count": 4,
   "metadata": {
    "collapsed": true,
    "jupyter": {
     "outputs_hidden": true
    }
   },
   "outputs": [
    {
     "name": "stdout",
     "output_type": "stream",
     "text": [
      "USAGE\n",
      "  blastp [-h] [-help] [-import_search_strategy filename]\n",
      "    [-export_search_strategy filename] [-task task_name] [-db database_name]\n",
      "    [-dbsize num_letters] [-gilist filename] [-seqidlist filename]\n",
      "    [-negative_gilist filename] [-negative_seqidlist filename]\n",
      "    [-taxids taxids] [-negative_taxids taxids] [-taxidlist filename]\n",
      "    [-negative_taxidlist filename] [-ipglist filename]\n",
      "    [-negative_ipglist filename] [-entrez_query entrez_query]\n",
      "    [-db_soft_mask filtering_algorithm] [-db_hard_mask filtering_algorithm]\n",
      "    [-subject subject_input_file] [-subject_loc range] [-query input_file]\n",
      "    [-out output_file] [-evalue evalue] [-word_size int_value]\n",
      "    [-gapopen open_penalty] [-gapextend extend_penalty]\n",
      "    [-qcov_hsp_perc float_value] [-max_hsps int_value]\n",
      "    [-xdrop_ungap float_value] [-xdrop_gap float_value]\n",
      "    [-xdrop_gap_final float_value] [-searchsp int_value] [-seg SEG_options]\n",
      "    [-soft_masking soft_masking] [-matrix matrix_name]\n",
      "    [-threshold float_value] [-culling_limit int_value]\n",
      "    [-best_hit_overhang float_value] [-best_hit_score_edge float_value]\n",
      "    [-subject_besthit] [-window_size int_value] [-lcase_masking]\n",
      "    [-query_loc range] [-parse_deflines] [-outfmt format] [-show_gis]\n",
      "    [-num_descriptions int_value] [-num_alignments int_value]\n",
      "    [-line_length line_length] [-html] [-sorthits sort_hits]\n",
      "    [-sorthsps sort_hsps] [-max_target_seqs num_sequences]\n",
      "    [-num_threads int_value] [-ungapped] [-remote] [-comp_based_stats compo]\n",
      "    [-use_sw_tback] [-version]\n",
      "\n",
      "DESCRIPTION\n",
      "   Protein-Protein BLAST 2.10.1+\n",
      "\n",
      "OPTIONAL ARGUMENTS\n",
      " -h\n",
      "   Print USAGE and DESCRIPTION;  ignore all other parameters\n",
      " -help\n",
      "   Print USAGE, DESCRIPTION and ARGUMENTS; ignore all other parameters\n",
      " -version\n",
      "   Print version number;  ignore other arguments\n",
      "\n",
      " *** Input query options\n",
      " -query <File_In>\n",
      "   Input file name\n",
      "   Default = `-'\n",
      " -query_loc <String>\n",
      "   Location on the query sequence in 1-based offsets (Format: start-stop)\n",
      "\n",
      " *** General search options\n",
      " -task <String, Permissible values: 'blastp' 'blastp-fast' 'blastp-short' >\n",
      "   Task to execute\n",
      "   Default = `blastp'\n",
      " -db <String>\n",
      "   BLAST database name\n",
      "    * Incompatible with:  subject, subject_loc\n",
      " -out <File_Out>\n",
      "   Output file name\n",
      "   Default = `-'\n",
      " -evalue <Real>\n",
      "   Expectation value (E) threshold for saving hits \n",
      "   Default = `10'\n",
      " -word_size <Integer, >=2>\n",
      "   Word size for wordfinder algorithm\n",
      " -gapopen <Integer>\n",
      "   Cost to open a gap\n",
      " -gapextend <Integer>\n",
      "   Cost to extend a gap\n",
      " -matrix <String>\n",
      "   Scoring matrix name (normally BLOSUM62)\n",
      " -threshold <Real, >=0>\n",
      "   Minimum word score such that the word is added to the BLAST lookup table\n",
      " -comp_based_stats <String>\n",
      "   Use composition-based statistics:\n",
      "       D or d: default (equivalent to 2 )\n",
      "       0 or F or f: No composition-based statistics\n",
      "       1: Composition-based statistics as in NAR 29:2994-3005, 2001\n",
      "       2 or T or t : Composition-based score adjustment as in Bioinformatics\n",
      "   21:902-911,\n",
      "       2005, conditioned on sequence properties\n",
      "       3: Composition-based score adjustment as in Bioinformatics 21:902-911,\n",
      "       2005, unconditionally\n",
      "   Default = `2'\n",
      "\n",
      " *** BLAST-2-Sequences options\n",
      " -subject <File_In>\n",
      "   Subject sequence(s) to search\n",
      "    * Incompatible with:  db, gilist, seqidlist, negative_gilist,\n",
      "   negative_seqidlist, taxids, taxidlist, negative_taxids, negative_taxidlist,\n",
      "   ipglist, negative_ipglist, db_soft_mask, db_hard_mask\n",
      " -subject_loc <String>\n",
      "   Location on the subject sequence in 1-based offsets (Format: start-stop)\n",
      "    * Incompatible with:  db, gilist, seqidlist, negative_gilist,\n",
      "   negative_seqidlist, taxids, taxidlist, negative_taxids, negative_taxidlist,\n",
      "   ipglist, negative_ipglist, db_soft_mask, db_hard_mask, remote\n",
      "\n",
      " *** Formatting options\n",
      " -outfmt <String>\n",
      "   alignment view options:\n",
      "     0 = Pairwise,\n",
      "     1 = Query-anchored showing identities,\n",
      "     2 = Query-anchored no identities,\n",
      "     3 = Flat query-anchored showing identities,\n",
      "     4 = Flat query-anchored no identities,\n",
      "     5 = BLAST XML,\n",
      "     6 = Tabular,\n",
      "     7 = Tabular with comment lines,\n",
      "     8 = Seqalign (Text ASN.1),\n",
      "     9 = Seqalign (Binary ASN.1),\n",
      "    10 = Comma-separated values,\n",
      "    11 = BLAST archive (ASN.1),\n",
      "    12 = Seqalign (JSON),\n",
      "    13 = Multiple-file BLAST JSON,\n",
      "    14 = Multiple-file BLAST XML2,\n",
      "    15 = Single-file BLAST JSON,\n",
      "    16 = Single-file BLAST XML2,\n",
      "    18 = Organism Report\n",
      "   \n",
      "   Options 6, 7 and 10 can be additionally configured to produce\n",
      "   a custom format specified by space delimited format specifiers,\n",
      "   or by a token specified by the delim keyword.\n",
      "    E.g.: \"10 delim=@ qacc sacc score\".\n",
      "   The delim keyword must appear after the numeric output format\n",
      "   specification.\n",
      "   The supported format specifiers are:\n",
      "   \t    qseqid means Query Seq-id\n",
      "   \t       qgi means Query GI\n",
      "   \t      qacc means Query accesion\n",
      "   \t   qaccver means Query accesion.version\n",
      "   \t      qlen means Query sequence length\n",
      "   \t    sseqid means Subject Seq-id\n",
      "   \t sallseqid means All subject Seq-id(s), separated by a ';'\n",
      "   \t       sgi means Subject GI\n",
      "   \t    sallgi means All subject GIs\n",
      "   \t      sacc means Subject accession\n",
      "   \t   saccver means Subject accession.version\n",
      "   \t   sallacc means All subject accessions\n",
      "   \t      slen means Subject sequence length\n",
      "   \t    qstart means Start of alignment in query\n",
      "   \t      qend means End of alignment in query\n",
      "   \t    sstart means Start of alignment in subject\n",
      "   \t      send means End of alignment in subject\n",
      "   \t      qseq means Aligned part of query sequence\n",
      "   \t      sseq means Aligned part of subject sequence\n",
      "   \t    evalue means Expect value\n",
      "   \t  bitscore means Bit score\n",
      "   \t     score means Raw score\n",
      "   \t    length means Alignment length\n",
      "   \t    pident means Percentage of identical matches\n",
      "   \t    nident means Number of identical matches\n",
      "   \t  mismatch means Number of mismatches\n",
      "   \t  positive means Number of positive-scoring matches\n",
      "   \t   gapopen means Number of gap openings\n",
      "   \t      gaps means Total number of gaps\n",
      "   \t      ppos means Percentage of positive-scoring matches\n",
      "   \t    frames means Query and subject frames separated by a '/'\n",
      "   \t    qframe means Query frame\n",
      "   \t    sframe means Subject frame\n",
      "   \t      btop means Blast traceback operations (BTOP)\n",
      "   \t    staxid means Subject Taxonomy ID\n",
      "   \t  ssciname means Subject Scientific Name\n",
      "   \t  scomname means Subject Common Name\n",
      "   \tsblastname means Subject Blast Name\n",
      "   \t sskingdom means Subject Super Kingdom\n",
      "   \t   staxids means unique Subject Taxonomy ID(s), separated by a ';'\n",
      "   \t\t\t (in numerical order)\n",
      "   \t sscinames means unique Subject Scientific Name(s), separated by a ';'\n",
      "   \t scomnames means unique Subject Common Name(s), separated by a ';'\n",
      "   \tsblastnames means unique Subject Blast Name(s), separated by a ';'\n",
      "   \t\t\t (in alphabetical order)\n",
      "   \tsskingdoms means unique Subject Super Kingdom(s), separated by a ';'\n",
      "   \t\t\t (in alphabetical order) \n",
      "   \t    stitle means Subject Title\n",
      "   \tsalltitles means All Subject Title(s), separated by a '<>'\n",
      "   \t   sstrand means Subject Strand\n",
      "   \t     qcovs means Query Coverage Per Subject\n",
      "   \t   qcovhsp means Query Coverage Per HSP\n",
      "   \t    qcovus means Query Coverage Per Unique Subject (blastn only)\n",
      "   When not provided, the default value is:\n",
      "   'qaccver saccver pident length mismatch gapopen qstart qend sstart send\n",
      "   evalue bitscore', which is equivalent to the keyword 'std'\n",
      "   Default = `0'\n",
      " -show_gis\n",
      "   Show NCBI GIs in deflines?\n",
      " -num_descriptions <Integer, >=0>\n",
      "   Number of database sequences to show one-line descriptions for\n",
      "   Not applicable for outfmt > 4\n",
      "   Default = `500'\n",
      "    * Incompatible with:  max_target_seqs\n",
      " -num_alignments <Integer, >=0>\n",
      "   Number of database sequences to show alignments for\n",
      "   Default = `250'\n",
      "    * Incompatible with:  max_target_seqs\n",
      " -line_length <Integer, >=1>\n",
      "   Line length for formatting alignments\n",
      "   Not applicable for outfmt > 4\n",
      "   Default = `60'\n",
      " -html\n",
      "   Produce HTML output?\n",
      " -sorthits <Integer, (>=0 and =<4)>\n",
      "   Sorting option for hits:\n",
      "   alignment view options:\n",
      "     0 = Sort by evalue,\n",
      "     1 = Sort by bit score,\n",
      "     2 = Sort by total score,\n",
      "     3 = Sort by percent identity,\n",
      "     4 = Sort by query coverage\n",
      "   Not applicable for outfmt > 4\n",
      " -sorthsps <Integer, (>=0 and =<4)>\n",
      "   Sorting option for hps:\n",
      "     0 = Sort by hsp evalue,\n",
      "     1 = Sort by hsp score,\n",
      "     2 = Sort by hsp query start,\n",
      "     3 = Sort by hsp percent identity,\n",
      "     4 = Sort by hsp subject start\n",
      "   Not applicable for outfmt != 0\n",
      "\n",
      " *** Query filtering options\n",
      " -seg <String>\n",
      "   Filter query sequence with SEG (Format: 'yes', 'window locut hicut', or\n",
      "   'no' to disable)\n",
      "   Default = `no'\n",
      " -soft_masking <Boolean>\n",
      "   Apply filtering locations as soft masks\n",
      "   Default = `false'\n",
      " -lcase_masking\n",
      "   Use lower case filtering in query and subject sequence(s)?\n",
      "\n",
      " *** Restrict search or results\n",
      " -gilist <String>\n",
      "   Restrict search of database to list of GIs\n",
      "    * Incompatible with:  seqidlist, taxids, taxidlist, negative_gilist,\n",
      "   negative_seqidlist, negative_taxids, negative_taxidlist, remote, subject,\n",
      "   subject_loc\n",
      " -seqidlist <String>\n",
      "   Restrict search of database to list of SeqIDs\n",
      "    * Incompatible with:  gilist, taxids, taxidlist, negative_gilist,\n",
      "   negative_seqidlist, negative_taxids, negative_taxidlist, remote, subject,\n",
      "   subject_loc\n",
      " -negative_gilist <String>\n",
      "   Restrict search of database to everything except the specified GIs\n",
      "    * Incompatible with:  gilist, seqidlist, taxids, taxidlist,\n",
      "   negative_seqidlist, negative_taxids, negative_taxidlist, remote, subject,\n",
      "   subject_loc\n",
      " -negative_seqidlist <String>\n",
      "   Restrict search of database to everything except the specified SeqIDs\n",
      "    * Incompatible with:  gilist, seqidlist, taxids, taxidlist,\n",
      "   negative_gilist, negative_taxids, negative_taxidlist, remote, subject,\n",
      "   subject_loc\n",
      " -taxids <String>\n",
      "   Restrict search of database to include only the specified taxonomy IDs\n",
      "   (multiple IDs delimited by ',')\n",
      "    * Incompatible with:  gilist, seqidlist, taxidlist, negative_gilist,\n",
      "   negative_seqidlist, negative_taxids, negative_taxidlist, remote, subject,\n",
      "   subject_loc\n",
      " -negative_taxids <String>\n",
      "   Restrict search of database to everything except the specified taxonomy IDs\n",
      "   (multiple IDs delimited by ',')\n",
      "    * Incompatible with:  gilist, seqidlist, taxids, taxidlist,\n",
      "   negative_gilist, negative_seqidlist, negative_taxidlist, remote, subject,\n",
      "   subject_loc\n",
      " -taxidlist <String>\n",
      "   Restrict search of database to include only the specified taxonomy IDs\n",
      "    * Incompatible with:  gilist, seqidlist, taxids, negative_gilist,\n",
      "   negative_seqidlist, negative_taxids, negative_taxidlist, remote, subject,\n",
      "   subject_loc\n",
      " -negative_taxidlist <String>\n",
      "   Restrict search of database to everything except the specified taxonomy IDs\n",
      "    * Incompatible with:  gilist, seqidlist, taxids, taxidlist,\n",
      "   negative_gilist, negative_seqidlist, negative_taxids, remote, subject,\n",
      "   subject_loc\n",
      " -ipglist <String>\n",
      "   Restrict search of database to list of IPGs\n",
      "    * Incompatible with:  subject, subject_loc\n",
      " -negative_ipglist <String>\n",
      "   Restrict search of database to everything except the specified IPGs\n",
      "    * Incompatible with:  subject, subject_loc\n",
      " -entrez_query <String>\n",
      "   Restrict search with the given Entrez query\n",
      "    * Requires:  remote\n",
      " -db_soft_mask <String>\n",
      "   Filtering algorithm ID to apply to the BLAST database as soft masking\n",
      "    * Incompatible with:  db_hard_mask, subject, subject_loc\n",
      " -db_hard_mask <String>\n",
      "   Filtering algorithm ID to apply to the BLAST database as hard masking\n",
      "    * Incompatible with:  db_soft_mask, subject, subject_loc\n",
      " -qcov_hsp_perc <Real, 0..100>\n",
      "   Percent query coverage per hsp\n",
      " -max_hsps <Integer, >=1>\n",
      "   Set maximum number of HSPs per subject sequence to save for each query\n",
      " -culling_limit <Integer, >=0>\n",
      "   If the query range of a hit is enveloped by that of at least this many\n",
      "   higher-scoring hits, delete the hit\n",
      "    * Incompatible with:  best_hit_overhang, best_hit_score_edge\n",
      " -best_hit_overhang <Real, (>0 and <0.5)>\n",
      "   Best Hit algorithm overhang value (recommended value: 0.1)\n",
      "    * Incompatible with:  culling_limit\n",
      " -best_hit_score_edge <Real, (>0 and <0.5)>\n",
      "   Best Hit algorithm score edge value (recommended value: 0.1)\n",
      "    * Incompatible with:  culling_limit\n",
      " -subject_besthit\n",
      "   Turn on best hit per subject sequence\n",
      " -max_target_seqs <Integer, >=1>\n",
      "   Maximum number of aligned sequences to keep \n",
      "   (value of 5 or more is recommended)\n",
      "   Default = `500'\n",
      "    * Incompatible with:  num_descriptions, num_alignments\n",
      "\n",
      " *** Statistical options\n",
      " -dbsize <Int8>\n",
      "   Effective length of the database \n",
      " -searchsp <Int8, >=0>\n",
      "   Effective length of the search space\n",
      "\n",
      " *** Search strategy options\n",
      " -import_search_strategy <File_In>\n",
      "   Search strategy to use\n",
      "    * Incompatible with:  export_search_strategy\n",
      " -export_search_strategy <File_Out>\n",
      "   File name to record the search strategy used\n",
      "    * Incompatible with:  import_search_strategy\n",
      "\n",
      " *** Extension options\n",
      " -xdrop_ungap <Real>\n",
      "   X-dropoff value (in bits) for ungapped extensions\n",
      " -xdrop_gap <Real>\n",
      "   X-dropoff value (in bits) for preliminary gapped extensions\n",
      " -xdrop_gap_final <Real>\n",
      "   X-dropoff value (in bits) for final gapped alignment\n",
      " -window_size <Integer, >=0>\n",
      "   Multiple hits window size, use 0 to specify 1-hit algorithm\n",
      " -ungapped\n",
      "   Perform ungapped alignment only?\n",
      "\n",
      " *** Miscellaneous options\n",
      " -parse_deflines\n",
      "   Should the query and subject defline(s) be parsed?\n",
      " -num_threads <Integer, >=1>\n",
      "   Number of threads (CPUs) to use in the BLAST search\n",
      "   Default = `1'\n",
      "    * Incompatible with:  remote\n",
      " -remote\n",
      "   Execute search remotely?\n",
      "    * Incompatible with:  gilist, seqidlist, taxids, taxidlist,\n",
      "   negative_gilist, negative_seqidlist, negative_taxids, negative_taxidlist,\n",
      "   subject_loc, num_threads\n",
      " -use_sw_tback\n",
      "   Compute locally optimal Smith-Waterman alignments?\n",
      "\n",
      "(Bio) "
     ]
    },
    {
     "ename": "",
     "evalue": "1",
     "output_type": "error",
     "traceback": []
    }
   ],
   "source": [
    "blastp -help"
   ]
  },
  {
   "cell_type": "code",
   "execution_count": null,
   "metadata": {},
   "outputs": [],
   "source": []
  },
  {
   "cell_type": "markdown",
   "metadata": {},
   "source": [
    "### Test data"
   ]
  },
  {
   "cell_type": "markdown",
   "metadata": {},
   "source": [
    "Clostridium hiranonis DSM 13275 (500633.7)"
   ]
  },
  {
   "cell_type": "markdown",
   "metadata": {},
   "source": [
    "Clostridium bartlettii DSM 16795 (445973.7)"
   ]
  },
  {
   "cell_type": "markdown",
   "metadata": {},
   "source": [
    "Ruminococcus gnavus ATCC 29149 (411470.6)"
   ]
  },
  {
   "cell_type": "markdown",
   "metadata": {},
   "source": [
    "Methanosphaera stadtmanae DSM 3091 (339860.6)"
   ]
  },
  {
   "cell_type": "markdown",
   "metadata": {},
   "source": [
    "Erysipelotrichaceae bacterium 3_1_53 (658659.3)"
   ]
  }
 ],
 "metadata": {
  "kernelspec": {
   "display_name": "Bash",
   "language": "bash",
   "name": "bash"
  },
  "language_info": {
   "codemirror_mode": "shell",
   "file_extension": ".sh",
   "mimetype": "text/x-sh",
   "name": "bash"
  }
 },
 "nbformat": 4,
 "nbformat_minor": 4
}
