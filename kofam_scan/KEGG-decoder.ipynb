{
 "cells": [
  {
   "cell_type": "code",
   "execution_count": 1,
   "metadata": {},
   "outputs": [
    {
     "name": "stdout",
     "output_type": "stream",
     "text": [
      "/home/junyuchen/Biosoft/anaconda3/bin/KEGG-decoder\n"
     ]
    }
   ],
   "source": [
    "!which KEGG-decoder"
   ]
  },
  {
   "cell_type": "code",
   "execution_count": null,
   "metadata": {},
   "outputs": [],
   "source": []
  },
  {
   "cell_type": "code",
   "execution_count": null,
   "metadata": {},
   "outputs": [],
   "source": [
    "/home/junyuchen/1-Projects/WGS-Pipeline/data/kofam_scan_test.txt"
   ]
  },
  {
   "cell_type": "code",
   "execution_count": 2,
   "metadata": {},
   "outputs": [],
   "source": [
    "!KEGG-decoder --input /home/junyuchen/1-Projects/WGS-Pipeline/data/kofam_scan_test.txt --output /home/junyuchen/1-Projects/WGS-Pipeline/data/kofam_scan_test_out.tsv --vizoption static"
   ]
  },
  {
   "cell_type": "code",
   "execution_count": 5,
   "metadata": {},
   "outputs": [
    {
     "name": "stdout",
     "output_type": "stream",
     "text": [
      "usage: KEGG-decoder [-h] [-i INPUT] [-t TANGLEOPT] [-o OUTPUT] [-v VIZOPTION]\n",
      "                    [--newick NEWICK] [-m MYORDER]\n",
      "\n",
      "Accepts KEGG KOALA text file as input. Produces function list and heat map\n",
      "figure.\n",
      "\n",
      "optional arguments:\n",
      "  -h, --help            show this help message and exit\n",
      "  -i INPUT, --input INPUT\n",
      "                        Input KOALA file. See documentation for correct format\n",
      "  -t TANGLEOPT, --tangleopt TANGLEOPT\n",
      "                        Number of tree iterations for minimizing tangles in\n",
      "                        tanglegram\n",
      "  -o OUTPUT, --output OUTPUT\n",
      "                        List version of the final heat map figure\n",
      "  -v VIZOPTION, --vizoption VIZOPTION\n",
      "                        Options: static, interactive, tanglegram\n",
      "  --newick NEWICK       Required input for tanglegram visualization\n",
      "  -m MYORDER, --myorder MYORDER\n",
      "                        Orders output as specified by user.\n"
     ]
    }
   ],
   "source": [
    "!KEGG-decoder --help"
   ]
  },
  {
   "cell_type": "code",
   "execution_count": 6,
   "metadata": {},
   "outputs": [
    {
     "name": "stdout",
     "output_type": "stream",
     "text": [
      "Traceback (most recent call last):\n",
      "  File \"/home/junyuchen/Biosoft/anaconda3/bin/KEGG-decoder\", line 8, in <module>\n",
      "    sys.exit(main())\n",
      "  File \"/home/junyuchen/Biosoft/anaconda3/lib/python3.7/site-packages/KEGGDecoder/KEGG_decoder.py\", line 1654, in main\n",
      "    plotly_viz(genome, os.path.splitext(filehandle)[0] + \".html\")\n",
      "  File \"/home/junyuchen/Biosoft/anaconda3/lib/python3.7/site-packages/KEGGDecoder/Plotly_viz.py\", line 13, in plotly_viz\n",
      "    Euclidean_genome_df = hClust_euclidean(genome_df)\n",
      "  File \"/home/junyuchen/Biosoft/anaconda3/lib/python3.7/site-packages/KEGGDecoder/KEGG_clustering.py\", line 11, in hClust_euclidean\n",
      "    linkage_matrix = linkage(genome_df, method='average', metric='euclidean')\n",
      "  File \"/home/junyuchen/Biosoft/anaconda3/lib/python3.7/site-packages/scipy/cluster/hierarchy.py\", line 1064, in linkage\n",
      "    n = int(distance.num_obs_y(y))\n",
      "  File \"/home/junyuchen/Biosoft/anaconda3/lib/python3.7/site-packages/scipy/spatial/distance.py\", line 2403, in num_obs_y\n",
      "    raise ValueError(\"The number of observations cannot be determined on \"\n",
      "ValueError: The number of observations cannot be determined on an empty distance matrix.\n"
     ]
    }
   ],
   "source": [
    "!KEGG-decoder --input /home/junyuchen/1-Projects/WGS-Pipeline/data/kofam_scan_test.txt --output /home/junyuchen/1-Projects/WGS-Pipeline/data/kofam_scan_test_out.tsv --vizoption interactive"
   ]
  },
  {
   "cell_type": "code",
   "execution_count": null,
   "metadata": {},
   "outputs": [],
   "source": []
  }
 ],
 "metadata": {
  "kernelspec": {
   "display_name": "Python 3",
   "language": "python",
   "name": "python3"
  },
  "language_info": {
   "codemirror_mode": {
    "name": "ipython",
    "version": 3
   },
   "file_extension": ".py",
   "mimetype": "text/x-python",
   "name": "python",
   "nbconvert_exporter": "python",
   "pygments_lexer": "ipython3",
   "version": "3.7.8"
  }
 },
 "nbformat": 4,
 "nbformat_minor": 4
}
