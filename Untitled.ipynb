{
 "cells": [
  {
   "cell_type": "code",
   "execution_count": null,
   "id": "younger-tradition",
   "metadata": {},
   "outputs": [],
   "source": [
    "cmd = \"fastp -i \" + R1 + \" -I \" + R2 + \" -o \" + os.path.join(unmergeDir, prefix + \"_R1.fastq\") + \" -O \" + os.path.join(unmergeDir, prefix + \"_R2.fastq\") + \\\n",
    "    \" --trim_front1 30 --max_len1 750 --trim_front2 30 --max_len2 750 --cut_front --cut_tail --cut_window_size 20 --cut_mean_quality 30\" + \\\n",
    "    \" --merge --merged_out \" + os.path.join(mergeDir, prefix + \".fastq\") + \" --correction --overlap_len_require 20 \" + \\\n",
    "    \" --html \" + os.path.join(fastpDir, prefix + \".html\") + \" --json \" + os.path.join(fastpDir, prefix + \".json\") + \" --report_title \" + prefix + \"-fastq-merge-report\"\n",
    "    subprocess.call(cmd, shell=True)"
   ]
  }
 ],
 "metadata": {
  "kernelspec": {
   "display_name": "Python 3",
   "language": "python",
   "name": "python3"
  },
  "language_info": {
   "codemirror_mode": {
    "name": "ipython",
    "version": 3
   },
   "file_extension": ".py",
   "mimetype": "text/x-python",
   "name": "python",
   "nbconvert_exporter": "python",
   "pygments_lexer": "ipython3",
   "version": "3.8.6"
  }
 },
 "nbformat": 4,
 "nbformat_minor": 5
}
