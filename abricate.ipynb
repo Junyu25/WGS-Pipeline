{
 "cells": [
  {
   "cell_type": "markdown",
   "metadata": {},
   "source": [
    "## abricate"
   ]
  },
  {
   "cell_type": "markdown",
   "metadata": {},
   "source": [
    "https://github.com/tseemann/abricate"
   ]
  },
  {
   "cell_type": "markdown",
   "metadata": {},
   "source": [
    "Mass screening of contigs for antimicrobial resistance or virulence genes. It comes bundled with multiple databases: NCBI, CARD, ARG-ANNOT, Resfinder, MEGARES, EcOH, PlasmidFinder, Ecoli_VF and VFDB."
   ]
  },
  {
   "cell_type": "code",
   "execution_count": null,
   "metadata": {},
   "outputs": [],
   "source": [
    "conda create -n wgs -c conda-forge -c bioconda -c defaults abricate "
   ]
  },
  {
   "cell_type": "code",
   "execution_count": 1,
   "metadata": {},
   "outputs": [
    {
     "name": "stdout",
     "output_type": "stream",
     "text": [
      "(wgs) "
     ]
    },
    {
     "ename": "",
     "evalue": "1",
     "output_type": "error",
     "traceback": []
    }
   ],
   "source": [
    "conda activate wgs"
   ]
  },
  {
   "cell_type": "code",
   "execution_count": 2,
   "metadata": {},
   "outputs": [
    {
     "name": "stdout",
     "output_type": "stream",
     "text": [
      "Checking dependencies are installed:\n",
      "Found 'blastn' => /home/junyuchen/Biosoft/anaconda3/envs/wgs/bin/blastn\n",
      "Found 'blastx' => /home/junyuchen/Biosoft/anaconda3/envs/wgs/bin/blastx\n",
      "Found 'makeblastdb' => /home/junyuchen/Biosoft/anaconda3/envs/wgs/bin/makeblastdb\n",
      "Found 'blastdbcmd' => /home/junyuchen/Biosoft/anaconda3/envs/wgs/bin/blastdbcmd\n",
      "Found 'any2fasta' => /home/junyuchen/Biosoft/anaconda3/envs/wgs/bin/any2fasta\n",
      "Found 'gzip' => /bin/gzip\n",
      "Found 'unzip' => /home/junyuchen/Biosoft/anaconda3/envs/wgs/bin/unzip\n",
      "OK.\n",
      "(wgs) "
     ]
    },
    {
     "ename": "",
     "evalue": "1",
     "output_type": "error",
     "traceback": []
    }
   ],
   "source": [
    "abricate --check"
   ]
  },
  {
   "cell_type": "code",
   "execution_count": 3,
   "metadata": {},
   "outputs": [
    {
     "name": "stdout",
     "output_type": "stream",
     "text": [
      "DATABASE\tSEQUENCES\tDBTYPE\tDATE\n",
      "megares\t6635\tnucl\t2020-Apr-19\n",
      "plasmidfinder\t460\tnucl\t2020-Apr-19\n",
      "ecoli_vf\t2701\tnucl\t2020-Apr-19\n",
      "resfinder\t3077\tnucl\t2020-Apr-19\n",
      "argannot\t2223\tnucl\t2020-Apr-19\n",
      "ecoh\t597\tnucl\t2020-Apr-19\n",
      "card\t2631\tnucl\t2020-Apr-19\n",
      "ncbi\t5386\tnucl\t2020-Apr-19\n",
      "vfdb\t2597\tnucl\t2020-Apr-19\n",
      "(wgs) "
     ]
    },
    {
     "ename": "",
     "evalue": "1",
     "output_type": "error",
     "traceback": []
    }
   ],
   "source": [
    "abricate --list"
   ]
  },
  {
   "cell_type": "raw",
   "metadata": {},
   "source": [
    "abricate --help"
   ]
  },
  {
   "cell_type": "code",
   "execution_count": 5,
   "metadata": {},
   "outputs": [
    {
     "name": "stdout",
     "output_type": "stream",
     "text": [
      "#FILE\tSEQUENCE\tSTART\tEND\tSTRAND\tGENE\tCOVERAGE\tCOVERAGE_MAP\tGAPS\t%COVERAGE\t%IDENTITY\tDATABASE\tACCESSION\tPRODUCT\tRESISTANCE\n",
      "./Test/Root11.fasta\tRoot11_contig_1\t521315\t522634\t+\thblC\t1-1320/1320\t===============\t0/0\t100.00\t97.88\tvfdb\tNP_832847\t(hblC) Hemolysin BL lytic component L2 [HBL (VF0532)] [Bacillus cereus ATCC 14579]\t\n",
      "./Test/Root11.fasta\tRoot11_contig_1\t522696\t523916\t+\thblD\t1-1221/1221\t===============\t0/0\t100.00\t99.59\tvfdb\tNP_832846\t(hblD) Hemolysin BL lytic component L1 [HBL (VF0532)] [Bacillus cereus ATCC 14579]\t\n",
      "./Test/Root11.fasta\tRoot11_contig_1\t525455\t526855\t+\thblA\t1-1401/1401\t===============\t0/0\t100.00\t99.00\tvfdb\tNP_832844\t(hblA) Hemolysin BL binding component precursor [HBL (VF0532)] [Bacillus cereus ATCC 14579]\t\n",
      "./Test/Root11.fasta\tRoot11_contig_2\t514805\t515965\t+\tnheA\t1-1161/1161\t===============\t0/0\t100.00\t93.89\tvfdb\tNP_978284\t(nheA) non-hemolytic enterotoxin A [Nhe (VF0533)] [Bacillus cereus ATCC 10987]\t\n",
      "./Test/Root11.fasta\tRoot11_contig_2\t516003\t517211\t+\tnheB\t1-1209/1209\t===============\t0/0\t100.00\t94.95\tvfdb\tNP_978285\t(nheB) non-hemolytic enterotoxin B [Nhe (VF0533)] [Bacillus cereus ATCC 10987]\t\n",
      "./Test/Root11.fasta\tRoot11_contig_2\t517319\t518398\t+\tnheC\t1-1080/1080\t===============\t0/0\t100.00\t90.56\tvfdb\tNP_978286\t(nheC) non-hemolytic enterotoxin C [Nhe (VF0533)] [Bacillus cereus ATCC 10987]\t\n",
      "./Test/Root11.fasta\tRoot11_contig_5\t197776\t199314\t+\tBAS3109\t1-1539/1539\t===============\t0/0\t100.00\t94.28\tvfdb\tYP_029366\t(BAS3109) thiol-activated cytolysin [ALO (VF0534)] [Bacillus anthracis str. Sterne]\t\n",
      "./Test/Root11.fasta\tRoot11_contig_7\t160273\t161282\t+\tcytK\t1-1010/1011\t===============\t0/0\t99.90\t94.45\tvfdb\tNP_977531\t(cytK) cytotoxin K [CytK (VF0535)] [Bacillus cereus ATCC 10987]\t\n",
      "./Test/Root11.fasta\tRoot11_contig_9\t53869\t56268\t-\tinhA\t1-2400/2400\t===============\t0/0\t100.00\t93.46\tvfdb\tYP_026915\t(inhA) immune inhibitor A metalloprotease [InhA (VF0536)] [Bacillus anthracis str. Sterne]\t\n",
      "(wgs) "
     ]
    },
    {
     "ename": "",
     "evalue": "1",
     "output_type": "error",
     "traceback": []
    }
   ],
   "source": [
    "abricate --db vfdb --quiet ./Test/Root11.fasta"
   ]
  },
  {
   "cell_type": "code",
   "execution_count": 6,
   "metadata": {},
   "outputs": [
    {
     "name": "stdout",
     "output_type": "stream",
     "text": [
      "Using nucl database vfdb:  2597 sequences -  2020-Apr-19\n",
      "Processing: ./Test/Root11.fasta\n",
      "Found 9 genes in ./Test/Root11.fasta\n",
      "Tip: did you know? abricate was named after 'A'nti 'B'acterial 'R'esistiance\n",
      "Done.\n",
      "(wgs) "
     ]
    },
    {
     "ename": "",
     "evalue": "1",
     "output_type": "error",
     "traceback": []
    }
   ],
   "source": [
    "abricate --db vfdb ./Test/Root11.fasta > TestOut.tab"
   ]
  },
  {
   "cell_type": "code",
   "execution_count": 8,
   "metadata": {},
   "outputs": [
    {
     "name": "stdout",
     "output_type": "stream",
     "text": [
      "Using nucl database card:  2631 sequences -  2020-Apr-19\n",
      "Processing: ./Test/Root11.fasta\n",
      "Found 4 genes in ./Test/Root11.fasta\n",
      "Tip: have a suggestion for abricate? Tell me at https://github.com/tseemann/abricate/issues\n",
      "Done.\n",
      "(wgs) "
     ]
    },
    {
     "ename": "",
     "evalue": "1",
     "output_type": "error",
     "traceback": []
    }
   ],
   "source": [
    "abricate --db card ./Test/Root11.fasta > TestOut_card.tsv"
   ]
  },
  {
   "cell_type": "code",
   "execution_count": null,
   "metadata": {},
   "outputs": [],
   "source": [
    "conda install -c bioconda parsnp=1.5.1-0"
   ]
  },
  {
   "cell_type": "code",
   "execution_count": null,
   "metadata": {},
   "outputs": [],
   "source": [
    "conda install -c bioconda parsnp=1.5.1"
   ]
  },
  {
   "cell_type": "code",
   "execution_count": null,
   "metadata": {},
   "outputs": [],
   "source": [
    "cp /home/junyuchen/.condarc ~/"
   ]
  }
 ],
 "metadata": {
  "kernelspec": {
   "display_name": "Bash",
   "language": "bash",
   "name": "bash"
  },
  "language_info": {
   "codemirror_mode": "shell",
   "file_extension": ".sh",
   "mimetype": "text/x-sh",
   "name": "bash"
  }
 },
 "nbformat": 4,
 "nbformat_minor": 4
}
