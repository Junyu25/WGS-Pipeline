{
 "cells": [
  {
   "cell_type": "code",
   "execution_count": 2,
   "metadata": {
    "execution": {
     "iopub.execute_input": "2020-12-03T08:25:00.364461Z",
     "iopub.status.busy": "2020-12-03T08:25:00.364189Z",
     "iopub.status.idle": "2020-12-03T08:25:00.940697Z",
     "shell.execute_reply": "2020-12-03T08:25:00.939624Z",
     "shell.execute_reply.started": "2020-12-03T08:25:00.364436Z"
    }
   },
   "outputs": [],
   "source": [
    "import pandas as pd"
   ]
  },
  {
   "cell_type": "code",
   "execution_count": 3,
   "metadata": {
    "execution": {
     "iopub.execute_input": "2020-12-03T08:25:00.942470Z",
     "iopub.status.busy": "2020-12-03T08:25:00.942179Z",
     "iopub.status.idle": "2020-12-03T08:25:00.971912Z",
     "shell.execute_reply": "2020-12-03T08:25:00.967874Z",
     "shell.execute_reply.started": "2020-12-03T08:25:00.942430Z"
    }
   },
   "outputs": [],
   "source": [
    "df = pd.read_table(\"taxonomy_hgr.tab\", sep=\"\\t\")"
   ]
  },
  {
   "cell_type": "code",
   "execution_count": 4,
   "metadata": {
    "execution": {
     "iopub.execute_input": "2020-12-03T08:25:00.976142Z",
     "iopub.status.busy": "2020-12-03T08:25:00.975692Z",
     "iopub.status.idle": "2020-12-03T08:25:01.013129Z",
     "shell.execute_reply": "2020-12-03T08:25:01.011232Z",
     "shell.execute_reply.started": "2020-12-03T08:25:00.976100Z"
    }
   },
   "outputs": [
    {
     "data": {
      "text/html": [
       "<div>\n",
       "<style scoped>\n",
       "    .dataframe tbody tr th:only-of-type {\n",
       "        vertical-align: middle;\n",
       "    }\n",
       "\n",
       "    .dataframe tbody tr th {\n",
       "        vertical-align: top;\n",
       "    }\n",
       "\n",
       "    .dataframe thead th {\n",
       "        text-align: right;\n",
       "    }\n",
       "</style>\n",
       "<table border=\"1\" class=\"dataframe\">\n",
       "  <thead>\n",
       "    <tr style=\"text-align: right;\">\n",
       "      <th></th>\n",
       "      <th>Genome</th>\n",
       "      <th>Phylum</th>\n",
       "      <th>Class</th>\n",
       "      <th>Order</th>\n",
       "      <th>Family</th>\n",
       "      <th>Genus</th>\n",
       "    </tr>\n",
       "  </thead>\n",
       "  <tbody>\n",
       "    <tr>\n",
       "      <th>0</th>\n",
       "      <td>11861_6_55</td>\n",
       "      <td>Firmicutes</td>\n",
       "      <td>Clostridia</td>\n",
       "      <td>Clostridiales</td>\n",
       "      <td>Peptostreptococcaceae</td>\n",
       "      <td>Clostridium</td>\n",
       "    </tr>\n",
       "    <tr>\n",
       "      <th>1</th>\n",
       "      <td>11861_6_58</td>\n",
       "      <td>Firmicutes</td>\n",
       "      <td>Clostridia</td>\n",
       "      <td>Clostridiales</td>\n",
       "      <td>Lachnospiraceae</td>\n",
       "      <td>Blautia</td>\n",
       "    </tr>\n",
       "    <tr>\n",
       "      <th>2</th>\n",
       "      <td>11861_6_61</td>\n",
       "      <td>Bacteroidetes</td>\n",
       "      <td>Bacteroidia</td>\n",
       "      <td>Bacteroidales</td>\n",
       "      <td>Rikenellaceae</td>\n",
       "      <td>Alistipes</td>\n",
       "    </tr>\n",
       "    <tr>\n",
       "      <th>3</th>\n",
       "      <td>11861_6_63</td>\n",
       "      <td>Bacteroidetes</td>\n",
       "      <td>Bacteroidia</td>\n",
       "      <td>Bacteroidales</td>\n",
       "      <td>Rikenellaceae</td>\n",
       "      <td>Alistipes</td>\n",
       "    </tr>\n",
       "    <tr>\n",
       "      <th>4</th>\n",
       "      <td>11861_6_65</td>\n",
       "      <td>Firmicutes</td>\n",
       "      <td>Clostridia</td>\n",
       "      <td>Clostridiales</td>\n",
       "      <td>Ruminococcaceae</td>\n",
       "      <td>NaN</td>\n",
       "    </tr>\n",
       "    <tr>\n",
       "      <th>...</th>\n",
       "      <td>...</td>\n",
       "      <td>...</td>\n",
       "      <td>...</td>\n",
       "      <td>...</td>\n",
       "      <td>...</td>\n",
       "      <td>...</td>\n",
       "    </tr>\n",
       "    <tr>\n",
       "      <th>548</th>\n",
       "      <td>GCF_900095855</td>\n",
       "      <td>Firmicutes</td>\n",
       "      <td>Negativicutes</td>\n",
       "      <td>Selenomonadales</td>\n",
       "      <td>Veillonellaceae</td>\n",
       "      <td>Megasphaera</td>\n",
       "    </tr>\n",
       "    <tr>\n",
       "      <th>549</th>\n",
       "      <td>GCF_900095865</td>\n",
       "      <td>Firmicutes</td>\n",
       "      <td>Clostridia</td>\n",
       "      <td>Clostridiales</td>\n",
       "      <td>Ruminococcaceae</td>\n",
       "      <td>NaN</td>\n",
       "    </tr>\n",
       "    <tr>\n",
       "      <th>550</th>\n",
       "      <td>GCF_900095875</td>\n",
       "      <td>Firmicutes</td>\n",
       "      <td>Negativicutes</td>\n",
       "      <td>Selenomonadales</td>\n",
       "      <td>Veillonellaceae</td>\n",
       "      <td>Megasphaera</td>\n",
       "    </tr>\n",
       "    <tr>\n",
       "      <th>551</th>\n",
       "      <td>GCF_900107675</td>\n",
       "      <td>Bacteroidetes</td>\n",
       "      <td>Bacteroidia</td>\n",
       "      <td>Bacteroidales</td>\n",
       "      <td>Rikenellaceae</td>\n",
       "      <td>Alistipes</td>\n",
       "    </tr>\n",
       "    <tr>\n",
       "      <th>552</th>\n",
       "      <td>GCF_900119705</td>\n",
       "      <td>Firmicutes</td>\n",
       "      <td>Clostridia</td>\n",
       "      <td>Clostridiales</td>\n",
       "      <td>Clostridiales Family XI</td>\n",
       "      <td>NaN</td>\n",
       "    </tr>\n",
       "  </tbody>\n",
       "</table>\n",
       "<p>553 rows × 6 columns</p>\n",
       "</div>"
      ],
      "text/plain": [
       "            Genome         Phylum          Class            Order  \\\n",
       "0       11861_6_55     Firmicutes     Clostridia    Clostridiales   \n",
       "1       11861_6_58     Firmicutes     Clostridia    Clostridiales   \n",
       "2       11861_6_61  Bacteroidetes    Bacteroidia    Bacteroidales   \n",
       "3       11861_6_63  Bacteroidetes    Bacteroidia    Bacteroidales   \n",
       "4       11861_6_65     Firmicutes     Clostridia    Clostridiales   \n",
       "..             ...            ...            ...              ...   \n",
       "548  GCF_900095855     Firmicutes  Negativicutes  Selenomonadales   \n",
       "549  GCF_900095865     Firmicutes     Clostridia    Clostridiales   \n",
       "550  GCF_900095875     Firmicutes  Negativicutes  Selenomonadales   \n",
       "551  GCF_900107675  Bacteroidetes    Bacteroidia    Bacteroidales   \n",
       "552  GCF_900119705     Firmicutes     Clostridia    Clostridiales   \n",
       "\n",
       "                      Family        Genus  \n",
       "0      Peptostreptococcaceae  Clostridium  \n",
       "1            Lachnospiraceae      Blautia  \n",
       "2              Rikenellaceae    Alistipes  \n",
       "3              Rikenellaceae    Alistipes  \n",
       "4            Ruminococcaceae          NaN  \n",
       "..                       ...          ...  \n",
       "548          Veillonellaceae  Megasphaera  \n",
       "549          Ruminococcaceae          NaN  \n",
       "550          Veillonellaceae  Megasphaera  \n",
       "551            Rikenellaceae    Alistipes  \n",
       "552  Clostridiales Family XI          NaN  \n",
       "\n",
       "[553 rows x 6 columns]"
      ]
     },
     "execution_count": 4,
     "metadata": {},
     "output_type": "execute_result"
    }
   ],
   "source": [
    "df"
   ]
  },
  {
   "cell_type": "code",
   "execution_count": 5,
   "metadata": {
    "execution": {
     "iopub.execute_input": "2020-12-03T08:25:02.411345Z",
     "iopub.status.busy": "2020-12-03T08:25:02.411091Z",
     "iopub.status.idle": "2020-12-03T08:25:02.421076Z",
     "shell.execute_reply": "2020-12-03T08:25:02.419980Z",
     "shell.execute_reply.started": "2020-12-03T08:25:02.411321Z"
    }
   },
   "outputs": [
    {
     "data": {
      "text/plain": [
       "0         11861_6_55\n",
       "1         11861_6_58\n",
       "2         11861_6_61\n",
       "3         11861_6_63\n",
       "4         11861_6_65\n",
       "           ...      \n",
       "548    GCF_900095855\n",
       "549    GCF_900095865\n",
       "550    GCF_900095875\n",
       "551    GCF_900107675\n",
       "552    GCF_900119705\n",
       "Name: Genome, Length: 553, dtype: object"
      ]
     },
     "execution_count": 5,
     "metadata": {},
     "output_type": "execute_result"
    }
   ],
   "source": [
    "df.Genome"
   ]
  },
  {
   "cell_type": "code",
   "execution_count": 8,
   "metadata": {
    "execution": {
     "iopub.execute_input": "2020-12-03T08:25:35.250833Z",
     "iopub.status.busy": "2020-12-03T08:25:35.250543Z",
     "iopub.status.idle": "2020-12-03T08:25:35.257175Z",
     "shell.execute_reply": "2020-12-03T08:25:35.256038Z",
     "shell.execute_reply.started": "2020-12-03T08:25:35.250806Z"
    }
   },
   "outputs": [
    {
     "data": {
      "text/plain": [
       "True"
      ]
     },
     "execution_count": 8,
     "metadata": {},
     "output_type": "execute_result"
    }
   ],
   "source": [
    "\"11861_6_55\" in df.Genome.tolist()"
   ]
  },
  {
   "cell_type": "markdown",
   "metadata": {},
   "source": [
    "x.loc to find the index of Genus name"
   ]
  },
  {
   "cell_type": "markdown",
   "metadata": {},
   "source": [
    "get the index of value"
   ]
  },
  {
   "cell_type": "code",
   "execution_count": 10,
   "metadata": {
    "execution": {
     "iopub.execute_input": "2020-12-03T08:34:20.955404Z",
     "iopub.status.busy": "2020-12-03T08:34:20.955177Z",
     "iopub.status.idle": "2020-12-03T08:34:20.961231Z",
     "shell.execute_reply": "2020-12-03T08:34:20.960130Z",
     "shell.execute_reply.started": "2020-12-03T08:34:20.955383Z"
    }
   },
   "outputs": [
    {
     "name": "stdout",
     "output_type": "stream",
     "text": [
      "[0]\n"
     ]
    }
   ],
   "source": [
    "print(df[df['Genome']=='11861_6_55'].index.values)"
   ]
  },
  {
   "cell_type": "code",
   "execution_count": 11,
   "metadata": {
    "execution": {
     "iopub.execute_input": "2020-12-03T08:34:34.515959Z",
     "iopub.status.busy": "2020-12-03T08:34:34.515664Z",
     "iopub.status.idle": "2020-12-03T08:34:34.523177Z",
     "shell.execute_reply": "2020-12-03T08:34:34.522024Z",
     "shell.execute_reply.started": "2020-12-03T08:34:34.515935Z"
    }
   },
   "outputs": [
    {
     "name": "stdout",
     "output_type": "stream",
     "text": [
      "[3]\n"
     ]
    }
   ],
   "source": [
    "print(df[df['Genome']=='11861_6_63'].index.values)"
   ]
  },
  {
   "cell_type": "code",
   "execution_count": 18,
   "metadata": {
    "execution": {
     "iopub.execute_input": "2020-12-03T08:39:03.286611Z",
     "iopub.status.busy": "2020-12-03T08:39:03.286313Z",
     "iopub.status.idle": "2020-12-03T08:39:03.294957Z",
     "shell.execute_reply": "2020-12-03T08:39:03.293547Z",
     "shell.execute_reply.started": "2020-12-03T08:39:03.286582Z"
    }
   },
   "outputs": [
    {
     "data": {
      "text/plain": [
       "array([3])"
      ]
     },
     "execution_count": 18,
     "metadata": {},
     "output_type": "execute_result"
    }
   ],
   "source": [
    "df[df['Genome']=='11861_6_63'].index.values"
   ]
  },
  {
   "cell_type": "code",
   "execution_count": 20,
   "metadata": {
    "execution": {
     "iopub.execute_input": "2020-12-03T08:39:33.153778Z",
     "iopub.status.busy": "2020-12-03T08:39:33.153511Z",
     "iopub.status.idle": "2020-12-03T08:39:33.161575Z",
     "shell.execute_reply": "2020-12-03T08:39:33.160700Z",
     "shell.execute_reply.started": "2020-12-03T08:39:33.153751Z"
    }
   },
   "outputs": [
    {
     "data": {
      "text/plain": [
       "'Alistipes'"
      ]
     },
     "execution_count": 20,
     "metadata": {},
     "output_type": "execute_result"
    }
   ],
   "source": [
    "df['Genus'][df[df['Genome']=='11861_6_63'].index.values[0]]"
   ]
  },
  {
   "cell_type": "code",
   "execution_count": null,
   "metadata": {},
   "outputs": [],
   "source": []
  },
  {
   "cell_type": "code",
   "execution_count": 13,
   "metadata": {
    "execution": {
     "iopub.execute_input": "2020-12-03T08:34:54.570730Z",
     "iopub.status.busy": "2020-12-03T08:34:54.570505Z",
     "iopub.status.idle": "2020-12-03T08:34:54.576318Z",
     "shell.execute_reply": "2020-12-03T08:34:54.575353Z",
     "shell.execute_reply.started": "2020-12-03T08:34:54.570708Z"
    }
   },
   "outputs": [
    {
     "data": {
      "text/plain": [
       "'Alistipes'"
      ]
     },
     "execution_count": 13,
     "metadata": {},
     "output_type": "execute_result"
    }
   ],
   "source": [
    "df['Genus'][3]"
   ]
  },
  {
   "cell_type": "code",
   "execution_count": 17,
   "metadata": {
    "execution": {
     "iopub.execute_input": "2020-12-03T08:35:57.275796Z",
     "iopub.status.busy": "2020-12-03T08:35:57.275530Z",
     "iopub.status.idle": "2020-12-03T08:35:57.283143Z",
     "shell.execute_reply": "2020-12-03T08:35:57.282154Z",
     "shell.execute_reply.started": "2020-12-03T08:35:57.275771Z"
    }
   },
   "outputs": [
    {
     "data": {
      "text/plain": [
       "<bound method Series.isna of 0      Clostridium\n",
       "1          Blautia\n",
       "2        Alistipes\n",
       "3        Alistipes\n",
       "4              NaN\n",
       "          ...     \n",
       "548    Megasphaera\n",
       "549            NaN\n",
       "550    Megasphaera\n",
       "551      Alistipes\n",
       "552            NaN\n",
       "Name: Genus, Length: 553, dtype: object>"
      ]
     },
     "execution_count": 17,
     "metadata": {},
     "output_type": "execute_result"
    }
   ],
   "source": [
    "df['Genus'].isna"
   ]
  },
  {
   "cell_type": "code",
   "execution_count": null,
   "metadata": {},
   "outputs": [],
   "source": []
  }
 ],
 "metadata": {
  "kernelspec": {
   "display_name": "Python 3",
   "language": "python",
   "name": "python3"
  },
  "language_info": {
   "codemirror_mode": {
    "name": "ipython",
    "version": 3
   },
   "file_extension": ".py",
   "mimetype": "text/x-python",
   "name": "python",
   "nbconvert_exporter": "python",
   "pygments_lexer": "ipython3",
   "version": "3.8.3"
  }
 },
 "nbformat": 4,
 "nbformat_minor": 4
}
