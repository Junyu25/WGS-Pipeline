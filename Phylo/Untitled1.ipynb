{
 "cells": [
  {
   "cell_type": "code",
   "execution_count": null,
   "metadata": {},
   "outputs": [],
   "source": [
    "http://readiab.org/"
   ]
  },
  {
   "cell_type": "code",
   "execution_count": 1,
   "metadata": {
    "execution": {
     "iopub.execute_input": "2020-12-01T13:41:01.205705Z",
     "iopub.status.busy": "2020-12-01T13:41:01.205460Z",
     "iopub.status.idle": "2020-12-01T13:41:01.923626Z",
     "shell.execute_reply": "2020-12-01T13:41:01.922824Z",
     "shell.execute_reply.started": "2020-12-01T13:41:01.205639Z"
    }
   },
   "outputs": [],
   "source": [
    "from io import StringIO\n",
    "from skbio import read\n",
    "from skbio.tree import TreeNode"
   ]
  },
  {
   "cell_type": "code",
   "execution_count": 2,
   "metadata": {
    "execution": {
     "iopub.execute_input": "2020-12-01T13:41:24.678404Z",
     "iopub.status.busy": "2020-12-01T13:41:24.678172Z",
     "iopub.status.idle": "2020-12-01T13:41:24.682079Z",
     "shell.execute_reply": "2020-12-01T13:41:24.681127Z",
     "shell.execute_reply.started": "2020-12-01T13:41:24.678380Z"
    }
   },
   "outputs": [],
   "source": [
    "f = StringIO(\"((D, E)B, (F, G)C)A;\")"
   ]
  },
  {
   "cell_type": "code",
   "execution_count": 3,
   "metadata": {
    "execution": {
     "iopub.execute_input": "2020-12-01T13:41:31.102824Z",
     "iopub.status.busy": "2020-12-01T13:41:31.102519Z",
     "iopub.status.idle": "2020-12-01T13:41:31.107779Z",
     "shell.execute_reply": "2020-12-01T13:41:31.106531Z",
     "shell.execute_reply.started": "2020-12-01T13:41:31.102798Z"
    }
   },
   "outputs": [],
   "source": [
    "tree = read(f, format=\"newick\", into=TreeNode)"
   ]
  },
  {
   "cell_type": "code",
   "execution_count": 4,
   "metadata": {
    "execution": {
     "iopub.execute_input": "2020-12-01T13:41:37.730202Z",
     "iopub.status.busy": "2020-12-01T13:41:37.729951Z",
     "iopub.status.idle": "2020-12-01T13:41:37.733983Z",
     "shell.execute_reply": "2020-12-01T13:41:37.732918Z",
     "shell.execute_reply.started": "2020-12-01T13:41:37.730177Z"
    }
   },
   "outputs": [],
   "source": [
    "f.close()"
   ]
  },
  {
   "cell_type": "code",
   "execution_count": 5,
   "metadata": {
    "execution": {
     "iopub.execute_input": "2020-12-01T13:41:45.191466Z",
     "iopub.status.busy": "2020-12-01T13:41:45.191054Z",
     "iopub.status.idle": "2020-12-01T13:41:45.197795Z",
     "shell.execute_reply": "2020-12-01T13:41:45.196070Z",
     "shell.execute_reply.started": "2020-12-01T13:41:45.191426Z"
    }
   },
   "outputs": [
    {
     "name": "stdout",
     "output_type": "stream",
     "text": [
      "                    /-D\n",
      "          /B-------|\n",
      "         |          \\-E\n",
      "-A-------|\n",
      "         |          /-F\n",
      "          \\C-------|\n",
      "                    \\-G\n"
     ]
    }
   ],
   "source": [
    "print(tree.ascii_art())"
   ]
  },
  {
   "cell_type": "code",
   "execution_count": 6,
   "metadata": {
    "execution": {
     "iopub.execute_input": "2020-12-01T13:41:49.827259Z",
     "iopub.status.busy": "2020-12-01T13:41:49.826966Z",
     "iopub.status.idle": "2020-12-01T13:41:49.832669Z",
     "shell.execute_reply": "2020-12-01T13:41:49.831438Z",
     "shell.execute_reply.started": "2020-12-01T13:41:49.827230Z"
    }
   },
   "outputs": [
    {
     "name": "stdout",
     "output_type": "stream",
     "text": [
      "((D,E)B,(F,G)C)A;\n",
      "\n"
     ]
    }
   ],
   "source": [
    "print(tree)"
   ]
  },
  {
   "cell_type": "code",
   "execution_count": 7,
   "metadata": {
    "execution": {
     "iopub.execute_input": "2020-12-01T13:41:59.523534Z",
     "iopub.status.busy": "2020-12-01T13:41:59.523286Z",
     "iopub.status.idle": "2020-12-01T13:41:59.534281Z",
     "shell.execute_reply": "2020-12-01T13:41:59.533173Z",
     "shell.execute_reply.started": "2020-12-01T13:41:59.523510Z"
    }
   },
   "outputs": [
    {
     "data": {
      "text/plain": [
       "skbio.tree._tree.TreeNode"
      ]
     },
     "execution_count": 7,
     "metadata": {},
     "output_type": "execute_result"
    }
   ],
   "source": [
    "type(tree)"
   ]
  },
  {
   "cell_type": "code",
   "execution_count": 8,
   "metadata": {
    "execution": {
     "iopub.execute_input": "2020-12-01T13:42:09.862219Z",
     "iopub.status.busy": "2020-12-01T13:42:09.861962Z",
     "iopub.status.idle": "2020-12-01T13:42:09.868123Z",
     "shell.execute_reply": "2020-12-01T13:42:09.867013Z",
     "shell.execute_reply.started": "2020-12-01T13:42:09.862194Z"
    }
   },
   "outputs": [
    {
     "data": {
      "text/plain": [
       "\u001b[0;31mType:\u001b[0m           TreeNode\n",
       "\u001b[0;31mString form:\u001b[0m    ((D,E)B,(F,G)C)A;\n",
       "\u001b[0;31mLength:\u001b[0m         2\n",
       "\u001b[0;31mFile:\u001b[0m           ~/miniconda3/envs/skbio/lib/python3.7/site-packages/skbio/tree/_tree.py\n",
       "\u001b[0;31mDocstring:\u001b[0m     \n",
       "Representation of a node within a tree\n",
       "\n",
       "A `TreeNode` instance stores links to its parent and optional children\n",
       "nodes. In addition, the `TreeNode` can represent a `length` (e.g., a\n",
       "branch length) between itself and its parent. Within this object, the use\n",
       "of \"children\" and \"descendants\" is frequent in the documentation. A child\n",
       "is a direct descendant of a node, while descendants are all nodes that are\n",
       "below a given node (e.g., grand-children, etc).\n",
       "\n",
       "Parameters\n",
       "----------\n",
       "name : str or None\n",
       "    A node can have a name. It is common for tips in particular to have\n",
       "    names, for instance, in a phylogenetic tree where the tips correspond\n",
       "    to species.\n",
       "length : float, int, or None\n",
       "    Length of the branch connecting this node to its parent. Can represent\n",
       "    ellapsed time, amount of mutations, or other measures of evolutionary\n",
       "    distance.\n",
       "support : float, int, or None\n",
       "    Support value of the branch connecting this node to its parent. Can be\n",
       "    bootstrap value, posterior probability, or other metrics measuring the\n",
       "    confidence or frequency of this branch.\n",
       "parent : TreeNode or None\n",
       "    Connect this node to a parent\n",
       "children : list of TreeNode or None\n",
       "    Connect this node to existing children\n",
       "\u001b[0;31mInit docstring:\u001b[0m State: Experimental as of 0.4.0.\n"
      ]
     },
     "metadata": {},
     "output_type": "display_data"
    }
   ],
   "source": [
    "?tree"
   ]
  },
  {
   "cell_type": "code",
   "execution_count": 9,
   "metadata": {
    "execution": {
     "iopub.execute_input": "2020-12-01T13:42:18.407954Z",
     "iopub.status.busy": "2020-12-01T13:42:18.407641Z",
     "iopub.status.idle": "2020-12-01T13:42:18.414037Z",
     "shell.execute_reply": "2020-12-01T13:42:18.412940Z",
     "shell.execute_reply.started": "2020-12-01T13:42:18.407921Z"
    }
   },
   "outputs": [
    {
     "data": {
      "text/plain": [
       "'A'"
      ]
     },
     "execution_count": 9,
     "metadata": {},
     "output_type": "execute_result"
    }
   ],
   "source": [
    "tree.name"
   ]
  },
  {
   "cell_type": "code",
   "execution_count": 12,
   "metadata": {
    "execution": {
     "iopub.execute_input": "2020-12-01T13:42:57.724924Z",
     "iopub.status.busy": "2020-12-01T13:42:57.724621Z",
     "iopub.status.idle": "2020-12-01T13:42:57.728536Z",
     "shell.execute_reply": "2020-12-01T13:42:57.727547Z",
     "shell.execute_reply.started": "2020-12-01T13:42:57.724900Z"
    }
   },
   "outputs": [],
   "source": [
    "tree.parent "
   ]
  },
  {
   "cell_type": "code",
   "execution_count": 11,
   "metadata": {
    "execution": {
     "iopub.execute_input": "2020-12-01T13:42:36.431591Z",
     "iopub.status.busy": "2020-12-01T13:42:36.431373Z",
     "iopub.status.idle": "2020-12-01T13:42:36.435946Z",
     "shell.execute_reply": "2020-12-01T13:42:36.435052Z",
     "shell.execute_reply.started": "2020-12-01T13:42:36.431571Z"
    }
   },
   "outputs": [
    {
     "data": {
      "text/plain": [
       "[<TreeNode, name: B, internal node count: 0, tips count: 2>,\n",
       " <TreeNode, name: C, internal node count: 0, tips count: 2>]"
      ]
     },
     "execution_count": 11,
     "metadata": {},
     "output_type": "execute_result"
    }
   ],
   "source": [
    "tree.children"
   ]
  },
  {
   "cell_type": "code",
   "execution_count": null,
   "metadata": {},
   "outputs": [],
   "source": []
  },
  {
   "cell_type": "code",
   "execution_count": 14,
   "metadata": {
    "execution": {
     "iopub.execute_input": "2020-12-01T13:45:15.860693Z",
     "iopub.status.busy": "2020-12-01T13:45:15.860444Z",
     "iopub.status.idle": "2020-12-01T13:45:15.864744Z",
     "shell.execute_reply": "2020-12-01T13:45:15.863601Z",
     "shell.execute_reply.started": "2020-12-01T13:45:15.860669Z"
    }
   },
   "outputs": [
    {
     "data": {
      "text/plain": [
       "\u001b[0;31mType:\u001b[0m        list\n",
       "\u001b[0;31mString form:\u001b[0m [<TreeNode, name: B, internal node count: 0, tips count: 2>, <TreeNode, name: C, internal node count: 0, tips count: 2>]\n",
       "\u001b[0;31mLength:\u001b[0m      2\n",
       "\u001b[0;31mDocstring:\u001b[0m  \n",
       "Built-in mutable sequence.\n",
       "\n",
       "If no argument is given, the constructor creates a new empty list.\n",
       "The argument must be an iterable if specified.\n"
      ]
     },
     "metadata": {},
     "output_type": "display_data"
    }
   ],
   "source": [
    "?tree.children"
   ]
  },
  {
   "cell_type": "code",
   "execution_count": 15,
   "metadata": {
    "execution": {
     "iopub.execute_input": "2020-12-01T13:45:40.766796Z",
     "iopub.status.busy": "2020-12-01T13:45:40.766486Z",
     "iopub.status.idle": "2020-12-01T13:45:40.772906Z",
     "shell.execute_reply": "2020-12-01T13:45:40.771786Z",
     "shell.execute_reply.started": "2020-12-01T13:45:40.766759Z"
    }
   },
   "outputs": [
    {
     "name": "stdout",
     "output_type": "stream",
     "text": [
      "(D,E)B;\n",
      "\n",
      "(F,G)C;\n",
      "\n"
     ]
    }
   ],
   "source": [
    "for t in tree.children:\n",
    "    print(t)"
   ]
  },
  {
   "cell_type": "code",
   "execution_count": null,
   "metadata": {},
   "outputs": [],
   "source": []
  }
 ],
 "metadata": {
  "kernelspec": {
   "display_name": "skbio",
   "language": "python",
   "name": "skbio"
  },
  "language_info": {
   "codemirror_mode": {
    "name": "ipython",
    "version": 3
   },
   "file_extension": ".py",
   "mimetype": "text/x-python",
   "name": "python",
   "nbconvert_exporter": "python",
   "pygments_lexer": "ipython3",
   "version": "3.7.8"
  }
 },
 "nbformat": 4,
 "nbformat_minor": 4
}
