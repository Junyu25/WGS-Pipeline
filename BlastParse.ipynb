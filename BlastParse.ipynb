{
 "cells": [
  {
   "cell_type": "code",
   "execution_count": 15,
   "metadata": {
    "execution": {
     "iopub.execute_input": "2020-10-29T07:22:03.853934Z",
     "iopub.status.busy": "2020-10-29T07:22:03.847597Z",
     "iopub.status.idle": "2020-10-29T07:22:03.894625Z",
     "shell.execute_reply": "2020-10-29T07:22:03.892826Z",
     "shell.execute_reply.started": "2020-10-29T07:22:03.853510Z"
    }
   },
   "outputs": [],
   "source": [
    "from Bio import SearchIO"
   ]
  },
  {
   "cell_type": "code",
   "execution_count": 25,
   "metadata": {
    "execution": {
     "iopub.execute_input": "2020-10-29T07:26:19.351252Z",
     "iopub.status.busy": "2020-10-29T07:26:19.351005Z",
     "iopub.status.idle": "2020-10-29T07:26:19.355008Z",
     "shell.execute_reply": "2020-10-29T07:26:19.353966Z",
     "shell.execute_reply.started": "2020-10-29T07:26:19.351231Z"
    }
   },
   "outputs": [],
   "source": [
    "qresults = SearchIO.parse(\"/mnt/d/Lab/Bile-Acid/result/blastp/test.xml\", \"blast-xml\")"
   ]
  },
  {
   "cell_type": "code",
   "execution_count": 26,
   "metadata": {
    "execution": {
     "iopub.execute_input": "2020-10-29T07:26:19.908170Z",
     "iopub.status.busy": "2020-10-29T07:26:19.907925Z",
     "iopub.status.idle": "2020-10-29T07:26:19.913872Z",
     "shell.execute_reply": "2020-10-29T07:26:19.912804Z",
     "shell.execute_reply.started": "2020-10-29T07:26:19.908148Z"
    }
   },
   "outputs": [
    {
     "data": {
      "text/plain": [
       "<generator object parse at 0x7fcdb27b9270>"
      ]
     },
     "execution_count": 26,
     "metadata": {},
     "output_type": "execute_result"
    }
   ],
   "source": [
    "qresults"
   ]
  },
  {
   "cell_type": "code",
   "execution_count": 27,
   "metadata": {
    "execution": {
     "iopub.execute_input": "2020-10-29T07:26:20.495199Z",
     "iopub.status.busy": "2020-10-29T07:26:20.494905Z",
     "iopub.status.idle": "2020-10-29T07:26:20.499896Z",
     "shell.execute_reply": "2020-10-29T07:26:20.498848Z",
     "shell.execute_reply.started": "2020-10-29T07:26:20.495176Z"
    }
   },
   "outputs": [
    {
     "name": "stdout",
     "output_type": "stream",
     "text": [
      "<generator object parse at 0x7fcdb27b9270>\n"
     ]
    }
   ],
   "source": [
    "print(qresults)"
   ]
  },
  {
   "cell_type": "code",
   "execution_count": 32,
   "metadata": {
    "execution": {
     "iopub.execute_input": "2020-10-29T07:28:18.736586Z",
     "iopub.status.busy": "2020-10-29T07:28:18.736320Z",
     "iopub.status.idle": "2020-10-29T07:28:18.741600Z",
     "shell.execute_reply": "2020-10-29T07:28:18.740175Z",
     "shell.execute_reply.started": "2020-10-29T07:28:18.736558Z"
    }
   },
   "outputs": [],
   "source": [
    "for qresult in qresults:\n",
    "    print(qresult.hit)\n",
    "    if qresult.hits == 0:\n",
    "        print(qresult)"
   ]
  },
  {
   "cell_type": "code",
   "execution_count": 35,
   "metadata": {
    "execution": {
     "iopub.execute_input": "2020-10-29T07:28:42.348684Z",
     "iopub.status.busy": "2020-10-29T07:28:42.348421Z",
     "iopub.status.idle": "2020-10-29T07:28:42.358191Z",
     "shell.execute_reply": "2020-10-29T07:28:42.356645Z",
     "shell.execute_reply.started": "2020-10-29T07:28:42.348660Z"
    }
   },
   "outputs": [
    {
     "ename": "TypeError",
     "evalue": "'generator' object is not subscriptable",
     "output_type": "error",
     "traceback": [
      "\u001b[0;31m---------------------------------------------------------------------------\u001b[0m",
      "\u001b[0;31mTypeError\u001b[0m                                 Traceback (most recent call last)",
      "\u001b[0;32m<ipython-input-35-d070b4c41909>\u001b[0m in \u001b[0;36m<module>\u001b[0;34m\u001b[0m\n\u001b[0;32m----> 1\u001b[0;31m \u001b[0mqresults\u001b[0m\u001b[0;34m[\u001b[0m\u001b[0;36m0\u001b[0m\u001b[0;34m]\u001b[0m\u001b[0;34m.\u001b[0m\u001b[0mhit\u001b[0m\u001b[0;34m\u001b[0m\u001b[0;34m\u001b[0m\u001b[0m\n\u001b[0m",
      "\u001b[0;31mTypeError\u001b[0m: 'generator' object is not subscriptable"
     ]
    }
   ],
   "source": [
    "qresults[0].hit"
   ]
  },
  {
   "cell_type": "code",
   "execution_count": null,
   "metadata": {},
   "outputs": [],
   "source": []
  }
 ],
 "metadata": {
  "kernelspec": {
   "display_name": "Bio",
   "language": "python",
   "name": "bio"
  },
  "language_info": {
   "codemirror_mode": {
    "name": "ipython",
    "version": 3
   },
   "file_extension": ".py",
   "mimetype": "text/x-python",
   "name": "python",
   "nbconvert_exporter": "python",
   "pygments_lexer": "ipython3",
   "version": "3.8.6"
  }
 },
 "nbformat": 4,
 "nbformat_minor": 4
}
