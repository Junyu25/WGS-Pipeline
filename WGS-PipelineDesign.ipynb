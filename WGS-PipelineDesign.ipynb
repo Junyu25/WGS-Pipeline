{
 "cells": [
  {
   "cell_type": "markdown",
   "metadata": {},
   "source": [
    "# WGS Pipeline"
   ]
  },
  {
   "cell_type": "code",
   "execution_count": 1,
   "metadata": {},
   "outputs": [],
   "source": [
    "import os\n",
    "import argparse\n",
    "import collections\n",
    "import pandas as pd\n",
    "import subprocess\n",
    "from Bio import SeqIO\n",
    "\n",
    "from itertools import repeat\n",
    "from multiprocessing import Pool, freeze_support"
   ]
  },
  {
   "cell_type": "code",
   "execution_count": null,
   "metadata": {},
   "outputs": [],
   "source": [
    "mamba create -n wgs pandas fastp unicycler quast bandage kraken2 prokka abricate"
   ]
  },
  {
   "cell_type": "code",
   "execution_count": null,
   "metadata": {},
   "outputs": [],
   "source": [
    "conda install -c bioconda fastp unicycler quast bandage kraken2 prokka diamond"
   ]
  },
  {
   "cell_type": "code",
   "execution_count": null,
   "metadata": {},
   "outputs": [],
   "source": [
    "conda install pandas"
   ]
  },
  {
   "cell_type": "markdown",
   "metadata": {
    "heading_collapsed": "true"
   },
   "source": [
    "## QC"
   ]
  },
  {
   "cell_type": "markdown",
   "metadata": {
    "heading_collapsed": "true"
   },
   "source": [
    "### fastP"
   ]
  },
  {
   "cell_type": "markdown",
   "metadata": {},
   "source": [
    "https://github.com/OpenGene/fastp"
   ]
  },
  {
   "cell_type": "code",
   "execution_count": 6,
   "metadata": {},
   "outputs": [],
   "source": [
    "## Fastp pair end tirmming and merging\n",
    "def RunFastp(R1, R2, prefix, OutDir, threads):\n",
    "    fastpDir = os.path.join(OutDir, \"fastp\")\n",
    "    if os.path.exists(OutDir) == 0:\n",
    "        os.makedirs(OutDir, 0o777, True)\n",
    "    if os.path.exists(fastpDir) == 0:\n",
    "        os.makedirs(fastpDir, 0o777, True)\n",
    "    cmd = \"fastp --in1 \" + R1 + \" --in2 \" + R2 + \" --out1 \" + os.path.join(fastpDir, prefix + \"_R1.fastq\") + \" --out2 \" + os.path.join(fastpDir, prefix + \"_R2.fastq\") + \\\n",
    "    \" --thread \" + str(threads) + \\\n",
    "    \" --html \" + os.path.join(fastpDir, prefix + \".html\") + \" --json \" + os.path.join(fastpDir, prefix + \".json\") + \" --report_title \" + prefix + \"-fastq-merge-report\"\n",
    "    subprocess.call(cmd, shell=True)\n",
    "## Run fastp in parallel\n",
    "def RunFastpParallel(R1List, R2List, prefixList, OutDir, threads, jobs):\n",
    "    pool = Pool(processes = jobs)\n",
    "    pool.starmap(RunFastp, zip(R1List, R2List, prefixList, repeat(thread), repeat(OutDir)))\n",
    "    pool.close()\n",
    "    pool.join()\n",
    "    pool.terminate()"
   ]
  },
  {
   "cell_type": "markdown",
   "metadata": {},
   "source": [
    "#### test"
   ]
  },
  {
   "cell_type": "markdown",
   "metadata": {},
   "source": [
    "fastp -i /mnt/d/Lab/WGS-Pipeline/testdata/ERR044595_1M_1.fastq.gz -I /mnt/d/Lab/WGS-Pipeline/testdata/ERR044595_1M_2.fastq.gz -o /mnt/d/Lab/WGS-Pipeline/result/fastp/out.R1.fq.gz -O /mnt/d/Lab/WGS-Pipeline/result/fastp/out.R2.fq.gz"
   ]
  },
  {
   "cell_type": "code",
   "execution_count": 10,
   "metadata": {},
   "outputs": [],
   "source": [
    "R1 = \"/mnt/d/Lab/WGS-Pipeline/testdata/ERR044595_1M_1.fastq.gz\"\n",
    "R2 = \"/mnt/d/Lab/WGS-Pipeline/testdata/ERR044595_1M_2.fastq.gz\"\n",
    "prefix = \"ERR044595_1M\"\n",
    "OutDir = \"/mnt/d/Lab/WGS-Pipeline/result\""
   ]
  },
  {
   "cell_type": "code",
   "execution_count": 8,
   "metadata": {},
   "outputs": [],
   "source": [
    "RunFastp(R1, R2, prefix, OutDir)"
   ]
  },
  {
   "cell_type": "markdown",
   "metadata": {},
   "source": [
    "if `-a` add adapter seq"
   ]
  },
  {
   "cell_type": "markdown",
   "metadata": {},
   "source": [
    "rename `--html` and `--json` output"
   ]
  },
  {
   "cell_type": "markdown",
   "metadata": {},
   "source": [
    "add `--report_title`"
   ]
  },
  {
   "cell_type": "markdown",
   "metadata": {
    "heading_collapsed": "true"
   },
   "source": [
    "### skewer"
   ]
  },
  {
   "cell_type": "markdown",
   "metadata": {},
   "source": [
    "https://github.com/relipmoc/skewer"
   ]
  },
  {
   "cell_type": "markdown",
   "metadata": {
    "heading_collapsed": "true"
   },
   "source": [
    "## Assembly"
   ]
  },
  {
   "cell_type": "markdown",
   "metadata": {
    "heading_collapsed": "true"
   },
   "source": [
    "### Unicycler"
   ]
  },
  {
   "cell_type": "markdown",
   "metadata": {},
   "source": [
    "https://github.com/rrwick/Unicycler"
   ]
  },
  {
   "cell_type": "markdown",
   "metadata": {},
   "source": [
    "```shell\n",
    "unicycler -1 $result/trimmomatic/ERR044595_1M_1.paired.fastq -2 $result/trimmomatic/ERR044595_1M_2.paired.fastq -o $result/unicycler\n",
    "```"
   ]
  },
  {
   "cell_type": "code",
   "execution_count": 9,
   "metadata": {},
   "outputs": [],
   "source": [
    "def RunUnicycler(R1, R2, prefix, OutDir, threads):\n",
    "    cmd = \"unicycler -1 \" + R1 + \" -2 \" + R2 + \" -o \" + os.path.join(OutDir, prefix) + \" --threads \" + str(threads)\n",
    "    subprocess.call(cmd, shell=True)\n",
    "def RunUnicyclerParallel(R1List, R2List, prefixList, OutDir, threads, jobs):\n",
    "    pool = Pool(processes = jobs)\n",
    "    pool.starmap(RunUnicycler, zip(R1List, R2List, prefixList, repeat(OutDir), repeat(thread)))\n",
    "    pool.close()\n",
    "    pool.join()\n",
    "    pool.terminate()"
   ]
  },
  {
   "cell_type": "code",
   "execution_count": 12,
   "metadata": {},
   "outputs": [],
   "source": [
    "RunUnicycler(R1, R2, prefix, OutDir, 8)"
   ]
  },
  {
   "cell_type": "markdown",
   "metadata": {
    "heading_collapsed": "true"
   },
   "source": [
    "### Quast"
   ]
  },
  {
   "cell_type": "markdown",
   "metadata": {},
   "source": [
    "https://github.com/ablab/quast"
   ]
  },
  {
   "cell_type": "code",
   "execution_count": null,
   "metadata": {},
   "outputs": [],
   "source": [
    "* GRIDSS (needed for structural variants detection)\n",
    "* SILVA 16S rRNA database (needed for reference genome detection in metagenomic datasets)\n",
    "* BUSCO tools and databases (needed for searching BUSCO genes) -- works in Linux only!\n",
    "\n",
    "To be able to use those, please run\n",
    "    quast-download-gridss\n",
    "    quast-download-silva\n",
    "    quast-download-busco"
   ]
  },
  {
   "cell_type": "code",
   "execution_count": null,
   "metadata": {},
   "outputs": [],
   "source": [
    "def RunQuast(fasta, R1, R2, prefix, OutDir, threads):\n",
    "    cmd = \"quast.py \" + fasta + \" -1 \" + R1 + \" -2 \" + R2 + \" -o \" + os.path.join(OutDir, prefix) + \" --threads \" + str(threads)\n",
    "## RunQuastParallel\n",
    "def RunQuastParallel(fastaList, R1List, R2List, prefixList, OutDir, threads, jobs):\n",
    "    pool = Pool(processes = jobs)\n",
    "    pool.starmap(RunQuast, zip(fastaList, R1List, R2List, prefixList, repeat(thread), repeat(OutDir)))\n",
    "    pool.close()\n",
    "    pool.join()\n",
    "    pool.terminate()"
   ]
  },
  {
   "cell_type": "markdown",
   "metadata": {},
   "source": [
    "### Bandage"
   ]
  },
  {
   "cell_type": "markdown",
   "metadata": {},
   "source": [
    "https://github.com/rrwick/Bandage"
   ]
  },
  {
   "cell_type": "code",
   "execution_count": null,
   "metadata": {},
   "outputs": [],
   "source": [
    "def RunBandage(InFile, OutFile):\n",
    "    #InFile: A graph file of any type supported by Bandage\n",
    "    #OutFile: The image file to be created (must end in '.jpg', '.png' or '.svg')\n",
    "    cmd = \"Bandage image \" + InFile + \" \" + OutFile\n",
    "    subprocess.call(cmd, shell=True)\n",
    "#Run Bandage in parallel\n",
    "def RunBandageParallel(fileList, outFileList, jobs):\n",
    "    pool = Pool(processes=jobs)\n",
    "    pool.starmap(RunBandage, zip(fileList, outFileList))\n",
    "    pool.close()\n",
    "    pool.join()\n",
    "    pool.terminate()"
   ]
  },
  {
   "cell_type": "markdown",
   "metadata": {},
   "source": [
    "### kraken2"
   ]
  },
  {
   "cell_type": "markdown",
   "metadata": {},
   "source": [
    "https://github.com/DerrickWood/kraken2/wiki"
   ]
  },
  {
   "cell_type": "code",
   "execution_count": null,
   "metadata": {},
   "outputs": [],
   "source": [
    "kraken2 -db /home/junyuchen/3-Resources/Databases/hash.k2d --threads 12 --output --report kraken_out.txt"
   ]
  },
  {
   "cell_type": "code",
   "execution_count": null,
   "metadata": {},
   "outputs": [],
   "source": [
    "kraken2 -db /home/junyuchen/3-Resources/Databases/hash.k2d /home/junyuchen/1-Projects/WGS-Pipeline/result/testout/unicycler/ER064912/assembly.fasta --threads 24"
   ]
  },
  {
   "cell_type": "code",
   "execution_count": null,
   "metadata": {},
   "outputs": [],
   "source": [
    "kraken2 -db /home/junyuchen/3-Resources/Databases/k2_standard_20201202 /home/junyuchen/1-Projects/WGS-Pipeline/result/testout/unicycler/ER064912/assembly.fasta --output test_kraken2.txt --report kraken_out.txt --threads 24"
   ]
  },
  {
   "cell_type": "code",
   "execution_count": null,
   "metadata": {},
   "outputs": [],
   "source": []
  },
  {
   "cell_type": "code",
   "execution_count": null,
   "metadata": {},
   "outputs": [],
   "source": [
    "/home/junyuchen/3-Resources/Databases/k2_standard_20201202"
   ]
  },
  {
   "cell_type": "code",
   "execution_count": null,
   "metadata": {},
   "outputs": [],
   "source": [
    "## Run kraken2\n",
    "def RunKraken2(fasta, database, OutFile, threads):\n",
    "    cmd = \"kraken2 -db \" + database + \" \" + fasta + \" --report \" + OutFile + \" --threads \" + str(threads)\n",
    "    subprocess.call(cmd, shell=True)\n",
    "#Run kraken2 in parallel\n",
    "def RunProkkaParallel(fileList, database, OutFileList, threads, jobs):\n",
    "    pool = Pool(processes=jobs)\n",
    "    pool.starmap(RunKraken2, zip(fileList, repeat(database), outFileList, repeat(threads)))\n",
    "    pool.close()\n",
    "    pool.join()\n",
    "    pool.terminate()"
   ]
  },
  {
   "cell_type": "code",
   "execution_count": null,
   "metadata": {},
   "outputs": [],
   "source": []
  },
  {
   "cell_type": "markdown",
   "metadata": {},
   "source": [
    "#### kraken2 database"
   ]
  },
  {
   "cell_type": "markdown",
   "metadata": {},
   "source": [
    "https://benlangmead.github.io/aws-indexes/k2"
   ]
  },
  {
   "cell_type": "markdown",
   "metadata": {},
   "source": [
    "## Annotation"
   ]
  },
  {
   "cell_type": "markdown",
   "metadata": {},
   "source": [
    "### Prokka"
   ]
  },
  {
   "cell_type": "markdown",
   "metadata": {},
   "source": [
    "https://github.com/tseemann/prokka"
   ]
  },
  {
   "cell_type": "code",
   "execution_count": null,
   "metadata": {},
   "outputs": [],
   "source": [
    "## Run Prokka\n",
    "def RunProkka(fasta, prefix, outDir, threads):\n",
    "    cmd = \"prokka --addgenes --prefix \" + prefix + \" --outdir \" + outDir + \" --force \" + fasta + \" --cpus \" + str(threads)\n",
    "    print(cmd)\n",
    "    subprocess.call(cmd, shell=True)\n",
    "#Run Prokka in parallel\n",
    "def RunProkkaParallel(fileList, outFileList, prefixList, threads, jobs):\n",
    "    pool = Pool(processes=jobs)\n",
    "    pool.starmap(RunProkka, zip(fileList, prefixList, outFileList, repeat(threads)))\n",
    "    pool.close()\n",
    "    pool.join()\n",
    "    pool.terminate()"
   ]
  },
  {
   "cell_type": "markdown",
   "metadata": {},
   "source": [
    "### ABRicate"
   ]
  },
  {
   "cell_type": "markdown",
   "metadata": {},
   "source": [
    "https://github.com/tseemann/abricate"
   ]
  },
  {
   "cell_type": "code",
   "execution_count": null,
   "metadata": {},
   "outputs": [],
   "source": [
    "conda install -c conda-forge -c bioconda -c defaults abricate\n",
    "abricate --check\n",
    "abricate --list "
   ]
  },
  {
   "cell_type": "code",
   "execution_count": null,
   "metadata": {},
   "outputs": [],
   "source": [
    "abricate "
   ]
  },
  {
   "cell_type": "code",
   "execution_count": null,
   "metadata": {},
   "outputs": [],
   "source": [
    "## Run ABRicate\n",
    "def RunABRicate(fasta, prefix, OutDir, threads):\n",
    "    cmd = \"abricate \" + fasta + \" > \" + os.path.join(OutDir, prefix + \"_abricate.txt\") + \" --threads \" + str(threads)\n",
    "    subprocess.call(cmd, shell=True)\n",
    "#Run Prokka in parallel\n",
    "def RunABRicateaParallel(fileList, prefixList, OutDir, threads, jobs):\n",
    "    pool = Pool(processes=jobs)\n",
    "    pool.starmap(RunABRicates, zip(fileList, prefixList, repeat(OutDir), repeat(threads)))\n",
    "    pool.close()\n",
    "    pool.join()\n",
    "    pool.terminate()"
   ]
  },
  {
   "cell_type": "code",
   "execution_count": null,
   "metadata": {},
   "outputs": [],
   "source": []
  },
  {
   "cell_type": "markdown",
   "metadata": {},
   "source": [
    "### antiSMASH"
   ]
  },
  {
   "cell_type": "markdown",
   "metadata": {},
   "source": [
    "BGCs"
   ]
  },
  {
   "cell_type": "markdown",
   "metadata": {},
   "source": [
    "### Pathway"
   ]
  },
  {
   "cell_type": "markdown",
   "metadata": {},
   "source": [
    "#### kofam_scan"
   ]
  },
  {
   "cell_type": "markdown",
   "metadata": {},
   "source": [
    "https://github.com/takaram/kofam_scan"
   ]
  },
  {
   "cell_type": "code",
   "execution_count": null,
   "metadata": {},
   "outputs": [],
   "source": []
  },
  {
   "cell_type": "markdown",
   "metadata": {},
   "source": [
    "## Request"
   ]
  },
  {
   "cell_type": "markdown",
   "metadata": {},
   "source": [
    "特定功能基因: \n",
    "- SCFA（刘红宾)   \n",
    "- 胆汁酸（周春花）   \n",
    "- BGC（唐啸宇/司同）      \n",
    "- VFDB   "
   ]
  },
  {
   "cell_type": "markdown",
   "metadata": {},
   "source": [
    "Phage-Host"
   ]
  },
  {
   "cell_type": "markdown",
   "metadata": {},
   "source": [
    "噬菌谱？宿主谱"
   ]
  },
  {
   "cell_type": "markdown",
   "metadata": {},
   "source": [
    "Phage Seq Mapping Metagenomics data"
   ]
  },
  {
   "cell_type": "markdown",
   "metadata": {},
   "source": [
    "Ma Lab Metageome sample"
   ]
  },
  {
   "cell_type": "markdown",
   "metadata": {},
   "source": [
    "which dataset?"
   ]
  },
  {
   "cell_type": "markdown",
   "metadata": {},
   "source": []
  },
  {
   "cell_type": "markdown",
   "metadata": {},
   "source": [
    "## Output"
   ]
  },
  {
   "cell_type": "markdown",
   "metadata": {},
   "source": [
    "- FastQC\n",
    "- assembly\n",
    "- quast\n",
    "- annotation"
   ]
  },
  {
   "cell_type": "code",
   "execution_count": null,
   "metadata": {},
   "outputs": [],
   "source": [
    "python /home/junyuchen/1-Projects/WGS-Pipeline/Scripts/WGS-Pipeline.py -i /home/junyuchen/1-Projects/WGS-Pipeline/data/testdata.tsv -o /home/junyuchen/1-Projects/WGS-Pipeline/result/testout -t 12 -j 2"
   ]
  }
 ],
 "metadata": {
  "kernelspec": {
   "display_name": "Python 3",
   "language": "python",
   "name": "python3"
  },
  "language_info": {
   "codemirror_mode": {
    "name": "ipython",
    "version": 3
   },
   "file_extension": ".py",
   "mimetype": "text/x-python",
   "name": "python",
   "nbconvert_exporter": "python",
   "pygments_lexer": "ipython3",
   "version": "3.7.9"
  }
 },
 "nbformat": 4,
 "nbformat_minor": 4
}
