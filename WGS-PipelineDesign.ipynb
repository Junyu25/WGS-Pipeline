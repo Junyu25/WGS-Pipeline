{
 "cells": [
  {
   "cell_type": "markdown",
   "metadata": {},
   "source": [
    "# WGS Pipeline"
   ]
  },
  {
   "cell_type": "code",
   "execution_count": 1,
   "metadata": {
    "jupyter": {
     "source_hidden": true
    }
   },
   "outputs": [],
   "source": [
    "import os\n",
    "import argparse\n",
    "import collections\n",
    "import pandas as pd\n",
    "import subprocess\n",
    "from Bio import SeqIO\n",
    "\n",
    "from itertools import repeat\n",
    "from multiprocessing import Pool, freeze_support"
   ]
  },
  {
   "cell_type": "code",
   "execution_count": null,
   "metadata": {},
   "outputs": [],
   "source": [
    "conda install -c bioconda fastp unicycler quast bandage prokka diamond"
   ]
  },
  {
   "cell_type": "markdown",
   "metadata": {},
   "source": [
    "## QC"
   ]
  },
  {
   "cell_type": "markdown",
   "metadata": {},
   "source": [
    "### fastP"
   ]
  },
  {
   "cell_type": "markdown",
   "metadata": {},
   "source": [
    "https://github.com/OpenGene/fastp"
   ]
  },
  {
   "cell_type": "code",
   "execution_count": 6,
   "metadata": {},
   "outputs": [],
   "source": [
    "## Fastp pair end tirmming and merging\n",
    "def RunFastp(R1, R2, prefix, OutDir, threads):\n",
    "    fastpDir = os.path.join(OutDir, \"fastp\")\n",
    "    if os.path.exists(OutDir) == 0:\n",
    "        os.makedirs(OutDir, 0o777, True)\n",
    "    if os.path.exists(fastpDir) == 0:\n",
    "        os.makedirs(fastpDir, 0o777, True)\n",
    "    cmd = \"fastp --in1 \" + R1 + \" --in2 \" + R2 + \" --out1 \" + os.path.join(fastpDir, prefix + \"_R1.fastq\") + \" --out2 \" + os.path.join(fastpDir, prefix + \"_R2.fastq\") + \\\n",
    "    \" --thread \" + str(threads) + \\\n",
    "    \" --html \" + os.path.join(fastpDir, prefix + \".html\") + \" --json \" + os.path.join(fastpDir, prefix + \".json\") + \" --report_title \" + prefix + \"-fastq-merge-report\"\n",
    "    subprocess.call(cmd, shell=True)\n",
    "## Run fastp in parallel\n",
    "def RunFastpParallel(R1List, R2List, prefixList, OutDir, threads, jobs):\n",
    "    pool = Pool(processes = jobs)\n",
    "    pool.starmap(RunFastp, zip(R1List, R2List, prefixList, repeat(thread), repeat(OutDir)))\n",
    "    pool.close()\n",
    "    pool.join()\n",
    "    pool.terminate()"
   ]
  },
  {
   "cell_type": "markdown",
   "metadata": {},
   "source": [
    "#### test"
   ]
  },
  {
   "cell_type": "markdown",
   "metadata": {},
   "source": [
    "fastp -i /mnt/d/Lab/WGS-Pipeline/testdata/ERR044595_1M_1.fastq.gz -I /mnt/d/Lab/WGS-Pipeline/testdata/ERR044595_1M_2.fastq.gz -o /mnt/d/Lab/WGS-Pipeline/result/fastp/out.R1.fq.gz -O /mnt/d/Lab/WGS-Pipeline/result/fastp/out.R2.fq.gz"
   ]
  },
  {
   "cell_type": "code",
   "execution_count": 10,
   "metadata": {},
   "outputs": [],
   "source": [
    "R1 = \"/mnt/d/Lab/WGS-Pipeline/testdata/ERR044595_1M_1.fastq.gz\"\n",
    "R2 = \"/mnt/d/Lab/WGS-Pipeline/testdata/ERR044595_1M_2.fastq.gz\"\n",
    "prefix = \"ERR044595_1M\"\n",
    "OutDir = \"/mnt/d/Lab/WGS-Pipeline/result\""
   ]
  },
  {
   "cell_type": "code",
   "execution_count": 8,
   "metadata": {},
   "outputs": [],
   "source": [
    "RunFastp(R1, R2, prefix, OutDir)"
   ]
  },
  {
   "cell_type": "markdown",
   "metadata": {},
   "source": [
    "if `-a` add adapter seq"
   ]
  },
  {
   "cell_type": "markdown",
   "metadata": {},
   "source": [
    "rename `--html` and `--json` output"
   ]
  },
  {
   "cell_type": "markdown",
   "metadata": {},
   "source": [
    "add `--report_title`"
   ]
  },
  {
   "cell_type": "markdown",
   "metadata": {
    "heading_collapsed": "true"
   },
   "source": [
    "### skewer"
   ]
  },
  {
   "cell_type": "markdown",
   "metadata": {},
   "source": [
    "https://github.com/relipmoc/skewer"
   ]
  },
  {
   "cell_type": "markdown",
   "metadata": {},
   "source": [
    "## Assembly"
   ]
  },
  {
   "cell_type": "markdown",
   "metadata": {},
   "source": [
    "### Unicycler"
   ]
  },
  {
   "cell_type": "markdown",
   "metadata": {},
   "source": [
    "https://github.com/rrwick/Unicycler"
   ]
  },
  {
   "cell_type": "markdown",
   "metadata": {},
   "source": [
    "```shell\n",
    "unicycler -1 $result/trimmomatic/ERR044595_1M_1.paired.fastq -2 $result/trimmomatic/ERR044595_1M_2.paired.fastq -o $result/unicycler\n",
    "```"
   ]
  },
  {
   "cell_type": "code",
   "execution_count": 9,
   "metadata": {},
   "outputs": [],
   "source": [
    "def RunUnicycler(R1, R2, prefix, OutDir, threads):\n",
    "    unicyclerDir = os.path.join(OutDir, \"unicycler\")\n",
    "    if os.path.exists(unicyclerDir) == 0:\n",
    "        os.makedirs(unicyclerDir, 0o777, True)\n",
    "    cmd = \"unicycler -1 \" + R1 + \" -2 \" + R2 + \" -o \" + os.path.join(unicyclerDir, prefix) + \" --threads \" + str(threads)\n",
    "    subprocess.call(cmd, shell=True)\n",
    "def RunUnicyclerParallel(R1List, R2List, prefixList, OutDir, threads, jobs):\n",
    "    pool = Pool(processes = jobs)\n",
    "    pool.starmap(RunFastp, zip(R1List, R2List, prefixList, repeat(thread), repeat(OutDir)))\n",
    "    pool.close()\n",
    "    pool.join()\n",
    "    pool.terminate()"
   ]
  },
  {
   "cell_type": "code",
   "execution_count": 12,
   "metadata": {},
   "outputs": [],
   "source": [
    "RunUnicycler(R1, R2, prefix, OutDir, 8)"
   ]
  },
  {
   "cell_type": "markdown",
   "metadata": {},
   "source": [
    "### Quast"
   ]
  },
  {
   "cell_type": "markdown",
   "metadata": {},
   "source": [
    "https://github.com/ablab/quast"
   ]
  },
  {
   "cell_type": "markdown",
   "metadata": {},
   "source": [
    "### kraken2"
   ]
  },
  {
   "cell_type": "markdown",
   "metadata": {},
   "source": [
    "https://github.com/DerrickWood/kraken2/wiki"
   ]
  },
  {
   "cell_type": "code",
   "execution_count": null,
   "metadata": {},
   "outputs": [],
   "source": []
  },
  {
   "cell_type": "markdown",
   "metadata": {},
   "source": [
    "#### kraken2 database"
   ]
  },
  {
   "cell_type": "markdown",
   "metadata": {},
   "source": [
    "## Annotation"
   ]
  },
  {
   "cell_type": "markdown",
   "metadata": {},
   "source": [
    "### Prokka"
   ]
  },
  {
   "cell_type": "markdown",
   "metadata": {},
   "source": [
    "https://github.com/tseemann/prokka"
   ]
  },
  {
   "cell_type": "markdown",
   "metadata": {},
   "source": [
    "### ABRicate"
   ]
  },
  {
   "cell_type": "markdown",
   "metadata": {},
   "source": [
    "https://github.com/tseemann/abricate"
   ]
  },
  {
   "cell_type": "markdown",
   "metadata": {},
   "source": [
    "### antiSMASH"
   ]
  },
  {
   "cell_type": "markdown",
   "metadata": {},
   "source": [
    "BGCs"
   ]
  },
  {
   "cell_type": "markdown",
   "metadata": {},
   "source": [
    "### Pathway"
   ]
  },
  {
   "cell_type": "markdown",
   "metadata": {},
   "source": [
    "#### kofam_scan"
   ]
  },
  {
   "cell_type": "markdown",
   "metadata": {},
   "source": [
    "https://github.com/takaram/kofam_scan"
   ]
  },
  {
   "cell_type": "markdown",
   "metadata": {},
   "source": [
    "## Request"
   ]
  },
  {
   "cell_type": "markdown",
   "metadata": {},
   "source": [
    "特定功能基因: \n",
    "- SCFA（刘红宾)   \n",
    "- 胆汁酸（周春花）   \n",
    "- BGC（唐啸宇/司同）      \n",
    "- VFDB   "
   ]
  },
  {
   "cell_type": "markdown",
   "metadata": {},
   "source": [
    "Phage-Host"
   ]
  },
  {
   "cell_type": "markdown",
   "metadata": {},
   "source": [
    "噬菌谱？宿主谱"
   ]
  },
  {
   "cell_type": "markdown",
   "metadata": {},
   "source": [
    "Phage Seq Mapping Metagenomics data"
   ]
  },
  {
   "cell_type": "markdown",
   "metadata": {},
   "source": [
    "Ma Lab Metageome sample"
   ]
  },
  {
   "cell_type": "markdown",
   "metadata": {},
   "source": [
    "which dataset?"
   ]
  },
  {
   "cell_type": "markdown",
   "metadata": {},
   "source": []
  },
  {
   "cell_type": "markdown",
   "metadata": {},
   "source": [
    "## Output"
   ]
  },
  {
   "cell_type": "markdown",
   "metadata": {},
   "source": [
    "- FastQC\n",
    "- assembly\n",
    "- quast\n",
    "- annotation"
   ]
  },
  {
   "cell_type": "code",
   "execution_count": null,
   "metadata": {},
   "outputs": [],
   "source": []
  }
 ],
 "metadata": {
  "kernelspec": {
   "display_name": "Python 3",
   "language": "python",
   "name": "python3"
  },
  "language_info": {
   "codemirror_mode": {
    "name": "ipython",
    "version": 3
   },
   "file_extension": ".py",
   "mimetype": "text/x-python",
   "name": "python",
   "nbconvert_exporter": "python",
   "pygments_lexer": "ipython3",
   "version": "3.8.6"
  }
 },
 "nbformat": 4,
 "nbformat_minor": 4
}
