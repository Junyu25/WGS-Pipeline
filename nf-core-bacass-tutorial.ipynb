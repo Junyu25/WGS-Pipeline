{
 "cells": [
  {
   "cell_type": "markdown",
   "metadata": {},
   "source": [
    "## nf-core/bacass WGS教程"
   ]
  },
  {
   "cell_type": "markdown",
   "metadata": {},
   "source": [
    "https://nf-co.re/bacass/1.1.0"
   ]
  },
  {
   "cell_type": "markdown",
   "metadata": {},
   "source": [
    "`注意：千万别乱动这个账户下的数据`"
   ]
  },
  {
   "cell_type": "markdown",
   "metadata": {},
   "source": [
    "### 1. 激活环境"
   ]
  },
  {
   "cell_type": "code",
   "execution_count": 1,
   "metadata": {},
   "outputs": [
    {
     "name": "stdout",
     "output_type": "stream",
     "text": [
      "(nf-core) "
     ]
    },
    {
     "ename": "",
     "evalue": "1",
     "output_type": "error",
     "traceback": []
    }
   ],
   "source": [
    "conda activate /home/junyuchen/Biosoft/anaconda3/envs/nf-core"
   ]
  },
  {
   "cell_type": "code",
   "execution_count": 3,
   "metadata": {},
   "outputs": [
    {
     "name": "stdout",
     "output_type": "stream",
     "text": [
      "/home/junyuchen/Biosoft/anaconda3/envs/nf-core/bin/nextflow\n",
      "(nf-core) "
     ]
    },
    {
     "ename": "",
     "evalue": "1",
     "output_type": "error",
     "traceback": []
    }
   ],
   "source": [
    "which nextflow"
   ]
  },
  {
   "cell_type": "markdown",
   "metadata": {},
   "source": [
    "### 2. 准备数据"
   ]
  },
  {
   "cell_type": "code",
   "execution_count": 5,
   "metadata": {},
   "outputs": [
    {
     "name": "stdout",
     "output_type": "stream",
     "text": [
      "total 217M\n",
      "drwxr-xr-x 3 LDlab users 4.0K Dec  2 15:43 \u001b[0m\u001b[01;34m.\u001b[0m\n",
      "drwxr-xr-x 5 LDlab users 4.0K Dec  2 15:45 \u001b[01;34m..\u001b[0m\n",
      "-rw-r--r-- 1 LDlab users  301 Dec  2 15:43 bacass_short.tsv\n",
      "-rw-r--r-- 1 LDlab users 1.0K Oct 26 17:12 .bacass_short.tsv.swp\n",
      "-rw-r--r-- 1 LDlab users  55M Oct 26 15:50 \u001b[01;31mERR044595_1M_1.fastq.gz\u001b[0m\n",
      "-rw-r--r-- 1 LDlab users  57M Oct 26 15:50 \u001b[01;31mERR044595_1M_2.fastq.gz\u001b[0m\n",
      "-rw-r--r-- 1 LDlab users  52M Oct 26 15:50 \u001b[01;31mERR064912_1M_1.fastq.gz\u001b[0m\n",
      "-rw-r--r-- 1 LDlab users  54M Oct 26 15:50 \u001b[01;31mERR064912_1M_2.fastq.gz\u001b[0m\n",
      "drwxr-xr-x 2 LDlab users 4.0K Oct 26 15:50 \u001b[01;34m.ipynb_checkpoints\u001b[0m\n",
      "(nf-core) "
     ]
    },
    {
     "ename": "",
     "evalue": "1",
     "output_type": "error",
     "traceback": []
    }
   ],
   "source": [
    "ls /home/LDlab/WGS-example/rawdata -alh"
   ]
  },
  {
   "cell_type": "markdown",
   "metadata": {},
   "source": [
    "将路径及相关信息写入到`.tsv`文件中，方便程序读取，如："
   ]
  },
  {
   "cell_type": "code",
   "execution_count": 6,
   "metadata": {},
   "outputs": [
    {
     "name": "stdout",
     "output_type": "stream",
     "text": [
      "ID\tR1\tR2\tLongFastQ\tFast5\tGenomeSize\n",
      "ERR044595\t/home/LDlab/WGS-example/rawdata/ERR044595_1M_1.fastq.gz\t/home/LDlab/WGS-example/rawdata/ERR044595_1M_2.fastq.gz\tNA\tNA\t2.8m\n",
      "ER064912\t/home/LDlab/WGS-example/rawdata/ERR064912_1M_1.fastq.gz\t/home/LDlab/WGS-example/rawdata/ERR064912_1M_2.fastq.gz\tNA\tNA\t2.8m\n",
      "(nf-core) "
     ]
    },
    {
     "ename": "",
     "evalue": "1",
     "output_type": "error",
     "traceback": []
    }
   ],
   "source": [
    "cat /home/LDlab/WGS-example/rawdata/bacass_short.tsv"
   ]
  },
  {
   "cell_type": "markdown",
   "metadata": {},
   "source": [
    "### 3. 跑程序"
   ]
  },
  {
   "cell_type": "markdown",
   "metadata": {},
   "source": [
    "具体参数使用，请参考：   \n",
    "https://nf-co.re/bacass/1.1.0/usage"
   ]
  },
  {
   "cell_type": "markdown",
   "metadata": {},
   "source": [
    "```shell\n",
    "nextflow run /home/junyuchen/Lab/WGS/nf-core-bacass-1.1.0/workflow --input /home/junyuchen/Lab/WGS/data/bacass_short.tsv -profile docker --skip_kraken2 --prokka_args \" --cpus 16\"\n",
    "```"
   ]
  },
  {
   "cell_type": "code",
   "execution_count": 7,
   "metadata": {},
   "outputs": [
    {
     "name": "stdout",
     "output_type": "stream",
     "text": [
      "/home/LDlab/WGS-example\n",
      "(nf-core) "
     ]
    },
    {
     "ename": "",
     "evalue": "1",
     "output_type": "error",
     "traceback": []
    }
   ],
   "source": [
    "pwd"
   ]
  },
  {
   "cell_type": "code",
   "execution_count": 8,
   "metadata": {},
   "outputs": [
    {
     "name": "stdout",
     "output_type": "stream",
     "text": [
      "(nf-core) "
     ]
    },
    {
     "ename": "",
     "evalue": "1",
     "output_type": "error",
     "traceback": []
    }
   ],
   "source": [
    "mkdir result-2020-12-02"
   ]
  },
  {
   "cell_type": "code",
   "execution_count": 9,
   "metadata": {},
   "outputs": [
    {
     "name": "stdout",
     "output_type": "stream",
     "text": [
      "(nf-core) "
     ]
    },
    {
     "ename": "",
     "evalue": "1",
     "output_type": "error",
     "traceback": []
    }
   ],
   "source": [
    "cd result-2020-12-02"
   ]
  },
  {
   "cell_type": "markdown",
   "metadata": {
    "jupyter": {
     "outputs_hidden": true
    }
   },
   "source": [
    "```shell\n",
    "nextflow run /home/junyuchen/Lab/WGS/nf-core-bacass-1.1.0/workflow --input /home/LDlab/WGS-example/rawdata/bacass_short.tsv -profile docker --skip_kraken2 --prokka_args \" --cpus 16\"\n",
    "```"
   ]
  },
  {
   "cell_type": "markdown",
   "metadata": {},
   "source": [
    "注意：上面只是演示，代码请到`Terminal`跑"
   ]
  },
  {
   "cell_type": "markdown",
   "metadata": {},
   "source": [
    "### 4. 输出结果"
   ]
  },
  {
   "cell_type": "code",
   "execution_count": 3,
   "metadata": {},
   "outputs": [
    {
     "name": "stdout",
     "output_type": "stream",
     "text": [
      "\u001b[0m\u001b[01;34mfastqc\u001b[0m  \u001b[01;34mmegahit\u001b[0m  \u001b[01;34mmetaspades\u001b[0m  \u001b[01;34mprokka\u001b[0m  \u001b[01;34mtrimmomatic\u001b[0m\n"
     ]
    }
   ],
   "source": [
    "ls ~/WGS-example/result"
   ]
  },
  {
   "cell_type": "code",
   "execution_count": 5,
   "metadata": {},
   "outputs": [
    {
     "name": "stdout",
     "output_type": "stream",
     "text": [
      "/home/LDlab/WGS-example/result/fastqc/:\n",
      "ERR044595_1M_1_fastqc.html  ERR044595_1M_2_fastqc.html\n",
      "\u001b[0m\u001b[01;31mERR044595_1M_1_fastqc.zip\u001b[0m   \u001b[01;31mERR044595_1M_2_fastqc.zip\u001b[0m\n",
      "\n",
      "/home/LDlab/WGS-example/result/megahit/:\n",
      "checkpoints.txt  final.contigs.fa      log\n",
      "done             \u001b[01;34mintermediate_contigs\u001b[0m  options.json\n",
      "\n",
      "/home/LDlab/WGS-example/result/metaspades/:\n",
      "\u001b[01;34mconfigs\u001b[0m       input_dataset.yaml  \u001b[01;34mK55\u001b[0m         \u001b[01;34mpipeline_state\u001b[0m   spades.log\n",
      "\u001b[01;34mcorrected\u001b[0m     \u001b[01;34mK21\u001b[0m                 \u001b[01;34mmisc\u001b[0m        run_spades.sh    \u001b[01;34mtmp\u001b[0m\n",
      "dataset.info  \u001b[01;34mK33\u001b[0m                 params.txt  run_spades.yaml\n",
      "\n",
      "/home/LDlab/WGS-example/result/prokka/:\n",
      "demo.ecn  demo.ffn            demo.fsa  demo.log  demo.tsv  errorsummary.val\n",
      "demo.err  demo.fixedproducts  demo.gbf  demo.sqn  demo.txt\n",
      "demo.faa  demo.fna            demo.gff  demo.tbl  demo.val\n",
      "\n",
      "/home/LDlab/WGS-example/result/trimmomatic/:\n",
      "ERR044595_1M_1.paired.fastq    ERR044595_1M_2.paired.fastq\n",
      "ERR044595_1M_1.unpaired.fastq  ERR044595_1M_2.unpaired.fastq\n"
     ]
    }
   ],
   "source": [
    "ls ~/WGS-example/result/*/"
   ]
  },
  {
   "cell_type": "code",
   "execution_count": null,
   "metadata": {},
   "outputs": [],
   "source": []
  }
 ],
 "metadata": {
  "kernelspec": {
   "display_name": "Bash",
   "language": "bash",
   "name": "bash"
  },
  "language_info": {
   "codemirror_mode": "shell",
   "file_extension": ".sh",
   "mimetype": "text/x-sh",
   "name": "bash"
  }
 },
 "nbformat": 4,
 "nbformat_minor": 4
}
