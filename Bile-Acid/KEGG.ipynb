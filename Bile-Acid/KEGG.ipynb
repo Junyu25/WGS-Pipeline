{
 "cells": [
  {
   "cell_type": "code",
   "execution_count": 6,
   "metadata": {
    "execution": {
     "iopub.execute_input": "2020-10-30T03:23:33.322146Z",
     "iopub.status.busy": "2020-10-30T03:23:33.321769Z",
     "iopub.status.idle": "2020-10-30T03:23:33.437434Z",
     "shell.execute_reply": "2020-10-30T03:23:33.436490Z",
     "shell.execute_reply.started": "2020-10-30T03:23:33.322107Z"
    }
   },
   "outputs": [
    {
     "name": "stdout",
     "output_type": "stream",
     "text": [
      "/mnt/d/Lab/WGS-Pipeline\n"
     ]
    }
   ],
   "source": [
    "!pwd"
   ]
  },
  {
   "cell_type": "code",
   "execution_count": 11,
   "metadata": {
    "execution": {
     "iopub.execute_input": "2020-10-30T03:24:08.844976Z",
     "iopub.status.busy": "2020-10-30T03:24:08.844729Z",
     "iopub.status.idle": "2020-10-30T03:24:08.962315Z",
     "shell.execute_reply": "2020-10-30T03:24:08.961407Z",
     "shell.execute_reply.started": "2020-10-30T03:24:08.844953Z"
    }
   },
   "outputs": [
    {
     "name": "stdout",
     "output_type": "stream",
     "text": [
      "1.1.1.159\n",
      "3.5.1.74"
     ]
    }
   ],
   "source": [
    "!cat /mnt/d/Lab/WGS-Pipeline/kegg.txt"
   ]
  },
  {
   "cell_type": "code",
   "execution_count": 17,
   "metadata": {
    "execution": {
     "iopub.execute_input": "2020-10-30T03:27:34.894381Z",
     "iopub.status.busy": "2020-10-30T03:27:34.894123Z",
     "iopub.status.idle": "2020-10-30T03:27:34.899578Z",
     "shell.execute_reply": "2020-10-30T03:27:34.898401Z",
     "shell.execute_reply.started": "2020-10-30T03:27:34.894355Z"
    }
   },
   "outputs": [],
   "source": [
    "from Bio.KEGG import Enzyme\n",
    "records = Enzyme.parse(open(\"/mnt/d/Lab/WGS-Pipeline/ec_5.4.2.2.txt\"))\n",
    "\n",
    "#record = list(records)[0]\n",
    "#record.classname"
   ]
  },
  {
   "cell_type": "code",
   "execution_count": 22,
   "metadata": {
    "execution": {
     "iopub.execute_input": "2020-10-30T03:28:28.907531Z",
     "iopub.status.busy": "2020-10-30T03:28:28.907258Z",
     "iopub.status.idle": "2020-10-30T03:28:28.913517Z",
     "shell.execute_reply": "2020-10-30T03:28:28.912367Z",
     "shell.execute_reply.started": "2020-10-30T03:28:28.907503Z"
    }
   },
   "outputs": [
    {
     "data": {
      "text/plain": [
       "<generator object parse at 0x7f7a40e92820>"
      ]
     },
     "execution_count": 22,
     "metadata": {},
     "output_type": "execute_result"
    }
   ],
   "source": [
    "records"
   ]
  },
  {
   "cell_type": "code",
   "execution_count": null,
   "metadata": {},
   "outputs": [],
   "source": []
  },
  {
   "cell_type": "code",
   "execution_count": 23,
   "metadata": {
    "execution": {
     "iopub.execute_input": "2020-10-30T03:29:40.959537Z",
     "iopub.status.busy": "2020-10-30T03:29:40.959176Z",
     "iopub.status.idle": "2020-10-30T03:29:40.995088Z",
     "shell.execute_reply": "2020-10-30T03:29:40.994263Z",
     "shell.execute_reply.started": "2020-10-30T03:29:40.959499Z"
    }
   },
   "outputs": [
    {
     "data": {
      "text/plain": [
       "['Isomerases;',\n",
       " 'Intramolecular transferases;',\n",
       " 'Phosphotransferases (phosphomutases)']"
      ]
     },
     "execution_count": 23,
     "metadata": {},
     "output_type": "execute_result"
    }
   ],
   "source": [
    "record = Enzyme.read(open(\"ec_5.4.2.2.txt\"))\n",
    "record.classname"
   ]
  },
  {
   "cell_type": "markdown",
   "metadata": {},
   "source": [
    "```shell\n",
    ">>> from Bio.KEGG import REST\n",
    ">>> from Bio.KEGG import Enzyme\n",
    ">>> request = REST.kegg_get(\"ec:5.4.2.2\")\n",
    ">>> open(\"ec_5.4.2.2.txt\", \"w\").write(request.read())\n",
    ">>> records = Enzyme.parse(open(\"ec_5.4.2.2.txt\"))\n",
    ">>> record = list(records)[0]\n",
    ">>> record.classname\n",
    "['Isomerases;', 'Intramolecular transferases;', 'Phosphotransferases (phosphomutases)']\n",
    ">>> record.entry\n",
    "'5.4.2.2'\n",
    "```"
   ]
  },
  {
   "cell_type": "code",
   "execution_count": 24,
   "metadata": {
    "execution": {
     "iopub.execute_input": "2020-10-30T03:32:59.337353Z",
     "iopub.status.busy": "2020-10-30T03:32:59.337140Z",
     "iopub.status.idle": "2020-10-30T03:33:03.229758Z",
     "shell.execute_reply": "2020-10-30T03:33:03.226524Z",
     "shell.execute_reply.started": "2020-10-30T03:32:59.337331Z"
    }
   },
   "outputs": [
    {
     "data": {
      "text/plain": [
       "['Oxidoreductases;',\n",
       " 'Acting on the CH-OH group of donors;',\n",
       " 'With NAD+ or NADP+ as acceptor']"
      ]
     },
     "execution_count": 24,
     "metadata": {},
     "output_type": "execute_result"
    }
   ],
   "source": [
    "from Bio.KEGG import REST\n",
    "from Bio.KEGG import Enzyme\n",
    "request = REST.kegg_get(\"ec:1.1.1.201\")\n",
    "open(\"ec_1.1.1.201.txt\", \"w\").write(request.read())\n",
    "records = Enzyme.parse(open(\"ec_1.1.1.201.txt\"))\n",
    "record = list(records)[0]\n",
    "record.classname"
   ]
  },
  {
   "cell_type": "markdown",
   "metadata": {},
   "source": [
    "7beta-hydroxysteroid dehydrogenase (NADP+);   \n",
    "NADP+-dependent 7beta-hydroxysteroid dehydrogenase;   \n",
    "7beta-hydroxysteroid dehydrogenase (NADP+)"
   ]
  },
  {
   "cell_type": "code",
   "execution_count": 25,
   "metadata": {
    "execution": {
     "iopub.execute_input": "2020-10-30T03:33:43.288120Z",
     "iopub.status.busy": "2020-10-30T03:33:43.287784Z",
     "iopub.status.idle": "2020-10-30T03:33:43.293887Z",
     "shell.execute_reply": "2020-10-30T03:33:43.293035Z",
     "shell.execute_reply.started": "2020-10-30T03:33:43.288080Z"
    }
   },
   "outputs": [
    {
     "data": {
      "text/plain": [
       "'1.1.1.201'"
      ]
     },
     "execution_count": 25,
     "metadata": {},
     "output_type": "execute_result"
    }
   ],
   "source": [
    "record.entry"
   ]
  },
  {
   "cell_type": "code",
   "execution_count": 26,
   "metadata": {
    "execution": {
     "iopub.execute_input": "2020-10-30T03:42:56.665768Z",
     "iopub.status.busy": "2020-10-30T03:42:56.665409Z",
     "iopub.status.idle": "2020-10-30T03:42:56.695671Z",
     "shell.execute_reply": "2020-10-30T03:42:56.694472Z",
     "shell.execute_reply.started": "2020-10-30T03:42:56.665731Z"
    }
   },
   "outputs": [],
   "source": [
    "from Bio.ExPASy import Enzyme\n",
    "with open(\"kegg.txt\") as handle:\n",
    "    record = Enzyme.read(handle)"
   ]
  },
  {
   "cell_type": "code",
   "execution_count": null,
   "metadata": {},
   "outputs": [],
   "source": []
  }
 ],
 "metadata": {
  "kernelspec": {
   "display_name": "Bio",
   "language": "python",
   "name": "bio"
  },
  "language_info": {
   "codemirror_mode": {
    "name": "ipython",
    "version": 3
   },
   "file_extension": ".py",
   "mimetype": "text/x-python",
   "name": "python",
   "nbconvert_exporter": "python",
   "pygments_lexer": "ipython3",
   "version": "3.8.6"
  }
 },
 "nbformat": 4,
 "nbformat_minor": 4
}
