{
 "cells": [
  {
   "cell_type": "markdown",
   "metadata": {},
   "source": [
    "# ABRicate"
   ]
  },
  {
   "cell_type": "markdown",
   "metadata": {},
   "source": [
    "https://github.com/tseemann/abricate"
   ]
  },
  {
   "cell_type": "markdown",
   "metadata": {},
   "source": [
    "for antimicrobial resistance and virulence genes"
   ]
  },
  {
   "cell_type": "code",
   "execution_count": 6,
   "metadata": {},
   "outputs": [],
   "source": [
    "import os\n",
    "import pandas as pd"
   ]
  },
  {
   "cell_type": "code",
   "execution_count": 7,
   "metadata": {},
   "outputs": [],
   "source": [
    "import sys\n",
    "sys.path.append('./Scripts')"
   ]
  },
  {
   "cell_type": "code",
   "execution_count": 9,
   "metadata": {},
   "outputs": [],
   "source": [
    "from functions import *"
   ]
  },
  {
   "cell_type": "markdown",
   "metadata": {},
   "source": [
    "#### requirement"
   ]
  },
  {
   "cell_type": "code",
   "execution_count": 26,
   "metadata": {},
   "outputs": [
    {
     "name": "stdout",
     "output_type": "stream",
     "text": [
      "# packages in environment at /home/junyuchen/Biosoft/anaconda3/envs/wgs:\n",
      "#\n",
      "# Name                    Version                   Build  Channel\n",
      "python                    3.7.9           hffdb5ce_0_cpython    conda-forge\n"
     ]
    }
   ],
   "source": [
    "!conda list python -f"
   ]
  },
  {
   "cell_type": "code",
   "execution_count": 28,
   "metadata": {},
   "outputs": [
    {
     "name": "stdout",
     "output_type": "stream",
     "text": [
      "# packages in environment at /home/junyuchen/Biosoft/anaconda3/envs/wgs:\n",
      "#\n",
      "# Name                    Version                   Build  Channel\n",
      "abricate                  1.0.1                h1341992_0    bioconda\n"
     ]
    }
   ],
   "source": [
    "!conda list abricate"
   ]
  },
  {
   "cell_type": "markdown",
   "metadata": {},
   "source": [
    "#### prokka Output"
   ]
  },
  {
   "cell_type": "code",
   "execution_count": 4,
   "metadata": {},
   "outputs": [
    {
     "name": "stdout",
     "output_type": "stream",
     "text": [
      "./result/testout/prokka/ER064912:\n",
      "ER064912.err  ER064912.fna  ER064912.gff  ER064912.tbl\n",
      "ER064912.faa  ER064912.fsa  ER064912.log  ER064912.tsv\n",
      "ER064912.ffn  ER064912.gbk  ER064912.sqn  ER064912.txt\n",
      "\n",
      "./result/testout/prokka/ERR044595:\n",
      "ERR044595.err  ERR044595.fna  ERR044595.gff  ERR044595.tbl\n",
      "ERR044595.faa  ERR044595.fsa  ERR044595.log  ERR044595.tsv\n",
      "ERR044595.ffn  ERR044595.gbk  ERR044595.sqn  ERR044595.txt\n"
     ]
    }
   ],
   "source": [
    "!ls ./result/testout/prokka/*"
   ]
  },
  {
   "cell_type": "code",
   "execution_count": 13,
   "metadata": {},
   "outputs": [],
   "source": [
    "prefixList = [\"ER064912\", \"ERR044595\"]"
   ]
  },
  {
   "cell_type": "code",
   "execution_count": 17,
   "metadata": {},
   "outputs": [],
   "source": [
    "OutDir = \"/home/junyuchen/1-Projects/WGS-Pipeline/result/testout\""
   ]
  },
  {
   "cell_type": "code",
   "execution_count": 18,
   "metadata": {},
   "outputs": [],
   "source": [
    "ProkkaDir = os.path.join(OutDir, \"prokka\")"
   ]
  },
  {
   "cell_type": "markdown",
   "metadata": {},
   "source": [
    "`.fna`\tNucleotide FASTA file of the input contig sequences.   \n",
    "`.faa`\tProtein FASTA file of the translated CDS sequences.   \n",
    "`.ffn`\tNucleotide FASTA file of all the prediction transcripts (CDS, rRNA, tRNA, tmRNA, misc_RNA)"
   ]
  },
  {
   "cell_type": "markdown",
   "metadata": {},
   "source": [
    "#### parseProkka Dir"
   ]
  },
  {
   "cell_type": "code",
   "execution_count": 15,
   "metadata": {},
   "outputs": [],
   "source": [
    "fnaList, faaList, ffnList = parseProkka(prefixList, ProkkaDir)"
   ]
  },
  {
   "cell_type": "markdown",
   "metadata": {},
   "source": [
    "#### RunABRicateaParallel"
   ]
  },
  {
   "cell_type": "code",
   "execution_count": 19,
   "metadata": {},
   "outputs": [],
   "source": [
    "ABRicateDir = os.path.join(OutDir, \"abricate\")\n",
    "if os.path.exists(ABRicateDir) == 0:\n",
    "    os.makedirs(ABRicateDir, 0o777, True)"
   ]
  },
  {
   "cell_type": "markdown",
   "metadata": {},
   "source": [
    "`RunABRicateaParallel(ffnList, prefixList, ABRicateDir, threads, jobs)`"
   ]
  },
  {
   "cell_type": "code",
   "execution_count": 32,
   "metadata": {},
   "outputs": [
    {
     "data": {
      "text/plain": [
       "['/home/junyuchen/1-Projects/WGS-Pipeline/result/testout/prokka/ER064912/ER064912.ffn',\n",
       " '/home/junyuchen/1-Projects/WGS-Pipeline/result/testout/prokka/ERR044595/ERR044595.ffn']"
      ]
     },
     "execution_count": 32,
     "metadata": {},
     "output_type": "execute_result"
    }
   ],
   "source": [
    "ffnList"
   ]
  },
  {
   "cell_type": "code",
   "execution_count": 20,
   "metadata": {},
   "outputs": [],
   "source": [
    "RunABRicateaParallel(ffnList, prefixList, ABRicateDir, 8, 2)"
   ]
  },
  {
   "cell_type": "code",
   "execution_count": 31,
   "metadata": {},
   "outputs": [
    {
     "name": "stdout",
     "output_type": "stream",
     "text": [
      "ER064912_abricate.txt  ERR044595_abricate.txt\n"
     ]
    }
   ],
   "source": [
    "!ls /home/junyuchen/1-Projects/WGS-Pipeline/result/testout/abricate"
   ]
  },
  {
   "cell_type": "markdown",
   "metadata": {},
   "source": [
    "### output"
   ]
  },
  {
   "cell_type": "code",
   "execution_count": 21,
   "metadata": {},
   "outputs": [],
   "source": [
    "df = pd.read_table(os.path.join(ABRicateDir, \"ER064912_abricate.txt\"))"
   ]
  },
  {
   "cell_type": "code",
   "execution_count": 23,
   "metadata": {},
   "outputs": [
    {
     "data": {
      "text/html": [
       "<div>\n",
       "<style scoped>\n",
       "    .dataframe tbody tr th:only-of-type {\n",
       "        vertical-align: middle;\n",
       "    }\n",
       "\n",
       "    .dataframe tbody tr th {\n",
       "        vertical-align: top;\n",
       "    }\n",
       "\n",
       "    .dataframe thead th {\n",
       "        text-align: right;\n",
       "    }\n",
       "</style>\n",
       "<table border=\"1\" class=\"dataframe\">\n",
       "  <thead>\n",
       "    <tr style=\"text-align: right;\">\n",
       "      <th></th>\n",
       "      <th>SEQUENCE</th>\n",
       "      <th>START</th>\n",
       "      <th>END</th>\n",
       "      <th>STRAND</th>\n",
       "      <th>GENE</th>\n",
       "      <th>COVERAGE</th>\n",
       "      <th>%COVERAGE</th>\n",
       "      <th>%IDENTITY</th>\n",
       "      <th>DATABASE</th>\n",
       "      <th>ACCESSION</th>\n",
       "      <th>PRODUCT</th>\n",
       "    </tr>\n",
       "  </thead>\n",
       "  <tbody>\n",
       "    <tr>\n",
       "      <th>0</th>\n",
       "      <td>GJHCLFJP_01233</td>\n",
       "      <td>1</td>\n",
       "      <td>1920</td>\n",
       "      <td>+</td>\n",
       "      <td>tet(M)</td>\n",
       "      <td>1-1920/1920</td>\n",
       "      <td>100.00</td>\n",
       "      <td>100.00</td>\n",
       "      <td>ncbi</td>\n",
       "      <td>NG_048252.1</td>\n",
       "      <td>tetracycline resistance ribosomal protection p...</td>\n",
       "    </tr>\n",
       "    <tr>\n",
       "      <th>1</th>\n",
       "      <td>GJHCLFJP_01545</td>\n",
       "      <td>7</td>\n",
       "      <td>1359</td>\n",
       "      <td>+</td>\n",
       "      <td>tet(38)</td>\n",
       "      <td>1-1353/1353</td>\n",
       "      <td>100.00</td>\n",
       "      <td>99.93</td>\n",
       "      <td>ncbi</td>\n",
       "      <td>NG_048135.1</td>\n",
       "      <td>tetracycline efflux MFS transporter Tet(38)</td>\n",
       "    </tr>\n",
       "    <tr>\n",
       "      <th>2</th>\n",
       "      <td>GJHCLFJP_01557</td>\n",
       "      <td>1</td>\n",
       "      <td>846</td>\n",
       "      <td>+</td>\n",
       "      <td>blaPC1</td>\n",
       "      <td>1-846/846</td>\n",
       "      <td>100.00</td>\n",
       "      <td>99.41</td>\n",
       "      <td>ncbi</td>\n",
       "      <td>NG_052065.1</td>\n",
       "      <td>BlaZ family penicillin-hydrolyzing class A bet...</td>\n",
       "    </tr>\n",
       "    <tr>\n",
       "      <th>3</th>\n",
       "      <td>GJHCLFJP_01558</td>\n",
       "      <td>1</td>\n",
       "      <td>1758</td>\n",
       "      <td>+</td>\n",
       "      <td>blaR1</td>\n",
       "      <td>1-1758/1758</td>\n",
       "      <td>100.00</td>\n",
       "      <td>99.94</td>\n",
       "      <td>ncbi</td>\n",
       "      <td>NG_047539.1</td>\n",
       "      <td>beta-lactam sensor/signal transducer BlaR1</td>\n",
       "    </tr>\n",
       "    <tr>\n",
       "      <th>4</th>\n",
       "      <td>GJHCLFJP_01559</td>\n",
       "      <td>1</td>\n",
       "      <td>381</td>\n",
       "      <td>+</td>\n",
       "      <td>blaI_of_Z</td>\n",
       "      <td>1-381/381</td>\n",
       "      <td>100.00</td>\n",
       "      <td>100.00</td>\n",
       "      <td>ncbi</td>\n",
       "      <td>NG_047499.1</td>\n",
       "      <td>penicillinase repressor BlaI</td>\n",
       "    </tr>\n",
       "    <tr>\n",
       "      <th>5</th>\n",
       "      <td>GJHCLFJP_02252</td>\n",
       "      <td>1</td>\n",
       "      <td>420</td>\n",
       "      <td>+</td>\n",
       "      <td>fosB-Saur</td>\n",
       "      <td>1-420/420</td>\n",
       "      <td>100.00</td>\n",
       "      <td>100.00</td>\n",
       "      <td>ncbi</td>\n",
       "      <td>NG_065844.1</td>\n",
       "      <td>FosB1/FosB3 family fosfomycin resistance bacil...</td>\n",
       "    </tr>\n",
       "    <tr>\n",
       "      <th>6</th>\n",
       "      <td>GJHCLFJP_02357</td>\n",
       "      <td>1</td>\n",
       "      <td>732</td>\n",
       "      <td>+</td>\n",
       "      <td>erm(A)</td>\n",
       "      <td>1-732/732</td>\n",
       "      <td>100.00</td>\n",
       "      <td>100.00</td>\n",
       "      <td>ncbi</td>\n",
       "      <td>NG_047789.1</td>\n",
       "      <td>23S rRNA (adenine(2058)-N(6))-methyltransferas...</td>\n",
       "    </tr>\n",
       "    <tr>\n",
       "      <th>7</th>\n",
       "      <td>GJHCLFJP_02437</td>\n",
       "      <td>1</td>\n",
       "      <td>2007</td>\n",
       "      <td>+</td>\n",
       "      <td>mecA</td>\n",
       "      <td>1-2007/2007</td>\n",
       "      <td>100.00</td>\n",
       "      <td>99.90</td>\n",
       "      <td>ncbi</td>\n",
       "      <td>NG_047937.1</td>\n",
       "      <td>PBP2a family beta-lactam-resistant peptidoglyc...</td>\n",
       "    </tr>\n",
       "    <tr>\n",
       "      <th>8</th>\n",
       "      <td>GJHCLFJP_02438</td>\n",
       "      <td>1</td>\n",
       "      <td>1758</td>\n",
       "      <td>+</td>\n",
       "      <td>mecR1</td>\n",
       "      <td>1-1758/1758</td>\n",
       "      <td>100.00</td>\n",
       "      <td>100.00</td>\n",
       "      <td>ncbi</td>\n",
       "      <td>NG_051163.1</td>\n",
       "      <td>beta-lactam sensor/signal transducer MecR1</td>\n",
       "    </tr>\n",
       "    <tr>\n",
       "      <th>9</th>\n",
       "      <td>GJHCLFJP_02631</td>\n",
       "      <td>1</td>\n",
       "      <td>795</td>\n",
       "      <td>+</td>\n",
       "      <td>aph(3')-IIIa</td>\n",
       "      <td>1-795/795</td>\n",
       "      <td>100.00</td>\n",
       "      <td>100.00</td>\n",
       "      <td>ncbi</td>\n",
       "      <td>NG_047418.1</td>\n",
       "      <td>aminoglycoside O-phosphotransferase APH(3')-IIIa</td>\n",
       "    </tr>\n",
       "    <tr>\n",
       "      <th>10</th>\n",
       "      <td>GJHCLFJP_02632</td>\n",
       "      <td>1</td>\n",
       "      <td>531</td>\n",
       "      <td>+</td>\n",
       "      <td>sat4</td>\n",
       "      <td>1-543/543</td>\n",
       "      <td>97.79</td>\n",
       "      <td>97.79</td>\n",
       "      <td>ncbi</td>\n",
       "      <td>NG_048072.1</td>\n",
       "      <td>streptothricin N-acetyltransferase Sat4</td>\n",
       "    </tr>\n",
       "    <tr>\n",
       "      <th>11</th>\n",
       "      <td>GJHCLFJP_02633</td>\n",
       "      <td>1</td>\n",
       "      <td>909</td>\n",
       "      <td>+</td>\n",
       "      <td>ant(6)-Ia</td>\n",
       "      <td>1-909/909</td>\n",
       "      <td>100.00</td>\n",
       "      <td>100.00</td>\n",
       "      <td>ncbi</td>\n",
       "      <td>NG_047393.1</td>\n",
       "      <td>aminoglycoside nucleotidyltransferase ANT(6)-Ia</td>\n",
       "    </tr>\n",
       "    <tr>\n",
       "      <th>12</th>\n",
       "      <td>GJHCLFJP_02697</td>\n",
       "      <td>1</td>\n",
       "      <td>486</td>\n",
       "      <td>+</td>\n",
       "      <td>dfrC</td>\n",
       "      <td>1-486/486</td>\n",
       "      <td>100.00</td>\n",
       "      <td>98.97</td>\n",
       "      <td>ncbi</td>\n",
       "      <td>NG_047752.1</td>\n",
       "      <td>trimethoprim-resistant dihydrofolate reductase...</td>\n",
       "    </tr>\n",
       "    <tr>\n",
       "      <th>13</th>\n",
       "      <td>GJHCLFJP_02699</td>\n",
       "      <td>631</td>\n",
       "      <td>1427</td>\n",
       "      <td>+</td>\n",
       "      <td>aph(2'')-Ih</td>\n",
       "      <td>70-866/894</td>\n",
       "      <td>89.15</td>\n",
       "      <td>82.43</td>\n",
       "      <td>ncbi</td>\n",
       "      <td>NG_047408.1</td>\n",
       "      <td>aminoglycoside O-phosphotransferase APH(2'')-Ih</td>\n",
       "    </tr>\n",
       "  </tbody>\n",
       "</table>\n",
       "</div>"
      ],
      "text/plain": [
       "          SEQUENCE  START   END STRAND          GENE     COVERAGE  %COVERAGE  \\\n",
       "0   GJHCLFJP_01233      1  1920      +        tet(M)  1-1920/1920     100.00   \n",
       "1   GJHCLFJP_01545      7  1359      +       tet(38)  1-1353/1353     100.00   \n",
       "2   GJHCLFJP_01557      1   846      +        blaPC1    1-846/846     100.00   \n",
       "3   GJHCLFJP_01558      1  1758      +         blaR1  1-1758/1758     100.00   \n",
       "4   GJHCLFJP_01559      1   381      +     blaI_of_Z    1-381/381     100.00   \n",
       "5   GJHCLFJP_02252      1   420      +     fosB-Saur    1-420/420     100.00   \n",
       "6   GJHCLFJP_02357      1   732      +        erm(A)    1-732/732     100.00   \n",
       "7   GJHCLFJP_02437      1  2007      +          mecA  1-2007/2007     100.00   \n",
       "8   GJHCLFJP_02438      1  1758      +         mecR1  1-1758/1758     100.00   \n",
       "9   GJHCLFJP_02631      1   795      +  aph(3')-IIIa    1-795/795     100.00   \n",
       "10  GJHCLFJP_02632      1   531      +          sat4    1-543/543      97.79   \n",
       "11  GJHCLFJP_02633      1   909      +     ant(6)-Ia    1-909/909     100.00   \n",
       "12  GJHCLFJP_02697      1   486      +          dfrC    1-486/486     100.00   \n",
       "13  GJHCLFJP_02699    631  1427      +   aph(2'')-Ih   70-866/894      89.15   \n",
       "\n",
       "    %IDENTITY DATABASE    ACCESSION  \\\n",
       "0      100.00     ncbi  NG_048252.1   \n",
       "1       99.93     ncbi  NG_048135.1   \n",
       "2       99.41     ncbi  NG_052065.1   \n",
       "3       99.94     ncbi  NG_047539.1   \n",
       "4      100.00     ncbi  NG_047499.1   \n",
       "5      100.00     ncbi  NG_065844.1   \n",
       "6      100.00     ncbi  NG_047789.1   \n",
       "7       99.90     ncbi  NG_047937.1   \n",
       "8      100.00     ncbi  NG_051163.1   \n",
       "9      100.00     ncbi  NG_047418.1   \n",
       "10      97.79     ncbi  NG_048072.1   \n",
       "11     100.00     ncbi  NG_047393.1   \n",
       "12      98.97     ncbi  NG_047752.1   \n",
       "13      82.43     ncbi  NG_047408.1   \n",
       "\n",
       "                                              PRODUCT  \n",
       "0   tetracycline resistance ribosomal protection p...  \n",
       "1         tetracycline efflux MFS transporter Tet(38)  \n",
       "2   BlaZ family penicillin-hydrolyzing class A bet...  \n",
       "3          beta-lactam sensor/signal transducer BlaR1  \n",
       "4                        penicillinase repressor BlaI  \n",
       "5   FosB1/FosB3 family fosfomycin resistance bacil...  \n",
       "6   23S rRNA (adenine(2058)-N(6))-methyltransferas...  \n",
       "7   PBP2a family beta-lactam-resistant peptidoglyc...  \n",
       "8          beta-lactam sensor/signal transducer MecR1  \n",
       "9    aminoglycoside O-phosphotransferase APH(3')-IIIa  \n",
       "10            streptothricin N-acetyltransferase Sat4  \n",
       "11    aminoglycoside nucleotidyltransferase ANT(6)-Ia  \n",
       "12  trimethoprim-resistant dihydrofolate reductase...  \n",
       "13    aminoglycoside O-phosphotransferase APH(2'')-Ih  "
      ]
     },
     "execution_count": 23,
     "metadata": {},
     "output_type": "execute_result"
    }
   ],
   "source": [
    "df[[\"SEQUENCE\",\t\"START\", \"END\", \"STRAND\", \"GENE\", \"COVERAGE\", \"%COVERAGE\", \"%IDENTITY\",\t\"DATABASE\", \"ACCESSION\",\"PRODUCT\"]]"
   ]
  },
  {
   "cell_type": "code",
   "execution_count": null,
   "metadata": {},
   "outputs": [],
   "source": []
  }
 ],
 "metadata": {
  "kernelspec": {
   "display_name": "wgs",
   "language": "python",
   "name": "wgs"
  },
  "language_info": {
   "codemirror_mode": {
    "name": "ipython",
    "version": 3
   },
   "file_extension": ".py",
   "mimetype": "text/x-python",
   "name": "python",
   "nbconvert_exporter": "python",
   "pygments_lexer": "ipython3",
   "version": "3.7.9"
  }
 },
 "nbformat": 4,
 "nbformat_minor": 4
}
