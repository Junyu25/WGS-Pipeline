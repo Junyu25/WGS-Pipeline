{
 "cells": [
  {
   "cell_type": "markdown",
   "metadata": {},
   "source": [
    "### parseDiamond "
   ]
  },
  {
   "cell_type": "markdown",
   "metadata": {},
   "source": [
    "`prefix` `qseqid` `pident` `length`"
   ]
  },
  {
   "cell_type": "markdown",
   "metadata": {},
   "source": [
    "`prefix` `kraken2-taxa`"
   ]
  },
  {
   "cell_type": "code",
   "execution_count": 1,
   "metadata": {},
   "outputs": [],
   "source": [
    "import pandas as pd"
   ]
  },
  {
   "cell_type": "code",
   "execution_count": 10,
   "metadata": {},
   "outputs": [],
   "source": [
    "demo = \"/home/junyuchen/1-Projects/WGS-Pipeline/result/BGCs_demo/DA_100_blasp.tsv\""
   ]
  },
  {
   "cell_type": "code",
   "execution_count": 13,
   "metadata": {},
   "outputs": [],
   "source": [
    "df = pd.read_table(demo, header=None)\n",
    "df.columns = [\"qseqid\", \"sseqid\", \"pident\", \"length\", \"mismatch\", \"gapopen\", \"qstart\", \"qend\", \"sstart\", \"send\", \"evalue\", \"bitscore\"]"
   ]
  },
  {
   "cell_type": "code",
   "execution_count": 14,
   "metadata": {},
   "outputs": [
    {
     "data": {
      "text/html": [
       "<div>\n",
       "<style scoped>\n",
       "    .dataframe tbody tr th:only-of-type {\n",
       "        vertical-align: middle;\n",
       "    }\n",
       "\n",
       "    .dataframe tbody tr th {\n",
       "        vertical-align: top;\n",
       "    }\n",
       "\n",
       "    .dataframe thead th {\n",
       "        text-align: right;\n",
       "    }\n",
       "</style>\n",
       "<table border=\"1\" class=\"dataframe\">\n",
       "  <thead>\n",
       "    <tr style=\"text-align: right;\">\n",
       "      <th></th>\n",
       "      <th>qseqid</th>\n",
       "      <th>sseqid</th>\n",
       "      <th>pident</th>\n",
       "      <th>length</th>\n",
       "      <th>mismatch</th>\n",
       "      <th>gapopen</th>\n",
       "      <th>qstart</th>\n",
       "      <th>qend</th>\n",
       "      <th>sstart</th>\n",
       "      <th>send</th>\n",
       "      <th>evalue</th>\n",
       "      <th>bitscore</th>\n",
       "    </tr>\n",
       "  </thead>\n",
       "  <tbody>\n",
       "    <tr>\n",
       "      <th>0</th>\n",
       "      <td>GKIHNHHK_03810</td>\n",
       "      <td>CAH08161.1</td>\n",
       "      <td>34.5</td>\n",
       "      <td>380</td>\n",
       "      <td>247</td>\n",
       "      <td>2</td>\n",
       "      <td>16</td>\n",
       "      <td>395</td>\n",
       "      <td>17</td>\n",
       "      <td>394</td>\n",
       "      <td>2.300000e-65</td>\n",
       "      <td>233.0</td>\n",
       "    </tr>\n",
       "    <tr>\n",
       "      <th>1</th>\n",
       "      <td>GKIHNHHK_04334</td>\n",
       "      <td>CAH08161.1</td>\n",
       "      <td>76.4</td>\n",
       "      <td>394</td>\n",
       "      <td>93</td>\n",
       "      <td>0</td>\n",
       "      <td>1</td>\n",
       "      <td>394</td>\n",
       "      <td>1</td>\n",
       "      <td>394</td>\n",
       "      <td>1.600000e-183</td>\n",
       "      <td>625.5</td>\n",
       "    </tr>\n",
       "  </tbody>\n",
       "</table>\n",
       "</div>"
      ],
      "text/plain": [
       "           qseqid      sseqid  pident  length  mismatch  gapopen  qstart  \\\n",
       "0  GKIHNHHK_03810  CAH08161.1    34.5     380       247        2      16   \n",
       "1  GKIHNHHK_04334  CAH08161.1    76.4     394        93        0       1   \n",
       "\n",
       "   qend  sstart  send         evalue  bitscore  \n",
       "0   395      17   394   2.300000e-65     233.0  \n",
       "1   394       1   394  1.600000e-183     625.5  "
      ]
     },
     "execution_count": 14,
     "metadata": {},
     "output_type": "execute_result"
    }
   ],
   "source": [
    "df"
   ]
  },
  {
   "cell_type": "code",
   "execution_count": 20,
   "metadata": {},
   "outputs": [],
   "source": [
    "df1 = df.loc[df[\"pident\"] >= 50]"
   ]
  },
  {
   "cell_type": "code",
   "execution_count": 21,
   "metadata": {},
   "outputs": [
    {
     "data": {
      "text/html": [
       "<div>\n",
       "<style scoped>\n",
       "    .dataframe tbody tr th:only-of-type {\n",
       "        vertical-align: middle;\n",
       "    }\n",
       "\n",
       "    .dataframe tbody tr th {\n",
       "        vertical-align: top;\n",
       "    }\n",
       "\n",
       "    .dataframe thead th {\n",
       "        text-align: right;\n",
       "    }\n",
       "</style>\n",
       "<table border=\"1\" class=\"dataframe\">\n",
       "  <thead>\n",
       "    <tr style=\"text-align: right;\">\n",
       "      <th></th>\n",
       "      <th>qseqid</th>\n",
       "      <th>sseqid</th>\n",
       "      <th>pident</th>\n",
       "      <th>length</th>\n",
       "      <th>mismatch</th>\n",
       "      <th>gapopen</th>\n",
       "      <th>qstart</th>\n",
       "      <th>qend</th>\n",
       "      <th>sstart</th>\n",
       "      <th>send</th>\n",
       "      <th>evalue</th>\n",
       "      <th>bitscore</th>\n",
       "    </tr>\n",
       "  </thead>\n",
       "  <tbody>\n",
       "    <tr>\n",
       "      <th>1</th>\n",
       "      <td>GKIHNHHK_04334</td>\n",
       "      <td>CAH08161.1</td>\n",
       "      <td>76.4</td>\n",
       "      <td>394</td>\n",
       "      <td>93</td>\n",
       "      <td>0</td>\n",
       "      <td>1</td>\n",
       "      <td>394</td>\n",
       "      <td>1</td>\n",
       "      <td>394</td>\n",
       "      <td>1.600000e-183</td>\n",
       "      <td>625.5</td>\n",
       "    </tr>\n",
       "  </tbody>\n",
       "</table>\n",
       "</div>"
      ],
      "text/plain": [
       "           qseqid      sseqid  pident  length  mismatch  gapopen  qstart  \\\n",
       "1  GKIHNHHK_04334  CAH08161.1    76.4     394        93        0       1   \n",
       "\n",
       "   qend  sstart  send         evalue  bitscore  \n",
       "1   394       1   394  1.600000e-183     625.5  "
      ]
     },
     "execution_count": 21,
     "metadata": {},
     "output_type": "execute_result"
    }
   ],
   "source": [
    "df1"
   ]
  },
  {
   "cell_type": "code",
   "execution_count": 22,
   "metadata": {},
   "outputs": [],
   "source": [
    "idList = df1[\"qseqid\"].to_list()"
   ]
  },
  {
   "cell_type": "code",
   "execution_count": 23,
   "metadata": {},
   "outputs": [
    {
     "data": {
      "text/plain": [
       "['GKIHNHHK_04334']"
      ]
     },
     "execution_count": 23,
     "metadata": {},
     "output_type": "execute_result"
    }
   ],
   "source": [
    "idList"
   ]
  },
  {
   "cell_type": "code",
   "execution_count": 52,
   "metadata": {},
   "outputs": [],
   "source": [
    "def parseDiamond(tsvFile):\n",
    "    idList = []\n",
    "    pidentList = []\n",
    "    lengthList = []\n",
    "    try:\n",
    "        df = pd.read_table(tsvFile, header=None)\n",
    "        df.columns = [\"qseqid\", \"sseqid\", \"pident\", \"length\", \"mismatch\", \"gapopen\", \"qstart\", \"qend\", \"sstart\", \"send\", \"evalue\", \"bitscore\"]\n",
    "        df1 = df.loc[df[\"pident\"] >= 50]\n",
    "        idList = df1[\"qseqid\"].to_list()\n",
    "        pidentList = df1[\"pident\"].to_list()\n",
    "        lengthList = df1[\"length\"].to_list()\n",
    "    except Exception:\n",
    "        pass\n",
    "    return idList, pidentList, lengthList #bug"
   ]
  },
  {
   "cell_type": "markdown",
   "metadata": {},
   "source": [
    "### extract seq"
   ]
  },
  {
   "cell_type": "markdown",
   "metadata": {},
   "source": [
    "`seqid` and `prefix`"
   ]
  },
  {
   "cell_type": "code",
   "execution_count": 15,
   "metadata": {},
   "outputs": [
    {
     "name": "stdout",
     "output_type": "stream",
     "text": [
      "total 53M\n",
      "drwxrwxr-x  2 junyuchen junyuchen 4.0K Feb  5 01:56 .\n",
      "drwxrwxr-x 80 junyuchen junyuchen 4.0K Feb  5 04:01 ..\n",
      "-rw-rw-r--  1 junyuchen junyuchen 1.1M Feb  5 01:54 DA_100.err\n",
      "-rw-rw-r--  1 junyuchen junyuchen 1.7M Feb  5 01:54 DA_100.faa\n",
      "-rw-rw-r--  1 junyuchen junyuchen 4.7M Feb  5 01:58 DA_100.ffn\n",
      "-rw-rw-r--  1 junyuchen junyuchen 5.1M Feb  5 01:49 DA_100.fna\n",
      "-rw-rw-r--  1 junyuchen junyuchen 5.1M Feb  5 01:54 DA_100.fsa\n",
      "-rw-rw-r--  1 junyuchen junyuchen  11M Feb  5 02:00 DA_100.gbk\n",
      "-rw-rw-r--  1 junyuchen junyuchen 6.5M Feb  5 01:54 DA_100.gff\n",
      "-rw-rw-r--  1 junyuchen junyuchen  41K Feb  5 02:00 DA_100.log\n",
      "-rw-rw-r--  1 junyuchen junyuchen  17M Feb  5 02:00 DA_100.sqn\n",
      "-rw-rw-r--  1 junyuchen junyuchen 975K Feb  5 01:58 DA_100.tbl\n",
      "-rw-rw-r--  1 junyuchen junyuchen 394K Feb  5 01:54 DA_100.tsv\n",
      "-rw-rw-r--  1 junyuchen junyuchen  124 Feb  5 01:54 DA_100.txt\n"
     ]
    }
   ],
   "source": [
    "!ls /home/junyuchen/1-Projects/WGS-Pipeline/result/210202_WGS/prokka/DA_100 -alh"
   ]
  },
  {
   "cell_type": "code",
   "execution_count": 16,
   "metadata": {},
   "outputs": [
    {
     "name": "stdout",
     "output_type": "stream",
     "text": [
      ">GKIHNHHK_04334 8-amino-7-oxononanoate synthase\n"
     ]
    }
   ],
   "source": [
    "!grep \"GKIHNHHK_04334\" /home/junyuchen/1-Projects/WGS-Pipeline/result/210202_WGS/prokka/DA_100/DA_100.faa"
   ]
  },
  {
   "cell_type": "code",
   "execution_count": 17,
   "metadata": {},
   "outputs": [],
   "source": [
    "from Bio import SeqIO"
   ]
  },
  {
   "cell_type": "code",
   "execution_count": 18,
   "metadata": {},
   "outputs": [],
   "source": [
    "faaFile = \"/home/junyuchen/1-Projects/WGS-Pipeline/result/210202_WGS/prokka/DA_100/DA_100.faa\""
   ]
  },
  {
   "cell_type": "code",
   "execution_count": 30,
   "metadata": {},
   "outputs": [],
   "source": [
    "seqList = []\n",
    "for seqid in idList:\n",
    "    for seq in SeqIO.parse(faaFile, \"fasta\"):\n",
    "        if seqid == seq.id:\n",
    "            #print(seq)\n",
    "            seqList.append(seq)"
   ]
  },
  {
   "cell_type": "code",
   "execution_count": 31,
   "metadata": {},
   "outputs": [
    {
     "data": {
      "text/plain": [
       "[SeqRecord(seq=Seq('MKLLQEKLSKYDAPQRAMAAGIYPYFRMIESDQDTEVMISGKKVLMFGSNAYLG...LVK', SingleLetterAlphabet()), id='GKIHNHHK_04334', name='GKIHNHHK_04334', description='GKIHNHHK_04334 8-amino-7-oxononanoate synthase', dbxrefs=[])]"
      ]
     },
     "execution_count": 31,
     "metadata": {},
     "output_type": "execute_result"
    }
   ],
   "source": [
    "seqList"
   ]
  },
  {
   "cell_type": "code",
   "execution_count": 26,
   "metadata": {},
   "outputs": [],
   "source": [
    "OutDir = \"/home/junyuchen/1-Projects/WGS-Pipeline/result/BGCs_demo_fasta\"\n",
    "prefix = \"DA_100\""
   ]
  },
  {
   "cell_type": "code",
   "execution_count": 33,
   "metadata": {},
   "outputs": [],
   "source": [
    "import os"
   ]
  },
  {
   "cell_type": "code",
   "execution_count": 34,
   "metadata": {},
   "outputs": [
    {
     "data": {
      "text/plain": [
       "1"
      ]
     },
     "execution_count": 34,
     "metadata": {},
     "output_type": "execute_result"
    }
   ],
   "source": [
    "SeqIO.write(seqList, os.path.join(OutDir, prefix + \".fasta\"), \"fasta\")"
   ]
  },
  {
   "cell_type": "code",
   "execution_count": 54,
   "metadata": {},
   "outputs": [],
   "source": [
    "def ExtractSeq(idList, prefix, faaFile, OutDir):\n",
    "    seqList = []\n",
    "    if len(idList) > 0:\n",
    "        for seqid in idList:\n",
    "            for seq in SeqIO.parse(faaFile, \"fasta\"):\n",
    "                if seqid == seq.id:\n",
    "                    #print(seq)\n",
    "                    seqList.append(seq)\n",
    "        SeqIO.write(seqList, os.path.join(OutDir, prefix + \".fasta\"), \"fasta\")"
   ]
  },
  {
   "cell_type": "code",
   "execution_count": 55,
   "metadata": {},
   "outputs": [],
   "source": [
    "InDir = \"/home/junyuchen/1-Projects/WGS-Pipeline/result/BGCs_demo\""
   ]
  },
  {
   "cell_type": "code",
   "execution_count": 56,
   "metadata": {},
   "outputs": [],
   "source": [
    "prokkaDir = \"/home/junyuchen/1-Projects/WGS-Pipeline/result/210202_WGS/prokka\"\n",
    "OutDir = \"/home/junyuchen/1-Projects/WGS-Pipeline/result/BGCs_demo_fasta_1\""
   ]
  },
  {
   "cell_type": "code",
   "execution_count": 60,
   "metadata": {},
   "outputs": [],
   "source": [
    "df = pd.DataFrame()\n",
    "for subdir, dirs, files in os.walk(InDir):\n",
    "    for file in files:\n",
    "        if file.endswith(\"_blasp.tsv\"):\n",
    "            filePath = os.path.join(subdir, file)\n",
    "            prefix = file.replace(\"_blasp.tsv\", \"\")\n",
    "            #print(filePath)\n",
    "            idList = []\n",
    "            idList, pidentList, lengthList = parseDiamond(filePath)\n",
    "            for i in range(len(idList)):\n",
    "                df = df.append({\"SampleID\":prefix, \"seqid\":idList[i], \"pident\":str(pidentList[i]), \"length\":str(lengthList[i])}, ignore_index=True)\n",
    "            faaFile = os.path.join(prokkaDir, prefix, prefix + \".faa\")\n",
    "            #ExtractSeq(idList, prefix, faaFile, OutDir)"
   ]
  },
  {
   "cell_type": "code",
   "execution_count": 61,
   "metadata": {},
   "outputs": [
    {
     "data": {
      "text/html": [
       "<div>\n",
       "<style scoped>\n",
       "    .dataframe tbody tr th:only-of-type {\n",
       "        vertical-align: middle;\n",
       "    }\n",
       "\n",
       "    .dataframe tbody tr th {\n",
       "        vertical-align: top;\n",
       "    }\n",
       "\n",
       "    .dataframe thead th {\n",
       "        text-align: right;\n",
       "    }\n",
       "</style>\n",
       "<table border=\"1\" class=\"dataframe\">\n",
       "  <thead>\n",
       "    <tr style=\"text-align: right;\">\n",
       "      <th></th>\n",
       "      <th>SampleID</th>\n",
       "      <th>length</th>\n",
       "      <th>pident</th>\n",
       "      <th>seqid</th>\n",
       "    </tr>\n",
       "  </thead>\n",
       "  <tbody>\n",
       "    <tr>\n",
       "      <th>0</th>\n",
       "      <td>DA_258</td>\n",
       "      <td>407</td>\n",
       "      <td>60.7</td>\n",
       "      <td>DPHFJIJL_01467</td>\n",
       "    </tr>\n",
       "    <tr>\n",
       "      <th>1</th>\n",
       "      <td>DA_185</td>\n",
       "      <td>394</td>\n",
       "      <td>75.9</td>\n",
       "      <td>NHNCCHMJ_01069</td>\n",
       "    </tr>\n",
       "    <tr>\n",
       "      <th>2</th>\n",
       "      <td>DA_283</td>\n",
       "      <td>394</td>\n",
       "      <td>75.9</td>\n",
       "      <td>EBGFKMED_01067</td>\n",
       "    </tr>\n",
       "    <tr>\n",
       "      <th>3</th>\n",
       "      <td>DA_47</td>\n",
       "      <td>394</td>\n",
       "      <td>75.6</td>\n",
       "      <td>OAHAKLNK_01482</td>\n",
       "    </tr>\n",
       "    <tr>\n",
       "      <th>4</th>\n",
       "      <td>DA_566</td>\n",
       "      <td>394</td>\n",
       "      <td>75.6</td>\n",
       "      <td>MGJGFKBP_02929</td>\n",
       "    </tr>\n",
       "    <tr>\n",
       "      <th>...</th>\n",
       "      <td>...</td>\n",
       "      <td>...</td>\n",
       "      <td>...</td>\n",
       "      <td>...</td>\n",
       "    </tr>\n",
       "    <tr>\n",
       "      <th>57</th>\n",
       "      <td>DA_635</td>\n",
       "      <td>394</td>\n",
       "      <td>75.6</td>\n",
       "      <td>PJAALJFM_01318</td>\n",
       "    </tr>\n",
       "    <tr>\n",
       "      <th>58</th>\n",
       "      <td>DA_500</td>\n",
       "      <td>394</td>\n",
       "      <td>99.7</td>\n",
       "      <td>FBHHJDIK_01667</td>\n",
       "    </tr>\n",
       "    <tr>\n",
       "      <th>59</th>\n",
       "      <td>DA_524</td>\n",
       "      <td>394</td>\n",
       "      <td>74.6</td>\n",
       "      <td>FGPGDJNC_04468</td>\n",
       "    </tr>\n",
       "    <tr>\n",
       "      <th>60</th>\n",
       "      <td>DA_516</td>\n",
       "      <td>394</td>\n",
       "      <td>74.6</td>\n",
       "      <td>IFLMICDK_04493</td>\n",
       "    </tr>\n",
       "    <tr>\n",
       "      <th>61</th>\n",
       "      <td>DA_528</td>\n",
       "      <td>394</td>\n",
       "      <td>75.6</td>\n",
       "      <td>FBBEIFCG_02077</td>\n",
       "    </tr>\n",
       "  </tbody>\n",
       "</table>\n",
       "<p>62 rows × 4 columns</p>\n",
       "</div>"
      ],
      "text/plain": [
       "   SampleID length pident           seqid\n",
       "0    DA_258    407   60.7  DPHFJIJL_01467\n",
       "1    DA_185    394   75.9  NHNCCHMJ_01069\n",
       "2    DA_283    394   75.9  EBGFKMED_01067\n",
       "3     DA_47    394   75.6  OAHAKLNK_01482\n",
       "4    DA_566    394   75.6  MGJGFKBP_02929\n",
       "..      ...    ...    ...             ...\n",
       "57   DA_635    394   75.6  PJAALJFM_01318\n",
       "58   DA_500    394   99.7  FBHHJDIK_01667\n",
       "59   DA_524    394   74.6  FGPGDJNC_04468\n",
       "60   DA_516    394   74.6  IFLMICDK_04493\n",
       "61   DA_528    394   75.6  FBBEIFCG_02077\n",
       "\n",
       "[62 rows x 4 columns]"
      ]
     },
     "execution_count": 61,
     "metadata": {},
     "output_type": "execute_result"
    }
   ],
   "source": [
    "df"
   ]
  },
  {
   "cell_type": "code",
   "execution_count": 63,
   "metadata": {},
   "outputs": [
    {
     "data": {
      "text/plain": [
       "count        62\n",
       "unique       59\n",
       "top       DA_61\n",
       "freq          3\n",
       "Name: SampleID, dtype: object"
      ]
     },
     "execution_count": 63,
     "metadata": {},
     "output_type": "execute_result"
    }
   ],
   "source": [
    "df[\"SampleID\"].describe()"
   ]
  },
  {
   "cell_type": "code",
   "execution_count": 65,
   "metadata": {},
   "outputs": [
    {
     "data": {
      "text/html": [
       "<div>\n",
       "<style scoped>\n",
       "    .dataframe tbody tr th:only-of-type {\n",
       "        vertical-align: middle;\n",
       "    }\n",
       "\n",
       "    .dataframe tbody tr th {\n",
       "        vertical-align: top;\n",
       "    }\n",
       "\n",
       "    .dataframe thead th {\n",
       "        text-align: right;\n",
       "    }\n",
       "</style>\n",
       "<table border=\"1\" class=\"dataframe\">\n",
       "  <thead>\n",
       "    <tr style=\"text-align: right;\">\n",
       "      <th></th>\n",
       "      <th>SampleID</th>\n",
       "      <th>length</th>\n",
       "      <th>pident</th>\n",
       "      <th>seqid</th>\n",
       "    </tr>\n",
       "  </thead>\n",
       "  <tbody>\n",
       "    <tr>\n",
       "      <th>21</th>\n",
       "      <td>DA_61</td>\n",
       "      <td>394</td>\n",
       "      <td>75.6</td>\n",
       "      <td>FNHMHEDM_06140</td>\n",
       "    </tr>\n",
       "    <tr>\n",
       "      <th>22</th>\n",
       "      <td>DA_61</td>\n",
       "      <td>382</td>\n",
       "      <td>75.7</td>\n",
       "      <td>FNHMHEDM_10324</td>\n",
       "    </tr>\n",
       "    <tr>\n",
       "      <th>23</th>\n",
       "      <td>DA_61</td>\n",
       "      <td>394</td>\n",
       "      <td>72.8</td>\n",
       "      <td>FNHMHEDM_12082</td>\n",
       "    </tr>\n",
       "  </tbody>\n",
       "</table>\n",
       "</div>"
      ],
      "text/plain": [
       "   SampleID length pident           seqid\n",
       "21    DA_61    394   75.6  FNHMHEDM_06140\n",
       "22    DA_61    382   75.7  FNHMHEDM_10324\n",
       "23    DA_61    394   72.8  FNHMHEDM_12082"
      ]
     },
     "execution_count": 65,
     "metadata": {},
     "output_type": "execute_result"
    }
   ],
   "source": [
    "df.loc[df[\"SampleID\"] == \"DA_61\"]"
   ]
  },
  {
   "cell_type": "code",
   "execution_count": null,
   "metadata": {},
   "outputs": [],
   "source": []
  }
 ],
 "metadata": {
  "kernelspec": {
   "display_name": "Python 3",
   "language": "python",
   "name": "python3"
  },
  "language_info": {
   "codemirror_mode": {
    "name": "ipython",
    "version": 3
   },
   "file_extension": ".py",
   "mimetype": "text/x-python",
   "name": "python",
   "nbconvert_exporter": "python",
   "pygments_lexer": "ipython3",
   "version": "3.7.6"
  }
 },
 "nbformat": 4,
 "nbformat_minor": 4
}
