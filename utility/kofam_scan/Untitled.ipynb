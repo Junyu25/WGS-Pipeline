{
 "cells": [
  {
   "cell_type": "code",
   "execution_count": null,
   "id": "organized-ecology",
   "metadata": {},
   "outputs": [],
   "source": []
  },
  {
   "cell_type": "code",
   "execution_count": null,
   "id": "excellent-shopper",
   "metadata": {},
   "outputs": [],
   "source": [
    "wget ftp://ftp.genome.jp/pub/tools/kofam_scan/kofam_scan-1.3.0.tar.gz"
   ]
  },
  {
   "cell_type": "code",
   "execution_count": null,
   "id": "considered-society",
   "metadata": {},
   "outputs": [],
   "source": [
    "/home/junyuchen/Biosoft/kofam_scan-1.3.0/exec_annotation"
   ]
  },
  {
   "cell_type": "code",
   "execution_count": null,
   "id": "coral-eligibility",
   "metadata": {},
   "outputs": [],
   "source": [
    "export PATH=/home/junyuchen/Biosoft/kofam_scan-1.3.0:$PATH"
   ]
  },
  {
   "cell_type": "code",
   "execution_count": null,
   "id": "aggressive-manner",
   "metadata": {},
   "outputs": [],
   "source": []
  },
  {
   "cell_type": "markdown",
   "id": "fewer-project",
   "metadata": {},
   "source": [
    "### test"
   ]
  },
  {
   "cell_type": "code",
   "execution_count": null,
   "id": "legendary-yemen",
   "metadata": {},
   "outputs": [],
   "source": [
    "exec_annotation -o result.txt query.fasta"
   ]
  },
  {
   "cell_type": "markdown",
   "id": "quiet-photography",
   "metadata": {},
   "source": [
    "exec_annotation --profile /home/junyuchen/3-Resources/Databases/kofam_scan/profiles --ko-list /home/junyuchen/3-Resources/Databases/kofam_scan/ko_list --cpu 20 -o /home/junyuchen/1-Projects/WGS-Pipeline/result/ko_result.txt /home/junyuchen/1-Projects/WGS-Pipeline/result/testout/prokka/ER064912/ER064912.faa"
   ]
  },
  {
   "cell_type": "markdown",
   "id": "clinical-distinction",
   "metadata": {},
   "source": [
    "exec_annotation --profile /home/junyuchen/1-Projects/WGS-Pipeline/database/bile_acid --ko-list /home/junyuchen/1-Projects/WGS-Pipeline/database/bile_acid_ko_list --cpu 20 -o /home/junyuchen/1-Projects/WGS-Pipeline/result/ko_bile_result.tsv /home/junyuchen/1-Projects/WGS-Pipeline/result/testout/prokka/ER064912/ER064912.faa -f detail-tsv"
   ]
  },
  {
   "cell_type": "code",
   "execution_count": null,
   "id": "wireless-amber",
   "metadata": {},
   "outputs": [],
   "source": [
    "-e 0.01"
   ]
  },
  {
   "cell_type": "markdown",
   "id": "turkish-throat",
   "metadata": {},
   "source": [
    "exec_annotation --profile /home/junyuchen/1-Projects/WGS-Pipeline/database/bile_acid --ko-list /home/junyuchen/1-Projects/WGS-Pipeline/database/bile_acid_ko_list --cpu 20 -o /home/junyuchen/1-Projects/WGS-Pipeline/result/ko_bile_result_1.tsv /home/junyuchen/1-Projects/WGS-Pipeline/result/testout/prokka/ER064912/ER064912.faa -f detail-tsv --e-value=0.01"
   ]
  },
  {
   "cell_type": "code",
   "execution_count": null,
   "id": "developed-balloon",
   "metadata": {},
   "outputs": [],
   "source": [
    "def "
   ]
  }
 ],
 "metadata": {
  "kernelspec": {
   "display_name": "Python 3",
   "language": "python",
   "name": "python3"
  },
  "language_info": {
   "codemirror_mode": {
    "name": "ipython",
    "version": 3
   },
   "file_extension": ".py",
   "mimetype": "text/x-python",
   "name": "python",
   "nbconvert_exporter": "python",
   "pygments_lexer": "ipython3",
   "version": "3.7.9"
  }
 },
 "nbformat": 4,
 "nbformat_minor": 5
}
