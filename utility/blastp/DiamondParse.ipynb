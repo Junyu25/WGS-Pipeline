{
 "cells": [
  {
   "cell_type": "code",
   "execution_count": null,
   "metadata": {},
   "outputs": [],
   "source": []
  },
  {
   "cell_type": "markdown",
   "metadata": {},
   "source": [
    "https://biopython.org/docs/1.75/api/Bio.SearchIO.html"
   ]
  },
  {
   "cell_type": "markdown",
   "metadata": {},
   "source": [
    "https://biopython.org/docs/1.75/api/Bio.SearchIO.BlastIO.html"
   ]
  },
  {
   "cell_type": "code",
   "execution_count": 1,
   "metadata": {
    "execution": {
     "iopub.execute_input": "2020-10-30T06:56:00.106945Z",
     "iopub.status.busy": "2020-10-30T06:56:00.106550Z",
     "iopub.status.idle": "2020-10-30T06:56:00.285006Z",
     "shell.execute_reply": "2020-10-30T06:56:00.284261Z",
     "shell.execute_reply.started": "2020-10-30T06:56:00.106865Z"
    }
   },
   "outputs": [],
   "source": [
    "from Bio import SearchIO"
   ]
  },
  {
   "cell_type": "code",
   "execution_count": 2,
   "metadata": {
    "collapsed": true,
    "execution": {
     "iopub.execute_input": "2020-10-30T06:56:00.652281Z",
     "iopub.status.busy": "2020-10-30T06:56:00.651868Z",
     "iopub.status.idle": "2020-10-30T06:56:00.738074Z",
     "shell.execute_reply": "2020-10-30T06:56:00.735972Z",
     "shell.execute_reply.started": "2020-10-30T06:56:00.652243Z"
    },
    "jupyter": {
     "outputs_hidden": true
    }
   },
   "outputs": [
    {
     "ename": "ValueError",
     "evalue": "More than one query results found in handle",
     "output_type": "error",
     "traceback": [
      "\u001b[0;31m---------------------------------------------------------------------------\u001b[0m",
      "\u001b[0;31mValueError\u001b[0m                                Traceback (most recent call last)",
      "\u001b[0;32m<ipython-input-2-aea823ad3f0f>\u001b[0m in \u001b[0;36m<module>\u001b[0;34m\u001b[0m\n\u001b[1;32m      1\u001b[0m \u001b[0muncommented\u001b[0m \u001b[0;34m=\u001b[0m \u001b[0;34m'/mnt/d/Lab/Bile-Acid/result/diamond/test_out'\u001b[0m\u001b[0;34m\u001b[0m\u001b[0;34m\u001b[0m\u001b[0m\n\u001b[0;32m----> 2\u001b[0;31m \u001b[0mqresult\u001b[0m \u001b[0;34m=\u001b[0m \u001b[0mSearchIO\u001b[0m\u001b[0;34m.\u001b[0m\u001b[0mread\u001b[0m\u001b[0;34m(\u001b[0m\u001b[0muncommented\u001b[0m\u001b[0;34m,\u001b[0m \u001b[0;34m'blast-tab'\u001b[0m\u001b[0;34m)\u001b[0m\u001b[0;34m\u001b[0m\u001b[0;34m\u001b[0m\u001b[0m\n\u001b[0m",
      "\u001b[0;32m~/miniconda3/envs/Bio/lib/python3.8/site-packages/Bio/SearchIO/__init__.py\u001b[0m in \u001b[0;36mread\u001b[0;34m(handle, format, **kwargs)\u001b[0m\n\u001b[1;32m    351\u001b[0m     \u001b[0;32mtry\u001b[0m\u001b[0;34m:\u001b[0m\u001b[0;34m\u001b[0m\u001b[0;34m\u001b[0m\u001b[0m\n\u001b[1;32m    352\u001b[0m         \u001b[0mnext\u001b[0m\u001b[0;34m(\u001b[0m\u001b[0mquery_results\u001b[0m\u001b[0;34m)\u001b[0m\u001b[0;34m\u001b[0m\u001b[0;34m\u001b[0m\u001b[0m\n\u001b[0;32m--> 353\u001b[0;31m         \u001b[0;32mraise\u001b[0m \u001b[0mValueError\u001b[0m\u001b[0;34m(\u001b[0m\u001b[0;34m\"More than one query results found in handle\"\u001b[0m\u001b[0;34m)\u001b[0m\u001b[0;34m\u001b[0m\u001b[0;34m\u001b[0m\u001b[0m\n\u001b[0m\u001b[1;32m    354\u001b[0m     \u001b[0;32mexcept\u001b[0m \u001b[0mStopIteration\u001b[0m\u001b[0;34m:\u001b[0m\u001b[0;34m\u001b[0m\u001b[0;34m\u001b[0m\u001b[0m\n\u001b[1;32m    355\u001b[0m         \u001b[0;32mpass\u001b[0m\u001b[0;34m\u001b[0m\u001b[0;34m\u001b[0m\u001b[0m\n",
      "\u001b[0;31mValueError\u001b[0m: More than one query results found in handle"
     ]
    }
   ],
   "source": [
    "uncommented = '/mnt/d/Lab/Bile-Acid/result/diamond/test_out'\n",
    "qresult = SearchIO.read(uncommented, 'blast-tab')"
   ]
  },
  {
   "cell_type": "code",
   "execution_count": 3,
   "metadata": {
    "execution": {
     "iopub.execute_input": "2020-10-30T06:56:10.262083Z",
     "iopub.status.busy": "2020-10-30T06:56:10.261651Z",
     "iopub.status.idle": "2020-10-30T06:56:10.267366Z",
     "shell.execute_reply": "2020-10-30T06:56:10.266062Z",
     "shell.execute_reply.started": "2020-10-30T06:56:10.262039Z"
    }
   },
   "outputs": [],
   "source": [
    "qresults = SearchIO.parse(\"/mnt/d/Lab/Bile-Acid/result/diamond/test_out\", \"blast-tab\")"
   ]
  },
  {
   "cell_type": "code",
   "execution_count": 4,
   "metadata": {
    "execution": {
     "iopub.execute_input": "2020-10-30T06:56:10.621563Z",
     "iopub.status.busy": "2020-10-30T06:56:10.621305Z",
     "iopub.status.idle": "2020-10-30T06:56:10.632369Z",
     "shell.execute_reply": "2020-10-30T06:56:10.631496Z",
     "shell.execute_reply.started": "2020-10-30T06:56:10.621540Z"
    }
   },
   "outputs": [
    {
     "data": {
      "text/plain": [
       "<generator object parse at 0x7f0e7e127820>"
      ]
     },
     "execution_count": 4,
     "metadata": {},
     "output_type": "execute_result"
    }
   ],
   "source": [
    "qresults"
   ]
  },
  {
   "cell_type": "code",
   "execution_count": 5,
   "metadata": {
    "execution": {
     "iopub.execute_input": "2020-10-30T06:56:11.067723Z",
     "iopub.status.busy": "2020-10-30T06:56:11.067424Z",
     "iopub.status.idle": "2020-10-30T06:56:11.076795Z",
     "shell.execute_reply": "2020-10-30T06:56:11.075557Z",
     "shell.execute_reply.started": "2020-10-30T06:56:11.067697Z"
    }
   },
   "outputs": [
    {
     "name": "stdout",
     "output_type": "stream",
     "text": [
      "Search NZ_DS499569.1_55 has 1 hits\n",
      "Search NZ_DS499568.1_1 has 1 hits\n",
      "Search NZ_DS499564.1_311 has 1 hits\n",
      "Search NZ_DS499559.1_194 has 1 hits\n",
      "Search NZ_DS499559.1_241 has 1 hits\n"
     ]
    }
   ],
   "source": [
    "for qresult in qresults:\n",
    "    print(\"Search %s has %i hits\" % (qresult.id, len(qresult)))"
   ]
  },
  {
   "cell_type": "code",
   "execution_count": 6,
   "metadata": {
    "execution": {
     "iopub.execute_input": "2020-10-30T06:56:12.071561Z",
     "iopub.status.busy": "2020-10-30T06:56:12.071242Z",
     "iopub.status.idle": "2020-10-30T06:56:12.078224Z",
     "shell.execute_reply": "2020-10-30T06:56:12.076885Z",
     "shell.execute_reply.started": "2020-10-30T06:56:12.071531Z"
    }
   },
   "outputs": [
    {
     "data": {
      "text/plain": [
       "QueryResult(id='NZ_DS499559.1_241', 1 hits)"
      ]
     },
     "execution_count": 6,
     "metadata": {},
     "output_type": "execute_result"
    }
   ],
   "source": [
    "qresult"
   ]
  },
  {
   "cell_type": "code",
   "execution_count": 8,
   "metadata": {
    "execution": {
     "iopub.execute_input": "2020-10-30T06:56:24.412561Z",
     "iopub.status.busy": "2020-10-30T06:56:24.412226Z",
     "iopub.status.idle": "2020-10-30T06:56:24.416955Z",
     "shell.execute_reply": "2020-10-30T06:56:24.415731Z",
     "shell.execute_reply.started": "2020-10-30T06:56:24.412508Z"
    }
   },
   "outputs": [],
   "source": [
    "first_hit = qresult[0]"
   ]
  },
  {
   "cell_type": "code",
   "execution_count": 9,
   "metadata": {
    "execution": {
     "iopub.execute_input": "2020-10-30T06:56:25.369921Z",
     "iopub.status.busy": "2020-10-30T06:56:25.369509Z",
     "iopub.status.idle": "2020-10-30T06:56:25.377959Z",
     "shell.execute_reply": "2020-10-30T06:56:25.376466Z",
     "shell.execute_reply.started": "2020-10-30T06:56:25.369882Z"
    }
   },
   "outputs": [
    {
     "data": {
      "text/plain": [
       "Hit(id='BSH_R5R1G0_9FIRM/2-312', query_id='NZ_DS499559.1_241', 1 hsps)"
      ]
     },
     "execution_count": 9,
     "metadata": {},
     "output_type": "execute_result"
    }
   ],
   "source": [
    "first_hit"
   ]
  },
  {
   "cell_type": "code",
   "execution_count": 10,
   "metadata": {
    "execution": {
     "iopub.execute_input": "2020-10-30T06:56:26.214041Z",
     "iopub.status.busy": "2020-10-30T06:56:26.213745Z",
     "iopub.status.idle": "2020-10-30T06:56:26.221036Z",
     "shell.execute_reply": "2020-10-30T06:56:26.219957Z",
     "shell.execute_reply.started": "2020-10-30T06:56:26.214009Z"
    }
   },
   "outputs": [
    {
     "data": {
      "text/plain": [
       "'BSH_R5R1G0_9FIRM/2-312'"
      ]
     },
     "execution_count": 10,
     "metadata": {},
     "output_type": "execute_result"
    }
   ],
   "source": [
    "first_hit.id"
   ]
  },
  {
   "cell_type": "code",
   "execution_count": 11,
   "metadata": {
    "execution": {
     "iopub.execute_input": "2020-10-30T06:56:26.851078Z",
     "iopub.status.busy": "2020-10-30T06:56:26.850639Z",
     "iopub.status.idle": "2020-10-30T06:56:26.857641Z",
     "shell.execute_reply": "2020-10-30T06:56:26.856442Z",
     "shell.execute_reply.started": "2020-10-30T06:56:26.851035Z"
    }
   },
   "outputs": [
    {
     "data": {
      "text/plain": [
       "['BSH_R5R1G0_9FIRM/2-312']"
      ]
     },
     "execution_count": 11,
     "metadata": {},
     "output_type": "execute_result"
    }
   ],
   "source": [
    "first_hit.id_all"
   ]
  },
  {
   "cell_type": "code",
   "execution_count": 13,
   "metadata": {
    "execution": {
     "iopub.execute_input": "2020-10-30T06:56:34.930570Z",
     "iopub.status.busy": "2020-10-30T06:56:34.930219Z",
     "iopub.status.idle": "2020-10-30T06:56:34.935557Z",
     "shell.execute_reply": "2020-10-30T06:56:34.934069Z",
     "shell.execute_reply.started": "2020-10-30T06:56:34.930533Z"
    }
   },
   "outputs": [],
   "source": [
    "hsp = qresult[0][0]"
   ]
  },
  {
   "cell_type": "code",
   "execution_count": 14,
   "metadata": {
    "execution": {
     "iopub.execute_input": "2020-10-30T06:56:35.947968Z",
     "iopub.status.busy": "2020-10-30T06:56:35.947640Z",
     "iopub.status.idle": "2020-10-30T06:56:35.954613Z",
     "shell.execute_reply": "2020-10-30T06:56:35.953359Z",
     "shell.execute_reply.started": "2020-10-30T06:56:35.947936Z"
    }
   },
   "outputs": [
    {
     "data": {
      "text/plain": [
       "HSP(hit_id='BSH_R5R1G0_9FIRM/2-312', query_id='NZ_DS499559.1_241', 1 fragments)"
      ]
     },
     "execution_count": 14,
     "metadata": {},
     "output_type": "execute_result"
    }
   ],
   "source": [
    "hsp"
   ]
  },
  {
   "cell_type": "code",
   "execution_count": 15,
   "metadata": {
    "execution": {
     "iopub.execute_input": "2020-10-30T06:56:39.335491Z",
     "iopub.status.busy": "2020-10-30T06:56:39.335150Z",
     "iopub.status.idle": "2020-10-30T06:56:39.341292Z",
     "shell.execute_reply": "2020-10-30T06:56:39.340021Z",
     "shell.execute_reply.started": "2020-10-30T06:56:39.335458Z"
    }
   },
   "outputs": [
    {
     "name": "stdout",
     "output_type": "stream",
     "text": [
      "      Query: NZ_DS499559.1_241 <unknown description>\n",
      "        Hit: BSH_R5R1G0_9FIRM/2-312 <unknown description>\n",
      "Query range: [694:717] (1)\n",
      "  Hit range: [139:162] (1)\n",
      "Quick stats: evalue 0.44; bitscore 30.40\n",
      "  Fragments: 1 (23 columns)\n"
     ]
    }
   ],
   "source": [
    "print(hsp)"
   ]
  },
  {
   "cell_type": "code",
   "execution_count": null,
   "metadata": {},
   "outputs": [],
   "source": []
  },
  {
   "cell_type": "code",
   "execution_count": 16,
   "metadata": {
    "execution": {
     "iopub.execute_input": "2020-10-30T06:56:42.651830Z",
     "iopub.status.busy": "2020-10-30T06:56:42.651534Z",
     "iopub.status.idle": "2020-10-30T06:56:42.657510Z",
     "shell.execute_reply": "2020-10-30T06:56:42.656299Z",
     "shell.execute_reply.started": "2020-10-30T06:56:42.651803Z"
    }
   },
   "outputs": [
    {
     "data": {
      "text/plain": [
       "\u001b[0;31mType:\u001b[0m        property\n",
       "\u001b[0;31mString form:\u001b[0m <property object at 0x7f0e7e2d04f0>\n",
       "\u001b[0;31mDocstring:\u001b[0m   HSP objects contained in the Hit\n"
      ]
     },
     "metadata": {},
     "output_type": "display_data"
    }
   ],
   "source": [
    "?first_hit.hsps"
   ]
  },
  {
   "cell_type": "code",
   "execution_count": 17,
   "metadata": {
    "execution": {
     "iopub.execute_input": "2020-10-30T06:56:43.518183Z",
     "iopub.status.busy": "2020-10-30T06:56:43.517795Z",
     "iopub.status.idle": "2020-10-30T06:56:43.526796Z",
     "shell.execute_reply": "2020-10-30T06:56:43.525080Z",
     "shell.execute_reply.started": "2020-10-30T06:56:43.518145Z"
    }
   },
   "outputs": [
    {
     "data": {
      "text/plain": [
       "[HSP(hit_id='BSH_R5R1G0_9FIRM/2-312', query_id='NZ_DS499559.1_241', 1 fragments)]"
      ]
     },
     "execution_count": 17,
     "metadata": {},
     "output_type": "execute_result"
    }
   ],
   "source": [
    "first_hit.hsps"
   ]
  },
  {
   "cell_type": "code",
   "execution_count": 18,
   "metadata": {
    "execution": {
     "iopub.execute_input": "2020-10-30T06:56:47.346932Z",
     "iopub.status.busy": "2020-10-30T06:56:47.346660Z",
     "iopub.status.idle": "2020-10-30T06:56:47.352832Z",
     "shell.execute_reply": "2020-10-30T06:56:47.351946Z",
     "shell.execute_reply.started": "2020-10-30T06:56:47.346880Z"
    }
   },
   "outputs": [
    {
     "data": {
      "text/plain": [
       "HSP(hit_id='BSH_R5R1G0_9FIRM/2-312', query_id='NZ_DS499559.1_241', 1 fragments)"
      ]
     },
     "execution_count": 18,
     "metadata": {},
     "output_type": "execute_result"
    }
   ],
   "source": [
    "first_hit.hsps[0]"
   ]
  },
  {
   "cell_type": "code",
   "execution_count": 40,
   "metadata": {},
   "outputs": [
    {
     "data": {
      "text/plain": [
       "30.4"
      ]
     },
     "execution_count": 40,
     "metadata": {},
     "output_type": "execute_result"
    }
   ],
   "source": [
    "first_hit.hsps[0].bitscore"
   ]
  },
  {
   "cell_type": "code",
   "execution_count": 23,
   "metadata": {
    "execution": {
     "iopub.execute_input": "2020-10-30T06:59:49.831000Z",
     "iopub.status.busy": "2020-10-30T06:59:49.830708Z",
     "iopub.status.idle": "2020-10-30T06:59:49.837768Z",
     "shell.execute_reply": "2020-10-30T06:59:49.836510Z",
     "shell.execute_reply.started": "2020-10-30T06:59:49.830973Z"
    }
   },
   "outputs": [
    {
     "data": {
      "text/plain": [
       "HSPFragment(hit_id='BSH_R5R1G0_9FIRM/2-312', query_id='NZ_DS499559.1_241', 23 columns)"
      ]
     },
     "execution_count": 23,
     "metadata": {},
     "output_type": "execute_result"
    }
   ],
   "source": [
    "first_hit[0][0]"
   ]
  },
  {
   "cell_type": "code",
   "execution_count": 41,
   "metadata": {},
   "outputs": [
    {
     "data": {
      "text/plain": [
       "[HSPFragment(hit_id='BSH_R5R1G0_9FIRM/2-312', query_id='NZ_DS499559.1_241', 23 columns)]"
      ]
     },
     "execution_count": 41,
     "metadata": {},
     "output_type": "execute_result"
    }
   ],
   "source": [
    "first_hit.fragments"
   ]
  },
  {
   "cell_type": "code",
   "execution_count": 42,
   "metadata": {},
   "outputs": [
    {
     "data": {
      "text/plain": [
       "HSPFragment(hit_id='BSH_R5R1G0_9FIRM/2-312', query_id='NZ_DS499559.1_241', 23 columns)"
      ]
     },
     "execution_count": 42,
     "metadata": {},
     "output_type": "execute_result"
    }
   ],
   "source": [
    "first_hit.fragments[0]"
   ]
  },
  {
   "cell_type": "code",
   "execution_count": 46,
   "metadata": {},
   "outputs": [],
   "source": [
    "first_hit.fragments[0].query"
   ]
  },
  {
   "cell_type": "code",
   "execution_count": 29,
   "metadata": {},
   "outputs": [
    {
     "name": "stdout",
     "output_type": "stream",
     "text": [
      "[HSPFragment(hit_id='BSH_R5R1G0_9FIRM/2-312', query_id='NZ_DS499559.1_241', 23 columns)]\n"
     ]
    }
   ],
   "source": [
    "print(first_hit.fragments)"
   ]
  },
  {
   "cell_type": "code",
   "execution_count": null,
   "metadata": {},
   "outputs": [],
   "source": []
  },
  {
   "cell_type": "code",
   "execution_count": 24,
   "metadata": {},
   "outputs": [
    {
     "name": "stdout",
     "output_type": "stream",
     "text": [
      "[HSP(hit_id='BSH_R5R1G0_9FIRM/2-312', query_id='NZ_DS499559.1_241', 1 fragments)]\n"
     ]
    }
   ],
   "source": [
    "print(first_hit.hsps)"
   ]
  },
  {
   "cell_type": "code",
   "execution_count": 19,
   "metadata": {},
   "outputs": [
    {
     "name": "stdout",
     "output_type": "stream",
     "text": [
      "Query: NZ_DS499559.1_241\n",
      "       <unknown description>\n",
      "  Hit: BSH_R5R1G0_9FIRM/2-312\n",
      "       <unknown description>\n",
      " HSPs: ----  --------  ---------  ------  ---------------  ---------------------\n",
      "          #   E-value  Bit score    Span      Query range              Hit range\n",
      "       ----  --------  ---------  ------  ---------------  ---------------------\n",
      "          0      0.44      30.40      23        [694:717]              [139:162]\n"
     ]
    }
   ],
   "source": [
    "print(first_hit)"
   ]
  },
  {
   "cell_type": "code",
   "execution_count": 18,
   "metadata": {
    "collapsed": true,
    "jupyter": {
     "outputs_hidden": true
    }
   },
   "outputs": [
    {
     "data": {
      "text/plain": [
       "\u001b[0;31mType:\u001b[0m           Hit\n",
       "\u001b[0;31mString form:\u001b[0m   \n",
       "Query: NZ_DS499559.1_241\n",
       "           <unknown description>\n",
       "           Hit: BSH_R5R1G0_9FIRM/2-312\n",
       "           <unkno <...> ----------------\n",
       "           0      0.44      30.40      23        [694:717]              [139:162]\n",
       "\u001b[0;31mLength:\u001b[0m         1\n",
       "\u001b[0;31mFile:\u001b[0m           ~/miniconda3/envs/Bio/lib/python3.8/site-packages/Bio/SearchIO/_model/hit.py\n",
       "\u001b[0;31mDocstring:\u001b[0m     \n",
       "Class representing a single database hit of a search result.\n",
       "\n",
       "Hit objects are the second-level container in the SearchIO module. They\n",
       "are the objects contained within a QueryResult (see QueryResult). They\n",
       "themselves are container for HSP objects and will contain at least one\n",
       "HSP.\n",
       "\n",
       "To have a quick look at a Hit and its contents, invoke ``print`` on it::\n",
       "\n",
       "    >>> from Bio import SearchIO\n",
       "    >>> qresult = next(SearchIO.parse('Blast/mirna.xml', 'blast-xml'))\n",
       "    >>> hit = qresult[3]\n",
       "    >>> print(hit)\n",
       "    Query: 33211\n",
       "           mir_1\n",
       "      Hit: gi|301171322|ref|NR_035857.1| (86)\n",
       "           Pan troglodytes microRNA mir-520c (MIR520C), microRNA\n",
       "     HSPs: ----  --------  ---------  ------  ---------------  ---------------------\n",
       "              #   E-value  Bit score    Span      Query range              Hit range\n",
       "           ----  --------  ---------  ------  ---------------  ---------------------\n",
       "              0   8.9e-20     100.47      60           [1:61]                [13:73]\n",
       "              1   3.3e-06      55.39      60           [0:60]                [13:73]\n",
       "\n",
       "You can invoke ``len`` on a Hit object to see how many HSP objects it contains::\n",
       "\n",
       "    >>> len(hit)\n",
       "    2\n",
       "\n",
       "Hit objects behave very similar to Python lists. You can retrieve the HSP\n",
       "object inside a Hit using the HSP's integer index. Hit objects can also be\n",
       "sliced, which will return a new Hit objects containing only the sliced HSPs::\n",
       "\n",
       "    # HSP items inside the Hit can be retrieved using its integer index\n",
       "    >>> hit[0]\n",
       "    HSP(hit_id='gi|301171322|ref|NR_035857.1|', query_id='33211', 1 fragments)\n",
       "\n",
       "    # slicing returns a new Hit\n",
       "    >>> hit\n",
       "    Hit(id='gi|301171322|ref|NR_035857.1|', query_id='33211', 2 hsps)\n",
       "    >>> hit[:1]\n",
       "    Hit(id='gi|301171322|ref|NR_035857.1|', query_id='33211', 1 hsps)\n",
       "    >>> print(hit[1:])\n",
       "    Query: 33211\n",
       "           mir_1\n",
       "      Hit: gi|301171322|ref|NR_035857.1| (86)\n",
       "           Pan troglodytes microRNA mir-520c (MIR520C), microRNA\n",
       "     HSPs: ----  --------  ---------  ------  ---------------  ---------------------\n",
       "              #   E-value  Bit score    Span      Query range              Hit range\n",
       "           ----  --------  ---------  ------  ---------------  ---------------------\n",
       "              0   3.3e-06      55.39      60           [0:60]                [13:73]\n",
       "\n",
       "Hit objects provide ``filter`` and ``map`` methods, which are analogous to\n",
       "Python's built-in ``filter`` and ``map`` except that they return a new Hit\n",
       "object instead of a list.\n",
       "\n",
       "Here is an example of using ``filter`` to select for HSPs whose e-value is\n",
       "less than 1e-10::\n",
       "\n",
       "    >>> evalue_filter = lambda hsp: hsp.evalue < 1e-10\n",
       "    >>> filtered_hit = hit.filter(evalue_filter)\n",
       "    >>> len(hit)\n",
       "    2\n",
       "    >>> len(filtered_hit)\n",
       "    1\n",
       "    >>> print(filtered_hit)\n",
       "    Query: 33211\n",
       "           mir_1\n",
       "      Hit: gi|301171322|ref|NR_035857.1| (86)\n",
       "           Pan troglodytes microRNA mir-520c (MIR520C), microRNA\n",
       "     HSPs: ----  --------  ---------  ------  ---------------  ---------------------\n",
       "              #   E-value  Bit score    Span      Query range              Hit range\n",
       "           ----  --------  ---------  ------  ---------------  ---------------------\n",
       "              0   8.9e-20     100.47      60           [1:61]                [13:73]\n",
       "\n",
       "There are also other methods which are counterparts of Python lists' methods\n",
       "with the same names: ``append``, ``index``, ``pop``, and ``sort``. Consult their\n",
       "respective documentations for more details and examples of their usage.\n",
       "\u001b[0;31mInit docstring:\u001b[0m\n",
       "Initialize a Hit object.\n",
       "\n",
       ":param hsps: HSP objects contained in the Hit object\n",
       ":type hsps: iterable yielding HSP\n",
       ":param id: hit ID\n",
       ":type id: string\n",
       ":param query_id: query ID\n",
       ":type query_id: string\n",
       "\n",
       "If multiple HSP objects are used for initialization, they must all\n",
       "have the same ``query_id``, ``query_description``, ``hit_id``, and\n",
       "``hit_description`` properties.\n"
      ]
     },
     "metadata": {},
     "output_type": "display_data"
    }
   ],
   "source": [
    "?first_hit"
   ]
  },
  {
   "cell_type": "code",
   "execution_count": 20,
   "metadata": {},
   "outputs": [
    {
     "name": "stdout",
     "output_type": "stream",
     "text": [
      "Program: <unknown program> (<unknown version>)\n",
      "  Query: NZ_DS499559.1_241\n",
      "         <unknown description>\n",
      " Target: <unknown target>\n",
      "   Hits: ----  -----  ----------------------------------------------------------\n",
      "            #  # HSP  ID + description\n",
      "         ----  -----  ----------------------------------------------------------\n",
      "            0      1  BSH_R5R1G0_9FIRM/2-312  <unknown description>\n"
     ]
    }
   ],
   "source": [
    "print(qresult)"
   ]
  },
  {
   "cell_type": "code",
   "execution_count": 22,
   "metadata": {},
   "outputs": [
    {
     "data": {
      "text/plain": [
       "'NZ_DS499559.1_241'"
      ]
     },
     "execution_count": 22,
     "metadata": {},
     "output_type": "execute_result"
    }
   ],
   "source": [
    "qresult.id"
   ]
  },
  {
   "cell_type": "code",
   "execution_count": null,
   "metadata": {},
   "outputs": [],
   "source": []
  },
  {
   "cell_type": "code",
   "execution_count": 12,
   "metadata": {},
   "outputs": [
    {
     "data": {
      "text/plain": [
       "\u001b[0;31mType:\u001b[0m           QueryResult\n",
       "\u001b[0;31mString form:\u001b[0m   \n",
       "Program: <unknown program> (<unknown version>)\n",
       "           Query: NZ_DS499559.1_241\n",
       "           <unknown descr <...> -----------------------------\n",
       "           0      1  BSH_R5R1G0_9FIRM/2-312  <unknown description>\n",
       "\u001b[0;31mLength:\u001b[0m         1\n",
       "\u001b[0;31mFile:\u001b[0m           ~/miniconda3/envs/Bio/lib/python3.8/site-packages/Bio/SearchIO/_model/query.py\n",
       "\u001b[0;31mDocstring:\u001b[0m     \n",
       "Class representing search results from a single query.\n",
       "\n",
       "QueryResult is the container object that stores all search hits from a\n",
       "single search query. It is the top-level object returned by SearchIO's two\n",
       "main functions, ``read`` and ``parse``. Depending on the search results and\n",
       "search output format, a QueryResult object will contain zero or more Hit\n",
       "objects (see Hit).\n",
       "\n",
       "You can take a quick look at a QueryResult's contents and attributes by\n",
       "invoking ``print`` on it::\n",
       "\n",
       "    >>> from Bio import SearchIO\n",
       "    >>> qresult = next(SearchIO.parse('Blast/mirna.xml', 'blast-xml'))\n",
       "    >>> print(qresult)\n",
       "    Program: blastn (2.2.27+)\n",
       "      Query: 33211 (61)\n",
       "             mir_1\n",
       "     Target: refseq_rna\n",
       "       Hits: ----  -----  ----------------------------------------------------------\n",
       "                #  # HSP  ID + description\n",
       "             ----  -----  ----------------------------------------------------------\n",
       "                0      1  gi|262205317|ref|NR_030195.1|  Homo sapiens microRNA 52...\n",
       "                1      1  gi|301171311|ref|NR_035856.1|  Pan troglodytes microRNA...\n",
       "                2      1  gi|270133242|ref|NR_032573.1|  Macaca mulatta microRNA ...\n",
       "                3      2  gi|301171322|ref|NR_035857.1|  Pan troglodytes microRNA...\n",
       "                4      1  gi|301171267|ref|NR_035851.1|  Pan troglodytes microRNA...\n",
       "                5      2  gi|262205330|ref|NR_030198.1|  Homo sapiens microRNA 52...\n",
       "                6      1  gi|262205302|ref|NR_030191.1|  Homo sapiens microRNA 51...\n",
       "                7      1  gi|301171259|ref|NR_035850.1|  Pan troglodytes microRNA...\n",
       "                8      1  gi|262205451|ref|NR_030222.1|  Homo sapiens microRNA 51...\n",
       "                9      2  gi|301171447|ref|NR_035871.1|  Pan troglodytes microRNA...\n",
       "               10      1  gi|301171276|ref|NR_035852.1|  Pan troglodytes microRNA...\n",
       "               11      1  gi|262205290|ref|NR_030188.1|  Homo sapiens microRNA 51...\n",
       "    ...\n",
       "\n",
       "If you just want to know how many hits a QueryResult has, you can invoke\n",
       "``len`` on it. Alternatively, you can simply type its name in the interpreter::\n",
       "\n",
       "    >>> len(qresult)\n",
       "    100\n",
       "    >>> qresult\n",
       "    QueryResult(id='33211', 100 hits)\n",
       "\n",
       "QueryResult behaves like a hybrid of Python's built-in list and dictionary.\n",
       "You can retrieve its items (Hit objects) using the integer index of the\n",
       "item, just like regular Python lists::\n",
       "\n",
       "    >>> first_hit = qresult[0]\n",
       "    >>> first_hit\n",
       "    Hit(id='gi|262205317|ref|NR_030195.1|', query_id='33211', 1 hsps)\n",
       "\n",
       "You can slice QueryResult objects as well. Slicing will return a new\n",
       "QueryResult object containing only the sliced hits::\n",
       "\n",
       "    >>> sliced_qresult = qresult[:3]    # slice the first three hits\n",
       "    >>> len(qresult)\n",
       "    100\n",
       "    >>> len(sliced_qresult)\n",
       "    3\n",
       "    >>> print(sliced_qresult)\n",
       "    Program: blastn (2.2.27+)\n",
       "      Query: 33211 (61)\n",
       "             mir_1\n",
       "     Target: refseq_rna\n",
       "       Hits: ----  -----  ----------------------------------------------------------\n",
       "                #  # HSP  ID + description\n",
       "             ----  -----  ----------------------------------------------------------\n",
       "                0      1  gi|262205317|ref|NR_030195.1|  Homo sapiens microRNA 52...\n",
       "                1      1  gi|301171311|ref|NR_035856.1|  Pan troglodytes microRNA...\n",
       "                2      1  gi|270133242|ref|NR_032573.1|  Macaca mulatta microRNA ...\n",
       "\n",
       "Like Python dictionaries, you can also retrieve hits using the hit's ID.\n",
       "This is useful for retrieving hits that you know should exist in a given\n",
       "search::\n",
       "\n",
       "    >>> hit = qresult['gi|262205317|ref|NR_030195.1|']\n",
       "    >>> hit\n",
       "    Hit(id='gi|262205317|ref|NR_030195.1|', query_id='33211', 1 hsps)\n",
       "\n",
       "You can also replace a Hit in QueryResult with another Hit using either the\n",
       "integer index or hit key string. Note that the replacing object must be a\n",
       "Hit that has the same ``query_id`` property as the QueryResult object.\n",
       "\n",
       "If you're not sure whether a QueryResult contains a particular hit, you can\n",
       "use the hit ID to check for membership first::\n",
       "\n",
       "    >>> 'gi|262205317|ref|NR_030195.1|' in qresult\n",
       "    True\n",
       "    >>> 'gi|262380031|ref|NR_023426.1|' in qresult\n",
       "    False\n",
       "\n",
       "Or, if you just want to know the rank / position of a given hit, you can\n",
       "use the hit ID as an argument for the ``index`` method. Note that the values\n",
       "returned will be zero-based. So zero (0) means the hit is the first in the\n",
       "QueryResult, three (3) means the hit is the fourth item, and so on. If the\n",
       "hit does not exist in the QueryResult, a ``ValueError`` will be raised.\n",
       "\n",
       "    >>> qresult.index('gi|262205317|ref|NR_030195.1|')\n",
       "    0\n",
       "    >>> qresult.index('gi|262205330|ref|NR_030198.1|')\n",
       "    5\n",
       "    >>> qresult.index('gi|262380031|ref|NR_023426.1|')\n",
       "    Traceback (most recent call last):\n",
       "    ...\n",
       "    ValueError: ...\n",
       "\n",
       "To ease working with a large number of hits, QueryResult has several\n",
       "``filter`` and ``map`` methods, analogous to Python's built-in functions with\n",
       "the same names. There are ``filter`` and ``map`` methods available for\n",
       "operations over both Hit objects or HSP objects. As an example, here we are\n",
       "using the ``hit_map`` method to rename all hit IDs within a QueryResult::\n",
       "\n",
       "    >>> def renamer(hit):\n",
       "    ...     hit.id = hit.id.split('|')[3]\n",
       "    ...     return hit\n",
       "    >>> mapped_qresult = qresult.hit_map(renamer)\n",
       "    >>> print(mapped_qresult)\n",
       "    Program: blastn (2.2.27+)\n",
       "      Query: 33211 (61)\n",
       "             mir_1\n",
       "     Target: refseq_rna\n",
       "       Hits: ----  -----  ----------------------------------------------------------\n",
       "                #  # HSP  ID + description\n",
       "             ----  -----  ----------------------------------------------------------\n",
       "                0      1  NR_030195.1  Homo sapiens microRNA 520b (MIR520B), micr...\n",
       "                1      1  NR_035856.1  Pan troglodytes microRNA mir-520b (MIR520B...\n",
       "                2      1  NR_032573.1  Macaca mulatta microRNA mir-519a (MIR519A)...\n",
       "    ...\n",
       "\n",
       "The principle for other ``map`` and ``filter`` methods are similar: they accept\n",
       "a function, applies it, and returns a new QueryResult object.\n",
       "\n",
       "There are also other methods useful for working with list-like objects:\n",
       "``append``, ``pop``, and ``sort``. More details and examples are available in\n",
       "their respective documentations.\n",
       "\n",
       "Finally, just like Python lists and dictionaries, QueryResult objects are\n",
       "iterable. Iteration over QueryResults will yield Hit objects::\n",
       "\n",
       "    >>> for hit in qresult[:4]:     # iterate over the first four items\n",
       "    ...     hit\n",
       "    ...\n",
       "    Hit(id='gi|262205317|ref|NR_030195.1|', query_id='33211', 1 hsps)\n",
       "    Hit(id='gi|301171311|ref|NR_035856.1|', query_id='33211', 1 hsps)\n",
       "    Hit(id='gi|270133242|ref|NR_032573.1|', query_id='33211', 1 hsps)\n",
       "    Hit(id='gi|301171322|ref|NR_035857.1|', query_id='33211', 2 hsps)\n",
       "\n",
       "If you need access to all the hits in a QueryResult object, you can get\n",
       "them in a list using the ``hits`` property. Similarly, access to all hit IDs is\n",
       "available through the ``hit_keys`` property.\n",
       "\n",
       "    >>> qresult.hits\n",
       "    [Hit(id='gi|262205317|ref|NR_030195.1|', query_id='33211', 1 hsps), ...]\n",
       "    >>> qresult.hit_keys\n",
       "    ['gi|262205317|ref|NR_030195.1|', 'gi|301171311|ref|NR_035856.1|', ...]\n",
       "\u001b[0;31mInit docstring:\u001b[0m\n",
       "Initialize a QueryResult object.\n",
       "\n",
       ":param id: query sequence ID\n",
       ":type id: string\n",
       ":param hits: iterator yielding Hit objects\n",
       ":type hits: iterable\n",
       ":param hit_key_function: function to define hit keys\n",
       ":type hit_key_function: callable, accepts Hit objects, returns string\n"
      ]
     },
     "metadata": {},
     "output_type": "display_data"
    }
   ],
   "source": [
    "?qresult"
   ]
  },
  {
   "cell_type": "code",
   "execution_count": 9,
   "metadata": {},
   "outputs": [
    {
     "data": {
      "text/plain": [
       "\u001b[0;31mType:\u001b[0m        generator\n",
       "\u001b[0;31mString form:\u001b[0m <generator object parse at 0x7f42f5999e40>\n",
       "\u001b[0;31mDocstring:\u001b[0m   <no docstring>\n"
      ]
     },
     "metadata": {},
     "output_type": "display_data"
    }
   ],
   "source": [
    "?qresults"
   ]
  },
  {
   "cell_type": "code",
   "execution_count": null,
   "metadata": {},
   "outputs": [],
   "source": []
  }
 ],
 "metadata": {
  "kernelspec": {
   "display_name": "Bio",
   "language": "python",
   "name": "bio"
  },
  "language_info": {
   "codemirror_mode": {
    "name": "ipython",
    "version": 3
   },
   "file_extension": ".py",
   "mimetype": "text/x-python",
   "name": "python",
   "nbconvert_exporter": "python",
   "pygments_lexer": "ipython3",
   "version": "3.8.6"
  }
 },
 "nbformat": 4,
 "nbformat_minor": 4
}
