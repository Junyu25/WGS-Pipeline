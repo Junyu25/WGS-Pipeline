{
 "cells": [
  {
   "cell_type": "code",
   "execution_count": 1,
   "metadata": {},
   "outputs": [
    {
     "name": "stdout",
     "output_type": "stream",
     "text": [
      "/home/junyuchen/Biosoft/anaconda3/bin/diamond\n"
     ]
    }
   ],
   "source": [
    "!which diamond"
   ]
  },
  {
   "cell_type": "code",
   "execution_count": 2,
   "metadata": {},
   "outputs": [],
   "source": [
    "import os\n",
    "import pandas as pd"
   ]
  },
  {
   "cell_type": "code",
   "execution_count": 3,
   "metadata": {},
   "outputs": [],
   "source": [
    "import sys\n",
    "sys.path.append('../Scripts')"
   ]
  },
  {
   "cell_type": "code",
   "execution_count": 4,
   "metadata": {},
   "outputs": [],
   "source": [
    "from functions import *"
   ]
  },
  {
   "cell_type": "markdown",
   "metadata": {},
   "source": [
    "### make diamond db"
   ]
  },
  {
   "cell_type": "code",
   "execution_count": 12,
   "metadata": {},
   "outputs": [
    {
     "name": "stdout",
     "output_type": "stream",
     "text": [
      ">CAH08161.1 putative 8-amino-7-oxononanoate synthase [Bacteroides fragilis NCTC 9343]\n",
      "MGLLQEKLAKYDLPQQIKAKGVYPYFRCIESEQNTEVIMSGRKVLMFGSNSYLGLTNHPKVIEAAVEATR\n",
      "KYGTGCAGSRFLNGTLDLHLQLEKELAEFVGKEDAIIYSTGFQVNLGVVSCVTGREDYVICDELDHASIV\n",
      "EGRRLSFSTILKFKHNDMESLEKELQKCRPDAVKLIVVDGVFSMEGDIANLPEIVRLSKKYDANIMVDEA\n",
      "HGLGVLGNHGRGTCDHFGLTKEVDLIMGTFSKSLAAIGGFIAADESIINYLRHNSRSYIFSASNTPAATA\n",
      "AARAALQIMKNEPERIEHLWDITNYSLKCFRELGFEIGHTSTPIIPLYVRDMEKTFMVTKMLFDEGVFVN\n",
      "PVVPPACSPNDTLIRFSLMATHSKEQIDFAIGKLVKCFKALDLL\n",
      "\n",
      ">EFK34533.1 aminotransferase, class I/II [Chryseobacterium gleum ATCC 35910]\n",
      "MLDIFERIKENPGPLGQFADYGEGYFIFPRLEGPIGPRMQFQGREVIFWSANDYLGLCNHPEVIEADAKA\n"
     ]
    }
   ],
   "source": [
    "!head ~/1-Projects/WGS-Pipeline/data/BGCs_demo.fasta"
   ]
  },
  {
   "cell_type": "code",
   "execution_count": null,
   "metadata": {},
   "outputs": [],
   "source": [
    "diamond makedb --in /home/junyuchen/1-Projects/WGS-Pipeline/data/BGCs_demo.fasta -d /home/junyuchen/1-Projects/WGS-Pipeline/database/BGCs/BGCs_demo"
   ]
  },
  {
   "cell_type": "markdown",
   "metadata": {},
   "source": [
    "### query data"
   ]
  },
  {
   "cell_type": "code",
   "execution_count": 4,
   "metadata": {},
   "outputs": [],
   "source": [
    "df = pd.read_csv(\"/home/junyuchen/1-Projects/WGS-Pipeline/result/testout/prokka_path.csv\")"
   ]
  },
  {
   "cell_type": "code",
   "execution_count": 5,
   "metadata": {},
   "outputs": [],
   "source": [
    "df1 = pd.read_csv(\"/home/junyuchen/1-Projects/WGS-Pipeline/result/210202_WGS/prokka_path.csv\")"
   ]
  },
  {
   "cell_type": "code",
   "execution_count": 6,
   "metadata": {},
   "outputs": [],
   "source": [
    "df2 = pd.read_csv(\"/home/junyuchen/1-Projects/WGS-Pipeline/result/210202_WGS_2/prokka_path.csv\")"
   ]
  },
  {
   "cell_type": "code",
   "execution_count": 8,
   "metadata": {},
   "outputs": [],
   "source": [
    "frames = [df1, df2]"
   ]
  },
  {
   "cell_type": "code",
   "execution_count": 9,
   "metadata": {},
   "outputs": [],
   "source": [
    "df = pd.concat(frames)"
   ]
  },
  {
   "cell_type": "code",
   "execution_count": 10,
   "metadata": {},
   "outputs": [
    {
     "data": {
      "text/html": [
       "<div>\n",
       "<style scoped>\n",
       "    .dataframe tbody tr th:only-of-type {\n",
       "        vertical-align: middle;\n",
       "    }\n",
       "\n",
       "    .dataframe tbody tr th {\n",
       "        vertical-align: top;\n",
       "    }\n",
       "\n",
       "    .dataframe thead th {\n",
       "        text-align: right;\n",
       "    }\n",
       "</style>\n",
       "<table border=\"1\" class=\"dataframe\">\n",
       "  <thead>\n",
       "    <tr style=\"text-align: right;\">\n",
       "      <th></th>\n",
       "      <th>SampleID</th>\n",
       "      <th>fna</th>\n",
       "      <th>faa</th>\n",
       "      <th>ffn</th>\n",
       "    </tr>\n",
       "  </thead>\n",
       "  <tbody>\n",
       "    <tr>\n",
       "      <th>0</th>\n",
       "      <td>DA_283</td>\n",
       "      <td>/home/junyuchen/1-Projects/WGS-Pipeline/result...</td>\n",
       "      <td>/home/junyuchen/1-Projects/WGS-Pipeline/result...</td>\n",
       "      <td>/home/junyuchen/1-Projects/WGS-Pipeline/result...</td>\n",
       "    </tr>\n",
       "    <tr>\n",
       "      <th>1</th>\n",
       "      <td>DA_100</td>\n",
       "      <td>/home/junyuchen/1-Projects/WGS-Pipeline/result...</td>\n",
       "      <td>/home/junyuchen/1-Projects/WGS-Pipeline/result...</td>\n",
       "      <td>/home/junyuchen/1-Projects/WGS-Pipeline/result...</td>\n",
       "    </tr>\n",
       "    <tr>\n",
       "      <th>2</th>\n",
       "      <td>DA_116</td>\n",
       "      <td>/home/junyuchen/1-Projects/WGS-Pipeline/result...</td>\n",
       "      <td>/home/junyuchen/1-Projects/WGS-Pipeline/result...</td>\n",
       "      <td>/home/junyuchen/1-Projects/WGS-Pipeline/result...</td>\n",
       "    </tr>\n",
       "    <tr>\n",
       "      <th>3</th>\n",
       "      <td>DA_285</td>\n",
       "      <td>/home/junyuchen/1-Projects/WGS-Pipeline/result...</td>\n",
       "      <td>/home/junyuchen/1-Projects/WGS-Pipeline/result...</td>\n",
       "      <td>/home/junyuchen/1-Projects/WGS-Pipeline/result...</td>\n",
       "    </tr>\n",
       "    <tr>\n",
       "      <th>4</th>\n",
       "      <td>DA_183</td>\n",
       "      <td>/home/junyuchen/1-Projects/WGS-Pipeline/result...</td>\n",
       "      <td>/home/junyuchen/1-Projects/WGS-Pipeline/result...</td>\n",
       "      <td>/home/junyuchen/1-Projects/WGS-Pipeline/result...</td>\n",
       "    </tr>\n",
       "    <tr>\n",
       "      <th>...</th>\n",
       "      <td>...</td>\n",
       "      <td>...</td>\n",
       "      <td>...</td>\n",
       "      <td>...</td>\n",
       "    </tr>\n",
       "    <tr>\n",
       "      <th>83</th>\n",
       "      <td>DA_544</td>\n",
       "      <td>/home/junyuchen/1-Projects/WGS-Pipeline/result...</td>\n",
       "      <td>/home/junyuchen/1-Projects/WGS-Pipeline/result...</td>\n",
       "      <td>/home/junyuchen/1-Projects/WGS-Pipeline/result...</td>\n",
       "    </tr>\n",
       "    <tr>\n",
       "      <th>84</th>\n",
       "      <td>DA_591</td>\n",
       "      <td>/home/junyuchen/1-Projects/WGS-Pipeline/result...</td>\n",
       "      <td>/home/junyuchen/1-Projects/WGS-Pipeline/result...</td>\n",
       "      <td>/home/junyuchen/1-Projects/WGS-Pipeline/result...</td>\n",
       "    </tr>\n",
       "    <tr>\n",
       "      <th>85</th>\n",
       "      <td>DA_593</td>\n",
       "      <td>/home/junyuchen/1-Projects/WGS-Pipeline/result...</td>\n",
       "      <td>/home/junyuchen/1-Projects/WGS-Pipeline/result...</td>\n",
       "      <td>/home/junyuchen/1-Projects/WGS-Pipeline/result...</td>\n",
       "    </tr>\n",
       "    <tr>\n",
       "      <th>86</th>\n",
       "      <td>DA_606</td>\n",
       "      <td>/home/junyuchen/1-Projects/WGS-Pipeline/result...</td>\n",
       "      <td>/home/junyuchen/1-Projects/WGS-Pipeline/result...</td>\n",
       "      <td>/home/junyuchen/1-Projects/WGS-Pipeline/result...</td>\n",
       "    </tr>\n",
       "    <tr>\n",
       "      <th>87</th>\n",
       "      <td>DA_635</td>\n",
       "      <td>/home/junyuchen/1-Projects/WGS-Pipeline/result...</td>\n",
       "      <td>/home/junyuchen/1-Projects/WGS-Pipeline/result...</td>\n",
       "      <td>/home/junyuchen/1-Projects/WGS-Pipeline/result...</td>\n",
       "    </tr>\n",
       "  </tbody>\n",
       "</table>\n",
       "<p>166 rows × 4 columns</p>\n",
       "</div>"
      ],
      "text/plain": [
       "   SampleID                                                fna  \\\n",
       "0    DA_283  /home/junyuchen/1-Projects/WGS-Pipeline/result...   \n",
       "1    DA_100  /home/junyuchen/1-Projects/WGS-Pipeline/result...   \n",
       "2    DA_116  /home/junyuchen/1-Projects/WGS-Pipeline/result...   \n",
       "3    DA_285  /home/junyuchen/1-Projects/WGS-Pipeline/result...   \n",
       "4    DA_183  /home/junyuchen/1-Projects/WGS-Pipeline/result...   \n",
       "..      ...                                                ...   \n",
       "83   DA_544  /home/junyuchen/1-Projects/WGS-Pipeline/result...   \n",
       "84   DA_591  /home/junyuchen/1-Projects/WGS-Pipeline/result...   \n",
       "85   DA_593  /home/junyuchen/1-Projects/WGS-Pipeline/result...   \n",
       "86   DA_606  /home/junyuchen/1-Projects/WGS-Pipeline/result...   \n",
       "87   DA_635  /home/junyuchen/1-Projects/WGS-Pipeline/result...   \n",
       "\n",
       "                                                  faa  \\\n",
       "0   /home/junyuchen/1-Projects/WGS-Pipeline/result...   \n",
       "1   /home/junyuchen/1-Projects/WGS-Pipeline/result...   \n",
       "2   /home/junyuchen/1-Projects/WGS-Pipeline/result...   \n",
       "3   /home/junyuchen/1-Projects/WGS-Pipeline/result...   \n",
       "4   /home/junyuchen/1-Projects/WGS-Pipeline/result...   \n",
       "..                                                ...   \n",
       "83  /home/junyuchen/1-Projects/WGS-Pipeline/result...   \n",
       "84  /home/junyuchen/1-Projects/WGS-Pipeline/result...   \n",
       "85  /home/junyuchen/1-Projects/WGS-Pipeline/result...   \n",
       "86  /home/junyuchen/1-Projects/WGS-Pipeline/result...   \n",
       "87  /home/junyuchen/1-Projects/WGS-Pipeline/result...   \n",
       "\n",
       "                                                  ffn  \n",
       "0   /home/junyuchen/1-Projects/WGS-Pipeline/result...  \n",
       "1   /home/junyuchen/1-Projects/WGS-Pipeline/result...  \n",
       "2   /home/junyuchen/1-Projects/WGS-Pipeline/result...  \n",
       "3   /home/junyuchen/1-Projects/WGS-Pipeline/result...  \n",
       "4   /home/junyuchen/1-Projects/WGS-Pipeline/result...  \n",
       "..                                                ...  \n",
       "83  /home/junyuchen/1-Projects/WGS-Pipeline/result...  \n",
       "84  /home/junyuchen/1-Projects/WGS-Pipeline/result...  \n",
       "85  /home/junyuchen/1-Projects/WGS-Pipeline/result...  \n",
       "86  /home/junyuchen/1-Projects/WGS-Pipeline/result...  \n",
       "87  /home/junyuchen/1-Projects/WGS-Pipeline/result...  \n",
       "\n",
       "[166 rows x 4 columns]"
      ]
     },
     "execution_count": 10,
     "metadata": {},
     "output_type": "execute_result"
    }
   ],
   "source": [
    "df"
   ]
  },
  {
   "cell_type": "code",
   "execution_count": 11,
   "metadata": {},
   "outputs": [],
   "source": [
    "prefixList = df[\"SampleID\"].to_list()"
   ]
  },
  {
   "cell_type": "code",
   "execution_count": 12,
   "metadata": {},
   "outputs": [],
   "source": [
    "fileList = df[\"faa\"].to_list()"
   ]
  },
  {
   "cell_type": "code",
   "execution_count": null,
   "metadata": {},
   "outputs": [],
   "source": []
  },
  {
   "cell_type": "markdown",
   "metadata": {},
   "source": [
    "### blastp"
   ]
  },
  {
   "cell_type": "code",
   "execution_count": 13,
   "metadata": {},
   "outputs": [],
   "source": [
    "dbDir = \"/home/junyuchen/1-Projects/WGS-Pipeline/database/BGCs/BGCs_demo\""
   ]
  },
  {
   "cell_type": "code",
   "execution_count": 14,
   "metadata": {},
   "outputs": [],
   "source": [
    "OutDir = \"/home/junyuchen/1-Projects/WGS-Pipeline/result/BGCs_demo\""
   ]
  },
  {
   "cell_type": "code",
   "execution_count": 16,
   "metadata": {},
   "outputs": [],
   "source": [
    "RunDiamondParallel(fileList, prefixList, dbDir, OutDir, 2, 16)"
   ]
  },
  {
   "cell_type": "code",
   "execution_count": null,
   "metadata": {},
   "outputs": [],
   "source": []
  },
  {
   "cell_type": "code",
   "execution_count": 17,
   "metadata": {},
   "outputs": [
    {
     "name": "stdout",
     "output_type": "stream",
     "text": [
      "164\n"
     ]
    }
   ],
   "source": [
    "!ls /home/junyuchen/1-Projects/WGS-Pipeline/result/BGCs_demo | wc -l"
   ]
  },
  {
   "cell_type": "code",
   "execution_count": null,
   "metadata": {},
   "outputs": [],
   "source": [
    "def ParseDiamond()"
   ]
  }
 ],
 "metadata": {
  "kernelspec": {
   "display_name": "Python 3",
   "language": "python",
   "name": "python3"
  },
  "language_info": {
   "codemirror_mode": {
    "name": "ipython",
    "version": 3
   },
   "file_extension": ".py",
   "mimetype": "text/x-python",
   "name": "python",
   "nbconvert_exporter": "python",
   "pygments_lexer": "ipython3",
   "version": "3.7.6"
  }
 },
 "nbformat": 4,
 "nbformat_minor": 5
}
