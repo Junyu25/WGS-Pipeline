{
 "cells": [
  {
   "cell_type": "code",
   "execution_count": null,
   "id": "incoming-preliminary",
   "metadata": {},
   "outputs": [],
   "source": []
  },
  {
   "cell_type": "code",
   "execution_count": 1,
   "id": "surface-teach",
   "metadata": {},
   "outputs": [],
   "source": [
    "import os\n",
    "import pandas as pd"
   ]
  },
  {
   "cell_type": "code",
   "execution_count": 2,
   "id": "quick-practitioner",
   "metadata": {},
   "outputs": [],
   "source": [
    "import sys\n",
    "sys.path.append('../Scripts')"
   ]
  },
  {
   "cell_type": "code",
   "execution_count": 3,
   "id": "happy-submission",
   "metadata": {},
   "outputs": [],
   "source": [
    "from functions import *"
   ]
  },
  {
   "cell_type": "markdown",
   "id": "covered-wednesday",
   "metadata": {},
   "source": [
    "### make diamond db"
   ]
  },
  {
   "cell_type": "code",
   "execution_count": 12,
   "id": "regional-plasma",
   "metadata": {},
   "outputs": [
    {
     "name": "stdout",
     "output_type": "stream",
     "text": [
      ">CAH08161.1 putative 8-amino-7-oxononanoate synthase [Bacteroides fragilis NCTC 9343]\n",
      "MGLLQEKLAKYDLPQQIKAKGVYPYFRCIESEQNTEVIMSGRKVLMFGSNSYLGLTNHPKVIEAAVEATR\n",
      "KYGTGCAGSRFLNGTLDLHLQLEKELAEFVGKEDAIIYSTGFQVNLGVVSCVTGREDYVICDELDHASIV\n",
      "EGRRLSFSTILKFKHNDMESLEKELQKCRPDAVKLIVVDGVFSMEGDIANLPEIVRLSKKYDANIMVDEA\n",
      "HGLGVLGNHGRGTCDHFGLTKEVDLIMGTFSKSLAAIGGFIAADESIINYLRHNSRSYIFSASNTPAATA\n",
      "AARAALQIMKNEPERIEHLWDITNYSLKCFRELGFEIGHTSTPIIPLYVRDMEKTFMVTKMLFDEGVFVN\n",
      "PVVPPACSPNDTLIRFSLMATHSKEQIDFAIGKLVKCFKALDLL\n",
      "\n",
      ">EFK34533.1 aminotransferase, class I/II [Chryseobacterium gleum ATCC 35910]\n",
      "MLDIFERIKENPGPLGQFADYGEGYFIFPRLEGPIGPRMQFQGREVIFWSANDYLGLCNHPEVIEADAKA\n"
     ]
    }
   ],
   "source": [
    "!head ~/1-Projects/WGS-Pipeline/data/BGCs_demo.fasta"
   ]
  },
  {
   "cell_type": "code",
   "execution_count": null,
   "id": "laughing-yahoo",
   "metadata": {},
   "outputs": [],
   "source": [
    "diamond makedb --in /home/junyuchen/1-Projects/WGS-Pipeline/data/BGCs_demo.fasta -d /home/junyuchen/1-Projects/WGS-Pipeline/database/BGCs/BGCs_demo"
   ]
  },
  {
   "cell_type": "markdown",
   "id": "graduate-blair",
   "metadata": {},
   "source": [
    "### query data"
   ]
  },
  {
   "cell_type": "code",
   "execution_count": 4,
   "id": "infectious-flash",
   "metadata": {},
   "outputs": [],
   "source": [
    "df = pd.read_csv(\"/home/junyuchen/1-Projects/WGS-Pipeline/result/testout/prokka_path.csv\")"
   ]
  },
  {
   "cell_type": "code",
   "execution_count": 5,
   "id": "subjective-support",
   "metadata": {},
   "outputs": [
    {
     "data": {
      "text/html": [
       "<div>\n",
       "<style scoped>\n",
       "    .dataframe tbody tr th:only-of-type {\n",
       "        vertical-align: middle;\n",
       "    }\n",
       "\n",
       "    .dataframe tbody tr th {\n",
       "        vertical-align: top;\n",
       "    }\n",
       "\n",
       "    .dataframe thead th {\n",
       "        text-align: right;\n",
       "    }\n",
       "</style>\n",
       "<table border=\"1\" class=\"dataframe\">\n",
       "  <thead>\n",
       "    <tr style=\"text-align: right;\">\n",
       "      <th></th>\n",
       "      <th>SampleID</th>\n",
       "      <th>fna</th>\n",
       "      <th>faa</th>\n",
       "      <th>ffn</th>\n",
       "    </tr>\n",
       "  </thead>\n",
       "  <tbody>\n",
       "    <tr>\n",
       "      <th>0</th>\n",
       "      <td>ERR044595</td>\n",
       "      <td>/home/junyuchen/1-Projects/WGS-Pipeline/result...</td>\n",
       "      <td>/home/junyuchen/1-Projects/WGS-Pipeline/result...</td>\n",
       "      <td>/home/junyuchen/1-Projects/WGS-Pipeline/result...</td>\n",
       "    </tr>\n",
       "    <tr>\n",
       "      <th>1</th>\n",
       "      <td>ER064912</td>\n",
       "      <td>/home/junyuchen/1-Projects/WGS-Pipeline/result...</td>\n",
       "      <td>/home/junyuchen/1-Projects/WGS-Pipeline/result...</td>\n",
       "      <td>/home/junyuchen/1-Projects/WGS-Pipeline/result...</td>\n",
       "    </tr>\n",
       "  </tbody>\n",
       "</table>\n",
       "</div>"
      ],
      "text/plain": [
       "    SampleID                                                fna  \\\n",
       "0  ERR044595  /home/junyuchen/1-Projects/WGS-Pipeline/result...   \n",
       "1   ER064912  /home/junyuchen/1-Projects/WGS-Pipeline/result...   \n",
       "\n",
       "                                                 faa  \\\n",
       "0  /home/junyuchen/1-Projects/WGS-Pipeline/result...   \n",
       "1  /home/junyuchen/1-Projects/WGS-Pipeline/result...   \n",
       "\n",
       "                                                 ffn  \n",
       "0  /home/junyuchen/1-Projects/WGS-Pipeline/result...  \n",
       "1  /home/junyuchen/1-Projects/WGS-Pipeline/result...  "
      ]
     },
     "execution_count": 5,
     "metadata": {},
     "output_type": "execute_result"
    }
   ],
   "source": [
    "df"
   ]
  },
  {
   "cell_type": "code",
   "execution_count": 6,
   "id": "seven-packing",
   "metadata": {},
   "outputs": [],
   "source": [
    "prefixList = df[\"SampleID\"].to_list()"
   ]
  },
  {
   "cell_type": "code",
   "execution_count": 7,
   "id": "driving-memorabilia",
   "metadata": {},
   "outputs": [],
   "source": [
    "fileList = df[\"faa\"].to_list()"
   ]
  },
  {
   "cell_type": "code",
   "execution_count": null,
   "id": "married-publicity",
   "metadata": {},
   "outputs": [],
   "source": []
  },
  {
   "cell_type": "markdown",
   "id": "collective-kruger",
   "metadata": {},
   "source": [
    "### blastp"
   ]
  },
  {
   "cell_type": "code",
   "execution_count": 8,
   "id": "instant-hungary",
   "metadata": {},
   "outputs": [],
   "source": [
    "dbDir = \"/home/junyuchen/1-Projects/WGS-Pipeline/database/BGCs/BGCs_demo\""
   ]
  },
  {
   "cell_type": "code",
   "execution_count": 9,
   "id": "single-disorder",
   "metadata": {},
   "outputs": [],
   "source": [
    "OutDir = \"/home/junyuchen/1-Projects/WGS-Pipeline/result/BGCs_demo\""
   ]
  },
  {
   "cell_type": "code",
   "execution_count": 10,
   "id": "legislative-austin",
   "metadata": {},
   "outputs": [],
   "source": [
    "RunDiamondParallel(fileList, prefixList, dbDir, OutDir, 2, 2)"
   ]
  },
  {
   "cell_type": "code",
   "execution_count": null,
   "id": "cardiac-nylon",
   "metadata": {},
   "outputs": [],
   "source": []
  }
 ],
 "metadata": {
  "kernelspec": {
   "display_name": "wgs",
   "language": "python",
   "name": "wgs"
  },
  "language_info": {
   "codemirror_mode": {
    "name": "ipython",
    "version": 3
   },
   "file_extension": ".py",
   "mimetype": "text/x-python",
   "name": "python",
   "nbconvert_exporter": "python",
   "pygments_lexer": "ipython3",
   "version": "3.7.9"
  }
 },
 "nbformat": 4,
 "nbformat_minor": 5
}
