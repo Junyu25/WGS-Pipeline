{
 "cells": [
  {
   "cell_type": "code",
   "execution_count": null,
   "id": "accredited-bandwidth",
   "metadata": {},
   "outputs": [],
   "source": []
  },
  {
   "cell_type": "code",
   "execution_count": null,
   "id": "uniform-access",
   "metadata": {},
   "outputs": [],
   "source": [
    "import os\n",
    "import pandas as pd"
   ]
  },
  {
   "cell_type": "code",
   "execution_count": null,
   "id": "christian-humor",
   "metadata": {},
   "outputs": [],
   "source": [
    "import sys\n",
    "sys.path.append('../Scripts')"
   ]
  },
  {
   "cell_type": "code",
   "execution_count": null,
   "id": "acquired-trinity",
   "metadata": {},
   "outputs": [],
   "source": [
    "from functions import *"
   ]
  },
  {
   "cell_type": "markdown",
   "id": "furnished-management",
   "metadata": {},
   "source": [
    "### make diamond db"
   ]
  },
  {
   "cell_type": "code",
   "execution_count": 12,
   "id": "animated-harvey",
   "metadata": {},
   "outputs": [
    {
     "name": "stdout",
     "output_type": "stream",
     "text": [
      ">CAH08161.1 putative 8-amino-7-oxononanoate synthase [Bacteroides fragilis NCTC 9343]\n",
      "MGLLQEKLAKYDLPQQIKAKGVYPYFRCIESEQNTEVIMSGRKVLMFGSNSYLGLTNHPKVIEAAVEATR\n",
      "KYGTGCAGSRFLNGTLDLHLQLEKELAEFVGKEDAIIYSTGFQVNLGVVSCVTGREDYVICDELDHASIV\n",
      "EGRRLSFSTILKFKHNDMESLEKELQKCRPDAVKLIVVDGVFSMEGDIANLPEIVRLSKKYDANIMVDEA\n",
      "HGLGVLGNHGRGTCDHFGLTKEVDLIMGTFSKSLAAIGGFIAADESIINYLRHNSRSYIFSASNTPAATA\n",
      "AARAALQIMKNEPERIEHLWDITNYSLKCFRELGFEIGHTSTPIIPLYVRDMEKTFMVTKMLFDEGVFVN\n",
      "PVVPPACSPNDTLIRFSLMATHSKEQIDFAIGKLVKCFKALDLL\n",
      "\n",
      ">EFK34533.1 aminotransferase, class I/II [Chryseobacterium gleum ATCC 35910]\n",
      "MLDIFERIKENPGPLGQFADYGEGYFIFPRLEGPIGPRMQFQGREVIFWSANDYLGLCNHPEVIEADAKA\n"
     ]
    }
   ],
   "source": [
    "!head ~/1-Projects/WGS-Pipeline/data/BGCs_demo.fasta"
   ]
  },
  {
   "cell_type": "code",
   "execution_count": null,
   "id": "german-wealth",
   "metadata": {},
   "outputs": [],
   "source": [
    "diamond makedb --in /home/junyuchen/1-Projects/WGS-Pipeline/data/BGCs_demo.fasta -d /home/junyuchen/1-Projects/WGS-Pipeline/database/BGCs/BGCs_demo"
   ]
  },
  {
   "cell_type": "markdown",
   "id": "civilian-personal",
   "metadata": {},
   "source": [
    "### query data"
   ]
  },
  {
   "cell_type": "code",
   "execution_count": 4,
   "id": "applied-pleasure",
   "metadata": {},
   "outputs": [],
   "source": [
    "df = pd.read_csv(\"/home/junyuchen/1-Projects/WGS-Pipeline/result/testout/prokka_path.csv\")"
   ]
  },
  {
   "cell_type": "code",
   "execution_count": 5,
   "id": "annual-daughter",
   "metadata": {},
   "outputs": [
    {
     "data": {
      "text/html": [
       "<div>\n",
       "<style scoped>\n",
       "    .dataframe tbody tr th:only-of-type {\n",
       "        vertical-align: middle;\n",
       "    }\n",
       "\n",
       "    .dataframe tbody tr th {\n",
       "        vertical-align: top;\n",
       "    }\n",
       "\n",
       "    .dataframe thead th {\n",
       "        text-align: right;\n",
       "    }\n",
       "</style>\n",
       "<table border=\"1\" class=\"dataframe\">\n",
       "  <thead>\n",
       "    <tr style=\"text-align: right;\">\n",
       "      <th></th>\n",
       "      <th>SampleID</th>\n",
       "      <th>fna</th>\n",
       "      <th>faa</th>\n",
       "      <th>ffn</th>\n",
       "    </tr>\n",
       "  </thead>\n",
       "  <tbody>\n",
       "    <tr>\n",
       "      <th>0</th>\n",
       "      <td>ERR044595</td>\n",
       "      <td>/home/junyuchen/1-Projects/WGS-Pipeline/result...</td>\n",
       "      <td>/home/junyuchen/1-Projects/WGS-Pipeline/result...</td>\n",
       "      <td>/home/junyuchen/1-Projects/WGS-Pipeline/result...</td>\n",
       "    </tr>\n",
       "    <tr>\n",
       "      <th>1</th>\n",
       "      <td>ER064912</td>\n",
       "      <td>/home/junyuchen/1-Projects/WGS-Pipeline/result...</td>\n",
       "      <td>/home/junyuchen/1-Projects/WGS-Pipeline/result...</td>\n",
       "      <td>/home/junyuchen/1-Projects/WGS-Pipeline/result...</td>\n",
       "    </tr>\n",
       "  </tbody>\n",
       "</table>\n",
       "</div>"
      ],
      "text/plain": [
       "    SampleID                                                fna  \\\n",
       "0  ERR044595  /home/junyuchen/1-Projects/WGS-Pipeline/result...   \n",
       "1   ER064912  /home/junyuchen/1-Projects/WGS-Pipeline/result...   \n",
       "\n",
       "                                                 faa  \\\n",
       "0  /home/junyuchen/1-Projects/WGS-Pipeline/result...   \n",
       "1  /home/junyuchen/1-Projects/WGS-Pipeline/result...   \n",
       "\n",
       "                                                 ffn  \n",
       "0  /home/junyuchen/1-Projects/WGS-Pipeline/result...  \n",
       "1  /home/junyuchen/1-Projects/WGS-Pipeline/result...  "
      ]
     },
     "execution_count": 5,
     "metadata": {},
     "output_type": "execute_result"
    }
   ],
   "source": [
    "df"
   ]
  },
  {
   "cell_type": "code",
   "execution_count": 6,
   "id": "public-split",
   "metadata": {},
   "outputs": [],
   "source": [
    "prefixList = df[\"SampleID\"].to_list()"
   ]
  },
  {
   "cell_type": "code",
   "execution_count": 7,
   "id": "introductory-attachment",
   "metadata": {},
   "outputs": [],
   "source": [
    "fileList = df[\"faa\"].to_list()"
   ]
  },
  {
   "cell_type": "code",
   "execution_count": null,
   "id": "grave-truth",
   "metadata": {},
   "outputs": [],
   "source": []
  },
  {
   "cell_type": "markdown",
   "id": "therapeutic-albania",
   "metadata": {},
   "source": [
    "### blastp"
   ]
  },
  {
   "cell_type": "code",
   "execution_count": 8,
   "id": "armed-fraud",
   "metadata": {},
   "outputs": [],
   "source": [
    "dbDir = \"/home/junyuchen/1-Projects/WGS-Pipeline/database/BGCs/BGCs_demo\""
   ]
  },
  {
   "cell_type": "code",
   "execution_count": 9,
   "id": "promising-plenty",
   "metadata": {},
   "outputs": [],
   "source": [
    "OutDir = \"/home/junyuchen/1-Projects/WGS-Pipeline/result/BGCs_demo\""
   ]
  },
  {
   "cell_type": "code",
   "execution_count": 14,
   "id": "binding-idaho",
   "metadata": {},
   "outputs": [
    {
     "ename": "TypeError",
     "evalue": "can only concatenate str (not \"int\") to str",
     "output_type": "error",
     "traceback": [
      "\u001b[0;31m---------------------------------------------------------------------------\u001b[0m",
      "\u001b[0;31mRemoteTraceback\u001b[0m                           Traceback (most recent call last)",
      "\u001b[0;31mRemoteTraceback\u001b[0m: \n\"\"\"\nTraceback (most recent call last):\n  File \"/home/junyuchen/Biosoft/anaconda3/envs/wgs/lib/python3.7/multiprocessing/pool.py\", line 121, in worker\n    result = (True, func(*args, **kwds))\n  File \"/home/junyuchen/Biosoft/anaconda3/envs/wgs/lib/python3.7/multiprocessing/pool.py\", line 47, in starmapstar\n    return list(itertools.starmap(args[0], args[1]))\n  File \"../Scripts/functions.py\", line 30, in RunDiamond\n    cmd = \"diamond blastp --db \" + dbDir + \" --query \" + fasta + \" --out \" + os.path.join(OutDir, prefix + \"_blasp.tsv\") + \" --evalue 1e-05 --outfmt 6 --max-target-seqs 1\" + \" --threads \" + str(threads)\nTypeError: can only concatenate str (not \"int\") to str\n\"\"\"",
      "\nThe above exception was the direct cause of the following exception:\n",
      "\u001b[0;31mTypeError\u001b[0m                                 Traceback (most recent call last)",
      "\u001b[0;32m<ipython-input-14-accb4aba1b97>\u001b[0m in \u001b[0;36m<module>\u001b[0;34m\u001b[0m\n\u001b[0;32m----> 1\u001b[0;31m \u001b[0mRunDiamondParallel\u001b[0m\u001b[0;34m(\u001b[0m\u001b[0mfileList\u001b[0m\u001b[0;34m,\u001b[0m \u001b[0mprefixList\u001b[0m\u001b[0;34m,\u001b[0m \u001b[0mdbDir\u001b[0m\u001b[0;34m,\u001b[0m \u001b[0mOutDir\u001b[0m\u001b[0;34m,\u001b[0m \u001b[0;36m2\u001b[0m\u001b[0;34m,\u001b[0m \u001b[0;36m2\u001b[0m\u001b[0;34m)\u001b[0m\u001b[0;34m\u001b[0m\u001b[0;34m\u001b[0m\u001b[0m\n\u001b[0m",
      "\u001b[0;32m~/1-Projects/WGS-Pipeline/Scripts/functions.py\u001b[0m in \u001b[0;36mRunDiamondParallel\u001b[0;34m(fileList, prefixList, dbDir, OutDir, threads, jobs)\u001b[0m\n\u001b[1;32m     33\u001b[0m \u001b[0;32mdef\u001b[0m \u001b[0mRunDiamondParallel\u001b[0m\u001b[0;34m(\u001b[0m\u001b[0mfileList\u001b[0m\u001b[0;34m,\u001b[0m \u001b[0mprefixList\u001b[0m\u001b[0;34m,\u001b[0m \u001b[0mdbDir\u001b[0m\u001b[0;34m,\u001b[0m \u001b[0mOutDir\u001b[0m\u001b[0;34m,\u001b[0m \u001b[0mthreads\u001b[0m\u001b[0;34m,\u001b[0m \u001b[0mjobs\u001b[0m\u001b[0;34m)\u001b[0m\u001b[0;34m:\u001b[0m\u001b[0;34m\u001b[0m\u001b[0;34m\u001b[0m\u001b[0m\n\u001b[1;32m     34\u001b[0m     \u001b[0mpool\u001b[0m \u001b[0;34m=\u001b[0m \u001b[0mPool\u001b[0m\u001b[0;34m(\u001b[0m\u001b[0mprocesses\u001b[0m \u001b[0;34m=\u001b[0m \u001b[0mjobs\u001b[0m\u001b[0;34m)\u001b[0m\u001b[0;34m\u001b[0m\u001b[0;34m\u001b[0m\u001b[0m\n\u001b[0;32m---> 35\u001b[0;31m     \u001b[0mpool\u001b[0m\u001b[0;34m.\u001b[0m\u001b[0mstarmap\u001b[0m\u001b[0;34m(\u001b[0m\u001b[0mRunDiamond\u001b[0m\u001b[0;34m,\u001b[0m \u001b[0mzip\u001b[0m\u001b[0;34m(\u001b[0m\u001b[0mfileList\u001b[0m\u001b[0;34m,\u001b[0m \u001b[0mprefixList\u001b[0m\u001b[0;34m,\u001b[0m \u001b[0mrepeat\u001b[0m\u001b[0;34m(\u001b[0m\u001b[0mdbDir\u001b[0m\u001b[0;34m)\u001b[0m\u001b[0;34m,\u001b[0m \u001b[0mrepeat\u001b[0m\u001b[0;34m(\u001b[0m\u001b[0mOutDir\u001b[0m\u001b[0;34m)\u001b[0m\u001b[0;34m,\u001b[0m \u001b[0mrepeat\u001b[0m\u001b[0;34m(\u001b[0m\u001b[0mthreads\u001b[0m\u001b[0;34m)\u001b[0m\u001b[0;34m)\u001b[0m\u001b[0;34m)\u001b[0m\u001b[0;34m\u001b[0m\u001b[0;34m\u001b[0m\u001b[0m\n\u001b[0m\u001b[1;32m     36\u001b[0m     \u001b[0mpool\u001b[0m\u001b[0;34m.\u001b[0m\u001b[0mclose\u001b[0m\u001b[0;34m(\u001b[0m\u001b[0;34m)\u001b[0m\u001b[0;34m\u001b[0m\u001b[0;34m\u001b[0m\u001b[0m\n\u001b[1;32m     37\u001b[0m     \u001b[0mpool\u001b[0m\u001b[0;34m.\u001b[0m\u001b[0mjoin\u001b[0m\u001b[0;34m(\u001b[0m\u001b[0;34m)\u001b[0m\u001b[0;34m\u001b[0m\u001b[0;34m\u001b[0m\u001b[0m\n",
      "\u001b[0;32m~/Biosoft/anaconda3/envs/wgs/lib/python3.7/multiprocessing/pool.py\u001b[0m in \u001b[0;36mstarmap\u001b[0;34m(self, func, iterable, chunksize)\u001b[0m\n\u001b[1;32m    274\u001b[0m         \u001b[0;31m`\u001b[0m\u001b[0mfunc\u001b[0m\u001b[0;31m`\u001b[0m \u001b[0;32mand\u001b[0m \u001b[0;34m(\u001b[0m\u001b[0ma\u001b[0m\u001b[0;34m,\u001b[0m \u001b[0mb\u001b[0m\u001b[0;34m)\u001b[0m \u001b[0mbecomes\u001b[0m \u001b[0mfunc\u001b[0m\u001b[0;34m(\u001b[0m\u001b[0ma\u001b[0m\u001b[0;34m,\u001b[0m \u001b[0mb\u001b[0m\u001b[0;34m)\u001b[0m\u001b[0;34m.\u001b[0m\u001b[0;34m\u001b[0m\u001b[0;34m\u001b[0m\u001b[0m\n\u001b[1;32m    275\u001b[0m         '''\n\u001b[0;32m--> 276\u001b[0;31m         \u001b[0;32mreturn\u001b[0m \u001b[0mself\u001b[0m\u001b[0;34m.\u001b[0m\u001b[0m_map_async\u001b[0m\u001b[0;34m(\u001b[0m\u001b[0mfunc\u001b[0m\u001b[0;34m,\u001b[0m \u001b[0miterable\u001b[0m\u001b[0;34m,\u001b[0m \u001b[0mstarmapstar\u001b[0m\u001b[0;34m,\u001b[0m \u001b[0mchunksize\u001b[0m\u001b[0;34m)\u001b[0m\u001b[0;34m.\u001b[0m\u001b[0mget\u001b[0m\u001b[0;34m(\u001b[0m\u001b[0;34m)\u001b[0m\u001b[0;34m\u001b[0m\u001b[0;34m\u001b[0m\u001b[0m\n\u001b[0m\u001b[1;32m    277\u001b[0m \u001b[0;34m\u001b[0m\u001b[0m\n\u001b[1;32m    278\u001b[0m     def starmap_async(self, func, iterable, chunksize=None, callback=None,\n",
      "\u001b[0;32m~/Biosoft/anaconda3/envs/wgs/lib/python3.7/multiprocessing/pool.py\u001b[0m in \u001b[0;36mget\u001b[0;34m(self, timeout)\u001b[0m\n\u001b[1;32m    655\u001b[0m             \u001b[0;32mreturn\u001b[0m \u001b[0mself\u001b[0m\u001b[0;34m.\u001b[0m\u001b[0m_value\u001b[0m\u001b[0;34m\u001b[0m\u001b[0;34m\u001b[0m\u001b[0m\n\u001b[1;32m    656\u001b[0m         \u001b[0;32melse\u001b[0m\u001b[0;34m:\u001b[0m\u001b[0;34m\u001b[0m\u001b[0;34m\u001b[0m\u001b[0m\n\u001b[0;32m--> 657\u001b[0;31m             \u001b[0;32mraise\u001b[0m \u001b[0mself\u001b[0m\u001b[0;34m.\u001b[0m\u001b[0m_value\u001b[0m\u001b[0;34m\u001b[0m\u001b[0;34m\u001b[0m\u001b[0m\n\u001b[0m\u001b[1;32m    658\u001b[0m \u001b[0;34m\u001b[0m\u001b[0m\n\u001b[1;32m    659\u001b[0m     \u001b[0;32mdef\u001b[0m \u001b[0m_set\u001b[0m\u001b[0;34m(\u001b[0m\u001b[0mself\u001b[0m\u001b[0;34m,\u001b[0m \u001b[0mi\u001b[0m\u001b[0;34m,\u001b[0m \u001b[0mobj\u001b[0m\u001b[0;34m)\u001b[0m\u001b[0;34m:\u001b[0m\u001b[0;34m\u001b[0m\u001b[0;34m\u001b[0m\u001b[0m\n",
      "\u001b[0;31mTypeError\u001b[0m: can only concatenate str (not \"int\") to str"
     ]
    }
   ],
   "source": [
    "RunDiamondParallel(fileList, prefixList, dbDir, OutDir, 2, 2)"
   ]
  },
  {
   "cell_type": "code",
   "execution_count": null,
   "id": "relative-mongolia",
   "metadata": {},
   "outputs": [],
   "source": []
  }
 ],
 "metadata": {
  "kernelspec": {
   "display_name": "wgs",
   "language": "python",
   "name": "wgs"
  },
  "language_info": {
   "codemirror_mode": {
    "name": "ipython",
    "version": 3
   },
   "file_extension": ".py",
   "mimetype": "text/x-python",
   "name": "python",
   "nbconvert_exporter": "python",
   "pygments_lexer": "ipython3",
   "version": "3.7.9"
  }
 },
 "nbformat": 4,
 "nbformat_minor": 5
}
