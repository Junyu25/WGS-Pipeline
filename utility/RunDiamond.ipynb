{
 "cells": [
  {
   "cell_type": "code",
   "execution_count": 1,
   "metadata": {},
   "outputs": [
    {
     "name": "stdout",
     "output_type": "stream",
     "text": [
      "/home/junyuchen/Biosoft/anaconda3/bin/diamond\n"
     ]
    }
   ],
   "source": [
    "!which diamond"
   ]
  },
  {
   "cell_type": "code",
   "execution_count": 2,
   "metadata": {},
   "outputs": [],
   "source": [
    "import os\n",
    "import pandas as pd"
   ]
  },
  {
   "cell_type": "code",
   "execution_count": 3,
   "metadata": {},
   "outputs": [],
   "source": [
    "import sys\n",
    "sys.path.append('../Scripts')"
   ]
  },
  {
   "cell_type": "code",
   "execution_count": 4,
   "metadata": {},
   "outputs": [],
   "source": [
    "from functions import *"
   ]
  },
  {
   "cell_type": "markdown",
   "metadata": {},
   "source": [
    "### make diamond db"
   ]
  },
  {
   "cell_type": "code",
   "execution_count": 5,
   "metadata": {},
   "outputs": [
    {
     "name": "stdout",
     "output_type": "stream",
     "text": [
      ">CAH08161.1 putative 8-amino-7-oxononanoate synthase [Bacteroides fragilis NCTC 9343]\n",
      "MGLLQEKLAKYDLPQQIKAKGVYPYFRCIESEQNTEVIMSGRKVLMFGSNSYLGLTNHPKVIEAAVEATR\n",
      "KYGTGCAGSRFLNGTLDLHLQLEKELAEFVGKEDAIIYSTGFQVNLGVVSCVTGREDYVICDELDHASIV\n",
      "EGRRLSFSTILKFKHNDMESLEKELQKCRPDAVKLIVVDGVFSMEGDIANLPEIVRLSKKYDANIMVDEA\n",
      "HGLGVLGNHGRGTCDHFGLTKEVDLIMGTFSKSLAAIGGFIAADESIINYLRHNSRSYIFSASNTPAATA\n",
      "AARAALQIMKNEPERIEHLWDITNYSLKCFRELGFEIGHTSTPIIPLYVRDMEKTFMVTKMLFDEGVFVN\n",
      "PVVPPACSPNDTLIRFSLMATHSKEQIDFAIGKLVKCFKALDLL\n"
     ]
    }
   ],
   "source": [
    "!head ~/1-Projects/WGS-Pipeline/data/CAH08161.1.fasta"
   ]
  },
  {
   "cell_type": "code",
   "execution_count": 6,
   "metadata": {},
   "outputs": [
    {
     "name": "stdout",
     "output_type": "stream",
     "text": [
      ">EFK34533.1 aminotransferase, class I/II [Chryseobacterium gleum ATCC 35910]\n",
      "MLDIFERIKENPGPLGQFADYGEGYFIFPRLEGPIGPRMQFQGREVIFWSANDYLGLCNHPEVIEADAKA\n",
      "AAEYGMFYPMGARAMSGETDQHLQLERELADFVKKESAYLLNFGYQGMVSTIDALVSRNDVIVYDMDSHA\n",
      "CIVDGVRLHSGKRFTYKHNDMASLEKNLQRATKVAEETGGGILVITEGVFGMRGQQGKIKEICDLKSKYQ\n",
      "FRLLVDDAHGFGTLGKTGAGVGEEQDCNDQIDVYFSTFAKSMAGFGAFLAGDKEIIRYLKFNLRSQIFAK\n",
      "SLTMPMVIGGLKRLELLRSRPEIKAKLWENVYKLQNGLKERGFNIGDTNTCVTPVMMQGTPVEATLLVKD\n",
      "LRENYGIFTSVVVYPVIPKGMILLRLIPTASHTDAEINETLAAFEAIHDKLVGGYYKEQEQKLLQEQGLS\n",
      "FKPI\n"
     ]
    }
   ],
   "source": [
    "!head ~/1-Projects/WGS-Pipeline/data/EFK34533.1.fasta"
   ]
  },
  {
   "cell_type": "code",
   "execution_count": 8,
   "metadata": {},
   "outputs": [
    {
     "name": "stdout",
     "output_type": "stream",
     "text": [
      "diamond v0.9.21.122 | by Benjamin Buchfink <buchfink@gmail.com>\n",
      "Licensed under the GNU AGPL <https://www.gnu.org/licenses/agpl.txt>\n",
      "Check http://github.com/bbuchfink/diamond for updates.\n",
      "\n",
      "#CPU threads: 36\n",
      "Scoring parameters: (Matrix=BLOSUM62 Lambda=0.267 K=0.041 Penalties=11/1)\n",
      "Database file: /home/junyuchen/1-Projects/WGS-Pipeline/data/CAH08161.1.fasta\n",
      "Opening the database file...  [0.114296s]\n",
      "Loading sequences...  [6.6e-05s]\n",
      "Masking sequences...  [0.023105s]\n",
      "Writing sequences...  [6e-06s]\n",
      "Hashing sequences...  [1.6e-05s]\n",
      "Loading sequences...  [1.6e-05s]\n",
      "Writing trailer...  [7e-06s]\n",
      "Closing the input file...  [7.6e-05s]\n",
      "Closing the database file...  [0.001681s]\n",
      "Database hash = c20fade09b351f9b6b71315502fafd87\n",
      "Processed 1 sequences, 394 letters.\n",
      "Total time = 0.139423s\n"
     ]
    }
   ],
   "source": [
    "!diamond makedb --in /home/junyuchen/1-Projects/WGS-Pipeline/data/CAH08161.1.fasta -d /home/junyuchen/1-Projects/WGS-Pipeline/database/BGCs/CAH08161.1"
   ]
  },
  {
   "cell_type": "code",
   "execution_count": 9,
   "metadata": {},
   "outputs": [
    {
     "name": "stdout",
     "output_type": "stream",
     "text": [
      "diamond v0.9.21.122 | by Benjamin Buchfink <buchfink@gmail.com>\n",
      "Licensed under the GNU AGPL <https://www.gnu.org/licenses/agpl.txt>\n",
      "Check http://github.com/bbuchfink/diamond for updates.\n",
      "\n",
      "#CPU threads: 36\n",
      "Scoring parameters: (Matrix=BLOSUM62 Lambda=0.267 K=0.041 Penalties=11/1)\n",
      "Database file: /home/junyuchen/1-Projects/WGS-Pipeline/data/EFK34533.1.fasta\n",
      "Opening the database file...  [0.063313s]\n",
      "Loading sequences...  [5.5e-05s]\n",
      "Masking sequences...  [0.001863s]\n",
      "Writing sequences...  [5e-06s]\n",
      "Hashing sequences...  [5e-06s]\n",
      "Loading sequences...  [1.3e-05s]\n",
      "Writing trailer...  [1.3e-05s]\n",
      "Closing the input file...  [9.3e-05s]\n",
      "Closing the database file...  [0.001379s]\n",
      "Database hash = ff1b307d2ad058af0bb8916d4a8ba99d\n",
      "Processed 1 sequences, 424 letters.\n",
      "Total time = 0.066857s\n"
     ]
    }
   ],
   "source": [
    "!diamond makedb --in /home/junyuchen/1-Projects/WGS-Pipeline/data/EFK34533.1.fasta -d /home/junyuchen/1-Projects/WGS-Pipeline/database/BGCs/EFK34533.1"
   ]
  },
  {
   "cell_type": "markdown",
   "metadata": {},
   "source": [
    "### query data"
   ]
  },
  {
   "cell_type": "code",
   "execution_count": 11,
   "metadata": {},
   "outputs": [],
   "source": [
    "df = pd.read_csv(\"/home/junyuchen/1-Projects/WGS-Pipeline/result/210202_WGS/prokka_path.csv\")"
   ]
  },
  {
   "cell_type": "code",
   "execution_count": 12,
   "metadata": {},
   "outputs": [
    {
     "data": {
      "text/html": [
       "<div>\n",
       "<style scoped>\n",
       "    .dataframe tbody tr th:only-of-type {\n",
       "        vertical-align: middle;\n",
       "    }\n",
       "\n",
       "    .dataframe tbody tr th {\n",
       "        vertical-align: top;\n",
       "    }\n",
       "\n",
       "    .dataframe thead th {\n",
       "        text-align: right;\n",
       "    }\n",
       "</style>\n",
       "<table border=\"1\" class=\"dataframe\">\n",
       "  <thead>\n",
       "    <tr style=\"text-align: right;\">\n",
       "      <th></th>\n",
       "      <th>SampleID</th>\n",
       "      <th>fna</th>\n",
       "      <th>faa</th>\n",
       "      <th>ffn</th>\n",
       "    </tr>\n",
       "  </thead>\n",
       "  <tbody>\n",
       "    <tr>\n",
       "      <th>0</th>\n",
       "      <td>DA_283</td>\n",
       "      <td>/home/junyuchen/1-Projects/WGS-Pipeline/result...</td>\n",
       "      <td>/home/junyuchen/1-Projects/WGS-Pipeline/result...</td>\n",
       "      <td>/home/junyuchen/1-Projects/WGS-Pipeline/result...</td>\n",
       "    </tr>\n",
       "    <tr>\n",
       "      <th>1</th>\n",
       "      <td>DA_100</td>\n",
       "      <td>/home/junyuchen/1-Projects/WGS-Pipeline/result...</td>\n",
       "      <td>/home/junyuchen/1-Projects/WGS-Pipeline/result...</td>\n",
       "      <td>/home/junyuchen/1-Projects/WGS-Pipeline/result...</td>\n",
       "    </tr>\n",
       "    <tr>\n",
       "      <th>2</th>\n",
       "      <td>DA_116</td>\n",
       "      <td>/home/junyuchen/1-Projects/WGS-Pipeline/result...</td>\n",
       "      <td>/home/junyuchen/1-Projects/WGS-Pipeline/result...</td>\n",
       "      <td>/home/junyuchen/1-Projects/WGS-Pipeline/result...</td>\n",
       "    </tr>\n",
       "    <tr>\n",
       "      <th>3</th>\n",
       "      <td>DA_285</td>\n",
       "      <td>/home/junyuchen/1-Projects/WGS-Pipeline/result...</td>\n",
       "      <td>/home/junyuchen/1-Projects/WGS-Pipeline/result...</td>\n",
       "      <td>/home/junyuchen/1-Projects/WGS-Pipeline/result...</td>\n",
       "    </tr>\n",
       "    <tr>\n",
       "      <th>4</th>\n",
       "      <td>DA_183</td>\n",
       "      <td>/home/junyuchen/1-Projects/WGS-Pipeline/result...</td>\n",
       "      <td>/home/junyuchen/1-Projects/WGS-Pipeline/result...</td>\n",
       "      <td>/home/junyuchen/1-Projects/WGS-Pipeline/result...</td>\n",
       "    </tr>\n",
       "    <tr>\n",
       "      <th>...</th>\n",
       "      <td>...</td>\n",
       "      <td>...</td>\n",
       "      <td>...</td>\n",
       "      <td>...</td>\n",
       "    </tr>\n",
       "    <tr>\n",
       "      <th>161</th>\n",
       "      <td>DA_544</td>\n",
       "      <td>/home/junyuchen/1-Projects/WGS-Pipeline/result...</td>\n",
       "      <td>/home/junyuchen/1-Projects/WGS-Pipeline/result...</td>\n",
       "      <td>/home/junyuchen/1-Projects/WGS-Pipeline/result...</td>\n",
       "    </tr>\n",
       "    <tr>\n",
       "      <th>162</th>\n",
       "      <td>DA_591</td>\n",
       "      <td>/home/junyuchen/1-Projects/WGS-Pipeline/result...</td>\n",
       "      <td>/home/junyuchen/1-Projects/WGS-Pipeline/result...</td>\n",
       "      <td>/home/junyuchen/1-Projects/WGS-Pipeline/result...</td>\n",
       "    </tr>\n",
       "    <tr>\n",
       "      <th>163</th>\n",
       "      <td>DA_593</td>\n",
       "      <td>/home/junyuchen/1-Projects/WGS-Pipeline/result...</td>\n",
       "      <td>/home/junyuchen/1-Projects/WGS-Pipeline/result...</td>\n",
       "      <td>/home/junyuchen/1-Projects/WGS-Pipeline/result...</td>\n",
       "    </tr>\n",
       "    <tr>\n",
       "      <th>164</th>\n",
       "      <td>DA_606</td>\n",
       "      <td>/home/junyuchen/1-Projects/WGS-Pipeline/result...</td>\n",
       "      <td>/home/junyuchen/1-Projects/WGS-Pipeline/result...</td>\n",
       "      <td>/home/junyuchen/1-Projects/WGS-Pipeline/result...</td>\n",
       "    </tr>\n",
       "    <tr>\n",
       "      <th>165</th>\n",
       "      <td>DA_635</td>\n",
       "      <td>/home/junyuchen/1-Projects/WGS-Pipeline/result...</td>\n",
       "      <td>/home/junyuchen/1-Projects/WGS-Pipeline/result...</td>\n",
       "      <td>/home/junyuchen/1-Projects/WGS-Pipeline/result...</td>\n",
       "    </tr>\n",
       "  </tbody>\n",
       "</table>\n",
       "<p>166 rows × 4 columns</p>\n",
       "</div>"
      ],
      "text/plain": [
       "    SampleID                                                fna  \\\n",
       "0     DA_283  /home/junyuchen/1-Projects/WGS-Pipeline/result...   \n",
       "1     DA_100  /home/junyuchen/1-Projects/WGS-Pipeline/result...   \n",
       "2     DA_116  /home/junyuchen/1-Projects/WGS-Pipeline/result...   \n",
       "3     DA_285  /home/junyuchen/1-Projects/WGS-Pipeline/result...   \n",
       "4     DA_183  /home/junyuchen/1-Projects/WGS-Pipeline/result...   \n",
       "..       ...                                                ...   \n",
       "161   DA_544  /home/junyuchen/1-Projects/WGS-Pipeline/result...   \n",
       "162   DA_591  /home/junyuchen/1-Projects/WGS-Pipeline/result...   \n",
       "163   DA_593  /home/junyuchen/1-Projects/WGS-Pipeline/result...   \n",
       "164   DA_606  /home/junyuchen/1-Projects/WGS-Pipeline/result...   \n",
       "165   DA_635  /home/junyuchen/1-Projects/WGS-Pipeline/result...   \n",
       "\n",
       "                                                   faa  \\\n",
       "0    /home/junyuchen/1-Projects/WGS-Pipeline/result...   \n",
       "1    /home/junyuchen/1-Projects/WGS-Pipeline/result...   \n",
       "2    /home/junyuchen/1-Projects/WGS-Pipeline/result...   \n",
       "3    /home/junyuchen/1-Projects/WGS-Pipeline/result...   \n",
       "4    /home/junyuchen/1-Projects/WGS-Pipeline/result...   \n",
       "..                                                 ...   \n",
       "161  /home/junyuchen/1-Projects/WGS-Pipeline/result...   \n",
       "162  /home/junyuchen/1-Projects/WGS-Pipeline/result...   \n",
       "163  /home/junyuchen/1-Projects/WGS-Pipeline/result...   \n",
       "164  /home/junyuchen/1-Projects/WGS-Pipeline/result...   \n",
       "165  /home/junyuchen/1-Projects/WGS-Pipeline/result...   \n",
       "\n",
       "                                                   ffn  \n",
       "0    /home/junyuchen/1-Projects/WGS-Pipeline/result...  \n",
       "1    /home/junyuchen/1-Projects/WGS-Pipeline/result...  \n",
       "2    /home/junyuchen/1-Projects/WGS-Pipeline/result...  \n",
       "3    /home/junyuchen/1-Projects/WGS-Pipeline/result...  \n",
       "4    /home/junyuchen/1-Projects/WGS-Pipeline/result...  \n",
       "..                                                 ...  \n",
       "161  /home/junyuchen/1-Projects/WGS-Pipeline/result...  \n",
       "162  /home/junyuchen/1-Projects/WGS-Pipeline/result...  \n",
       "163  /home/junyuchen/1-Projects/WGS-Pipeline/result...  \n",
       "164  /home/junyuchen/1-Projects/WGS-Pipeline/result...  \n",
       "165  /home/junyuchen/1-Projects/WGS-Pipeline/result...  \n",
       "\n",
       "[166 rows x 4 columns]"
      ]
     },
     "execution_count": 12,
     "metadata": {},
     "output_type": "execute_result"
    }
   ],
   "source": [
    "df"
   ]
  },
  {
   "cell_type": "code",
   "execution_count": 13,
   "metadata": {},
   "outputs": [],
   "source": [
    "prefixList = df[\"SampleID\"].to_list()"
   ]
  },
  {
   "cell_type": "code",
   "execution_count": 14,
   "metadata": {},
   "outputs": [],
   "source": [
    "fileList = df[\"faa\"].to_list()"
   ]
  },
  {
   "cell_type": "code",
   "execution_count": null,
   "metadata": {},
   "outputs": [],
   "source": []
  },
  {
   "cell_type": "markdown",
   "metadata": {},
   "source": [
    "### blastp"
   ]
  },
  {
   "cell_type": "code",
   "execution_count": 15,
   "metadata": {},
   "outputs": [],
   "source": [
    "dbDir = \"/home/junyuchen/1-Projects/WGS-Pipeline/database/BGCs/CAH08161.1\""
   ]
  },
  {
   "cell_type": "code",
   "execution_count": 16,
   "metadata": {},
   "outputs": [],
   "source": [
    "OutDir = \"/home/junyuchen/1-Projects/WGS-Pipeline/result/blastp/CAH08161.1\""
   ]
  },
  {
   "cell_type": "code",
   "execution_count": 17,
   "metadata": {},
   "outputs": [],
   "source": [
    "RunDiamondParallel(fileList, prefixList, dbDir, OutDir, 2, 16)"
   ]
  },
  {
   "cell_type": "code",
   "execution_count": null,
   "metadata": {},
   "outputs": [],
   "source": []
  },
  {
   "cell_type": "code",
   "execution_count": 18,
   "metadata": {},
   "outputs": [],
   "source": [
    "dbDir = \"/home/junyuchen/1-Projects/WGS-Pipeline/database/BGCs/EFK34533.1\""
   ]
  },
  {
   "cell_type": "code",
   "execution_count": 19,
   "metadata": {},
   "outputs": [],
   "source": [
    "OutDir = \"/home/junyuchen/1-Projects/WGS-Pipeline/result/blastp/EFK34533.1\""
   ]
  },
  {
   "cell_type": "code",
   "execution_count": 20,
   "metadata": {},
   "outputs": [],
   "source": [
    "RunDiamondParallel(fileList, prefixList, dbDir, OutDir, 2, 16)"
   ]
  },
  {
   "cell_type": "code",
   "execution_count": null,
   "metadata": {},
   "outputs": [],
   "source": []
  },
  {
   "cell_type": "code",
   "execution_count": null,
   "metadata": {},
   "outputs": [],
   "source": []
  },
  {
   "cell_type": "code",
   "execution_count": null,
   "metadata": {},
   "outputs": [],
   "source": []
  }
 ],
 "metadata": {
  "kernelspec": {
   "display_name": "Python 3",
   "language": "python",
   "name": "python3"
  },
  "language_info": {
   "codemirror_mode": {
    "name": "ipython",
    "version": 3
   },
   "file_extension": ".py",
   "mimetype": "text/x-python",
   "name": "python",
   "nbconvert_exporter": "python",
   "pygments_lexer": "ipython3",
   "version": "3.7.6"
  }
 },
 "nbformat": 4,
 "nbformat_minor": 5
}
