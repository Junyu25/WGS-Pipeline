{
 "cells": [
  {
   "cell_type": "code",
   "execution_count": 8,
   "metadata": {
    "execution": {
     "iopub.execute_input": "2020-12-03T08:13:04.775758Z",
     "iopub.status.busy": "2020-12-03T08:13:04.775368Z",
     "iopub.status.idle": "2020-12-03T08:13:05.632495Z",
     "shell.execute_reply": "2020-12-03T08:13:05.631565Z",
     "shell.execute_reply.started": "2020-12-03T08:13:04.775721Z"
    }
   },
   "outputs": [],
   "source": [
    "from ete3 import Tree"
   ]
  },
  {
   "cell_type": "code",
   "execution_count": 9,
   "metadata": {
    "execution": {
     "iopub.execute_input": "2020-12-03T08:13:05.633682Z",
     "iopub.status.busy": "2020-12-03T08:13:05.633495Z",
     "iopub.status.idle": "2020-12-03T08:13:05.639698Z",
     "shell.execute_reply": "2020-12-03T08:13:05.638729Z",
     "shell.execute_reply.started": "2020-12-03T08:13:05.633660Z"
    }
   },
   "outputs": [],
   "source": [
    "# Loads a tree structure from a newick string. The returned variable ’t’ is the root node for the tree.\n",
    "t = Tree(\"(A:1,(B:1,(E:1,D:1):0.5):0.5);\" )"
   ]
  },
  {
   "cell_type": "code",
   "execution_count": 10,
   "metadata": {
    "execution": {
     "iopub.execute_input": "2020-12-03T08:13:06.199858Z",
     "iopub.status.busy": "2020-12-03T08:13:06.199480Z",
     "iopub.status.idle": "2020-12-03T08:13:06.211212Z",
     "shell.execute_reply": "2020-12-03T08:13:06.209989Z",
     "shell.execute_reply.started": "2020-12-03T08:13:06.199827Z"
    }
   },
   "outputs": [
    {
     "data": {
      "text/plain": [
       "Tree node '' (0x7f53e219524)"
      ]
     },
     "execution_count": 10,
     "metadata": {},
     "output_type": "execute_result"
    }
   ],
   "source": [
    "t"
   ]
  },
  {
   "cell_type": "code",
   "execution_count": 11,
   "metadata": {
    "execution": {
     "iopub.execute_input": "2020-12-03T08:13:06.601848Z",
     "iopub.status.busy": "2020-12-03T08:13:06.601577Z",
     "iopub.status.idle": "2020-12-03T08:13:06.607540Z",
     "shell.execute_reply": "2020-12-03T08:13:06.606236Z",
     "shell.execute_reply.started": "2020-12-03T08:13:06.601820Z"
    }
   },
   "outputs": [
    {
     "data": {
      "text/plain": [
       "ete3.coretype.tree.TreeNode"
      ]
     },
     "execution_count": 11,
     "metadata": {},
     "output_type": "execute_result"
    }
   ],
   "source": [
    "type(t)"
   ]
  },
  {
   "cell_type": "code",
   "execution_count": 12,
   "metadata": {
    "execution": {
     "iopub.execute_input": "2020-12-03T08:13:06.873735Z",
     "iopub.status.busy": "2020-12-03T08:13:06.873422Z",
     "iopub.status.idle": "2020-12-03T08:13:06.880554Z",
     "shell.execute_reply": "2020-12-03T08:13:06.879079Z",
     "shell.execute_reply.started": "2020-12-03T08:13:06.873704Z"
    }
   },
   "outputs": [
    {
     "data": {
      "text/plain": [
       "\u001b[0;31mType:\u001b[0m        TreeNode\n",
       "\u001b[0;31mString form:\u001b[0m\n",
       "   /-A\n",
       "--|\n",
       "  |   /-B\n",
       "   \\-|\n",
       "     |   /-E\n",
       "      \\-|\n",
       "         \\-D\n",
       "\u001b[0;31mLength:\u001b[0m      4\n",
       "\u001b[0;31mFile:\u001b[0m        ~/miniconda3/envs/phylo/lib/python3.6/site-packages/ete3-3.1.2-py3.7.egg/ete3/coretype/tree.py\n",
       "\u001b[0;31mDocstring:\u001b[0m  \n",
       "TreeNode (Tree) class is used to store a tree structure. A tree\n",
       "consists of a collection of TreeNode instances connected in a\n",
       "hierarchical way. Trees can be loaded from the New Hampshire Newick\n",
       "format (newick).\n",
       "\n",
       ":argument newick: Path to the file containing the tree or, alternatively,\n",
       "   the text string containing the same information.\n",
       "\n",
       ":argument 0 format: subnewick format\n",
       "\n",
       "  .. table::\n",
       "\n",
       "      ======  ==============================================\n",
       "      FORMAT  DESCRIPTION\n",
       "      ======  ==============================================\n",
       "      0        flexible with support values\n",
       "      1        flexible with internal node names\n",
       "      2        all branches + leaf names + internal supports\n",
       "      3        all branches + all names\n",
       "      4        leaf branches + leaf names\n",
       "      5        internal and leaf branches + leaf names\n",
       "      6        internal branches + leaf names\n",
       "      7        leaf branches + all names\n",
       "      8        all names\n",
       "      9        leaf names\n",
       "      100      topology only\n",
       "      ======  ==============================================\n",
       "\n",
       ":returns: a tree node object which represents the base of the tree.\n",
       "\n",
       "**Examples:**\n",
       "\n",
       "::\n",
       "\n",
       "    t1 = Tree() # creates an empty tree\n",
       "    t2 = Tree('(A:1,(B:1,(C:1,D:1):0.5):0.5);')\n",
       "    t3 = Tree('/home/user/myNewickFile.txt')\n"
      ]
     },
     "metadata": {},
     "output_type": "display_data"
    }
   ],
   "source": [
    "?t"
   ]
  },
  {
   "cell_type": "code",
   "execution_count": 13,
   "metadata": {
    "execution": {
     "iopub.execute_input": "2020-12-03T08:13:07.252176Z",
     "iopub.status.busy": "2020-12-03T08:13:07.251862Z",
     "iopub.status.idle": "2020-12-03T08:13:07.260169Z",
     "shell.execute_reply": "2020-12-03T08:13:07.258570Z",
     "shell.execute_reply.started": "2020-12-03T08:13:07.252143Z"
    }
   },
   "outputs": [
    {
     "data": {
      "text/plain": [
       "''"
      ]
     },
     "execution_count": 13,
     "metadata": {},
     "output_type": "execute_result"
    }
   ],
   "source": [
    "t.name"
   ]
  },
  {
   "cell_type": "code",
   "execution_count": 14,
   "metadata": {
    "execution": {
     "iopub.execute_input": "2020-12-03T08:13:07.889563Z",
     "iopub.status.busy": "2020-12-03T08:13:07.889248Z",
     "iopub.status.idle": "2020-12-03T08:13:07.896558Z",
     "shell.execute_reply": "2020-12-03T08:13:07.895185Z",
     "shell.execute_reply.started": "2020-12-03T08:13:07.889532Z"
    }
   },
   "outputs": [
    {
     "name": "stdout",
     "output_type": "stream",
     "text": [
      "\n",
      "   /-A\n",
      "--|\n",
      "  |   /-B\n",
      "   \\-|\n",
      "     |   /-E\n",
      "      \\-|\n",
      "         \\-D\n"
     ]
    }
   ],
   "source": [
    "print(t)"
   ]
  },
  {
   "cell_type": "code",
   "execution_count": 15,
   "metadata": {
    "execution": {
     "iopub.execute_input": "2020-12-03T08:13:08.713602Z",
     "iopub.status.busy": "2020-12-03T08:13:08.713304Z",
     "iopub.status.idle": "2020-12-03T08:13:08.720387Z",
     "shell.execute_reply": "2020-12-03T08:13:08.719069Z",
     "shell.execute_reply.started": "2020-12-03T08:13:08.713573Z"
    }
   },
   "outputs": [
    {
     "name": "stdout",
     "output_type": "stream",
     "text": [
      "\n",
      "--A\n",
      "<class 'ete3.coretype.tree.TreeNode'>\n",
      "\n",
      "--B\n",
      "<class 'ete3.coretype.tree.TreeNode'>\n",
      "\n",
      "--E\n",
      "<class 'ete3.coretype.tree.TreeNode'>\n",
      "\n",
      "--D\n",
      "<class 'ete3.coretype.tree.TreeNode'>\n"
     ]
    }
   ],
   "source": [
    "for leaf in t:\n",
    "    print(leaf)\n",
    "    print(type(leaf))"
   ]
  },
  {
   "cell_type": "code",
   "execution_count": 16,
   "metadata": {
    "execution": {
     "iopub.execute_input": "2020-12-03T08:13:11.548400Z",
     "iopub.status.busy": "2020-12-03T08:13:11.547882Z",
     "iopub.status.idle": "2020-12-03T08:13:11.555668Z",
     "shell.execute_reply": "2020-12-03T08:13:11.554125Z",
     "shell.execute_reply.started": "2020-12-03T08:13:11.548348Z"
    }
   },
   "outputs": [
    {
     "name": "stdout",
     "output_type": "stream",
     "text": [
      "[Tree node 'A' (0x7f53e219539), Tree node '' (-0x7ffff80ac1de6a69)]\n"
     ]
    }
   ],
   "source": [
    "print(t.children)"
   ]
  },
  {
   "cell_type": "code",
   "execution_count": 18,
   "metadata": {
    "execution": {
     "iopub.execute_input": "2020-12-03T08:13:33.156313Z",
     "iopub.status.busy": "2020-12-03T08:13:33.156023Z",
     "iopub.status.idle": "2020-12-03T08:13:33.162775Z",
     "shell.execute_reply": "2020-12-03T08:13:33.161644Z",
     "shell.execute_reply.started": "2020-12-03T08:13:33.156284Z"
    }
   },
   "outputs": [
    {
     "data": {
      "text/plain": [
       "[Tree node 'A' (0x7f53e219539), Tree node '' (-0x7ffff80ac1de6a69)]"
      ]
     },
     "execution_count": 18,
     "metadata": {},
     "output_type": "execute_result"
    }
   ],
   "source": [
    "t.get_children()"
   ]
  },
  {
   "cell_type": "code",
   "execution_count": 19,
   "metadata": {
    "execution": {
     "iopub.execute_input": "2020-12-03T08:13:42.378143Z",
     "iopub.status.busy": "2020-12-03T08:13:42.377764Z",
     "iopub.status.idle": "2020-12-03T08:13:42.383418Z",
     "shell.execute_reply": "2020-12-03T08:13:42.381786Z",
     "shell.execute_reply.started": "2020-12-03T08:13:42.378088Z"
    }
   },
   "outputs": [],
   "source": [
    "t.up"
   ]
  },
  {
   "cell_type": "code",
   "execution_count": 20,
   "metadata": {
    "execution": {
     "iopub.execute_input": "2020-12-03T08:13:45.534257Z",
     "iopub.status.busy": "2020-12-03T08:13:45.533962Z",
     "iopub.status.idle": "2020-12-03T08:13:45.541189Z",
     "shell.execute_reply": "2020-12-03T08:13:45.539731Z",
     "shell.execute_reply.started": "2020-12-03T08:13:45.534228Z"
    }
   },
   "outputs": [
    {
     "data": {
      "text/plain": [
       "''"
      ]
     },
     "execution_count": 20,
     "metadata": {},
     "output_type": "execute_result"
    }
   ],
   "source": [
    "t.name"
   ]
  },
  {
   "cell_type": "code",
   "execution_count": 21,
   "metadata": {
    "execution": {
     "iopub.execute_input": "2020-12-03T08:13:50.445927Z",
     "iopub.status.busy": "2020-12-03T08:13:50.445557Z",
     "iopub.status.idle": "2020-12-03T08:13:50.452839Z",
     "shell.execute_reply": "2020-12-03T08:13:50.451746Z",
     "shell.execute_reply.started": "2020-12-03T08:13:50.445890Z"
    }
   },
   "outputs": [
    {
     "data": {
      "text/plain": [
       "0.0"
      ]
     },
     "execution_count": 21,
     "metadata": {},
     "output_type": "execute_result"
    }
   ],
   "source": [
    "t.dist"
   ]
  },
  {
   "cell_type": "code",
   "execution_count": 23,
   "metadata": {
    "execution": {
     "iopub.execute_input": "2020-12-03T08:14:42.784845Z",
     "iopub.status.busy": "2020-12-03T08:14:42.784552Z",
     "iopub.status.idle": "2020-12-03T08:14:42.791772Z",
     "shell.execute_reply": "2020-12-03T08:14:42.790440Z",
     "shell.execute_reply.started": "2020-12-03T08:14:42.784816Z"
    }
   },
   "outputs": [
    {
     "name": "stdout",
     "output_type": "stream",
     "text": [
      "A\n",
      "B\n",
      "E\n",
      "D\n"
     ]
    }
   ],
   "source": [
    "for leaf in t:\n",
    "    print(leaf.name)\n",
    "    if leaf.name == \"A\":\n",
    "        leaf.name = \"F\""
   ]
  },
  {
   "cell_type": "code",
   "execution_count": 25,
   "metadata": {
    "execution": {
     "iopub.execute_input": "2020-12-03T08:14:51.578642Z",
     "iopub.status.busy": "2020-12-03T08:14:51.578327Z",
     "iopub.status.idle": "2020-12-03T08:14:51.584264Z",
     "shell.execute_reply": "2020-12-03T08:14:51.582953Z",
     "shell.execute_reply.started": "2020-12-03T08:14:51.578611Z"
    }
   },
   "outputs": [
    {
     "name": "stdout",
     "output_type": "stream",
     "text": [
      "\n",
      "   /-F\n",
      "--|\n",
      "  |   /-B\n",
      "   \\-|\n",
      "     |   /-E\n",
      "      \\-|\n",
      "         \\-D\n"
     ]
    }
   ],
   "source": [
    "print(t)"
   ]
  },
  {
   "cell_type": "code",
   "execution_count": null,
   "metadata": {},
   "outputs": [],
   "source": []
  }
 ],
 "metadata": {
  "kernelspec": {
   "display_name": "Phylo",
   "language": "python",
   "name": "phylo"
  },
  "language_info": {
   "codemirror_mode": {
    "name": "ipython",
    "version": 3
   },
   "file_extension": ".py",
   "mimetype": "text/x-python",
   "name": "python",
   "nbconvert_exporter": "python",
   "pygments_lexer": "ipython3",
   "version": "3.6.12"
  }
 },
 "nbformat": 4,
 "nbformat_minor": 4
}
