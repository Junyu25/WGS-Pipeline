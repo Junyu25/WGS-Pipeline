{
 "cells": [
  {
   "cell_type": "markdown",
   "metadata": {},
   "source": [
    "### Bio.SearchIO.HmmerIO package"
   ]
  },
  {
   "cell_type": "markdown",
   "metadata": {},
   "source": [
    "https://biopython.org/docs/1.75/api/Bio.SearchIO.HmmerIO.html"
   ]
  },
  {
   "cell_type": "markdown",
   "metadata": {},
   "source": [
    "http://biopython.org/DIST/docs/tutorial/Tutorial.html#htoc211"
   ]
  },
  {
   "cell_type": "code",
   "execution_count": 11,
   "metadata": {
    "execution": {
     "iopub.execute_input": "2020-12-30T05:46:09.497046Z",
     "iopub.status.busy": "2020-12-30T05:46:09.496727Z",
     "iopub.status.idle": "2020-12-30T05:46:09.501058Z",
     "shell.execute_reply": "2020-12-30T05:46:09.500001Z",
     "shell.execute_reply.started": "2020-12-30T05:46:09.497015Z"
    }
   },
   "outputs": [],
   "source": [
    "from Bio import SearchIO"
   ]
  },
  {
   "cell_type": "code",
   "execution_count": 12,
   "metadata": {
    "execution": {
     "iopub.execute_input": "2020-12-30T05:46:10.223533Z",
     "iopub.status.busy": "2020-12-30T05:46:10.223220Z",
     "iopub.status.idle": "2020-12-30T05:46:10.232899Z",
     "shell.execute_reply": "2020-12-30T05:46:10.231865Z",
     "shell.execute_reply.started": "2020-12-30T05:46:10.223507Z"
    }
   },
   "outputs": [],
   "source": [
    "hmmer_result = SearchIO.read(\"/mnt/d/Lab/Bile-Acid/result/hmmer/GCF_000154445.1_ASM15444v1_genomic.tbl\", \"hmmer3-tab\")"
   ]
  },
  {
   "cell_type": "code",
   "execution_count": 13,
   "metadata": {
    "collapsed": true,
    "execution": {
     "iopub.execute_input": "2020-12-30T05:46:11.029235Z",
     "iopub.status.busy": "2020-12-30T05:46:11.028988Z",
     "iopub.status.idle": "2020-12-30T05:46:11.043778Z",
     "shell.execute_reply": "2020-12-30T05:46:11.042452Z",
     "shell.execute_reply.started": "2020-12-30T05:46:11.029214Z"
    },
    "jupyter": {
     "outputs_hidden": true
    }
   },
   "outputs": [
    {
     "ename": "ValueError",
     "evalue": "No query results found in handle",
     "output_type": "error",
     "traceback": [
      "\u001b[0;31m---------------------------------------------------------------------------\u001b[0m",
      "\u001b[0;31mValueError\u001b[0m                                Traceback (most recent call last)",
      "\u001b[0;32m<ipython-input-13-4837bec8c8e1>\u001b[0m in \u001b[0;36m<module>\u001b[0;34m\u001b[0m\n\u001b[0;32m----> 1\u001b[0;31m \u001b[0mhmmer_result\u001b[0m \u001b[0;34m=\u001b[0m \u001b[0mSearchIO\u001b[0m\u001b[0;34m.\u001b[0m\u001b[0mread\u001b[0m\u001b[0;34m(\u001b[0m\u001b[0;34m\"/mnt/d/Lab/Bile-Acid/result/hmmer/GCF_000154445.1_ASM15444v1_genomic.tbl\"\u001b[0m\u001b[0;34m,\u001b[0m \u001b[0;34m\"hmmer3-text\"\u001b[0m\u001b[0;34m)\u001b[0m\u001b[0;34m\u001b[0m\u001b[0;34m\u001b[0m\u001b[0m\n\u001b[0m",
      "\u001b[0;32m~/miniconda3/envs/Bio/lib/python3.8/site-packages/Bio/SearchIO/__init__.py\u001b[0m in \u001b[0;36mread\u001b[0;34m(handle, format, **kwargs)\u001b[0m\n\u001b[1;32m    348\u001b[0m         \u001b[0mquery_result\u001b[0m \u001b[0;34m=\u001b[0m \u001b[0mnext\u001b[0m\u001b[0;34m(\u001b[0m\u001b[0mquery_results\u001b[0m\u001b[0;34m)\u001b[0m\u001b[0;34m\u001b[0m\u001b[0;34m\u001b[0m\u001b[0m\n\u001b[1;32m    349\u001b[0m     \u001b[0;32mexcept\u001b[0m \u001b[0mStopIteration\u001b[0m\u001b[0;34m:\u001b[0m\u001b[0;34m\u001b[0m\u001b[0;34m\u001b[0m\u001b[0m\n\u001b[0;32m--> 350\u001b[0;31m         \u001b[0;32mraise\u001b[0m \u001b[0mValueError\u001b[0m\u001b[0;34m(\u001b[0m\u001b[0;34m\"No query results found in handle\"\u001b[0m\u001b[0;34m)\u001b[0m \u001b[0;32mfrom\u001b[0m \u001b[0;32mNone\u001b[0m\u001b[0;34m\u001b[0m\u001b[0;34m\u001b[0m\u001b[0m\n\u001b[0m\u001b[1;32m    351\u001b[0m     \u001b[0;32mtry\u001b[0m\u001b[0;34m:\u001b[0m\u001b[0;34m\u001b[0m\u001b[0;34m\u001b[0m\u001b[0m\n\u001b[1;32m    352\u001b[0m         \u001b[0mnext\u001b[0m\u001b[0;34m(\u001b[0m\u001b[0mquery_results\u001b[0m\u001b[0;34m)\u001b[0m\u001b[0;34m\u001b[0m\u001b[0;34m\u001b[0m\u001b[0m\n",
      "\u001b[0;31mValueError\u001b[0m: No query results found in handle"
     ]
    }
   ],
   "source": [
    "hmmer_result = SearchIO.read(\"/mnt/d/Lab/Bile-Acid/result/hmmer/GCF_000154445.1_ASM15444v1_genomic.tbl\", \"hmmer3-text\")"
   ]
  },
  {
   "cell_type": "markdown",
   "metadata": {},
   "source": [
    "So `*.tbl` file is talbe sep format, not hmmer3-text format"
   ]
  },
  {
   "cell_type": "code",
   "execution_count": 15,
   "metadata": {
    "execution": {
     "iopub.execute_input": "2020-12-30T05:47:19.073707Z",
     "iopub.status.busy": "2020-12-30T05:47:19.073391Z",
     "iopub.status.idle": "2020-12-30T05:47:19.081966Z",
     "shell.execute_reply": "2020-12-30T05:47:19.080263Z",
     "shell.execute_reply.started": "2020-12-30T05:47:19.073677Z"
    }
   },
   "outputs": [
    {
     "data": {
      "text/plain": [
       "QueryResult(id='CBAH', 1 hits)"
      ]
     },
     "execution_count": 15,
     "metadata": {},
     "output_type": "execute_result"
    }
   ],
   "source": [
    "hmmer_result"
   ]
  },
  {
   "cell_type": "code",
   "execution_count": 16,
   "metadata": {
    "execution": {
     "iopub.execute_input": "2020-12-30T05:47:20.298551Z",
     "iopub.status.busy": "2020-12-30T05:47:20.298205Z",
     "iopub.status.idle": "2020-12-30T05:47:20.304679Z",
     "shell.execute_reply": "2020-12-30T05:47:20.303322Z",
     "shell.execute_reply.started": "2020-12-30T05:47:20.298506Z"
    }
   },
   "outputs": [
    {
     "data": {
      "text/plain": [
       "Bio.SearchIO._model.query.QueryResult"
      ]
     },
     "execution_count": 16,
     "metadata": {},
     "output_type": "execute_result"
    }
   ],
   "source": [
    "type(hmmer_result)"
   ]
  },
  {
   "cell_type": "code",
   "execution_count": 17,
   "metadata": {
    "execution": {
     "iopub.execute_input": "2020-12-30T05:47:22.759886Z",
     "iopub.status.busy": "2020-12-30T05:47:22.759510Z",
     "iopub.status.idle": "2020-12-30T05:47:22.768454Z",
     "shell.execute_reply": "2020-12-30T05:47:22.767028Z",
     "shell.execute_reply.started": "2020-12-30T05:47:22.759841Z"
    }
   },
   "outputs": [
    {
     "data": {
      "text/plain": [
       "1"
      ]
     },
     "execution_count": 17,
     "metadata": {},
     "output_type": "execute_result"
    }
   ],
   "source": [
    "len(hmmer_result)"
   ]
  },
  {
   "cell_type": "code",
   "execution_count": 18,
   "metadata": {
    "execution": {
     "iopub.execute_input": "2020-12-30T05:47:23.169695Z",
     "iopub.status.busy": "2020-12-30T05:47:23.169355Z",
     "iopub.status.idle": "2020-12-30T05:47:23.175798Z",
     "shell.execute_reply": "2020-12-30T05:47:23.174245Z",
     "shell.execute_reply.started": "2020-12-30T05:47:23.169662Z"
    }
   },
   "outputs": [
    {
     "name": "stdout",
     "output_type": "stream",
     "text": [
      "Program: <unknown program> (<unknown version>)\n",
      "  Query: CBAH\n",
      "         <unknown description>\n",
      " Target: <unknown target>\n",
      "   Hits: ----  -----  ----------------------------------------------------------\n",
      "            #  # HSP  ID + description\n",
      "         ----  -----  ----------------------------------------------------------\n",
      "            0      1  NZ_DS499559.1_194  # 232625 # 233611 # 1 # ID=11_194;pa...\n"
     ]
    }
   ],
   "source": [
    "print(hmmer_result)"
   ]
  },
  {
   "cell_type": "code",
   "execution_count": 7,
   "metadata": {
    "execution": {
     "iopub.execute_input": "2020-12-30T05:38:39.429347Z",
     "iopub.status.busy": "2020-12-30T05:38:39.428972Z",
     "iopub.status.idle": "2020-12-30T05:38:39.438884Z",
     "shell.execute_reply": "2020-12-30T05:38:39.437199Z",
     "shell.execute_reply.started": "2020-12-30T05:38:39.429307Z"
    }
   },
   "outputs": [
    {
     "data": {
      "text/plain": [
       "[Hit(id='NZ_DS499559.1_194', query_id='CBAH', 1 hsps)]"
      ]
     },
     "execution_count": 7,
     "metadata": {},
     "output_type": "execute_result"
    }
   ],
   "source": [
    "hmmer_result.hits"
   ]
  },
  {
   "cell_type": "code",
   "execution_count": 8,
   "metadata": {
    "execution": {
     "iopub.execute_input": "2020-12-30T05:38:40.112474Z",
     "iopub.status.busy": "2020-12-30T05:38:40.112082Z",
     "iopub.status.idle": "2020-12-30T05:38:40.133673Z",
     "shell.execute_reply": "2020-12-30T05:38:40.132186Z",
     "shell.execute_reply.started": "2020-12-30T05:38:40.112413Z"
    }
   },
   "outputs": [
    {
     "name": "stdout",
     "output_type": "stream",
     "text": [
      "Query: CBAH\n",
      "       <unknown description>\n",
      "  Hit: NZ_DS499559.1_194\n",
      "       # 232625 # 233611 # 1 # ID=11_194;partial=00;start_type=ATG;rbs_motif=...\n",
      " HSPs: ----  --------  ---------  ------  ---------------  ---------------------\n",
      "          #   E-value  Bit score    Span      Query range              Hit range\n",
      "       ----  --------  ---------  ------  ---------------  ---------------------\n",
      "          0  2.5e-105     350.00       ?      [None:None]            [None:None]\n"
     ]
    },
    {
     "name": "stderr",
     "output_type": "stream",
     "text": [
      "/home/junyu/miniconda3/envs/Bio/lib/python3.8/site-packages/Bio/SearchIO/_model/hsp.py:439: BiopythonWarning: 'None' exist in query_start coordinates; ignored\n",
      "  warnings.warn(\n",
      "/home/junyu/miniconda3/envs/Bio/lib/python3.8/site-packages/Bio/SearchIO/_model/hsp.py:439: BiopythonWarning: 'None' exist in query_end coordinates; ignored\n",
      "  warnings.warn(\n",
      "/home/junyu/miniconda3/envs/Bio/lib/python3.8/site-packages/Bio/SearchIO/_model/hsp.py:439: BiopythonWarning: 'None' exist in hit_start coordinates; ignored\n",
      "  warnings.warn(\n",
      "/home/junyu/miniconda3/envs/Bio/lib/python3.8/site-packages/Bio/SearchIO/_model/hsp.py:439: BiopythonWarning: 'None' exist in hit_end coordinates; ignored\n",
      "  warnings.warn(\n"
     ]
    }
   ],
   "source": [
    "for hit in hmmer_result:\n",
    "    print(hit)"
   ]
  },
  {
   "cell_type": "code",
   "execution_count": 21,
   "metadata": {
    "execution": {
     "iopub.execute_input": "2020-12-30T05:50:25.126110Z",
     "iopub.status.busy": "2020-12-30T05:50:25.125879Z",
     "iopub.status.idle": "2020-12-30T05:50:25.132291Z",
     "shell.execute_reply": "2020-12-30T05:50:25.131137Z",
     "shell.execute_reply.started": "2020-12-30T05:50:25.126089Z"
    }
   },
   "outputs": [
    {
     "data": {
      "text/plain": [
       "Hit(id='NZ_DS499559.1_194', query_id='CBAH', 1 hsps)"
      ]
     },
     "execution_count": 21,
     "metadata": {},
     "output_type": "execute_result"
    }
   ],
   "source": [
    "hmmer_result[0]"
   ]
  },
  {
   "cell_type": "code",
   "execution_count": 22,
   "metadata": {
    "execution": {
     "iopub.execute_input": "2020-12-30T05:50:25.702775Z",
     "iopub.status.busy": "2020-12-30T05:50:25.702558Z",
     "iopub.status.idle": "2020-12-30T05:50:25.708378Z",
     "shell.execute_reply": "2020-12-30T05:50:25.707559Z",
     "shell.execute_reply.started": "2020-12-30T05:50:25.702755Z"
    }
   },
   "outputs": [
    {
     "data": {
      "text/plain": [
       "'NZ_DS499559.1_194'"
      ]
     },
     "execution_count": 22,
     "metadata": {},
     "output_type": "execute_result"
    }
   ],
   "source": [
    "hmmer_result[0].id"
   ]
  },
  {
   "cell_type": "code",
   "execution_count": 23,
   "metadata": {
    "execution": {
     "iopub.execute_input": "2020-12-30T05:50:34.849174Z",
     "iopub.status.busy": "2020-12-30T05:50:34.848703Z",
     "iopub.status.idle": "2020-12-30T05:50:34.857668Z",
     "shell.execute_reply": "2020-12-30T05:50:34.856318Z",
     "shell.execute_reply.started": "2020-12-30T05:50:34.849118Z"
    }
   },
   "outputs": [
    {
     "data": {
      "text/plain": [
       "1"
      ]
     },
     "execution_count": 23,
     "metadata": {},
     "output_type": "execute_result"
    }
   ],
   "source": [
    "len(hmmer_result)"
   ]
  },
  {
   "cell_type": "code",
   "execution_count": 26,
   "metadata": {
    "execution": {
     "iopub.execute_input": "2020-12-30T05:51:13.226284Z",
     "iopub.status.busy": "2020-12-30T05:51:13.226026Z",
     "iopub.status.idle": "2020-12-30T05:51:13.231966Z",
     "shell.execute_reply": "2020-12-30T05:51:13.230845Z",
     "shell.execute_reply.started": "2020-12-30T05:51:13.226258Z"
    }
   },
   "outputs": [
    {
     "name": "stdout",
     "output_type": "stream",
     "text": [
      "Query: CBAH\n",
      "       <unknown description>\n",
      "  Hit: NZ_DS499559.1_194\n",
      "       # 232625 # 233611 # 1 # ID=11_194;partial=00;start_type=ATG;rbs_motif=...\n",
      " HSPs: ----  --------  ---------  ------  ---------------  ---------------------\n",
      "          #   E-value  Bit score    Span      Query range              Hit range\n",
      "       ----  --------  ---------  ------  ---------------  ---------------------\n",
      "          0  2.5e-105     350.00       ?      [None:None]            [None:None]\n"
     ]
    }
   ],
   "source": [
    "for i in range(len(hmmer_result)):\n",
    "    print(hmmer_result[i])"
   ]
  },
  {
   "cell_type": "code",
   "execution_count": 27,
   "metadata": {
    "execution": {
     "iopub.execute_input": "2020-12-30T05:51:32.490031Z",
     "iopub.status.busy": "2020-12-30T05:51:32.489778Z",
     "iopub.status.idle": "2020-12-30T05:51:32.495996Z",
     "shell.execute_reply": "2020-12-30T05:51:32.494868Z",
     "shell.execute_reply.started": "2020-12-30T05:51:32.490010Z"
    }
   },
   "outputs": [
    {
     "data": {
      "text/plain": [
       "Hit(id='NZ_DS499559.1_194', query_id='CBAH', 1 hsps)"
      ]
     },
     "execution_count": 27,
     "metadata": {},
     "output_type": "execute_result"
    }
   ],
   "source": [
    "hmmer_result[0]"
   ]
  },
  {
   "cell_type": "code",
   "execution_count": 28,
   "metadata": {
    "execution": {
     "iopub.execute_input": "2020-12-30T05:52:25.509150Z",
     "iopub.status.busy": "2020-12-30T05:52:25.508921Z",
     "iopub.status.idle": "2020-12-30T05:52:25.514042Z",
     "shell.execute_reply": "2020-12-30T05:52:25.513160Z",
     "shell.execute_reply.started": "2020-12-30T05:52:25.509128Z"
    }
   },
   "outputs": [
    {
     "name": "stdout",
     "output_type": "stream",
     "text": [
      "Query: CBAH\n",
      "       <unknown description>\n",
      "  Hit: NZ_DS499559.1_194\n",
      "       # 232625 # 233611 # 1 # ID=11_194;partial=00;start_type=ATG;rbs_motif=...\n",
      " HSPs: ----  --------  ---------  ------  ---------------  ---------------------\n",
      "          #   E-value  Bit score    Span      Query range              Hit range\n",
      "       ----  --------  ---------  ------  ---------------  ---------------------\n",
      "          0  2.5e-105     350.00       ?      [None:None]            [None:None]\n"
     ]
    }
   ],
   "source": [
    "print(hmmer_result[0])"
   ]
  },
  {
   "cell_type": "code",
   "execution_count": null,
   "metadata": {},
   "outputs": [],
   "source": []
  },
  {
   "cell_type": "code",
   "execution_count": 14,
   "metadata": {},
   "outputs": [
    {
     "data": {
      "text/plain": [
       "\u001b[0;31mType:\u001b[0m           QueryResult\n",
       "\u001b[0;31mString form:\u001b[0m   \n",
       "Program: <unknown program> (<unknown version>)\n",
       "           Query: CBAH\n",
       "           <unknown description>\n",
       "           Targ <...> ----------------\n",
       "           0      1  NZ_DS499559.1_194  # 232625 # 233611 # 1 # ID=11_194;pa...\n",
       "\u001b[0;31mLength:\u001b[0m         1\n",
       "\u001b[0;31mFile:\u001b[0m           ~/miniconda3/envs/Bio/lib/python3.8/site-packages/Bio/SearchIO/_model/query.py\n",
       "\u001b[0;31mDocstring:\u001b[0m     \n",
       "Class representing search results from a single query.\n",
       "\n",
       "QueryResult is the container object that stores all search hits from a\n",
       "single search query. It is the top-level object returned by SearchIO's two\n",
       "main functions, ``read`` and ``parse``. Depending on the search results and\n",
       "search output format, a QueryResult object will contain zero or more Hit\n",
       "objects (see Hit).\n",
       "\n",
       "You can take a quick look at a QueryResult's contents and attributes by\n",
       "invoking ``print`` on it::\n",
       "\n",
       "    >>> from Bio import SearchIO\n",
       "    >>> qresult = next(SearchIO.parse('Blast/mirna.xml', 'blast-xml'))\n",
       "    >>> print(qresult)\n",
       "    Program: blastn (2.2.27+)\n",
       "      Query: 33211 (61)\n",
       "             mir_1\n",
       "     Target: refseq_rna\n",
       "       Hits: ----  -----  ----------------------------------------------------------\n",
       "                #  # HSP  ID + description\n",
       "             ----  -----  ----------------------------------------------------------\n",
       "                0      1  gi|262205317|ref|NR_030195.1|  Homo sapiens microRNA 52...\n",
       "                1      1  gi|301171311|ref|NR_035856.1|  Pan troglodytes microRNA...\n",
       "                2      1  gi|270133242|ref|NR_032573.1|  Macaca mulatta microRNA ...\n",
       "                3      2  gi|301171322|ref|NR_035857.1|  Pan troglodytes microRNA...\n",
       "                4      1  gi|301171267|ref|NR_035851.1|  Pan troglodytes microRNA...\n",
       "                5      2  gi|262205330|ref|NR_030198.1|  Homo sapiens microRNA 52...\n",
       "                6      1  gi|262205302|ref|NR_030191.1|  Homo sapiens microRNA 51...\n",
       "                7      1  gi|301171259|ref|NR_035850.1|  Pan troglodytes microRNA...\n",
       "                8      1  gi|262205451|ref|NR_030222.1|  Homo sapiens microRNA 51...\n",
       "                9      2  gi|301171447|ref|NR_035871.1|  Pan troglodytes microRNA...\n",
       "               10      1  gi|301171276|ref|NR_035852.1|  Pan troglodytes microRNA...\n",
       "               11      1  gi|262205290|ref|NR_030188.1|  Homo sapiens microRNA 51...\n",
       "    ...\n",
       "\n",
       "If you just want to know how many hits a QueryResult has, you can invoke\n",
       "``len`` on it. Alternatively, you can simply type its name in the interpreter::\n",
       "\n",
       "    >>> len(qresult)\n",
       "    100\n",
       "    >>> qresult\n",
       "    QueryResult(id='33211', 100 hits)\n",
       "\n",
       "QueryResult behaves like a hybrid of Python's built-in list and dictionary.\n",
       "You can retrieve its items (Hit objects) using the integer index of the\n",
       "item, just like regular Python lists::\n",
       "\n",
       "    >>> first_hit = qresult[0]\n",
       "    >>> first_hit\n",
       "    Hit(id='gi|262205317|ref|NR_030195.1|', query_id='33211', 1 hsps)\n",
       "\n",
       "You can slice QueryResult objects as well. Slicing will return a new\n",
       "QueryResult object containing only the sliced hits::\n",
       "\n",
       "    >>> sliced_qresult = qresult[:3]    # slice the first three hits\n",
       "    >>> len(qresult)\n",
       "    100\n",
       "    >>> len(sliced_qresult)\n",
       "    3\n",
       "    >>> print(sliced_qresult)\n",
       "    Program: blastn (2.2.27+)\n",
       "      Query: 33211 (61)\n",
       "             mir_1\n",
       "     Target: refseq_rna\n",
       "       Hits: ----  -----  ----------------------------------------------------------\n",
       "                #  # HSP  ID + description\n",
       "             ----  -----  ----------------------------------------------------------\n",
       "                0      1  gi|262205317|ref|NR_030195.1|  Homo sapiens microRNA 52...\n",
       "                1      1  gi|301171311|ref|NR_035856.1|  Pan troglodytes microRNA...\n",
       "                2      1  gi|270133242|ref|NR_032573.1|  Macaca mulatta microRNA ...\n",
       "\n",
       "Like Python dictionaries, you can also retrieve hits using the hit's ID.\n",
       "This is useful for retrieving hits that you know should exist in a given\n",
       "search::\n",
       "\n",
       "    >>> hit = qresult['gi|262205317|ref|NR_030195.1|']\n",
       "    >>> hit\n",
       "    Hit(id='gi|262205317|ref|NR_030195.1|', query_id='33211', 1 hsps)\n",
       "\n",
       "You can also replace a Hit in QueryResult with another Hit using either the\n",
       "integer index or hit key string. Note that the replacing object must be a\n",
       "Hit that has the same ``query_id`` property as the QueryResult object.\n",
       "\n",
       "If you're not sure whether a QueryResult contains a particular hit, you can\n",
       "use the hit ID to check for membership first::\n",
       "\n",
       "    >>> 'gi|262205317|ref|NR_030195.1|' in qresult\n",
       "    True\n",
       "    >>> 'gi|262380031|ref|NR_023426.1|' in qresult\n",
       "    False\n",
       "\n",
       "Or, if you just want to know the rank / position of a given hit, you can\n",
       "use the hit ID as an argument for the ``index`` method. Note that the values\n",
       "returned will be zero-based. So zero (0) means the hit is the first in the\n",
       "QueryResult, three (3) means the hit is the fourth item, and so on. If the\n",
       "hit does not exist in the QueryResult, a ``ValueError`` will be raised.\n",
       "\n",
       "    >>> qresult.index('gi|262205317|ref|NR_030195.1|')\n",
       "    0\n",
       "    >>> qresult.index('gi|262205330|ref|NR_030198.1|')\n",
       "    5\n",
       "    >>> qresult.index('gi|262380031|ref|NR_023426.1|')\n",
       "    Traceback (most recent call last):\n",
       "    ...\n",
       "    ValueError: ...\n",
       "\n",
       "To ease working with a large number of hits, QueryResult has several\n",
       "``filter`` and ``map`` methods, analogous to Python's built-in functions with\n",
       "the same names. There are ``filter`` and ``map`` methods available for\n",
       "operations over both Hit objects or HSP objects. As an example, here we are\n",
       "using the ``hit_map`` method to rename all hit IDs within a QueryResult::\n",
       "\n",
       "    >>> def renamer(hit):\n",
       "    ...     hit.id = hit.id.split('|')[3]\n",
       "    ...     return hit\n",
       "    >>> mapped_qresult = qresult.hit_map(renamer)\n",
       "    >>> print(mapped_qresult)\n",
       "    Program: blastn (2.2.27+)\n",
       "      Query: 33211 (61)\n",
       "             mir_1\n",
       "     Target: refseq_rna\n",
       "       Hits: ----  -----  ----------------------------------------------------------\n",
       "                #  # HSP  ID + description\n",
       "             ----  -----  ----------------------------------------------------------\n",
       "                0      1  NR_030195.1  Homo sapiens microRNA 520b (MIR520B), micr...\n",
       "                1      1  NR_035856.1  Pan troglodytes microRNA mir-520b (MIR520B...\n",
       "                2      1  NR_032573.1  Macaca mulatta microRNA mir-519a (MIR519A)...\n",
       "    ...\n",
       "\n",
       "The principle for other ``map`` and ``filter`` methods are similar: they accept\n",
       "a function, applies it, and returns a new QueryResult object.\n",
       "\n",
       "There are also other methods useful for working with list-like objects:\n",
       "``append``, ``pop``, and ``sort``. More details and examples are available in\n",
       "their respective documentations.\n",
       "\n",
       "Finally, just like Python lists and dictionaries, QueryResult objects are\n",
       "iterable. Iteration over QueryResults will yield Hit objects::\n",
       "\n",
       "    >>> for hit in qresult[:4]:     # iterate over the first four items\n",
       "    ...     hit\n",
       "    ...\n",
       "    Hit(id='gi|262205317|ref|NR_030195.1|', query_id='33211', 1 hsps)\n",
       "    Hit(id='gi|301171311|ref|NR_035856.1|', query_id='33211', 1 hsps)\n",
       "    Hit(id='gi|270133242|ref|NR_032573.1|', query_id='33211', 1 hsps)\n",
       "    Hit(id='gi|301171322|ref|NR_035857.1|', query_id='33211', 2 hsps)\n",
       "\n",
       "If you need access to all the hits in a QueryResult object, you can get\n",
       "them in a list using the ``hits`` property. Similarly, access to all hit IDs is\n",
       "available through the ``hit_keys`` property.\n",
       "\n",
       "    >>> qresult.hits\n",
       "    [Hit(id='gi|262205317|ref|NR_030195.1|', query_id='33211', 1 hsps), ...]\n",
       "    >>> qresult.hit_keys\n",
       "    ['gi|262205317|ref|NR_030195.1|', 'gi|301171311|ref|NR_035856.1|', ...]\n",
       "\u001b[0;31mInit docstring:\u001b[0m\n",
       "Initialize a QueryResult object.\n",
       "\n",
       ":param id: query sequence ID\n",
       ":type id: string\n",
       ":param hits: iterator yielding Hit objects\n",
       ":type hits: iterable\n",
       ":param hit_key_function: function to define hit keys\n",
       ":type hit_key_function: callable, accepts Hit objects, returns string\n"
      ]
     },
     "metadata": {},
     "output_type": "display_data"
    }
   ],
   "source": [
    "?hmmer_result"
   ]
  },
  {
   "cell_type": "code",
   "execution_count": null,
   "metadata": {},
   "outputs": [],
   "source": []
  }
 ],
 "metadata": {
  "kernelspec": {
   "display_name": "Python 3",
   "language": "python",
   "name": "python3"
  },
  "language_info": {
   "codemirror_mode": {
    "name": "ipython",
    "version": 3
   },
   "file_extension": ".py",
   "mimetype": "text/x-python",
   "name": "python",
   "nbconvert_exporter": "python",
   "pygments_lexer": "ipython3",
   "version": "3.8.6"
  }
 },
 "nbformat": 4,
 "nbformat_minor": 4
}
