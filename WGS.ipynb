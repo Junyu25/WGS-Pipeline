{
 "cells": [
  {
   "cell_type": "markdown",
   "metadata": {},
   "source": [
    "# WGS analysis"
   ]
  },
  {
   "cell_type": "code",
   "execution_count": null,
   "metadata": {},
   "outputs": [],
   "source": [
    "conda activate /home/junyuchen/Biosoft/anaconda3/envs/wgs"
   ]
  },
  {
   "cell_type": "code",
   "execution_count": null,
   "metadata": {},
   "outputs": [],
   "source": [
    "export data=/home/LDlab/WGS-example/rawdata"
   ]
  },
  {
   "cell_type": "code",
   "execution_count": null,
   "metadata": {},
   "outputs": [],
   "source": [
    "export result=/home/LDlab/WGS-example/result"
   ]
  },
  {
   "cell_type": "code",
   "execution_count": null,
   "metadata": {},
   "outputs": [],
   "source": [
    "echo $data"
   ]
  },
  {
   "cell_type": "code",
   "execution_count": null,
   "metadata": {},
   "outputs": [],
   "source": [
    "echo $result"
   ]
  },
  {
   "cell_type": "markdown",
   "metadata": {},
   "source": [
    "## QC/Trimming"
   ]
  },
  {
   "cell_type": "markdown",
   "metadata": {},
   "source": [
    "### Fastqc"
   ]
  },
  {
   "cell_type": "markdown",
   "metadata": {},
   "source": [
    "http://www.bioinformatics.babraham.ac.uk/projects/fastqc/"
   ]
  },
  {
   "cell_type": "markdown",
   "metadata": {},
   "source": [
    "`fastqc -t 8 $data/ERR044595_1M_1.fastq.gz $data/ERR044595_1M_2.fastq.gz -o $result/fastqc`"
   ]
  },
  {
   "cell_type": "markdown",
   "metadata": {},
   "source": [
    "### Trimmomatic"
   ]
  },
  {
   "cell_type": "markdown",
   "metadata": {},
   "source": [
    "http://www.usadellab.org/cms/index.php?page=trimmomatic"
   ]
  },
  {
   "cell_type": "markdown",
   "metadata": {},
   "source": [
    "`conda install -c bioconda trimmomatic`"
   ]
  },
  {
   "cell_type": "markdown",
   "metadata": {},
   "source": [
    "```shell\n",
    "trimmomatic PE -threads 16 $data/ERR044595_1M_1.fastq.gz $data/ERR044595_1M_2.fastq.gz \\\n",
    "              $result/trimmomatic/ERR044595_1M_1.paired.fastq $result/trimmomatic/ERR044595_1M_1.unpaired.fastq \\\n",
    "              $result/trimmomatic/ERR044595_1M_2.paired.fastq $result/trimmomatic/ERR044595_1M_2.unpaired.fastq \\\n",
    "              ILLUMINACLIP:TruSeq3-PE.fa:2:30:10:2:keepBothReads LEADING:3 TRAILING:3 MINLEN:36\n",
    "```"
   ]
  },
  {
   "cell_type": "markdown",
   "metadata": {},
   "source": [
    "## Assembly"
   ]
  },
  {
   "cell_type": "markdown",
   "metadata": {},
   "source": [
    "Based on this [Article](https://microbiomejournal.biomedcentral.com/articles/10.1186/s40168-019-0626-5), it's better to choose SPAdes (meta)"
   ]
  },
  {
   "cell_type": "markdown",
   "metadata": {},
   "source": [
    "And we can use [QUAST](http://cab.spbu.ru/software/quast/) to evaluate the assembly performance"
   ]
  },
  {
   "cell_type": "markdown",
   "metadata": {},
   "source": [
    "### SPAdes"
   ]
  },
  {
   "cell_type": "markdown",
   "metadata": {},
   "source": [
    "https://github.com/ablab/spades"
   ]
  },
  {
   "cell_type": "markdown",
   "metadata": {},
   "source": [
    "`conda install -c bioconda spades`"
   ]
  },
  {
   "cell_type": "markdown",
   "metadata": {},
   "source": [
    "```shell\n",
    "metaspades.py -1 $result/trimmomatic/ERR044595_1M_1.paired.fastq -2 $result/trimmomatic/ERR044595_1M_2.paired.fastq -o $result/metaspades\n",
    "```"
   ]
  },
  {
   "cell_type": "markdown",
   "metadata": {},
   "source": [
    "### MEGAHIT"
   ]
  },
  {
   "cell_type": "markdown",
   "metadata": {},
   "source": [
    "https://github.com/voutcn/megahit"
   ]
  },
  {
   "cell_type": "markdown",
   "metadata": {},
   "source": [
    "`conda install -c bioconda megahit`"
   ]
  },
  {
   "cell_type": "markdown",
   "metadata": {},
   "source": [
    "```shell\n",
    "megahit -1 $result/trimmomatic/ERR044595_1M_1.paired.fastq -2 $result/trimmomatic/ERR044595_1M_2.paired.fastq -o $result/megahit\n",
    "```"
   ]
  },
  {
   "cell_type": "markdown",
   "metadata": {},
   "source": [
    "### Unicycler"
   ]
  },
  {
   "cell_type": "markdown",
   "metadata": {},
   "source": [
    "https://github.com/rrwick/Unicycler"
   ]
  },
  {
   "cell_type": "markdown",
   "metadata": {},
   "source": [
    "`conda install -c bioconda unicycler`"
   ]
  },
  {
   "cell_type": "markdown",
   "metadata": {},
   "source": [
    "```shell\n",
    "unicycler -1 $result/trimmomatic/ERR044595_1M_1.paired.fastq -2 $result/trimmomatic/ERR044595_1M_2.paired.fastq -o $result/unicycler\n",
    "```"
   ]
  },
  {
   "cell_type": "markdown",
   "metadata": {},
   "source": [
    "### QUAST"
   ]
  },
  {
   "cell_type": "markdown",
   "metadata": {},
   "source": [
    "http://cab.spbu.ru/software/quast/"
   ]
  },
  {
   "cell_type": "markdown",
   "metadata": {},
   "source": [
    "### Bandage"
   ]
  },
  {
   "cell_type": "markdown",
   "metadata": {},
   "source": [
    "http://rrwick.github.io/Bandage/"
   ]
  },
  {
   "cell_type": "code",
   "execution_count": null,
   "metadata": {},
   "outputs": [],
   "source": []
  },
  {
   "cell_type": "markdown",
   "metadata": {},
   "source": [
    "## Annotation"
   ]
  },
  {
   "cell_type": "markdown",
   "metadata": {},
   "source": [
    "### prokka"
   ]
  },
  {
   "cell_type": "markdown",
   "metadata": {},
   "source": [
    "https://github.com/tseemann/prokka"
   ]
  },
  {
   "cell_type": "markdown",
   "metadata": {},
   "source": [
    "`prokka --outdir $result/prokka --prefix demo $result/megahit/final.contigs.fa`"
   ]
  },
  {
   "cell_type": "markdown",
   "metadata": {},
   "source": [
    "### Prodigal"
   ]
  },
  {
   "cell_type": "code",
   "execution_count": null,
   "metadata": {},
   "outputs": [],
   "source": [
    "prodigal -i my.genome.fna -o gene.coords.gbk -a protein.translations.faa"
   ]
  },
  {
   "cell_type": "markdown",
   "metadata": {
    "jupyter": {
     "source_hidden": true
    }
   },
   "source": [
    "```shell\n",
    "Input/Output Parameters\n",
    "\n",
    "  -i, --input_file:     Specify input file (default stdin).\n",
    "  -o, --output_file:    Specify output file (default stdout).\n",
    "  -a, --protein_file:   Specify protein translations file.\n",
    "  -d, --mrna_file:      Specify nucleotide sequences file.\n",
    "  -s, --start_file:     Specify complete starts file.\n",
    "  -w, --summ_file:      Specify summary statistics file.\n",
    "  -f, --output_format:  Specify output format.\n",
    "                          gbk:  Genbank-like format (Default)\n",
    "                          gff:  GFF format\n",
    "                          sqn:  Sequin feature table format\n",
    "                          sco:  Simple coordinate output\n",
    "  -q, --quiet:          Run quietly (suppress logging output).\n",
    "```"
   ]
  },
  {
   "cell_type": "markdown",
   "metadata": {},
   "source": [
    "### Diamond"
   ]
  },
  {
   "cell_type": "markdown",
   "metadata": {},
   "source": [
    "http://www.diamondsearch.org/index.php"
   ]
  },
  {
   "cell_type": "markdown",
   "metadata": {},
   "source": [
    "#### e.g."
   ]
  },
  {
   "cell_type": "markdown",
   "metadata": {},
   "source": [
    "```shell\n",
    "diamond blastp --db /home/malab/databases_of_malab/nr/nr --query $result/prokka/demo.faa --out $result/demo_nr_annatation.out --evalue 1e-05 --outfmt 6 --max-target-seqs 1 --threads 10\n",
    "```"
   ]
  },
  {
   "cell_type": "markdown",
   "metadata": {},
   "source": [
    "### Custom DataBase"
   ]
  },
  {
   "cell_type": "markdown",
   "metadata": {},
   "source": [
    "`diamond makedb --in aa.fasta -d aa.fasta`"
   ]
  },
  {
   "cell_type": "markdown",
   "metadata": {},
   "source": [
    "`makeblastdb -in nr.fasta  -dbtype nucl`"
   ]
  },
  {
   "cell_type": "code",
   "execution_count": null,
   "metadata": {},
   "outputs": [],
   "source": []
  },
  {
   "cell_type": "markdown",
   "metadata": {},
   "source": [
    "## nf-core/bacass"
   ]
  },
  {
   "cell_type": "markdown",
   "metadata": {},
   "source": [
    "https://nf-co.re/bacass/1.1.0"
   ]
  },
  {
   "cell_type": "markdown",
   "metadata": {},
   "source": [
    "`conda activate /home/junyuchen/Biosoft/anaconda3/envs/nf-core`"
   ]
  },
  {
   "cell_type": "markdown",
   "metadata": {},
   "source": [
    "```shell\n",
    "nextflow run /home/junyuchen/Lab/WGS/nf-core-bacass-1.1.0/workflow --input /home/junyuchen/Lab/WGS/bacass_short_test.tsv --outdir $result/bacass -profile docker --skip_annotation --skip_kraken2\n",
    "```"
   ]
  },
  {
   "cell_type": "code",
   "execution_count": null,
   "metadata": {},
   "outputs": [],
   "source": []
  },
  {
   "cell_type": "markdown",
   "metadata": {},
   "source": [
    "## Appendix"
   ]
  },
  {
   "cell_type": "markdown",
   "metadata": {},
   "source": [
    "### Diamond Argument:\n",
    "\n",
    "-  `--db/-d <file>`\n",
    "\n",
    "    Path to the DIAMOND database file.\n",
    "\n",
    "-  `--query/-q <file>`\n",
    "\n",
    "    Path to the query input file in FASTA or FASTQ format (may be gzip compressed). If this parameter is omitted, the input will be read from `stdin`.\n",
    "\n",
    "-  `--out/-o <file>`\n",
    "\n",
    "    Path to the output file. If this parameter is omitted, the results will be written to the standard output and all other program output will be suppressed.\n",
    "\n",
    "-  `--evalue/-e #`\n",
    "\n",
    "    Maximum expected value to report an alignment (default=0.001).\n",
    "    \n",
    "-  `--outfmt/-f 6`  \n",
    "\n",
    "    BLAST tabular format (default). This format can be customized, the `6` may be followed by a space-separated list of the following keywords, each specifying a field of the output.\n",
    "\n",
    "-  `--max-target-seqs/-k #`\n",
    "\n",
    "    The maximum number of target sequences per query to report alignments for (default=25). Setting this to 0 will report all alignments that were found.\n",
    "\n",
    "-  `--threads/-p #`\n",
    "\n",
    "    Number of CPU threads. By default, the program will auto-detect and use all available virtual cores on the machine."
   ]
  },
  {
   "cell_type": "markdown",
   "metadata": {},
   "source": [
    "### BLAST tabular format"
   ]
  },
  {
   "cell_type": "markdown",
   "metadata": {},
   "source": [
    "By default, there are 12 preconfigured fields:   \n",
    "`qseqid sseqid pident length mismatch gapopen qstart qend sstart send evalue bitscore`"
   ]
  },
  {
   "cell_type": "markdown",
   "metadata": {},
   "source": [
    "* `qseqid` Query Seq - id\n",
    "\n",
    "* `sseqid` Subject Seq - id\n",
    "\n",
    "* `pident` Percentage of identical matches\n",
    "\n",
    "* `length` Alignment length\n",
    "\n",
    "* `mismatch` Number of mismatches\n",
    "\n",
    "* `gapopen` Number of gap openings\n",
    "\n",
    "* `qstart` Start of alignment in query\n",
    "\n",
    "* `qend` End of alignment in query\n",
    "\n",
    "* `sstart` Start of alignment in subject\n",
    "\n",
    "* `send` End of alignment in subject\n",
    "\n",
    "* `evalue` Expect value\n",
    "\n",
    "* `bitscore` Bit score"
   ]
  },
  {
   "cell_type": "markdown",
   "metadata": {},
   "source": [
    "## Resources"
   ]
  },
  {
   "cell_type": "markdown",
   "metadata": {},
   "source": [
    "https://github.com/SionBayliss/Bio-Courses"
   ]
  },
  {
   "cell_type": "markdown",
   "metadata": {},
   "source": [
    "https://github.com/BacterialCommunitiesAndPopulation/Wednesday18thMay/blob/master/Assembly_Tutorial.md"
   ]
  },
  {
   "cell_type": "markdown",
   "metadata": {},
   "source": [
    "https://www.coursera.org/lecture/wgs-bacteria/tutorial-D1f65"
   ]
  },
  {
   "cell_type": "markdown",
   "metadata": {},
   "source": [
    "https://genohub.com/recommended-sequencing-coverage-by-application/"
   ]
  },
  {
   "cell_type": "code",
   "execution_count": null,
   "metadata": {},
   "outputs": [],
   "source": []
  }
 ],
 "metadata": {
  "kernelspec": {
   "display_name": "Python 3",
   "language": "python",
   "name": "python3"
  },
  "language_info": {
   "codemirror_mode": {
    "name": "ipython",
    "version": 3
   },
   "file_extension": ".py",
   "mimetype": "text/x-python",
   "name": "python",
   "nbconvert_exporter": "python",
   "pygments_lexer": "ipython3",
   "version": "3.8.6"
  }
 },
 "nbformat": 4,
 "nbformat_minor": 4
}
